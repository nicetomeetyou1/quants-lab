{
 "cells": [
  {
   "cell_type": "code",
   "execution_count": 9,
   "metadata": {
    "collapsed": false
   },
   "outputs": [],
   "source": [
    "# This is necessary to recognize the modules\n",
    "import os\n",
    "import sys\n",
    "from decimal import Decimal\n",
    "import warnings\n",
    "\n",
    "# 2. The executors dataframe: this is the dataframe that contains the information of the orders that were executed\n",
    "warnings.filterwarnings(\"ignore\")\n",
    "\n",
    "root_path = os.path.abspath(os.path.join(os.getcwd(), '../..'))\n",
    "sys.path.append(root_path)"
   ]
  },
  {
   "cell_type": "code",
   "execution_count": 10,
   "metadata": {
    "collapsed": false,
    "jupyter": {
     "outputs_hidden": false
    }
   },
   "outputs": [],
   "source": [
    "from core.backtesting import BacktestingEngine\n",
    "\n",
    "backtesting = BacktestingEngine(root_path=root_path, load_cached_data=False)"
   ]
  },
  {
   "cell_type": "code",
   "execution_count": null,
   "metadata": {
    "collapsed": false,
    "jupyter": {
     "outputs_hidden": false
    }
   },
   "outputs": [],
   "source": [
    "from hummingbot.strategy_v2.executors.position_executor.data_types import TrailingStop\n",
    "from controllers.directional_trading.macd_bb_custom import MACDBBV2ControllerConfig\n",
    "import datetime\n",
    "from decimal import Decimal\n",
    "\n",
    "import pandas as pd\n",
    "import pandas_ta as ta \n",
    "\n",
    "\n",
    "# Controller configuration\n",
    "connector_name = \"bybit_perpetual\"\n",
    "trading_pair = \"SCA-USDT\"\n",
    "candles_connector=\"bybit_perpetual\"\n",
    "candles_trading_pair=\"SCA-USDT\"\n",
    "interval = \"1m\"\n",
    "fast_ma = 21\n",
    "slow_ma = 42\n",
    "signal_ma = 9\n",
    "bb_length = 200\n",
    "natr_length = 200\n",
    "bb_std = 2\n",
    "total_amount_quote = 1000\n",
    "max_executors_per_side = 10\n",
    "take_profit = 0.03\n",
    "stop_loss = 0.05\n",
    "trailing_stop_activation_price = 0.007\n",
    "trailing_stop_trailing_delta = 0.003\n",
    "time_limit = 60 * 60 * 5\n",
    "cooldown_time = 60 * 60\n",
    "leverage = 10\n",
    "step_percentage = \"0.001\"\n",
    "position_sizing_method=\"fix\"\n",
    "distribution_method=\"fibonacci\"\n",
    "\n",
    "start = int(datetime.datetime(2025, 4, 1).timestamp())\n",
    "end = int(datetime.datetime(2025, 4, 3).timestamp())\n",
    "\n",
    "# Creating the instance of the configuration and the controller\n",
    "config = MACDBBV2ControllerConfig(\n",
    "    connector_name=connector_name,\n",
    "    trading_pair=trading_pair,\n",
    "    interval=interval,\n",
    "    macd_fast=fast_ma,\n",
    "    position_sizing_method=position_sizing_method,\n",
    "    distribution_method=distribution_method,\n",
    "    macd_slow=slow_ma,\n",
    "    macd_signal=signal_ma,\n",
    "    bb_length=bb_length,\n",
    "    candles_connector=candles_connector,\n",
    "    candles_trading_pair=candles_trading_pair,\n",
    "    bb_std=bb_std,\n",
    "    natr_length=natr_length,\n",
    "    leverage=leverage,\n",
    "    step_percentage=step_percentage,\n",
    "    total_amount_quote=Decimal(total_amount_quote),\n",
    "    take_profit=Decimal(take_profit),\n",
    "    stop_loss=Decimal(stop_loss),\n",
    "    trailing_stop=TrailingStop(activation_price=Decimal(trailing_stop_activation_price), trailing_delta=Decimal(trailing_stop_trailing_delta)),\n",
    "    time_limit=time_limit,\n",
    "    max_executors_per_side=max_executors_per_side,\n",
    "    cooldown_time=cooldown_time,\n",
    ")"
   ]
  },
  {
   "cell_type": "code",
   "execution_count": 12,
   "metadata": {
    "collapsed": false
   },
   "outputs": [
    {
     "name": "stdout",
     "output_type": "stream",
     "text": [
      "{'id': '9L22sYTbpT3jqrKDE8MB95dMwYxDTvXp7Gds4pE9hGEx', 'type': 'position_executor', 'timestamp': 1743455940.0, 'controller_id': 'main', 'trading_pair': 'SCA-USDT', 'connector_name': 'bybit_perpetual', 'side': <TradeType.BUY: 1>, 'entry_price': Decimal('0.07588403999999999974268583003'), 'amount': Decimal('92.06170343611101936157846622'), 'triple_barrier_config': {'stop_loss': Decimal('0.007401890408646815267095809201'), 'take_profit': Decimal('0.004441134245188088749370027649'), 'time_limit': 18000, 'trailing_stop': {'activation_price': Decimal('0.001036264657210554101440760724'), 'trailing_delta': Decimal('0.0004441134245188089006174688819')}, 'open_order_type': <OrderType.MARKET: 1>, 'take_profit_order_type': <OrderType.LIMIT: 2>, 'stop_loss_order_type': <OrderType.MARKET: 1>, 'time_limit_order_type': <OrderType.MARKET: 1>}, 'leverage': 10, 'activation_bounds': None, 'level_id': None}\n",
      "{'id': 'EDCqjTdy5auzFRTj1uBbp3wPNPgicjFxsqbvApL5QzQK', 'type': 'position_executor', 'timestamp': 1743455940.0, 'controller_id': 'main', 'trading_pair': 'SCA-USDT', 'connector_name': 'bybit_perpetual', 'side': <TradeType.BUY: 1>, 'entry_price': Decimal('0.07580807999999999974294340177'), 'amount': Decimal('92.06170343611101936157846622'), 'triple_barrier_config': {'stop_loss': Decimal('0.007401890408646815267095809201'), 'take_profit': Decimal('0.004441134245188088749370027649'), 'time_limit': 18000, 'trailing_stop': {'activation_price': Decimal('0.001036264657210554101440760724'), 'trailing_delta': Decimal('0.0004441134245188089006174688819')}, 'open_order_type': <OrderType.MARKET: 1>, 'take_profit_order_type': <OrderType.LIMIT: 2>, 'stop_loss_order_type': <OrderType.MARKET: 1>, 'time_limit_order_type': <OrderType.MARKET: 1>}, 'leverage': 10, 'activation_bounds': None, 'level_id': None}\n",
      "{'id': '4gfGSiJ9qjEGjcg3FQ9pg8DESAh4K5LYLXM13M3Dv3Hx', 'type': 'position_executor', 'timestamp': 1743455940.0, 'controller_id': 'main', 'trading_pair': 'SCA-USDT', 'connector_name': 'bybit_perpetual', 'side': <TradeType.BUY: 1>, 'entry_price': Decimal('0.07573211999999999974320097351'), 'amount': Decimal('184.1234068722220387231569324'), 'triple_barrier_config': {'stop_loss': Decimal('0.007401890408646815267095809201'), 'take_profit': Decimal('0.004441134245188088749370027649'), 'time_limit': 18000, 'trailing_stop': {'activation_price': Decimal('0.001036264657210554101440760724'), 'trailing_delta': Decimal('0.0004441134245188089006174688819')}, 'open_order_type': <OrderType.MARKET: 1>, 'take_profit_order_type': <OrderType.LIMIT: 2>, 'stop_loss_order_type': <OrderType.MARKET: 1>, 'time_limit_order_type': <OrderType.MARKET: 1>}, 'leverage': 10, 'activation_bounds': None, 'level_id': None}\n",
      "{'id': 'EQBFmwNf2mVa5JSXWZGBsvjErCuBHXztVRNojrbAaqGP', 'type': 'position_executor', 'timestamp': 1743455940.0, 'controller_id': 'main', 'trading_pair': 'SCA-USDT', 'connector_name': 'bybit_perpetual', 'side': <TradeType.BUY: 1>, 'entry_price': Decimal('0.07565615999999999974345854525'), 'amount': Decimal('276.1851103083330580847353987'), 'triple_barrier_config': {'stop_loss': Decimal('0.007401890408646815267095809201'), 'take_profit': Decimal('0.004441134245188088749370027649'), 'time_limit': 18000, 'trailing_stop': {'activation_price': Decimal('0.001036264657210554101440760724'), 'trailing_delta': Decimal('0.0004441134245188089006174688819')}, 'open_order_type': <OrderType.MARKET: 1>, 'take_profit_order_type': <OrderType.LIMIT: 2>, 'stop_loss_order_type': <OrderType.MARKET: 1>, 'time_limit_order_type': <OrderType.MARKET: 1>}, 'leverage': 10, 'activation_bounds': None, 'level_id': None}\n",
      "{'id': 'F5BLxg6LwW3JsvDCPzNtD6FVwyKmtgi2gAkcgBSAXKc5', 'type': 'position_executor', 'timestamp': 1743455940.0, 'controller_id': 'main', 'trading_pair': 'SCA-USDT', 'connector_name': 'bybit_perpetual', 'side': <TradeType.BUY: 1>, 'entry_price': Decimal('0.07558019999999999974371611700'), 'amount': Decimal('460.3085171805550968078923311'), 'triple_barrier_config': {'stop_loss': Decimal('0.007401890408646815267095809201'), 'take_profit': Decimal('0.004441134245188088749370027649'), 'time_limit': 18000, 'trailing_stop': {'activation_price': Decimal('0.001036264657210554101440760724'), 'trailing_delta': Decimal('0.0004441134245188089006174688819')}, 'open_order_type': <OrderType.MARKET: 1>, 'take_profit_order_type': <OrderType.LIMIT: 2>, 'stop_loss_order_type': <OrderType.MARKET: 1>, 'time_limit_order_type': <OrderType.MARKET: 1>}, 'leverage': 10, 'activation_bounds': None, 'level_id': None}\n",
      "{'id': '2jkPaAWAg4uSsddEWEp4cNHkktemDe37M3kV9gGdcJ8Y', 'type': 'position_executor', 'timestamp': 1743455940.0, 'controller_id': 'main', 'trading_pair': 'SCA-USDT', 'connector_name': 'bybit_perpetual', 'side': <TradeType.BUY: 1>, 'entry_price': Decimal('0.07550423999999999974397368874'), 'amount': Decimal('736.4936274888881548926277298'), 'triple_barrier_config': {'stop_loss': Decimal('0.007401890408646815267095809201'), 'take_profit': Decimal('0.004441134245188088749370027649'), 'time_limit': 18000, 'trailing_stop': {'activation_price': Decimal('0.001036264657210554101440760724'), 'trailing_delta': Decimal('0.0004441134245188089006174688819')}, 'open_order_type': <OrderType.MARKET: 1>, 'take_profit_order_type': <OrderType.LIMIT: 2>, 'stop_loss_order_type': <OrderType.MARKET: 1>, 'time_limit_order_type': <OrderType.MARKET: 1>}, 'leverage': 10, 'activation_bounds': None, 'level_id': None}\n",
      "{'id': 'GU9PSxReMQ9iRdifRzp9weUvPnVRr8P76w4omWA5Mn33', 'type': 'position_executor', 'timestamp': 1743455940.0, 'controller_id': 'main', 'trading_pair': 'SCA-USDT', 'connector_name': 'bybit_perpetual', 'side': <TradeType.BUY: 1>, 'entry_price': Decimal('0.07542827999999999974423126048'), 'amount': Decimal('1196.802144669443251700520061'), 'triple_barrier_config': {'stop_loss': Decimal('0.007401890408646815267095809201'), 'take_profit': Decimal('0.004441134245188088749370027649'), 'time_limit': 18000, 'trailing_stop': {'activation_price': Decimal('0.001036264657210554101440760724'), 'trailing_delta': Decimal('0.0004441134245188089006174688819')}, 'open_order_type': <OrderType.MARKET: 1>, 'take_profit_order_type': <OrderType.LIMIT: 2>, 'stop_loss_order_type': <OrderType.MARKET: 1>, 'time_limit_order_type': <OrderType.MARKET: 1>}, 'leverage': 10, 'activation_bounds': None, 'level_id': None}\n",
      "{'id': 'H8tQyQBDKcsZHSWLCXytpXAeBvMebNV3x9cNfnAZYdZT', 'type': 'position_executor', 'timestamp': 1743455940.0, 'controller_id': 'main', 'trading_pair': 'SCA-USDT', 'connector_name': 'bybit_perpetual', 'side': <TradeType.BUY: 1>, 'entry_price': Decimal('0.07535231999999999974448883222'), 'amount': Decimal('1933.295772158331406593147791'), 'triple_barrier_config': {'stop_loss': Decimal('0.007401890408646815267095809201'), 'take_profit': Decimal('0.004441134245188088749370027649'), 'time_limit': 18000, 'trailing_stop': {'activation_price': Decimal('0.001036264657210554101440760724'), 'trailing_delta': Decimal('0.0004441134245188089006174688819')}, 'open_order_type': <OrderType.MARKET: 1>, 'take_profit_order_type': <OrderType.LIMIT: 2>, 'stop_loss_order_type': <OrderType.MARKET: 1>, 'time_limit_order_type': <OrderType.MARKET: 1>}, 'leverage': 10, 'activation_bounds': None, 'level_id': None}\n",
      "{'id': '5rNyLmPYE6ThemZmitLWXVQZyBxt5QvRN6TCwJDAKYrR', 'type': 'position_executor', 'timestamp': 1743455940.0, 'controller_id': 'main', 'trading_pair': 'SCA-USDT', 'connector_name': 'bybit_perpetual', 'side': <TradeType.BUY: 1>, 'entry_price': Decimal('0.07527635999999999974474640396'), 'amount': Decimal('3130.097916827774658293667851'), 'triple_barrier_config': {'stop_loss': Decimal('0.007401890408646815267095809201'), 'take_profit': Decimal('0.004441134245188088749370027649'), 'time_limit': 18000, 'trailing_stop': {'activation_price': Decimal('0.001036264657210554101440760724'), 'trailing_delta': Decimal('0.0004441134245188089006174688819')}, 'open_order_type': <OrderType.MARKET: 1>, 'take_profit_order_type': <OrderType.LIMIT: 2>, 'stop_loss_order_type': <OrderType.MARKET: 1>, 'time_limit_order_type': <OrderType.MARKET: 1>}, 'leverage': 10, 'activation_bounds': None, 'level_id': None}\n",
      "{'id': '6oxVFUK6937JLVbzf2enSZcZJ2YbrcEcTAnEuhvymZ89', 'type': 'position_executor', 'timestamp': 1743455940.0, 'controller_id': 'main', 'trading_pair': 'SCA-USDT', 'connector_name': 'bybit_perpetual', 'side': <TradeType.BUY: 1>, 'entry_price': Decimal('0.07520039999999999974500397570'), 'amount': Decimal('5063.393688986106064886815642'), 'triple_barrier_config': {'stop_loss': Decimal('0.007401890408646815267095809201'), 'take_profit': Decimal('0.004441134245188088749370027649'), 'time_limit': 18000, 'trailing_stop': {'activation_price': Decimal('0.001036264657210554101440760724'), 'trailing_delta': Decimal('0.0004441134245188089006174688819')}, 'open_order_type': <OrderType.MARKET: 1>, 'take_profit_order_type': <OrderType.LIMIT: 2>, 'stop_loss_order_type': <OrderType.MARKET: 1>, 'time_limit_order_type': <OrderType.MARKET: 1>}, 'leverage': 10, 'activation_bounds': None, 'level_id': None}\n",
      "{'id': 'BSLMRxJqpZrFuK9QQQXgdwvVAjFvZR9y3UWcmX9NwprG', 'type': 'position_executor', 'timestamp': 1743460860.0, 'controller_id': 'main', 'trading_pair': 'SCA-USDT', 'connector_name': 'bybit_perpetual', 'side': <TradeType.BUY: 1>, 'entry_price': Decimal('0.07491501000000000110023989919'), 'amount': Decimal('93.25252691034795178410659196'), 'triple_barrier_config': {'stop_loss': Decimal('0.01034891392010574897302809916'), 'take_profit': Decimal('0.006209348352063448809336733800'), 'time_limit': 18000, 'trailing_stop': {'activation_price': Decimal('0.001448847948814804805956922884'), 'trailing_delta': Decimal('0.0006209348352063449168386812361')}, 'open_order_type': <OrderType.MARKET: 1>, 'take_profit_order_type': <OrderType.LIMIT: 2>, 'stop_loss_order_type': <OrderType.MARKET: 1>, 'time_limit_order_type': <OrderType.MARKET: 1>}, 'leverage': 10, 'activation_bounds': None, 'level_id': None}\n",
      "{'id': 'F8XSaiRyBtgopogcc6nYJbDeXHmsihEwY1awEtFzizJK', 'type': 'position_executor', 'timestamp': 1743460860.0, 'controller_id': 'main', 'trading_pair': 'SCA-USDT', 'connector_name': 'bybit_perpetual', 'side': <TradeType.BUY: 1>, 'entry_price': Decimal('0.07484002000000000109913855795'), 'amount': Decimal('93.25252691034795178410659196'), 'triple_barrier_config': {'stop_loss': Decimal('0.01034891392010574897302809916'), 'take_profit': Decimal('0.006209348352063448809336733800'), 'time_limit': 18000, 'trailing_stop': {'activation_price': Decimal('0.001448847948814804805956922884'), 'trailing_delta': Decimal('0.0006209348352063449168386812361')}, 'open_order_type': <OrderType.MARKET: 1>, 'take_profit_order_type': <OrderType.LIMIT: 2>, 'stop_loss_order_type': <OrderType.MARKET: 1>, 'time_limit_order_type': <OrderType.MARKET: 1>}, 'leverage': 10, 'activation_bounds': None, 'level_id': None}\n",
      "{'id': '5nexndnc7hEEXAU4ubVLwjBycsoEQT8Bhz7zokGbRECZ', 'type': 'position_executor', 'timestamp': 1743460860.0, 'controller_id': 'main', 'trading_pair': 'SCA-USDT', 'connector_name': 'bybit_perpetual', 'side': <TradeType.BUY: 1>, 'entry_price': Decimal('0.07476503000000000109803721671'), 'amount': Decimal('186.5050538206959035682131839'), 'triple_barrier_config': {'stop_loss': Decimal('0.01034891392010574897302809916'), 'take_profit': Decimal('0.006209348352063448809336733800'), 'time_limit': 18000, 'trailing_stop': {'activation_price': Decimal('0.001448847948814804805956922884'), 'trailing_delta': Decimal('0.0006209348352063449168386812361')}, 'open_order_type': <OrderType.MARKET: 1>, 'take_profit_order_type': <OrderType.LIMIT: 2>, 'stop_loss_order_type': <OrderType.MARKET: 1>, 'time_limit_order_type': <OrderType.MARKET: 1>}, 'leverage': 10, 'activation_bounds': None, 'level_id': None}\n",
      "{'id': 'AWgAxbQ3qduCeoXavzW2XLg4tWo82NS9BqhRZDuMzgo6', 'type': 'position_executor', 'timestamp': 1743460860.0, 'controller_id': 'main', 'trading_pair': 'SCA-USDT', 'connector_name': 'bybit_perpetual', 'side': <TradeType.BUY: 1>, 'entry_price': Decimal('0.07469004000000000109693587547'), 'amount': Decimal('279.7575807310438553523197759'), 'triple_barrier_config': {'stop_loss': Decimal('0.01034891392010574897302809916'), 'take_profit': Decimal('0.006209348352063448809336733800'), 'time_limit': 18000, 'trailing_stop': {'activation_price': Decimal('0.001448847948814804805956922884'), 'trailing_delta': Decimal('0.0006209348352063449168386812361')}, 'open_order_type': <OrderType.MARKET: 1>, 'take_profit_order_type': <OrderType.LIMIT: 2>, 'stop_loss_order_type': <OrderType.MARKET: 1>, 'time_limit_order_type': <OrderType.MARKET: 1>}, 'leverage': 10, 'activation_bounds': None, 'level_id': None}\n",
      "{'id': 'GErXy7dhLM69Ji413UUvGJ9Na57NugjMc1ZPe7NCzeCL', 'type': 'position_executor', 'timestamp': 1743460860.0, 'controller_id': 'main', 'trading_pair': 'SCA-USDT', 'connector_name': 'bybit_perpetual', 'side': <TradeType.BUY: 1>, 'entry_price': Decimal('0.07461505000000000109583453423'), 'amount': Decimal('466.2626345517397589205329598'), 'triple_barrier_config': {'stop_loss': Decimal('0.01034891392010574897302809916'), 'take_profit': Decimal('0.006209348352063448809336733800'), 'time_limit': 18000, 'trailing_stop': {'activation_price': Decimal('0.001448847948814804805956922884'), 'trailing_delta': Decimal('0.0006209348352063449168386812361')}, 'open_order_type': <OrderType.MARKET: 1>, 'take_profit_order_type': <OrderType.LIMIT: 2>, 'stop_loss_order_type': <OrderType.MARKET: 1>, 'time_limit_order_type': <OrderType.MARKET: 1>}, 'leverage': 10, 'activation_bounds': None, 'level_id': None}\n",
      "{'id': '2d4QpEHRV5sJnMg5P4TqXd8nErAyxoPkDEqUCRadt6cB', 'type': 'position_executor', 'timestamp': 1743460860.0, 'controller_id': 'main', 'trading_pair': 'SCA-USDT', 'connector_name': 'bybit_perpetual', 'side': <TradeType.BUY: 1>, 'entry_price': Decimal('0.07454006000000000109473319299'), 'amount': Decimal('746.0202152827836142728527357'), 'triple_barrier_config': {'stop_loss': Decimal('0.01034891392010574897302809916'), 'take_profit': Decimal('0.006209348352063448809336733800'), 'time_limit': 18000, 'trailing_stop': {'activation_price': Decimal('0.001448847948814804805956922884'), 'trailing_delta': Decimal('0.0006209348352063449168386812361')}, 'open_order_type': <OrderType.MARKET: 1>, 'take_profit_order_type': <OrderType.LIMIT: 2>, 'stop_loss_order_type': <OrderType.MARKET: 1>, 'time_limit_order_type': <OrderType.MARKET: 1>}, 'leverage': 10, 'activation_bounds': None, 'level_id': None}\n",
      "{'id': 'EVwTKHSNf4G6bvfUQ3imsiqkteWPKRe5HrogW5VMYFW8', 'type': 'position_executor', 'timestamp': 1743460860.0, 'controller_id': 'main', 'trading_pair': 'SCA-USDT', 'connector_name': 'bybit_perpetual', 'side': <TradeType.BUY: 1>, 'entry_price': Decimal('0.07446507000000000109363185175'), 'amount': Decimal('1212.282849834523373193385695'), 'triple_barrier_config': {'stop_loss': Decimal('0.01034891392010574897302809916'), 'take_profit': Decimal('0.006209348352063448809336733800'), 'time_limit': 18000, 'trailing_stop': {'activation_price': Decimal('0.001448847948814804805956922884'), 'trailing_delta': Decimal('0.0006209348352063449168386812361')}, 'open_order_type': <OrderType.MARKET: 1>, 'take_profit_order_type': <OrderType.LIMIT: 2>, 'stop_loss_order_type': <OrderType.MARKET: 1>, 'time_limit_order_type': <OrderType.MARKET: 1>}, 'leverage': 10, 'activation_bounds': None, 'level_id': None}\n",
      "{'id': '9PHntgyyNbZHUF95AcqmBsHfvgWx77fh9DkP4VzNnyG9', 'type': 'position_executor', 'timestamp': 1743460860.0, 'controller_id': 'main', 'trading_pair': 'SCA-USDT', 'connector_name': 'bybit_perpetual', 'side': <TradeType.BUY: 1>, 'entry_price': Decimal('0.07439008000000000109253051050'), 'amount': Decimal('1958.303065117306987466238431'), 'triple_barrier_config': {'stop_loss': Decimal('0.01034891392010574897302809916'), 'take_profit': Decimal('0.006209348352063448809336733800'), 'time_limit': 18000, 'trailing_stop': {'activation_price': Decimal('0.001448847948814804805956922884'), 'trailing_delta': Decimal('0.0006209348352063449168386812361')}, 'open_order_type': <OrderType.MARKET: 1>, 'take_profit_order_type': <OrderType.LIMIT: 2>, 'stop_loss_order_type': <OrderType.MARKET: 1>, 'time_limit_order_type': <OrderType.MARKET: 1>}, 'leverage': 10, 'activation_bounds': None, 'level_id': None}\n",
      "{'id': '9nyTvEBSYMn8ewoc5Pj7BWYQQsSeN1E8fVQBiW36jZ3i', 'type': 'position_executor', 'timestamp': 1743460860.0, 'controller_id': 'main', 'trading_pair': 'SCA-USDT', 'connector_name': 'bybit_perpetual', 'side': <TradeType.BUY: 1>, 'entry_price': Decimal('0.07431509000000000109142916926'), 'amount': Decimal('3170.585914951830360659624127'), 'triple_barrier_config': {'stop_loss': Decimal('0.01034891392010574897302809916'), 'take_profit': Decimal('0.006209348352063448809336733800'), 'time_limit': 18000, 'trailing_stop': {'activation_price': Decimal('0.001448847948814804805956922884'), 'trailing_delta': Decimal('0.0006209348352063449168386812361')}, 'open_order_type': <OrderType.MARKET: 1>, 'take_profit_order_type': <OrderType.LIMIT: 2>, 'stop_loss_order_type': <OrderType.MARKET: 1>, 'time_limit_order_type': <OrderType.MARKET: 1>}, 'leverage': 10, 'activation_bounds': None, 'level_id': None}\n",
      "{'id': '6kGdVgbUy2cbKBevWziV7f1g5np4bouHDhR4VGD5MFwb', 'type': 'position_executor', 'timestamp': 1743460860.0, 'controller_id': 'main', 'trading_pair': 'SCA-USDT', 'connector_name': 'bybit_perpetual', 'side': <TradeType.BUY: 1>, 'entry_price': Decimal('0.07424010000000000109032782802'), 'amount': Decimal('5128.888980069137348125862558'), 'triple_barrier_config': {'stop_loss': Decimal('0.01034891392010574897302809916'), 'take_profit': Decimal('0.006209348352063448809336733800'), 'time_limit': 18000, 'trailing_stop': {'activation_price': Decimal('0.001448847948814804805956922884'), 'trailing_delta': Decimal('0.0006209348352063449168386812361')}, 'open_order_type': <OrderType.MARKET: 1>, 'take_profit_order_type': <OrderType.LIMIT: 2>, 'stop_loss_order_type': <OrderType.MARKET: 1>, 'time_limit_order_type': <OrderType.MARKET: 1>}, 'leverage': 10, 'activation_bounds': None, 'level_id': None}\n",
      "{'id': '7Ksj5uRdiiii4fvQz4YUPtK2y1J9WS5vYQvwnorGeFhW', 'type': 'position_executor', 'timestamp': 1743461280.0, 'controller_id': 'main', 'trading_pair': 'SCA-USDT', 'connector_name': 'bybit_perpetual', 'side': <TradeType.BUY: 1>, 'entry_price': Decimal('0.07480512000000000211175077425'), 'amount': Decimal('93.38951646643954072623144357'), 'triple_barrier_config': {'stop_loss': Decimal('0.01032691474822516110737084795'), 'take_profit': Decimal('0.006196148848935096091163582427'), 'time_limit': 18000, 'trailing_stop': {'activation_price': Decimal('0.001445768064751522504871762658'), 'trailing_delta': Decimal('0.0006196148848935096449450411391')}, 'open_order_type': <OrderType.MARKET: 1>, 'take_profit_order_type': <OrderType.LIMIT: 2>, 'stop_loss_order_type': <OrderType.MARKET: 1>, 'time_limit_order_type': <OrderType.MARKET: 1>}, 'leverage': 10, 'activation_bounds': None, 'level_id': None}\n",
      "{'id': '7jwdN6XQUtm1RVPY3W2ybP4MHS3Fo9b6RBjoYBVMv1nq', 'type': 'position_executor', 'timestamp': 1743461280.0, 'controller_id': 'main', 'trading_pair': 'SCA-USDT', 'connector_name': 'bybit_perpetual', 'side': <TradeType.BUY: 1>, 'entry_price': Decimal('0.07473024000000000210963690961'), 'amount': Decimal('93.38951646643954072623144357'), 'triple_barrier_config': {'stop_loss': Decimal('0.01032691474822516110737084795'), 'take_profit': Decimal('0.006196148848935096091163582427'), 'time_limit': 18000, 'trailing_stop': {'activation_price': Decimal('0.001445768064751522504871762658'), 'trailing_delta': Decimal('0.0006196148848935096449450411391')}, 'open_order_type': <OrderType.MARKET: 1>, 'take_profit_order_type': <OrderType.LIMIT: 2>, 'stop_loss_order_type': <OrderType.MARKET: 1>, 'time_limit_order_type': <OrderType.MARKET: 1>}, 'leverage': 10, 'activation_bounds': None, 'level_id': None}\n",
      "{'id': '44CyNAZAfDUCo5EVbPzs9GQGgHstBLk5PXFQ44BtEjbT', 'type': 'position_executor', 'timestamp': 1743461280.0, 'controller_id': 'main', 'trading_pair': 'SCA-USDT', 'connector_name': 'bybit_perpetual', 'side': <TradeType.BUY: 1>, 'entry_price': Decimal('0.07465536000000000210752304497'), 'amount': Decimal('186.7790329328790814524628871'), 'triple_barrier_config': {'stop_loss': Decimal('0.01032691474822516110737084795'), 'take_profit': Decimal('0.006196148848935096091163582427'), 'time_limit': 18000, 'trailing_stop': {'activation_price': Decimal('0.001445768064751522504871762658'), 'trailing_delta': Decimal('0.0006196148848935096449450411391')}, 'open_order_type': <OrderType.MARKET: 1>, 'take_profit_order_type': <OrderType.LIMIT: 2>, 'stop_loss_order_type': <OrderType.MARKET: 1>, 'time_limit_order_type': <OrderType.MARKET: 1>}, 'leverage': 10, 'activation_bounds': None, 'level_id': None}\n",
      "{'id': 'CBJktRJvTmiSk9GbFU3uLFR1z3NoBJNU5LyHAEKTfLzu', 'type': 'position_executor', 'timestamp': 1743461280.0, 'controller_id': 'main', 'trading_pair': 'SCA-USDT', 'connector_name': 'bybit_perpetual', 'side': <TradeType.BUY: 1>, 'entry_price': Decimal('0.07458048000000000210540918033'), 'amount': Decimal('280.1685493993186221786943307'), 'triple_barrier_config': {'stop_loss': Decimal('0.01032691474822516110737084795'), 'take_profit': Decimal('0.006196148848935096091163582427'), 'time_limit': 18000, 'trailing_stop': {'activation_price': Decimal('0.001445768064751522504871762658'), 'trailing_delta': Decimal('0.0006196148848935096449450411391')}, 'open_order_type': <OrderType.MARKET: 1>, 'take_profit_order_type': <OrderType.LIMIT: 2>, 'stop_loss_order_type': <OrderType.MARKET: 1>, 'time_limit_order_type': <OrderType.MARKET: 1>}, 'leverage': 10, 'activation_bounds': None, 'level_id': None}\n",
      "{'id': 'F4uyNpW8aA9qU32TyZCF59V9CTpi4o2xKu6jRv16G6eo', 'type': 'position_executor', 'timestamp': 1743461280.0, 'controller_id': 'main', 'trading_pair': 'SCA-USDT', 'connector_name': 'bybit_perpetual', 'side': <TradeType.BUY: 1>, 'entry_price': Decimal('0.07450560000000000210329531569'), 'amount': Decimal('466.9475823321977036311572178'), 'triple_barrier_config': {'stop_loss': Decimal('0.01032691474822516110737084795'), 'take_profit': Decimal('0.006196148848935096091163582427'), 'time_limit': 18000, 'trailing_stop': {'activation_price': Decimal('0.001445768064751522504871762658'), 'trailing_delta': Decimal('0.0006196148848935096449450411391')}, 'open_order_type': <OrderType.MARKET: 1>, 'take_profit_order_type': <OrderType.LIMIT: 2>, 'stop_loss_order_type': <OrderType.MARKET: 1>, 'time_limit_order_type': <OrderType.MARKET: 1>}, 'leverage': 10, 'activation_bounds': None, 'level_id': None}\n",
      "{'id': 'JAa7RA3aoCJxbH7SEMzCVwEUazDYJcRoVpSNTwbvohso', 'type': 'position_executor', 'timestamp': 1743461280.0, 'controller_id': 'main', 'trading_pair': 'SCA-USDT', 'connector_name': 'bybit_perpetual', 'side': <TradeType.BUY: 1>, 'entry_price': Decimal('0.07443072000000000210118145105'), 'amount': Decimal('747.1161317315163258098515486'), 'triple_barrier_config': {'stop_loss': Decimal('0.01032691474822516110737084795'), 'take_profit': Decimal('0.006196148848935096091163582427'), 'time_limit': 18000, 'trailing_stop': {'activation_price': Decimal('0.001445768064751522504871762658'), 'trailing_delta': Decimal('0.0006196148848935096449450411391')}, 'open_order_type': <OrderType.MARKET: 1>, 'take_profit_order_type': <OrderType.LIMIT: 2>, 'stop_loss_order_type': <OrderType.MARKET: 1>, 'time_limit_order_type': <OrderType.MARKET: 1>}, 'leverage': 10, 'activation_bounds': None, 'level_id': None}\n",
      "{'id': '6Jjdk58yqDoujrT5tv2G5RuNugjKkgoe7JNpfRsSy6qc', 'type': 'position_executor', 'timestamp': 1743461280.0, 'controller_id': 'main', 'trading_pair': 'SCA-USDT', 'connector_name': 'bybit_perpetual', 'side': <TradeType.BUY: 1>, 'entry_price': Decimal('0.07435584000000000209906758641'), 'amount': Decimal('1214.063714063714029441008766'), 'triple_barrier_config': {'stop_loss': Decimal('0.01032691474822516110737084795'), 'take_profit': Decimal('0.006196148848935096091163582427'), 'time_limit': 18000, 'trailing_stop': {'activation_price': Decimal('0.001445768064751522504871762658'), 'trailing_delta': Decimal('0.0006196148848935096449450411391')}, 'open_order_type': <OrderType.MARKET: 1>, 'take_profit_order_type': <OrderType.LIMIT: 2>, 'stop_loss_order_type': <OrderType.MARKET: 1>, 'time_limit_order_type': <OrderType.MARKET: 1>}, 'leverage': 10, 'activation_bounds': None, 'level_id': None}\n",
      "{'id': '9ANQBYJF2PahBwbmmzbWoLVEb8FCUtRKTcT1Bw1oWrVA', 'type': 'position_executor', 'timestamp': 1743461280.0, 'controller_id': 'main', 'trading_pair': 'SCA-USDT', 'connector_name': 'bybit_perpetual', 'side': <TradeType.BUY: 1>, 'entry_price': Decimal('0.07428096000000000209695372178'), 'amount': Decimal('1961.179845795230355250860315'), 'triple_barrier_config': {'stop_loss': Decimal('0.01032691474822516110737084795'), 'take_profit': Decimal('0.006196148848935096091163582427'), 'time_limit': 18000, 'trailing_stop': {'activation_price': Decimal('0.001445768064751522504871762658'), 'trailing_delta': Decimal('0.0006196148848935096449450411391')}, 'open_order_type': <OrderType.MARKET: 1>, 'take_profit_order_type': <OrderType.LIMIT: 2>, 'stop_loss_order_type': <OrderType.MARKET: 1>, 'time_limit_order_type': <OrderType.MARKET: 1>}, 'leverage': 10, 'activation_bounds': None, 'level_id': None}\n",
      "{'id': '9ad8AKbLxFxQ6T4iMTLQxAJKj7SzGsdenwx8tPNknkK8', 'type': 'position_executor', 'timestamp': 1743461280.0, 'controller_id': 'main', 'trading_pair': 'SCA-USDT', 'connector_name': 'bybit_perpetual', 'side': <TradeType.BUY: 1>, 'entry_price': Decimal('0.07420608000000000209483985714'), 'amount': Decimal('3175.243559858944384691869081'), 'triple_barrier_config': {'stop_loss': Decimal('0.01032691474822516110737084795'), 'take_profit': Decimal('0.006196148848935096091163582427'), 'time_limit': 18000, 'trailing_stop': {'activation_price': Decimal('0.001445768064751522504871762658'), 'trailing_delta': Decimal('0.0006196148848935096449450411391')}, 'open_order_type': <OrderType.MARKET: 1>, 'take_profit_order_type': <OrderType.LIMIT: 2>, 'stop_loss_order_type': <OrderType.MARKET: 1>, 'time_limit_order_type': <OrderType.MARKET: 1>}, 'leverage': 10, 'activation_bounds': None, 'level_id': None}\n",
      "{'id': 'C5frXcAwkEQdew2PbrpVbCGbM7UZ5QV4LLgJ1EUJpSrE', 'type': 'position_executor', 'timestamp': 1743461280.0, 'controller_id': 'main', 'trading_pair': 'SCA-USDT', 'connector_name': 'bybit_perpetual', 'side': <TradeType.BUY: 1>, 'entry_price': Decimal('0.07413120000000000209272599250'), 'amount': Decimal('5136.423405654174739942729396'), 'triple_barrier_config': {'stop_loss': Decimal('0.01032691474822516110737084795'), 'take_profit': Decimal('0.006196148848935096091163582427'), 'time_limit': 18000, 'trailing_stop': {'activation_price': Decimal('0.001445768064751522504871762658'), 'trailing_delta': Decimal('0.0006196148848935096449450411391')}, 'open_order_type': <OrderType.MARKET: 1>, 'take_profit_order_type': <OrderType.LIMIT: 2>, 'stop_loss_order_type': <OrderType.MARKET: 1>, 'time_limit_order_type': <OrderType.MARKET: 1>}, 'leverage': 10, 'activation_bounds': None, 'level_id': None}\n",
      "{'id': 'HHVe6Grqawy3D3UbT7fA8ZMnbyDoCx1F6YoapKsim4p3', 'type': 'position_executor', 'timestamp': 1743475320.0, 'controller_id': 'main', 'trading_pair': 'SCA-USDT', 'connector_name': 'bybit_perpetual', 'side': <TradeType.SELL: 2>, 'entry_price': Decimal('0.07504496999999999497232838763'), 'amount': Decimal('93.27740420177395592227110196'), 'triple_barrier_config': {'stop_loss': Decimal('0.009173441400338679617334569657'), 'take_profit': Decimal('0.005504064840203207261172448909'), 'time_limit': 18000, 'trailing_stop': {'activation_price': Decimal('0.001284281796047415101869364125'), 'trailing_delta': Decimal('0.0005504064840203207579440131962')}, 'open_order_type': <OrderType.MARKET: 1>, 'take_profit_order_type': <OrderType.LIMIT: 2>, 'stop_loss_order_type': <OrderType.MARKET: 1>, 'time_limit_order_type': <OrderType.MARKET: 1>}, 'leverage': 10, 'activation_bounds': None, 'level_id': None}\n",
      "{'id': '5qZg7r5ygZg74XLFfvrNeAokmtVgPHebVHFpBYAhpxK6', 'type': 'position_executor', 'timestamp': 1743475320.0, 'controller_id': 'main', 'trading_pair': 'SCA-USDT', 'connector_name': 'bybit_perpetual', 'side': <TradeType.SELL: 2>, 'entry_price': Decimal('0.07511993999999999496730573867'), 'amount': Decimal('93.27740420177395592227110196'), 'triple_barrier_config': {'stop_loss': Decimal('0.009173441400338679617334569657'), 'take_profit': Decimal('0.005504064840203207261172448909'), 'time_limit': 18000, 'trailing_stop': {'activation_price': Decimal('0.001284281796047415101869364125'), 'trailing_delta': Decimal('0.0005504064840203207579440131962')}, 'open_order_type': <OrderType.MARKET: 1>, 'take_profit_order_type': <OrderType.LIMIT: 2>, 'stop_loss_order_type': <OrderType.MARKET: 1>, 'time_limit_order_type': <OrderType.MARKET: 1>}, 'leverage': 10, 'activation_bounds': None, 'level_id': None}\n",
      "{'id': 'snrnGKCyvRwv4vBieKGjpAvPZdZHUuzHKHoqrpaFCm9', 'type': 'position_executor', 'timestamp': 1743475320.0, 'controller_id': 'main', 'trading_pair': 'SCA-USDT', 'connector_name': 'bybit_perpetual', 'side': <TradeType.SELL: 2>, 'entry_price': Decimal('0.07519490999999999496228308971'), 'amount': Decimal('186.5548084035479118445422039'), 'triple_barrier_config': {'stop_loss': Decimal('0.009173441400338679617334569657'), 'take_profit': Decimal('0.005504064840203207261172448909'), 'time_limit': 18000, 'trailing_stop': {'activation_price': Decimal('0.001284281796047415101869364125'), 'trailing_delta': Decimal('0.0005504064840203207579440131962')}, 'open_order_type': <OrderType.MARKET: 1>, 'take_profit_order_type': <OrderType.LIMIT: 2>, 'stop_loss_order_type': <OrderType.MARKET: 1>, 'time_limit_order_type': <OrderType.MARKET: 1>}, 'leverage': 10, 'activation_bounds': None, 'level_id': None}\n",
      "{'id': '4jCW1hcDhmp7B9BUmrXuhhaPnjaVQV5wpeDLuYWFdKwX', 'type': 'position_executor', 'timestamp': 1743475320.0, 'controller_id': 'main', 'trading_pair': 'SCA-USDT', 'connector_name': 'bybit_perpetual', 'side': <TradeType.SELL: 2>, 'entry_price': Decimal('0.07526987999999999495726044074'), 'amount': Decimal('279.8322126053218677668133059'), 'triple_barrier_config': {'stop_loss': Decimal('0.009173441400338679617334569657'), 'take_profit': Decimal('0.005504064840203207261172448909'), 'time_limit': 18000, 'trailing_stop': {'activation_price': Decimal('0.001284281796047415101869364125'), 'trailing_delta': Decimal('0.0005504064840203207579440131962')}, 'open_order_type': <OrderType.MARKET: 1>, 'take_profit_order_type': <OrderType.LIMIT: 2>, 'stop_loss_order_type': <OrderType.MARKET: 1>, 'time_limit_order_type': <OrderType.MARKET: 1>}, 'leverage': 10, 'activation_bounds': None, 'level_id': None}\n",
      "{'id': 'GxZXkHDFTmDBNtBhQAEocYsDc5QBdG9NBVkW9thGygQy', 'type': 'position_executor', 'timestamp': 1743475320.0, 'controller_id': 'main', 'trading_pair': 'SCA-USDT', 'connector_name': 'bybit_perpetual', 'side': <TradeType.SELL: 2>, 'entry_price': Decimal('0.07534484999999999495223779178'), 'amount': Decimal('466.3870210088697796113555098'), 'triple_barrier_config': {'stop_loss': Decimal('0.009173441400338679617334569657'), 'take_profit': Decimal('0.005504064840203207261172448909'), 'time_limit': 18000, 'trailing_stop': {'activation_price': Decimal('0.001284281796047415101869364125'), 'trailing_delta': Decimal('0.0005504064840203207579440131962')}, 'open_order_type': <OrderType.MARKET: 1>, 'take_profit_order_type': <OrderType.LIMIT: 2>, 'stop_loss_order_type': <OrderType.MARKET: 1>, 'time_limit_order_type': <OrderType.MARKET: 1>}, 'leverage': 10, 'activation_bounds': None, 'level_id': None}\n",
      "{'id': 'FEqUcpogFdFQTJcsGx7auudubNHnFvRbcFGFMnwyMvrq', 'type': 'position_executor', 'timestamp': 1743475320.0, 'controller_id': 'main', 'trading_pair': 'SCA-USDT', 'connector_name': 'bybit_perpetual', 'side': <TradeType.SELL: 2>, 'entry_price': Decimal('0.07541981999999999494721514282'), 'amount': Decimal('746.2192336141916473781688157'), 'triple_barrier_config': {'stop_loss': Decimal('0.009173441400338679617334569657'), 'take_profit': Decimal('0.005504064840203207261172448909'), 'time_limit': 18000, 'trailing_stop': {'activation_price': Decimal('0.001284281796047415101869364125'), 'trailing_delta': Decimal('0.0005504064840203207579440131962')}, 'open_order_type': <OrderType.MARKET: 1>, 'take_profit_order_type': <OrderType.LIMIT: 2>, 'stop_loss_order_type': <OrderType.MARKET: 1>, 'time_limit_order_type': <OrderType.MARKET: 1>}, 'leverage': 10, 'activation_bounds': None, 'level_id': None}\n",
      "{'id': 'EBWFn7khDAYmZ7iiYg5RVGYbAGfpo25RASZhuLf4gUEK', 'type': 'position_executor', 'timestamp': 1743475320.0, 'controller_id': 'main', 'trading_pair': 'SCA-USDT', 'connector_name': 'bybit_perpetual', 'side': <TradeType.SELL: 2>, 'entry_price': Decimal('0.07549478999999999494219249385'), 'amount': Decimal('1212.606254623061426989524325'), 'triple_barrier_config': {'stop_loss': Decimal('0.009173441400338679617334569657'), 'take_profit': Decimal('0.005504064840203207261172448909'), 'time_limit': 18000, 'trailing_stop': {'activation_price': Decimal('0.001284281796047415101869364125'), 'trailing_delta': Decimal('0.0005504064840203207579440131962')}, 'open_order_type': <OrderType.MARKET: 1>, 'take_profit_order_type': <OrderType.LIMIT: 2>, 'stop_loss_order_type': <OrderType.MARKET: 1>, 'time_limit_order_type': <OrderType.MARKET: 1>}, 'leverage': 10, 'activation_bounds': None, 'level_id': None}\n",
      "{'id': 'GgqeczKcVu4jZyZ2GBePHBMc6kKnWcu1idJB9wGpWhuY', 'type': 'position_executor', 'timestamp': 1743475320.0, 'controller_id': 'main', 'trading_pair': 'SCA-USDT', 'connector_name': 'bybit_perpetual', 'side': <TradeType.SELL: 2>, 'entry_price': Decimal('0.07556975999999999493716984489'), 'amount': Decimal('1958.825488237253074367693141'), 'triple_barrier_config': {'stop_loss': Decimal('0.009173441400338679617334569657'), 'take_profit': Decimal('0.005504064840203207261172448909'), 'time_limit': 18000, 'trailing_stop': {'activation_price': Decimal('0.001284281796047415101869364125'), 'trailing_delta': Decimal('0.0005504064840203207579440131962')}, 'open_order_type': <OrderType.MARKET: 1>, 'take_profit_order_type': <OrderType.LIMIT: 2>, 'stop_loss_order_type': <OrderType.MARKET: 1>, 'time_limit_order_type': <OrderType.MARKET: 1>}, 'leverage': 10, 'activation_bounds': None, 'level_id': None}\n",
      "{'id': 'GvFM9tcKD9r6798obHwnRxf1TLdEkpp5KrytaNKEU4si', 'type': 'position_executor', 'timestamp': 1743475320.0, 'controller_id': 'main', 'trading_pair': 'SCA-USDT', 'connector_name': 'bybit_perpetual', 'side': <TradeType.SELL: 2>, 'entry_price': Decimal('0.07564472999999999493214719593'), 'amount': Decimal('3171.431742860314501357217467'), 'triple_barrier_config': {'stop_loss': Decimal('0.009173441400338679617334569657'), 'take_profit': Decimal('0.005504064840203207261172448909'), 'time_limit': 18000, 'trailing_stop': {'activation_price': Decimal('0.001284281796047415101869364125'), 'trailing_delta': Decimal('0.0005504064840203207579440131962')}, 'open_order_type': <OrderType.MARKET: 1>, 'take_profit_order_type': <OrderType.LIMIT: 2>, 'stop_loss_order_type': <OrderType.MARKET: 1>, 'time_limit_order_type': <OrderType.MARKET: 1>}, 'leverage': 10, 'activation_bounds': None, 'level_id': None}\n",
      "{'id': 'Cd34YSrVKHLD2X8zxPrk95pX566cQHG3pwmDSLhhs43N', 'type': 'position_executor', 'timestamp': 1743475320.0, 'controller_id': 'main', 'trading_pair': 'SCA-USDT', 'connector_name': 'bybit_perpetual', 'side': <TradeType.SELL: 2>, 'entry_price': Decimal('0.07571969999999999492712454696'), 'amount': Decimal('5130.257231097567575724910608'), 'triple_barrier_config': {'stop_loss': Decimal('0.009173441400338679617334569657'), 'take_profit': Decimal('0.005504064840203207261172448909'), 'time_limit': 18000, 'trailing_stop': {'activation_price': Decimal('0.001284281796047415101869364125'), 'trailing_delta': Decimal('0.0005504064840203207579440131962')}, 'open_order_type': <OrderType.MARKET: 1>, 'take_profit_order_type': <OrderType.LIMIT: 2>, 'stop_loss_order_type': <OrderType.MARKET: 1>, 'time_limit_order_type': <OrderType.MARKET: 1>}, 'leverage': 10, 'activation_bounds': None, 'level_id': None}\n",
      "{'id': 'HzxYMy8qwgfXY1qDaz7qe7TEQ34ZEe6YXE5C1Rm7bGPR', 'type': 'position_executor', 'timestamp': 1743475560.0, 'controller_id': 'main', 'trading_pair': 'SCA-USDT', 'connector_name': 'bybit_perpetual', 'side': <TradeType.SELL: 2>, 'entry_price': Decimal('0.07509502000000000335178107491'), 'amount': Decimal('93.21523584386820441039814098'), 'triple_barrier_config': {'stop_loss': Decimal('0.009184391191501783079619913391'), 'take_profit': Decimal('0.005510634714901069337935819636'), 'time_limit': 18000, 'trailing_stop': {'activation_price': Decimal('0.001285814766810249586536126640'), 'trailing_delta': Decimal('0.0005510634714901069656583399885')}, 'open_order_type': <OrderType.MARKET: 1>, 'take_profit_order_type': <OrderType.LIMIT: 2>, 'stop_loss_order_type': <OrderType.MARKET: 1>, 'time_limit_order_type': <OrderType.MARKET: 1>}, 'leverage': 10, 'activation_bounds': None, 'level_id': None}\n",
      "{'id': '2x5Stb6okLHr2BLoPgPfnFXtJvfmBRKByipx3a8Phrii', 'type': 'position_executor', 'timestamp': 1743475560.0, 'controller_id': 'main', 'trading_pair': 'SCA-USDT', 'connector_name': 'bybit_perpetual', 'side': <TradeType.SELL: 2>, 'entry_price': Decimal('0.07517004000000000335512950755'), 'amount': Decimal('93.21523584386820441039814098'), 'triple_barrier_config': {'stop_loss': Decimal('0.009184391191501783079619913391'), 'take_profit': Decimal('0.005510634714901069337935819636'), 'time_limit': 18000, 'trailing_stop': {'activation_price': Decimal('0.001285814766810249586536126640'), 'trailing_delta': Decimal('0.0005510634714901069656583399885')}, 'open_order_type': <OrderType.MARKET: 1>, 'take_profit_order_type': <OrderType.LIMIT: 2>, 'stop_loss_order_type': <OrderType.MARKET: 1>, 'time_limit_order_type': <OrderType.MARKET: 1>}, 'leverage': 10, 'activation_bounds': None, 'level_id': None}\n",
      "{'id': '5ewDGW7uoqmVMEwbhTYuiT5rCTmxR7NZAdWZMqwNB6Ew', 'type': 'position_executor', 'timestamp': 1743475560.0, 'controller_id': 'main', 'trading_pair': 'SCA-USDT', 'connector_name': 'bybit_perpetual', 'side': <TradeType.SELL: 2>, 'entry_price': Decimal('0.07524506000000000335847794020'), 'amount': Decimal('186.4304716877364088207962820'), 'triple_barrier_config': {'stop_loss': Decimal('0.009184391191501783079619913391'), 'take_profit': Decimal('0.005510634714901069337935819636'), 'time_limit': 18000, 'trailing_stop': {'activation_price': Decimal('0.001285814766810249586536126640'), 'trailing_delta': Decimal('0.0005510634714901069656583399885')}, 'open_order_type': <OrderType.MARKET: 1>, 'take_profit_order_type': <OrderType.LIMIT: 2>, 'stop_loss_order_type': <OrderType.MARKET: 1>, 'time_limit_order_type': <OrderType.MARKET: 1>}, 'leverage': 10, 'activation_bounds': None, 'level_id': None}\n",
      "{'id': 'FVFjhazz9qUwjV8gqRXm4YGSHDqzh4ZvneekDJ72Nq5Q', 'type': 'position_executor', 'timestamp': 1743475560.0, 'controller_id': 'main', 'trading_pair': 'SCA-USDT', 'connector_name': 'bybit_perpetual', 'side': <TradeType.SELL: 2>, 'entry_price': Decimal('0.07532008000000000336182637284'), 'amount': Decimal('279.6457075316046132311944229'), 'triple_barrier_config': {'stop_loss': Decimal('0.009184391191501783079619913391'), 'take_profit': Decimal('0.005510634714901069337935819636'), 'time_limit': 18000, 'trailing_stop': {'activation_price': Decimal('0.001285814766810249586536126640'), 'trailing_delta': Decimal('0.0005510634714901069656583399885')}, 'open_order_type': <OrderType.MARKET: 1>, 'take_profit_order_type': <OrderType.LIMIT: 2>, 'stop_loss_order_type': <OrderType.MARKET: 1>, 'time_limit_order_type': <OrderType.MARKET: 1>}, 'leverage': 10, 'activation_bounds': None, 'level_id': None}\n",
      "{'id': '29PFLvu823xrLydMEDTcgoZPUwqgxhVLbDWxSop5waHD', 'type': 'position_executor', 'timestamp': 1743475560.0, 'controller_id': 'main', 'trading_pair': 'SCA-USDT', 'connector_name': 'bybit_perpetual', 'side': <TradeType.SELL: 2>, 'entry_price': Decimal('0.07539510000000000336517480548'), 'amount': Decimal('466.0761792193410220519907049'), 'triple_barrier_config': {'stop_loss': Decimal('0.009184391191501783079619913391'), 'take_profit': Decimal('0.005510634714901069337935819636'), 'time_limit': 18000, 'trailing_stop': {'activation_price': Decimal('0.001285814766810249586536126640'), 'trailing_delta': Decimal('0.0005510634714901069656583399885')}, 'open_order_type': <OrderType.MARKET: 1>, 'take_profit_order_type': <OrderType.LIMIT: 2>, 'stop_loss_order_type': <OrderType.MARKET: 1>, 'time_limit_order_type': <OrderType.MARKET: 1>}, 'leverage': 10, 'activation_bounds': None, 'level_id': None}\n",
      "{'id': 'GcNCD1vseW85nBxnjsuYDs8nhYuvoT154VP5Huvk9BGD', 'type': 'position_executor', 'timestamp': 1743475560.0, 'controller_id': 'main', 'trading_pair': 'SCA-USDT', 'connector_name': 'bybit_perpetual', 'side': <TradeType.SELL: 2>, 'entry_price': Decimal('0.07547012000000000336852323812'), 'amount': Decimal('745.7218867509456352831851278'), 'triple_barrier_config': {'stop_loss': Decimal('0.009184391191501783079619913391'), 'take_profit': Decimal('0.005510634714901069337935819636'), 'time_limit': 18000, 'trailing_stop': {'activation_price': Decimal('0.001285814766810249586536126640'), 'trailing_delta': Decimal('0.0005510634714901069656583399885')}, 'open_order_type': <OrderType.MARKET: 1>, 'take_profit_order_type': <OrderType.LIMIT: 2>, 'stop_loss_order_type': <OrderType.MARKET: 1>, 'time_limit_order_type': <OrderType.MARKET: 1>}, 'leverage': 10, 'activation_bounds': None, 'level_id': None}\n",
      "{'id': 'J34DK3tiWkD1isbNUPU943yoDBwE2nnUcQ2E5EYYFo3f', 'type': 'position_executor', 'timestamp': 1743475560.0, 'controller_id': 'main', 'trading_pair': 'SCA-USDT', 'connector_name': 'bybit_perpetual', 'side': <TradeType.SELL: 2>, 'entry_price': Decimal('0.07554514000000000337187167077'), 'amount': Decimal('1211.798065970286657335175833'), 'triple_barrier_config': {'stop_loss': Decimal('0.009184391191501783079619913391'), 'take_profit': Decimal('0.005510634714901069337935819636'), 'time_limit': 18000, 'trailing_stop': {'activation_price': Decimal('0.001285814766810249586536126640'), 'trailing_delta': Decimal('0.0005510634714901069656583399885')}, 'open_order_type': <OrderType.MARKET: 1>, 'take_profit_order_type': <OrderType.LIMIT: 2>, 'stop_loss_order_type': <OrderType.MARKET: 1>, 'time_limit_order_type': <OrderType.MARKET: 1>}, 'leverage': 10, 'activation_bounds': None, 'level_id': None}\n",
      "{'id': 'E1AZXxyHAGnGkqh8SQtstEt4XTF5u3ASJR6Ve3roMkeQ', 'type': 'position_executor', 'timestamp': 1743475560.0, 'controller_id': 'main', 'trading_pair': 'SCA-USDT', 'connector_name': 'bybit_perpetual', 'side': <TradeType.SELL: 2>, 'entry_price': Decimal('0.07562016000000000337522010341'), 'amount': Decimal('1957.519952721232292618360961'), 'triple_barrier_config': {'stop_loss': Decimal('0.009184391191501783079619913391'), 'take_profit': Decimal('0.005510634714901069337935819636'), 'time_limit': 18000, 'trailing_stop': {'activation_price': Decimal('0.001285814766810249586536126640'), 'trailing_delta': Decimal('0.0005510634714901069656583399885')}, 'open_order_type': <OrderType.MARKET: 1>, 'take_profit_order_type': <OrderType.LIMIT: 2>, 'stop_loss_order_type': <OrderType.MARKET: 1>, 'time_limit_order_type': <OrderType.MARKET: 1>}, 'leverage': 10, 'activation_bounds': None, 'level_id': None}\n",
      "{'id': '6NtMEdi1ccSrnfA5mEL1zxGDyQ4wmCfCvNPjuhEsd9Fg', 'type': 'position_executor', 'timestamp': 1743475560.0, 'controller_id': 'main', 'trading_pair': 'SCA-USDT', 'connector_name': 'bybit_perpetual', 'side': <TradeType.SELL: 2>, 'entry_price': Decimal('0.07569518000000000337856853605'), 'amount': Decimal('3169.318018691518949953536793'), 'triple_barrier_config': {'stop_loss': Decimal('0.009184391191501783079619913391'), 'take_profit': Decimal('0.005510634714901069337935819636'), 'time_limit': 18000, 'trailing_stop': {'activation_price': Decimal('0.001285814766810249586536126640'), 'trailing_delta': Decimal('0.0005510634714901069656583399885')}, 'open_order_type': <OrderType.MARKET: 1>, 'take_profit_order_type': <OrderType.LIMIT: 2>, 'stop_loss_order_type': <OrderType.MARKET: 1>, 'time_limit_order_type': <OrderType.MARKET: 1>}, 'leverage': 10, 'activation_bounds': None, 'level_id': None}\n",
      "{'id': 'HNJxiSZgomP7NmL25z2qDuMmnE1wE247WnGA5BUZiLCZ', 'type': 'position_executor', 'timestamp': 1743475560.0, 'controller_id': 'main', 'trading_pair': 'SCA-USDT', 'connector_name': 'bybit_perpetual', 'side': <TradeType.SELL: 2>, 'entry_price': Decimal('0.07577020000000000338191696869'), 'amount': Decimal('5126.837971412751242571897754'), 'triple_barrier_config': {'stop_loss': Decimal('0.009184391191501783079619913391'), 'take_profit': Decimal('0.005510634714901069337935819636'), 'time_limit': 18000, 'trailing_stop': {'activation_price': Decimal('0.001285814766810249586536126640'), 'trailing_delta': Decimal('0.0005510634714901069656583399885')}, 'open_order_type': <OrderType.MARKET: 1>, 'take_profit_order_type': <OrderType.LIMIT: 2>, 'stop_loss_order_type': <OrderType.MARKET: 1>, 'time_limit_order_type': <OrderType.MARKET: 1>}, 'leverage': 10, 'activation_bounds': None, 'level_id': None}\n",
      "{'id': 'HPDp1UdxAKn2zm8jZX2N4M1TJ6UebKAsEPp18tsrUJHb', 'type': 'position_executor', 'timestamp': 1743476460.0, 'controller_id': 'main', 'trading_pair': 'SCA-USDT', 'connector_name': 'bybit_perpetual', 'side': <TradeType.SELL: 2>, 'entry_price': Decimal('0.07555548000000000542775158152'), 'amount': Decimal('92.64715147068087579000592783'), 'triple_barrier_config': {'stop_loss': Decimal('0.009663490430604461926183425569'), 'take_profit': Decimal('0.005798094258362676619278576626'), 'time_limit': 18000, 'trailing_stop': {'activation_price': Decimal('0.001352888660284624622727925192'), 'trailing_delta': Decimal('0.0005798094258362676954548250823')}, 'open_order_type': <OrderType.MARKET: 1>, 'take_profit_order_type': <OrderType.LIMIT: 2>, 'stop_loss_order_type': <OrderType.MARKET: 1>, 'time_limit_order_type': <OrderType.MARKET: 1>}, 'leverage': 10, 'activation_bounds': None, 'level_id': None}\n",
      "{'id': '6CGdWVjkTdn1Qb5VC63hzgEXwfqcmN6voZbvnCmnuW9f', 'type': 'position_executor', 'timestamp': 1743476460.0, 'controller_id': 'main', 'trading_pair': 'SCA-USDT', 'connector_name': 'bybit_perpetual', 'side': <TradeType.SELL: 2>, 'entry_price': Decimal('0.07563096000000000543317391077'), 'amount': Decimal('92.64715147068087579000592783'), 'triple_barrier_config': {'stop_loss': Decimal('0.009663490430604461926183425569'), 'take_profit': Decimal('0.005798094258362676619278576626'), 'time_limit': 18000, 'trailing_stop': {'activation_price': Decimal('0.001352888660284624622727925192'), 'trailing_delta': Decimal('0.0005798094258362676954548250823')}, 'open_order_type': <OrderType.MARKET: 1>, 'take_profit_order_type': <OrderType.LIMIT: 2>, 'stop_loss_order_type': <OrderType.MARKET: 1>, 'time_limit_order_type': <OrderType.MARKET: 1>}, 'leverage': 10, 'activation_bounds': None, 'level_id': None}\n",
      "{'id': 'FRYmxGB8Lc7pBHestHBsDM35Lwv8FhvCzHMJ746rsD87', 'type': 'position_executor', 'timestamp': 1743476460.0, 'controller_id': 'main', 'trading_pair': 'SCA-USDT', 'connector_name': 'bybit_perpetual', 'side': <TradeType.SELL: 2>, 'entry_price': Decimal('0.07570644000000000543859624003'), 'amount': Decimal('185.2943029413617515800118557'), 'triple_barrier_config': {'stop_loss': Decimal('0.009663490430604461926183425569'), 'take_profit': Decimal('0.005798094258362676619278576626'), 'time_limit': 18000, 'trailing_stop': {'activation_price': Decimal('0.001352888660284624622727925192'), 'trailing_delta': Decimal('0.0005798094258362676954548250823')}, 'open_order_type': <OrderType.MARKET: 1>, 'take_profit_order_type': <OrderType.LIMIT: 2>, 'stop_loss_order_type': <OrderType.MARKET: 1>, 'time_limit_order_type': <OrderType.MARKET: 1>}, 'leverage': 10, 'activation_bounds': None, 'level_id': None}\n",
      "{'id': '4Q7DpEmbAspX2geXmpRm52GEACyWX4BB898HcxFFNzou', 'type': 'position_executor', 'timestamp': 1743476460.0, 'controller_id': 'main', 'trading_pair': 'SCA-USDT', 'connector_name': 'bybit_perpetual', 'side': <TradeType.SELL: 2>, 'entry_price': Decimal('0.07578192000000000544401856928'), 'amount': Decimal('277.9414544120426273700177835'), 'triple_barrier_config': {'stop_loss': Decimal('0.009663490430604461926183425569'), 'take_profit': Decimal('0.005798094258362676619278576626'), 'time_limit': 18000, 'trailing_stop': {'activation_price': Decimal('0.001352888660284624622727925192'), 'trailing_delta': Decimal('0.0005798094258362676954548250823')}, 'open_order_type': <OrderType.MARKET: 1>, 'take_profit_order_type': <OrderType.LIMIT: 2>, 'stop_loss_order_type': <OrderType.MARKET: 1>, 'time_limit_order_type': <OrderType.MARKET: 1>}, 'leverage': 10, 'activation_bounds': None, 'level_id': None}\n",
      "{'id': 'F8b9VWiMq7T8TRXzJT9mXViDLAK6EB2HThFF5bjuPGvk', 'type': 'position_executor', 'timestamp': 1743476460.0, 'controller_id': 'main', 'trading_pair': 'SCA-USDT', 'connector_name': 'bybit_perpetual', 'side': <TradeType.SELL: 2>, 'entry_price': Decimal('0.07585740000000000544944089853'), 'amount': Decimal('463.2357573534043789500296392'), 'triple_barrier_config': {'stop_loss': Decimal('0.009663490430604461926183425569'), 'take_profit': Decimal('0.005798094258362676619278576626'), 'time_limit': 18000, 'trailing_stop': {'activation_price': Decimal('0.001352888660284624622727925192'), 'trailing_delta': Decimal('0.0005798094258362676954548250823')}, 'open_order_type': <OrderType.MARKET: 1>, 'take_profit_order_type': <OrderType.LIMIT: 2>, 'stop_loss_order_type': <OrderType.MARKET: 1>, 'time_limit_order_type': <OrderType.MARKET: 1>}, 'leverage': 10, 'activation_bounds': None, 'level_id': None}\n",
      "{'id': '2P8WhgfCEtPidj9VFVxMNbf74WPtN5XsLCLaehCTvSx6', 'type': 'position_executor', 'timestamp': 1743476460.0, 'controller_id': 'main', 'trading_pair': 'SCA-USDT', 'connector_name': 'bybit_perpetual', 'side': <TradeType.SELL: 2>, 'entry_price': Decimal('0.07593288000000000545486322778'), 'amount': Decimal('741.1772117654470063200474226'), 'triple_barrier_config': {'stop_loss': Decimal('0.009663490430604461926183425569'), 'take_profit': Decimal('0.005798094258362676619278576626'), 'time_limit': 18000, 'trailing_stop': {'activation_price': Decimal('0.001352888660284624622727925192'), 'trailing_delta': Decimal('0.0005798094258362676954548250823')}, 'open_order_type': <OrderType.MARKET: 1>, 'take_profit_order_type': <OrderType.LIMIT: 2>, 'stop_loss_order_type': <OrderType.MARKET: 1>, 'time_limit_order_type': <OrderType.MARKET: 1>}, 'leverage': 10, 'activation_bounds': None, 'level_id': None}\n",
      "{'id': 'EW9ZsGgs6Q8RqWUT3zUzprdG4gr6guQdynoWPBceAaK6', 'type': 'position_executor', 'timestamp': 1743476460.0, 'controller_id': 'main', 'trading_pair': 'SCA-USDT', 'connector_name': 'bybit_perpetual', 'side': <TradeType.SELL: 2>, 'entry_price': Decimal('0.07600836000000000546028555704'), 'amount': Decimal('1204.412969118851385270077062'), 'triple_barrier_config': {'stop_loss': Decimal('0.009663490430604461926183425569'), 'take_profit': Decimal('0.005798094258362676619278576626'), 'time_limit': 18000, 'trailing_stop': {'activation_price': Decimal('0.001352888660284624622727925192'), 'trailing_delta': Decimal('0.0005798094258362676954548250823')}, 'open_order_type': <OrderType.MARKET: 1>, 'take_profit_order_type': <OrderType.LIMIT: 2>, 'stop_loss_order_type': <OrderType.MARKET: 1>, 'time_limit_order_type': <OrderType.MARKET: 1>}, 'leverage': 10, 'activation_bounds': None, 'level_id': None}\n",
      "{'id': '4qGAuCgmYHNuW9mGbeE7UeL4k7dTL3Qc4r4sZ9eJZfii', 'type': 'position_executor', 'timestamp': 1743476460.0, 'controller_id': 'main', 'trading_pair': 'SCA-USDT', 'connector_name': 'bybit_perpetual', 'side': <TradeType.SELL: 2>, 'entry_price': Decimal('0.07608384000000000546570788629'), 'amount': Decimal('1945.590180884298391590124484'), 'triple_barrier_config': {'stop_loss': Decimal('0.009663490430604461926183425569'), 'take_profit': Decimal('0.005798094258362676619278576626'), 'time_limit': 18000, 'trailing_stop': {'activation_price': Decimal('0.001352888660284624622727925192'), 'trailing_delta': Decimal('0.0005798094258362676954548250823')}, 'open_order_type': <OrderType.MARKET: 1>, 'take_profit_order_type': <OrderType.LIMIT: 2>, 'stop_loss_order_type': <OrderType.MARKET: 1>, 'time_limit_order_type': <OrderType.MARKET: 1>}, 'leverage': 10, 'activation_bounds': None, 'level_id': None}\n",
      "{'id': '2caju1u1f6jZi8G8j5bSqv6YXkXncU3ynhE7uPUybuhu', 'type': 'position_executor', 'timestamp': 1743476460.0, 'controller_id': 'main', 'trading_pair': 'SCA-USDT', 'connector_name': 'bybit_perpetual', 'side': <TradeType.SELL: 2>, 'entry_price': Decimal('0.07615932000000000547113021554'), 'amount': Decimal('3150.003150003149776860201546'), 'triple_barrier_config': {'stop_loss': Decimal('0.009663490430604461926183425569'), 'take_profit': Decimal('0.005798094258362676619278576626'), 'time_limit': 18000, 'trailing_stop': {'activation_price': Decimal('0.001352888660284624622727925192'), 'trailing_delta': Decimal('0.0005798094258362676954548250823')}, 'open_order_type': <OrderType.MARKET: 1>, 'take_profit_order_type': <OrderType.LIMIT: 2>, 'stop_loss_order_type': <OrderType.MARKET: 1>, 'time_limit_order_type': <OrderType.MARKET: 1>}, 'leverage': 10, 'activation_bounds': None, 'level_id': None}\n",
      "{'id': 'EGU4mQDRNMtk32UxAv5dG42EfKGSuAMqF15NQzGZK6mX', 'type': 'position_executor', 'timestamp': 1743476460.0, 'controller_id': 'main', 'trading_pair': 'SCA-USDT', 'connector_name': 'bybit_perpetual', 'side': <TradeType.SELL: 2>, 'entry_price': Decimal('0.07623480000000000547655254479'), 'amount': Decimal('5095.593330887448168450326031'), 'triple_barrier_config': {'stop_loss': Decimal('0.009663490430604461926183425569'), 'take_profit': Decimal('0.005798094258362676619278576626'), 'time_limit': 18000, 'trailing_stop': {'activation_price': Decimal('0.001352888660284624622727925192'), 'trailing_delta': Decimal('0.0005798094258362676954548250823')}, 'open_order_type': <OrderType.MARKET: 1>, 'take_profit_order_type': <OrderType.LIMIT: 2>, 'stop_loss_order_type': <OrderType.MARKET: 1>, 'time_limit_order_type': <OrderType.MARKET: 1>}, 'leverage': 10, 'activation_bounds': None, 'level_id': None}\n",
      "{'id': '72XmuiemMS1WEngUoguigbRDaxT4eDrNYzHgQnuy82Sv', 'type': 'position_executor', 'timestamp': 1743492300.0, 'controller_id': 'main', 'trading_pair': 'SCA-USDT', 'connector_name': 'bybit_perpetual', 'side': <TradeType.SELL: 2>, 'entry_price': Decimal('0.07633625999999999445222442773'), 'amount': Decimal('91.69954095209800046175268846'), 'triple_barrier_config': {'stop_loss': Decimal('0.007929016418639265202873224116'), 'take_profit': Decimal('0.004757409851183558681575104940'), 'time_limit': 18000, 'trailing_stop': {'activation_price': Decimal('0.001110062298609497089889228792'), 'trailing_delta': Decimal('0.0004757409851183558956668123396')}, 'open_order_type': <OrderType.MARKET: 1>, 'take_profit_order_type': <OrderType.LIMIT: 2>, 'stop_loss_order_type': <OrderType.MARKET: 1>, 'time_limit_order_type': <OrderType.MARKET: 1>}, 'leverage': 10, 'activation_bounds': None, 'level_id': None}\n",
      "{'id': '6eYurRPs8RGJoMsqZEXaJT4KVv4NgVGpxDtk64S9LhWZ', 'type': 'position_executor', 'timestamp': 1743492300.0, 'controller_id': 'main', 'trading_pair': 'SCA-USDT', 'connector_name': 'bybit_perpetual', 'side': <TradeType.SELL: 2>, 'entry_price': Decimal('0.07641251999999999444668219439'), 'amount': Decimal('91.69954095209800046175268846'), 'triple_barrier_config': {'stop_loss': Decimal('0.007929016418639265202873224116'), 'take_profit': Decimal('0.004757409851183558681575104940'), 'time_limit': 18000, 'trailing_stop': {'activation_price': Decimal('0.001110062298609497089889228792'), 'trailing_delta': Decimal('0.0004757409851183558956668123396')}, 'open_order_type': <OrderType.MARKET: 1>, 'take_profit_order_type': <OrderType.LIMIT: 2>, 'stop_loss_order_type': <OrderType.MARKET: 1>, 'time_limit_order_type': <OrderType.MARKET: 1>}, 'leverage': 10, 'activation_bounds': None, 'level_id': None}\n",
      "{'id': '3ku5wEd55ywqKmSsxQXa6EATrJV6CbLURCvujPd6kPXi', 'type': 'position_executor', 'timestamp': 1743492300.0, 'controller_id': 'main', 'trading_pair': 'SCA-USDT', 'connector_name': 'bybit_perpetual', 'side': <TradeType.SELL: 2>, 'entry_price': Decimal('0.07648877999999999444113996105'), 'amount': Decimal('183.3990819041960009235053769'), 'triple_barrier_config': {'stop_loss': Decimal('0.007929016418639265202873224116'), 'take_profit': Decimal('0.004757409851183558681575104940'), 'time_limit': 18000, 'trailing_stop': {'activation_price': Decimal('0.001110062298609497089889228792'), 'trailing_delta': Decimal('0.0004757409851183558956668123396')}, 'open_order_type': <OrderType.MARKET: 1>, 'take_profit_order_type': <OrderType.LIMIT: 2>, 'stop_loss_order_type': <OrderType.MARKET: 1>, 'time_limit_order_type': <OrderType.MARKET: 1>}, 'leverage': 10, 'activation_bounds': None, 'level_id': None}\n",
      "{'id': 'DsHAfCSRZdmgsTVwcQzAAMf9PQPhh1hNQPLsPH2DQayw', 'type': 'position_executor', 'timestamp': 1743492300.0, 'controller_id': 'main', 'trading_pair': 'SCA-USDT', 'connector_name': 'bybit_perpetual', 'side': <TradeType.SELL: 2>, 'entry_price': Decimal('0.07656503999999999443559772772'), 'amount': Decimal('275.0986228562940013852580654'), 'triple_barrier_config': {'stop_loss': Decimal('0.007929016418639265202873224116'), 'take_profit': Decimal('0.004757409851183558681575104940'), 'time_limit': 18000, 'trailing_stop': {'activation_price': Decimal('0.001110062298609497089889228792'), 'trailing_delta': Decimal('0.0004757409851183558956668123396')}, 'open_order_type': <OrderType.MARKET: 1>, 'take_profit_order_type': <OrderType.LIMIT: 2>, 'stop_loss_order_type': <OrderType.MARKET: 1>, 'time_limit_order_type': <OrderType.MARKET: 1>}, 'leverage': 10, 'activation_bounds': None, 'level_id': None}\n",
      "{'id': 'DgJL1H7TM6jwHyjdH8qZHbw81TuyXPmKM1jToNnV5ohS', 'type': 'position_executor', 'timestamp': 1743492300.0, 'controller_id': 'main', 'trading_pair': 'SCA-USDT', 'connector_name': 'bybit_perpetual', 'side': <TradeType.SELL: 2>, 'entry_price': Decimal('0.07664129999999999443005549438'), 'amount': Decimal('458.4977047604900023087634423'), 'triple_barrier_config': {'stop_loss': Decimal('0.007929016418639265202873224116'), 'take_profit': Decimal('0.004757409851183558681575104940'), 'time_limit': 18000, 'trailing_stop': {'activation_price': Decimal('0.001110062298609497089889228792'), 'trailing_delta': Decimal('0.0004757409851183558956668123396')}, 'open_order_type': <OrderType.MARKET: 1>, 'take_profit_order_type': <OrderType.LIMIT: 2>, 'stop_loss_order_type': <OrderType.MARKET: 1>, 'time_limit_order_type': <OrderType.MARKET: 1>}, 'leverage': 10, 'activation_bounds': None, 'level_id': None}\n",
      "{'id': 'BU8NUhYAwTkbY3K21zBJ8fi97QZ7jPBscG7wkCk5oWC9', 'type': 'position_executor', 'timestamp': 1743492300.0, 'controller_id': 'main', 'trading_pair': 'SCA-USDT', 'connector_name': 'bybit_perpetual', 'side': <TradeType.SELL: 2>, 'entry_price': Decimal('0.07671755999999999442451326104'), 'amount': Decimal('733.5963276167840036940215077'), 'triple_barrier_config': {'stop_loss': Decimal('0.007929016418639265202873224116'), 'take_profit': Decimal('0.004757409851183558681575104940'), 'time_limit': 18000, 'trailing_stop': {'activation_price': Decimal('0.001110062298609497089889228792'), 'trailing_delta': Decimal('0.0004757409851183558956668123396')}, 'open_order_type': <OrderType.MARKET: 1>, 'take_profit_order_type': <OrderType.LIMIT: 2>, 'stop_loss_order_type': <OrderType.MARKET: 1>, 'time_limit_order_type': <OrderType.MARKET: 1>}, 'leverage': 10, 'activation_bounds': None, 'level_id': None}\n",
      "{'id': 'CafRX5wh2q2pkCjzv5ww6hVhnozk58RH1vqopTnCC9zz', 'type': 'position_executor', 'timestamp': 1743492300.0, 'controller_id': 'main', 'trading_pair': 'SCA-USDT', 'connector_name': 'bybit_perpetual', 'side': <TradeType.SELL: 2>, 'entry_price': Decimal('0.07679381999999999441897102770'), 'amount': Decimal('1192.094032377274006002784950'), 'triple_barrier_config': {'stop_loss': Decimal('0.007929016418639265202873224116'), 'take_profit': Decimal('0.004757409851183558681575104940'), 'time_limit': 18000, 'trailing_stop': {'activation_price': Decimal('0.001110062298609497089889228792'), 'trailing_delta': Decimal('0.0004757409851183558956668123396')}, 'open_order_type': <OrderType.MARKET: 1>, 'take_profit_order_type': <OrderType.LIMIT: 2>, 'stop_loss_order_type': <OrderType.MARKET: 1>, 'time_limit_order_type': <OrderType.MARKET: 1>}, 'leverage': 10, 'activation_bounds': None, 'level_id': None}\n",
      "{'id': '5QY7dSawKdrSccd4hKywX29T2yycLER2WFjjYxEzfpwa', 'type': 'position_executor', 'timestamp': 1743492300.0, 'controller_id': 'main', 'trading_pair': 'SCA-USDT', 'connector_name': 'bybit_perpetual', 'side': <TradeType.SELL: 2>, 'entry_price': Decimal('0.07687007999999999441342879436'), 'amount': Decimal('1925.690359994058009696806458'), 'triple_barrier_config': {'stop_loss': Decimal('0.007929016418639265202873224116'), 'take_profit': Decimal('0.004757409851183558681575104940'), 'time_limit': 18000, 'trailing_stop': {'activation_price': Decimal('0.001110062298609497089889228792'), 'trailing_delta': Decimal('0.0004757409851183558956668123396')}, 'open_order_type': <OrderType.MARKET: 1>, 'take_profit_order_type': <OrderType.LIMIT: 2>, 'stop_loss_order_type': <OrderType.MARKET: 1>, 'time_limit_order_type': <OrderType.MARKET: 1>}, 'leverage': 10, 'activation_bounds': None, 'level_id': None}\n",
      "{'id': '6kbHnyCev8qs4a8RzWsamHTssJ9gKmSH2G7L3CLDsK5z', 'type': 'position_executor', 'timestamp': 1743492300.0, 'controller_id': 'main', 'trading_pair': 'SCA-USDT', 'connector_name': 'bybit_perpetual', 'side': <TradeType.SELL: 2>, 'entry_price': Decimal('0.07694633999999999440788656102'), 'amount': Decimal('3117.784392371332015699591408'), 'triple_barrier_config': {'stop_loss': Decimal('0.007929016418639265202873224116'), 'take_profit': Decimal('0.004757409851183558681575104940'), 'time_limit': 18000, 'trailing_stop': {'activation_price': Decimal('0.001110062298609497089889228792'), 'trailing_delta': Decimal('0.0004757409851183558956668123396')}, 'open_order_type': <OrderType.MARKET: 1>, 'take_profit_order_type': <OrderType.LIMIT: 2>, 'stop_loss_order_type': <OrderType.MARKET: 1>, 'time_limit_order_type': <OrderType.MARKET: 1>}, 'leverage': 10, 'activation_bounds': None, 'level_id': None}\n",
      "{'id': 'AXqsZgz8uSBuRPyUa41wsAmfAehwTpgqnohuVFjTQrKp', 'type': 'position_executor', 'timestamp': 1743492300.0, 'controller_id': 'main', 'trading_pair': 'SCA-USDT', 'connector_name': 'bybit_perpetual', 'side': <TradeType.SELL: 2>, 'entry_price': Decimal('0.07702259999999999440234432768'), 'amount': Decimal('5043.474752365390025396397865'), 'triple_barrier_config': {'stop_loss': Decimal('0.007929016418639265202873224116'), 'take_profit': Decimal('0.004757409851183558681575104940'), 'time_limit': 18000, 'trailing_stop': {'activation_price': Decimal('0.001110062298609497089889228792'), 'trailing_delta': Decimal('0.0004757409851183558956668123396')}, 'open_order_type': <OrderType.MARKET: 1>, 'take_profit_order_type': <OrderType.LIMIT: 2>, 'stop_loss_order_type': <OrderType.MARKET: 1>, 'time_limit_order_type': <OrderType.MARKET: 1>}, 'leverage': 10, 'activation_bounds': None, 'level_id': None}\n",
      "{'id': '46zvCyLZ67hNTmxiBijv7J9t8JrdV5JjKvKjU6n7Yqfk', 'type': 'position_executor', 'timestamp': 1743498120.0, 'controller_id': 'main', 'trading_pair': 'SCA-USDT', 'connector_name': 'bybit_perpetual', 'side': <TradeType.SELL: 2>, 'entry_price': Decimal('0.07814807000000000050676796093'), 'amount': Decimal('89.57354928918909903478096224'), 'triple_barrier_config': {'stop_loss': Decimal('0.008576650738569588848606058882'), 'take_profit': Decimal('0.005145990443141752833063879123'), 'time_limit': 18000, 'trailing_stop': {'activation_price': Decimal('0.001200731103399742397146119575'), 'trailing_delta': Decimal('0.0005145990443141753130626226752')}, 'open_order_type': <OrderType.MARKET: 1>, 'take_profit_order_type': <OrderType.LIMIT: 2>, 'stop_loss_order_type': <OrderType.MARKET: 1>, 'time_limit_order_type': <OrderType.MARKET: 1>}, 'leverage': 10, 'activation_bounds': None, 'level_id': None}\n",
      "{'id': '2pZBi5k3ydevFCkApFUdtNbh4KbjguT2itXyFB4rBCoT', 'type': 'position_executor', 'timestamp': 1743498120.0, 'controller_id': 'main', 'trading_pair': 'SCA-USDT', 'connector_name': 'bybit_perpetual', 'side': <TradeType.SELL: 2>, 'entry_price': Decimal('0.07822614000000000050727422263'), 'amount': Decimal('89.57354928918909903478096224'), 'triple_barrier_config': {'stop_loss': Decimal('0.008576650738569588848606058882'), 'take_profit': Decimal('0.005145990443141752833063879123'), 'time_limit': 18000, 'trailing_stop': {'activation_price': Decimal('0.001200731103399742397146119575'), 'trailing_delta': Decimal('0.0005145990443141753130626226752')}, 'open_order_type': <OrderType.MARKET: 1>, 'take_profit_order_type': <OrderType.LIMIT: 2>, 'stop_loss_order_type': <OrderType.MARKET: 1>, 'time_limit_order_type': <OrderType.MARKET: 1>}, 'leverage': 10, 'activation_bounds': None, 'level_id': None}\n",
      "{'id': '4kaC6M4mXcCfMspfXR1yJumApwhiG65Cu4x57vCGNZdD', 'type': 'position_executor', 'timestamp': 1743498120.0, 'controller_id': 'main', 'trading_pair': 'SCA-USDT', 'connector_name': 'bybit_perpetual', 'side': <TradeType.SELL: 2>, 'entry_price': Decimal('0.07830421000000000050778048433'), 'amount': Decimal('179.1470985783781980695619245'), 'triple_barrier_config': {'stop_loss': Decimal('0.008576650738569588848606058882'), 'take_profit': Decimal('0.005145990443141752833063879123'), 'time_limit': 18000, 'trailing_stop': {'activation_price': Decimal('0.001200731103399742397146119575'), 'trailing_delta': Decimal('0.0005145990443141753130626226752')}, 'open_order_type': <OrderType.MARKET: 1>, 'take_profit_order_type': <OrderType.LIMIT: 2>, 'stop_loss_order_type': <OrderType.MARKET: 1>, 'time_limit_order_type': <OrderType.MARKET: 1>}, 'leverage': 10, 'activation_bounds': None, 'level_id': None}\n",
      "{'id': 'Dzbsufyccfsd1fPPNpKw6wzdfsqgcftzCyeFAdU8G1ou', 'type': 'position_executor', 'timestamp': 1743498120.0, 'controller_id': 'main', 'trading_pair': 'SCA-USDT', 'connector_name': 'bybit_perpetual', 'side': <TradeType.SELL: 2>, 'entry_price': Decimal('0.07838228000000000050828674603'), 'amount': Decimal('268.7206478675672971043428867'), 'triple_barrier_config': {'stop_loss': Decimal('0.008576650738569588848606058882'), 'take_profit': Decimal('0.005145990443141752833063879123'), 'time_limit': 18000, 'trailing_stop': {'activation_price': Decimal('0.001200731103399742397146119575'), 'trailing_delta': Decimal('0.0005145990443141753130626226752')}, 'open_order_type': <OrderType.MARKET: 1>, 'take_profit_order_type': <OrderType.LIMIT: 2>, 'stop_loss_order_type': <OrderType.MARKET: 1>, 'time_limit_order_type': <OrderType.MARKET: 1>}, 'leverage': 10, 'activation_bounds': None, 'level_id': None}\n",
      "{'id': 'GFrqvzPCtBkfVHTjakNauejzJJszHhYEyVjfyFBktFqS', 'type': 'position_executor', 'timestamp': 1743498120.0, 'controller_id': 'main', 'trading_pair': 'SCA-USDT', 'connector_name': 'bybit_perpetual', 'side': <TradeType.SELL: 2>, 'entry_price': Decimal('0.07846035000000000050879300773'), 'amount': Decimal('447.8677464459454951739048112'), 'triple_barrier_config': {'stop_loss': Decimal('0.008576650738569588848606058882'), 'take_profit': Decimal('0.005145990443141752833063879123'), 'time_limit': 18000, 'trailing_stop': {'activation_price': Decimal('0.001200731103399742397146119575'), 'trailing_delta': Decimal('0.0005145990443141753130626226752')}, 'open_order_type': <OrderType.MARKET: 1>, 'take_profit_order_type': <OrderType.LIMIT: 2>, 'stop_loss_order_type': <OrderType.MARKET: 1>, 'time_limit_order_type': <OrderType.MARKET: 1>}, 'leverage': 10, 'activation_bounds': None, 'level_id': None}\n",
      "{'id': 'EdAv1jb2RB76n7vMZzq2zvfSmRcTi6hKm4fENwBq6v7Z', 'type': 'position_executor', 'timestamp': 1743498120.0, 'controller_id': 'main', 'trading_pair': 'SCA-USDT', 'connector_name': 'bybit_perpetual', 'side': <TradeType.SELL: 2>, 'entry_price': Decimal('0.07853842000000000050929926942'), 'amount': Decimal('716.5883943135127922782476979'), 'triple_barrier_config': {'stop_loss': Decimal('0.008576650738569588848606058882'), 'take_profit': Decimal('0.005145990443141752833063879123'), 'time_limit': 18000, 'trailing_stop': {'activation_price': Decimal('0.001200731103399742397146119575'), 'trailing_delta': Decimal('0.0005145990443141753130626226752')}, 'open_order_type': <OrderType.MARKET: 1>, 'take_profit_order_type': <OrderType.LIMIT: 2>, 'stop_loss_order_type': <OrderType.MARKET: 1>, 'time_limit_order_type': <OrderType.MARKET: 1>}, 'leverage': 10, 'activation_bounds': None, 'level_id': None}\n",
      "{'id': '5LrmMZdNBfJLrsQxi6NMh8Ssm4GYGHTEPdnY9AjLuq6D', 'type': 'position_executor', 'timestamp': 1743498120.0, 'controller_id': 'main', 'trading_pair': 'SCA-USDT', 'connector_name': 'bybit_perpetual', 'side': <TradeType.SELL: 2>, 'entry_price': Decimal('0.07861649000000000050980553112'), 'amount': Decimal('1164.456140759458287452152509'), 'triple_barrier_config': {'stop_loss': Decimal('0.008576650738569588848606058882'), 'take_profit': Decimal('0.005145990443141752833063879123'), 'time_limit': 18000, 'trailing_stop': {'activation_price': Decimal('0.001200731103399742397146119575'), 'trailing_delta': Decimal('0.0005145990443141753130626226752')}, 'open_order_type': <OrderType.MARKET: 1>, 'take_profit_order_type': <OrderType.LIMIT: 2>, 'stop_loss_order_type': <OrderType.MARKET: 1>, 'time_limit_order_type': <OrderType.MARKET: 1>}, 'leverage': 10, 'activation_bounds': None, 'level_id': None}\n",
      "{'id': '3t7NekUHxUTE1JnsmJKdhAqJrCerPSKr3MeJU5NWaLx5', 'type': 'position_executor', 'timestamp': 1743498120.0, 'controller_id': 'main', 'trading_pair': 'SCA-USDT', 'connector_name': 'bybit_perpetual', 'side': <TradeType.SELL: 2>, 'entry_price': Decimal('0.07869456000000000051031179282'), 'amount': Decimal('1881.044535072971079730400207'), 'triple_barrier_config': {'stop_loss': Decimal('0.008576650738569588848606058882'), 'take_profit': Decimal('0.005145990443141752833063879123'), 'time_limit': 18000, 'trailing_stop': {'activation_price': Decimal('0.001200731103399742397146119575'), 'trailing_delta': Decimal('0.0005145990443141753130626226752')}, 'open_order_type': <OrderType.MARKET: 1>, 'take_profit_order_type': <OrderType.LIMIT: 2>, 'stop_loss_order_type': <OrderType.MARKET: 1>, 'time_limit_order_type': <OrderType.MARKET: 1>}, 'leverage': 10, 'activation_bounds': None, 'level_id': None}\n",
      "{'id': 'GNRoFvaNmHkaK4nFSmqEWEkRdkzpRGknu2VP8oTLCuDX', 'type': 'position_executor', 'timestamp': 1743498120.0, 'controller_id': 'main', 'trading_pair': 'SCA-USDT', 'connector_name': 'bybit_perpetual', 'side': <TradeType.SELL: 2>, 'entry_price': Decimal('0.07877263000000000051081805452'), 'amount': Decimal('3045.500675832429367182552716'), 'triple_barrier_config': {'stop_loss': Decimal('0.008576650738569588848606058882'), 'take_profit': Decimal('0.005145990443141752833063879123'), 'time_limit': 18000, 'trailing_stop': {'activation_price': Decimal('0.001200731103399742397146119575'), 'trailing_delta': Decimal('0.0005145990443141753130626226752')}, 'open_order_type': <OrderType.MARKET: 1>, 'take_profit_order_type': <OrderType.LIMIT: 2>, 'stop_loss_order_type': <OrderType.MARKET: 1>, 'time_limit_order_type': <OrderType.MARKET: 1>}, 'leverage': 10, 'activation_bounds': None, 'level_id': None}\n",
      "{'id': '69ApVZEeXUCSvYMHx5trHEy4Jbe2uU9CdaPqGVjPAavb', 'type': 'position_executor', 'timestamp': 1743498120.0, 'controller_id': 'main', 'trading_pair': 'SCA-USDT', 'connector_name': 'bybit_perpetual', 'side': <TradeType.SELL: 2>, 'entry_price': Decimal('0.07885070000000000051132431622'), 'amount': Decimal('4926.545210905400446912952923'), 'triple_barrier_config': {'stop_loss': Decimal('0.008576650738569588848606058882'), 'take_profit': Decimal('0.005145990443141752833063879123'), 'time_limit': 18000, 'trailing_stop': {'activation_price': Decimal('0.001200731103399742397146119575'), 'trailing_delta': Decimal('0.0005145990443141753130626226752')}, 'open_order_type': <OrderType.MARKET: 1>, 'take_profit_order_type': <OrderType.LIMIT: 2>, 'stop_loss_order_type': <OrderType.MARKET: 1>, 'time_limit_order_type': <OrderType.MARKET: 1>}, 'leverage': 10, 'activation_bounds': None, 'level_id': None}\n",
      "{'id': 'CuPAibkC3UBJbRMnzrBcsdzeyFPFzx9NDAQC3nNHLpjH', 'type': 'position_executor', 'timestamp': 1743519540.0, 'controller_id': 'main', 'trading_pair': 'SCA-USDT', 'connector_name': 'bybit_perpetual', 'side': <TradeType.SELL: 2>, 'entry_price': Decimal('0.07897889999999999791069349442'), 'amount': Decimal('88.63126733849167543708361916'), 'triple_barrier_config': {'stop_loss': Decimal('0.01104968438830332750076237349'), 'take_profit': Decimal('0.006629810632981995887076722955'), 'time_limit': 18000, 'trailing_stop': {'activation_price': Decimal('0.001546955814362465796435920939'), 'trailing_delta': Decimal('0.0006629810632981996270439661166')}, 'open_order_type': <OrderType.MARKET: 1>, 'take_profit_order_type': <OrderType.LIMIT: 2>, 'stop_loss_order_type': <OrderType.MARKET: 1>, 'time_limit_order_type': <OrderType.MARKET: 1>}, 'leverage': 10, 'activation_bounds': None, 'level_id': None}\n",
      "{'id': 'A1ds9y4vvweJwgYVfAHL7Ne4BJXyor7Ce3T4fsozPwY2', 'type': 'position_executor', 'timestamp': 1743519540.0, 'controller_id': 'main', 'trading_pair': 'SCA-USDT', 'connector_name': 'bybit_perpetual', 'side': <TradeType.SELL: 2>, 'entry_price': Decimal('0.07905779999999999790860627513'), 'amount': Decimal('88.63126733849167543708361916'), 'triple_barrier_config': {'stop_loss': Decimal('0.01104968438830332750076237349'), 'take_profit': Decimal('0.006629810632981995887076722955'), 'time_limit': 18000, 'trailing_stop': {'activation_price': Decimal('0.001546955814362465796435920939'), 'trailing_delta': Decimal('0.0006629810632981996270439661166')}, 'open_order_type': <OrderType.MARKET: 1>, 'take_profit_order_type': <OrderType.LIMIT: 2>, 'stop_loss_order_type': <OrderType.MARKET: 1>, 'time_limit_order_type': <OrderType.MARKET: 1>}, 'leverage': 10, 'activation_bounds': None, 'level_id': None}\n",
      "{'id': '7mgKF1f9yN8XrUzyC947kWCC1Uh4dGprHYGpwA8t7TY2', 'type': 'position_executor', 'timestamp': 1743519540.0, 'controller_id': 'main', 'trading_pair': 'SCA-USDT', 'connector_name': 'bybit_perpetual', 'side': <TradeType.SELL: 2>, 'entry_price': Decimal('0.07913669999999999790651905585'), 'amount': Decimal('177.2625346769833508741672383'), 'triple_barrier_config': {'stop_loss': Decimal('0.01104968438830332750076237349'), 'take_profit': Decimal('0.006629810632981995887076722955'), 'time_limit': 18000, 'trailing_stop': {'activation_price': Decimal('0.001546955814362465796435920939'), 'trailing_delta': Decimal('0.0006629810632981996270439661166')}, 'open_order_type': <OrderType.MARKET: 1>, 'take_profit_order_type': <OrderType.LIMIT: 2>, 'stop_loss_order_type': <OrderType.MARKET: 1>, 'time_limit_order_type': <OrderType.MARKET: 1>}, 'leverage': 10, 'activation_bounds': None, 'level_id': None}\n",
      "{'id': '5wLmWGRE4MohWvnAxGv8V7dGG9BVbZzm577RuXUdv2CT', 'type': 'position_executor', 'timestamp': 1743519540.0, 'controller_id': 'main', 'trading_pair': 'SCA-USDT', 'connector_name': 'bybit_perpetual', 'side': <TradeType.SELL: 2>, 'entry_price': Decimal('0.07921559999999999790443183656'), 'amount': Decimal('265.8938020154750263112508575'), 'triple_barrier_config': {'stop_loss': Decimal('0.01104968438830332750076237349'), 'take_profit': Decimal('0.006629810632981995887076722955'), 'time_limit': 18000, 'trailing_stop': {'activation_price': Decimal('0.001546955814362465796435920939'), 'trailing_delta': Decimal('0.0006629810632981996270439661166')}, 'open_order_type': <OrderType.MARKET: 1>, 'take_profit_order_type': <OrderType.LIMIT: 2>, 'stop_loss_order_type': <OrderType.MARKET: 1>, 'time_limit_order_type': <OrderType.MARKET: 1>}, 'leverage': 10, 'activation_bounds': None, 'level_id': None}\n",
      "{'id': '3WA6KiYheD7Zv1quaH3e2a6JJYj3y2WaT5hd62EnG1Tt', 'type': 'position_executor', 'timestamp': 1743519540.0, 'controller_id': 'main', 'trading_pair': 'SCA-USDT', 'connector_name': 'bybit_perpetual', 'side': <TradeType.SELL: 2>, 'entry_price': Decimal('0.07929449999999999790234461727'), 'amount': Decimal('443.1563366924583771854180958'), 'triple_barrier_config': {'stop_loss': Decimal('0.01104968438830332750076237349'), 'take_profit': Decimal('0.006629810632981995887076722955'), 'time_limit': 18000, 'trailing_stop': {'activation_price': Decimal('0.001546955814362465796435920939'), 'trailing_delta': Decimal('0.0006629810632981996270439661166')}, 'open_order_type': <OrderType.MARKET: 1>, 'take_profit_order_type': <OrderType.LIMIT: 2>, 'stop_loss_order_type': <OrderType.MARKET: 1>, 'time_limit_order_type': <OrderType.MARKET: 1>}, 'leverage': 10, 'activation_bounds': None, 'level_id': None}\n",
      "{'id': '8dvjFUn5FXcWGYM7J3BM19x8xigCWRfS6hBVgxxrgZsY', 'type': 'position_executor', 'timestamp': 1743519540.0, 'controller_id': 'main', 'trading_pair': 'SCA-USDT', 'connector_name': 'bybit_perpetual', 'side': <TradeType.SELL: 2>, 'entry_price': Decimal('0.07937339999999999790025739799'), 'amount': Decimal('709.0501387079334034966689533'), 'triple_barrier_config': {'stop_loss': Decimal('0.01104968438830332750076237349'), 'take_profit': Decimal('0.006629810632981995887076722955'), 'time_limit': 18000, 'trailing_stop': {'activation_price': Decimal('0.001546955814362465796435920939'), 'trailing_delta': Decimal('0.0006629810632981996270439661166')}, 'open_order_type': <OrderType.MARKET: 1>, 'take_profit_order_type': <OrderType.LIMIT: 2>, 'stop_loss_order_type': <OrderType.MARKET: 1>, 'time_limit_order_type': <OrderType.MARKET: 1>}, 'leverage': 10, 'activation_bounds': None, 'level_id': None}\n",
      "{'id': '6XtEqx5jzsNA5K6TU9auY1WEU8CLiaehDPxrupD2eyfp', 'type': 'position_executor', 'timestamp': 1743519540.0, 'controller_id': 'main', 'trading_pair': 'SCA-USDT', 'connector_name': 'bybit_perpetual', 'side': <TradeType.SELL: 2>, 'entry_price': Decimal('0.07945229999999999789817017870'), 'amount': Decimal('1152.206475400391780682087049'), 'triple_barrier_config': {'stop_loss': Decimal('0.01104968438830332750076237349'), 'take_profit': Decimal('0.006629810632981995887076722955'), 'time_limit': 18000, 'trailing_stop': {'activation_price': Decimal('0.001546955814362465796435920939'), 'trailing_delta': Decimal('0.0006629810632981996270439661166')}, 'open_order_type': <OrderType.MARKET: 1>, 'take_profit_order_type': <OrderType.LIMIT: 2>, 'stop_loss_order_type': <OrderType.MARKET: 1>, 'time_limit_order_type': <OrderType.MARKET: 1>}, 'leverage': 10, 'activation_bounds': None, 'level_id': None}\n",
      "{'id': '7SVdttn4CtTBHobzi1pYeCGGvX9KNqsgLZ5dcmKHipgH', 'type': 'position_executor', 'timestamp': 1743519540.0, 'controller_id': 'main', 'trading_pair': 'SCA-USDT', 'connector_name': 'bybit_perpetual', 'side': <TradeType.SELL: 2>, 'entry_price': Decimal('0.07953119999999999789608295941'), 'amount': Decimal('1861.256614108325184178756002'), 'triple_barrier_config': {'stop_loss': Decimal('0.01104968438830332750076237349'), 'take_profit': Decimal('0.006629810632981995887076722955'), 'time_limit': 18000, 'trailing_stop': {'activation_price': Decimal('0.001546955814362465796435920939'), 'trailing_delta': Decimal('0.0006629810632981996270439661166')}, 'open_order_type': <OrderType.MARKET: 1>, 'take_profit_order_type': <OrderType.LIMIT: 2>, 'stop_loss_order_type': <OrderType.MARKET: 1>, 'time_limit_order_type': <OrderType.MARKET: 1>}, 'leverage': 10, 'activation_bounds': None, 'level_id': None}\n",
      "{'id': '3Nowd2pzobcNXFSsL8v1MB4aBQaWiUEH1QowQxhpWYre', 'type': 'position_executor', 'timestamp': 1743519540.0, 'controller_id': 'main', 'trading_pair': 'SCA-USDT', 'connector_name': 'bybit_perpetual', 'side': <TradeType.SELL: 2>, 'entry_price': Decimal('0.07961009999999999789399574013'), 'amount': Decimal('3013.463089508716964860843051'), 'triple_barrier_config': {'stop_loss': Decimal('0.01104968438830332750076237349'), 'take_profit': Decimal('0.006629810632981995887076722955'), 'time_limit': 18000, 'trailing_stop': {'activation_price': Decimal('0.001546955814362465796435920939'), 'trailing_delta': Decimal('0.0006629810632981996270439661166')}, 'open_order_type': <OrderType.MARKET: 1>, 'take_profit_order_type': <OrderType.LIMIT: 2>, 'stop_loss_order_type': <OrderType.MARKET: 1>, 'time_limit_order_type': <OrderType.MARKET: 1>}, 'leverage': 10, 'activation_bounds': None, 'level_id': None}\n",
      "{'id': '4Q23JHAfBXecVNGZpxQMJAdBZgWE1z5HYHZMvy35Bvx8', 'type': 'position_executor', 'timestamp': 1743519540.0, 'controller_id': 'main', 'trading_pair': 'SCA-USDT', 'connector_name': 'bybit_perpetual', 'side': <TradeType.SELL: 2>, 'entry_price': Decimal('0.07968899999999999789190852084'), 'amount': Decimal('4874.719703617042149039599054'), 'triple_barrier_config': {'stop_loss': Decimal('0.01104968438830332750076237349'), 'take_profit': Decimal('0.006629810632981995887076722955'), 'time_limit': 18000, 'trailing_stop': {'activation_price': Decimal('0.001546955814362465796435920939'), 'trailing_delta': Decimal('0.0006629810632981996270439661166')}, 'open_order_type': <OrderType.MARKET: 1>, 'take_profit_order_type': <OrderType.LIMIT: 2>, 'stop_loss_order_type': <OrderType.MARKET: 1>, 'time_limit_order_type': <OrderType.MARKET: 1>}, 'leverage': 10, 'activation_bounds': None, 'level_id': None}\n",
      "{'id': '2pBcQv6BGqkKw8QbSWYm3NEo8JDuGxrnihji8a5EUGYf', 'type': 'position_executor', 'timestamp': 1743520440.0, 'controller_id': 'main', 'trading_pair': 'SCA-USDT', 'connector_name': 'bybit_perpetual', 'side': <TradeType.SELL: 2>, 'entry_price': Decimal('0.07989982000000000206263450764'), 'amount': Decimal('87.60970925841885274952046797'), 'triple_barrier_config': {'stop_loss': Decimal('0.01100598111640970966396030997'), 'take_profit': Decimal('0.006603588669845825187421503779'), 'time_limit': 18000, 'trailing_stop': {'activation_price': Decimal('0.001540837356297359299495908703'), 'trailing_delta': Decimal('0.0006603588669845825569268180155')}, 'open_order_type': <OrderType.MARKET: 1>, 'take_profit_order_type': <OrderType.LIMIT: 2>, 'stop_loss_order_type': <OrderType.MARKET: 1>, 'time_limit_order_type': <OrderType.MARKET: 1>}, 'leverage': 10, 'activation_bounds': None, 'level_id': None}\n",
      "{'id': '8xY7gCUYdhYYvMRepeqyEzPhAtTNSgDz6w5S9UYmKJdJ', 'type': 'position_executor', 'timestamp': 1743520440.0, 'controller_id': 'main', 'trading_pair': 'SCA-USDT', 'connector_name': 'bybit_perpetual', 'side': <TradeType.SELL: 2>, 'entry_price': Decimal('0.07997964000000000206469508157'), 'amount': Decimal('87.60970925841885274952046797'), 'triple_barrier_config': {'stop_loss': Decimal('0.01100598111640970966396030997'), 'take_profit': Decimal('0.006603588669845825187421503779'), 'time_limit': 18000, 'trailing_stop': {'activation_price': Decimal('0.001540837356297359299495908703'), 'trailing_delta': Decimal('0.0006603588669845825569268180155')}, 'open_order_type': <OrderType.MARKET: 1>, 'take_profit_order_type': <OrderType.LIMIT: 2>, 'stop_loss_order_type': <OrderType.MARKET: 1>, 'time_limit_order_type': <OrderType.MARKET: 1>}, 'leverage': 10, 'activation_bounds': None, 'level_id': None}\n",
      "{'id': 'CKQP2c8QNeMozy3hXHnp5rFceFpCrAiKobv5sWZtmtAt', 'type': 'position_executor', 'timestamp': 1743520440.0, 'controller_id': 'main', 'trading_pair': 'SCA-USDT', 'connector_name': 'bybit_perpetual', 'side': <TradeType.SELL: 2>, 'entry_price': Decimal('0.08005946000000000206675565551'), 'amount': Decimal('175.2194185168377054990409359'), 'triple_barrier_config': {'stop_loss': Decimal('0.01100598111640970966396030997'), 'take_profit': Decimal('0.006603588669845825187421503779'), 'time_limit': 18000, 'trailing_stop': {'activation_price': Decimal('0.001540837356297359299495908703'), 'trailing_delta': Decimal('0.0006603588669845825569268180155')}, 'open_order_type': <OrderType.MARKET: 1>, 'take_profit_order_type': <OrderType.LIMIT: 2>, 'stop_loss_order_type': <OrderType.MARKET: 1>, 'time_limit_order_type': <OrderType.MARKET: 1>}, 'leverage': 10, 'activation_bounds': None, 'level_id': None}\n",
      "{'id': '78yPdrm4eyCi3wrLXdPmWhBufcj1Po1fpUZSh4nZS7qD', 'type': 'position_executor', 'timestamp': 1743520440.0, 'controller_id': 'main', 'trading_pair': 'SCA-USDT', 'connector_name': 'bybit_perpetual', 'side': <TradeType.SELL: 2>, 'entry_price': Decimal('0.08013928000000000206881622944'), 'amount': Decimal('262.8291277752565582485614039'), 'triple_barrier_config': {'stop_loss': Decimal('0.01100598111640970966396030997'), 'take_profit': Decimal('0.006603588669845825187421503779'), 'time_limit': 18000, 'trailing_stop': {'activation_price': Decimal('0.001540837356297359299495908703'), 'trailing_delta': Decimal('0.0006603588669845825569268180155')}, 'open_order_type': <OrderType.MARKET: 1>, 'take_profit_order_type': <OrderType.LIMIT: 2>, 'stop_loss_order_type': <OrderType.MARKET: 1>, 'time_limit_order_type': <OrderType.MARKET: 1>}, 'leverage': 10, 'activation_bounds': None, 'level_id': None}\n",
      "{'id': 'FgwMSNpsEQ72aWRJt2raoMftLpbK7bwFozJRFDy42CUn', 'type': 'position_executor', 'timestamp': 1743520440.0, 'controller_id': 'main', 'trading_pair': 'SCA-USDT', 'connector_name': 'bybit_perpetual', 'side': <TradeType.SELL: 2>, 'entry_price': Decimal('0.08021910000000000207087680337'), 'amount': Decimal('438.0485462920942637476023398'), 'triple_barrier_config': {'stop_loss': Decimal('0.01100598111640970966396030997'), 'take_profit': Decimal('0.006603588669845825187421503779'), 'time_limit': 18000, 'trailing_stop': {'activation_price': Decimal('0.001540837356297359299495908703'), 'trailing_delta': Decimal('0.0006603588669845825569268180155')}, 'open_order_type': <OrderType.MARKET: 1>, 'take_profit_order_type': <OrderType.LIMIT: 2>, 'stop_loss_order_type': <OrderType.MARKET: 1>, 'time_limit_order_type': <OrderType.MARKET: 1>}, 'leverage': 10, 'activation_bounds': None, 'level_id': None}\n",
      "{'id': 'E2Z1jZ5HftG4jR11ppjk36VvdcDG3yPr2cKZMrAczneX', 'type': 'position_executor', 'timestamp': 1743520440.0, 'controller_id': 'main', 'trading_pair': 'SCA-USDT', 'connector_name': 'bybit_perpetual', 'side': <TradeType.SELL: 2>, 'entry_price': Decimal('0.08029892000000000207293737731'), 'amount': Decimal('700.8776740673508219961637438'), 'triple_barrier_config': {'stop_loss': Decimal('0.01100598111640970966396030997'), 'take_profit': Decimal('0.006603588669845825187421503779'), 'time_limit': 18000, 'trailing_stop': {'activation_price': Decimal('0.001540837356297359299495908703'), 'trailing_delta': Decimal('0.0006603588669845825569268180155')}, 'open_order_type': <OrderType.MARKET: 1>, 'take_profit_order_type': <OrderType.LIMIT: 2>, 'stop_loss_order_type': <OrderType.MARKET: 1>, 'time_limit_order_type': <OrderType.MARKET: 1>}, 'leverage': 10, 'activation_bounds': None, 'level_id': None}\n",
      "{'id': '3P4Ec5ftXwAXhUCuxeJ7EKSAKt42fF5ipEXhgBUifWqD', 'type': 'position_executor', 'timestamp': 1743520440.0, 'controller_id': 'main', 'trading_pair': 'SCA-USDT', 'connector_name': 'bybit_perpetual', 'side': <TradeType.SELL: 2>, 'entry_price': Decimal('0.08037874000000000207499795124'), 'amount': Decimal('1138.926220359445085743766084'), 'triple_barrier_config': {'stop_loss': Decimal('0.01100598111640970966396030997'), 'take_profit': Decimal('0.006603588669845825187421503779'), 'time_limit': 18000, 'trailing_stop': {'activation_price': Decimal('0.001540837356297359299495908703'), 'trailing_delta': Decimal('0.0006603588669845825569268180155')}, 'open_order_type': <OrderType.MARKET: 1>, 'take_profit_order_type': <OrderType.LIMIT: 2>, 'stop_loss_order_type': <OrderType.MARKET: 1>, 'time_limit_order_type': <OrderType.MARKET: 1>}, 'leverage': 10, 'activation_bounds': None, 'level_id': None}\n",
      "{'id': '5uajv4QTBF5CTks8e7zw2C5DvQaccggjE7fHekWsC29w', 'type': 'position_executor', 'timestamp': 1743520440.0, 'controller_id': 'main', 'trading_pair': 'SCA-USDT', 'connector_name': 'bybit_perpetual', 'side': <TradeType.SELL: 2>, 'entry_price': Decimal('0.08045856000000000207705852517'), 'amount': Decimal('1839.803894426795907739929827'), 'triple_barrier_config': {'stop_loss': Decimal('0.01100598111640970966396030997'), 'take_profit': Decimal('0.006603588669845825187421503779'), 'time_limit': 18000, 'trailing_stop': {'activation_price': Decimal('0.001540837356297359299495908703'), 'trailing_delta': Decimal('0.0006603588669845825569268180155')}, 'open_order_type': <OrderType.MARKET: 1>, 'take_profit_order_type': <OrderType.LIMIT: 2>, 'stop_loss_order_type': <OrderType.MARKET: 1>, 'time_limit_order_type': <OrderType.MARKET: 1>}, 'leverage': 10, 'activation_bounds': None, 'level_id': None}\n",
      "{'id': 'FZDoLhmDE9ZzbkfX6scyz4qwVK6EngfERRP9mgufJtVm', 'type': 'position_executor', 'timestamp': 1743520440.0, 'controller_id': 'main', 'trading_pair': 'SCA-USDT', 'connector_name': 'bybit_perpetual', 'side': <TradeType.SELL: 2>, 'entry_price': Decimal('0.08053838000000000207911909911'), 'amount': Decimal('2978.730114786240993483695911'), 'triple_barrier_config': {'stop_loss': Decimal('0.01100598111640970966396030997'), 'take_profit': Decimal('0.006603588669845825187421503779'), 'time_limit': 18000, 'trailing_stop': {'activation_price': Decimal('0.001540837356297359299495908703'), 'trailing_delta': Decimal('0.0006603588669845825569268180155')}, 'open_order_type': <OrderType.MARKET: 1>, 'take_profit_order_type': <OrderType.LIMIT: 2>, 'stop_loss_order_type': <OrderType.MARKET: 1>, 'time_limit_order_type': <OrderType.MARKET: 1>}, 'leverage': 10, 'activation_bounds': None, 'level_id': None}\n",
      "{'id': 'JB2ihJsYZDtMZgZuwdLzrsGLbP4X5ev9daF8FK7Xy2D6', 'type': 'position_executor', 'timestamp': 1743520440.0, 'controller_id': 'main', 'trading_pair': 'SCA-USDT', 'connector_name': 'bybit_perpetual', 'side': <TradeType.SELL: 2>, 'entry_price': Decimal('0.08061820000000000208117967304'), 'amount': Decimal('4818.534009213036901223625738'), 'triple_barrier_config': {'stop_loss': Decimal('0.01100598111640970966396030997'), 'take_profit': Decimal('0.006603588669845825187421503779'), 'time_limit': 18000, 'trailing_stop': {'activation_price': Decimal('0.001540837356297359299495908703'), 'trailing_delta': Decimal('0.0006603588669845825569268180155')}, 'open_order_type': <OrderType.MARKET: 1>, 'take_profit_order_type': <OrderType.LIMIT: 2>, 'stop_loss_order_type': <OrderType.MARKET: 1>, 'time_limit_order_type': <OrderType.MARKET: 1>}, 'leverage': 10, 'activation_bounds': None, 'level_id': None}\n",
      "{'id': 'HgAf3ThyguoWAuiWLYtaJTfdTE2coFkNKxWc6dmfAKHu', 'type': 'position_executor', 'timestamp': 1743521280.0, 'controller_id': 'main', 'trading_pair': 'SCA-USDT', 'connector_name': 'bybit_perpetual', 'side': <TradeType.SELL: 2>, 'entry_price': Decimal('0.08082074000000000621457552086'), 'amount': Decimal('86.61143166964320620853900769'), 'triple_barrier_config': {'stop_loss': Decimal('0.01116913909568914487875019280'), 'take_profit': Decimal('0.006701483457413486307238346214'), 'time_limit': 18000, 'trailing_stop': {'activation_price': Decimal('0.001563679473396480228773997163'), 'trailing_delta': Decimal('0.0006701483457413486694745702129')}, 'open_order_type': <OrderType.MARKET: 1>, 'take_profit_order_type': <OrderType.LIMIT: 2>, 'stop_loss_order_type': <OrderType.MARKET: 1>, 'time_limit_order_type': <OrderType.MARKET: 1>}, 'leverage': 10, 'activation_bounds': None, 'level_id': None}\n",
      "{'id': '4QNZVPGwsxN81tGYNMmCKZtQr5Hy8GMKA6akfqctUaqu', 'type': 'position_executor', 'timestamp': 1743521280.0, 'controller_id': 'main', 'trading_pair': 'SCA-USDT', 'connector_name': 'bybit_perpetual', 'side': <TradeType.SELL: 2>, 'entry_price': Decimal('0.08090148000000000622078388801'), 'amount': Decimal('86.61143166964320620853900769'), 'triple_barrier_config': {'stop_loss': Decimal('0.01116913909568914487875019280'), 'take_profit': Decimal('0.006701483457413486307238346214'), 'time_limit': 18000, 'trailing_stop': {'activation_price': Decimal('0.001563679473396480228773997163'), 'trailing_delta': Decimal('0.0006701483457413486694745702129')}, 'open_order_type': <OrderType.MARKET: 1>, 'take_profit_order_type': <OrderType.LIMIT: 2>, 'stop_loss_order_type': <OrderType.MARKET: 1>, 'time_limit_order_type': <OrderType.MARKET: 1>}, 'leverage': 10, 'activation_bounds': None, 'level_id': None}\n",
      "{'id': '5YUG1tUKcjGYg555M39HMaWra25D2E4k1pmm5UAKCYvg', 'type': 'position_executor', 'timestamp': 1743521280.0, 'controller_id': 'main', 'trading_pair': 'SCA-USDT', 'connector_name': 'bybit_perpetual', 'side': <TradeType.SELL: 2>, 'entry_price': Decimal('0.08098222000000000622699225516'), 'amount': Decimal('173.2228633392864124170780154'), 'triple_barrier_config': {'stop_loss': Decimal('0.01116913909568914487875019280'), 'take_profit': Decimal('0.006701483457413486307238346214'), 'time_limit': 18000, 'trailing_stop': {'activation_price': Decimal('0.001563679473396480228773997163'), 'trailing_delta': Decimal('0.0006701483457413486694745702129')}, 'open_order_type': <OrderType.MARKET: 1>, 'take_profit_order_type': <OrderType.LIMIT: 2>, 'stop_loss_order_type': <OrderType.MARKET: 1>, 'time_limit_order_type': <OrderType.MARKET: 1>}, 'leverage': 10, 'activation_bounds': None, 'level_id': None}\n",
      "{'id': '7DkGFjyN6ZPCK1qrrT2KHSYBYrsYSDUMTHtwx2D7qxjv', 'type': 'position_executor', 'timestamp': 1743521280.0, 'controller_id': 'main', 'trading_pair': 'SCA-USDT', 'connector_name': 'bybit_perpetual', 'side': <TradeType.SELL: 2>, 'entry_price': Decimal('0.08106296000000000623320062232'), 'amount': Decimal('259.8342950089296186256170231'), 'triple_barrier_config': {'stop_loss': Decimal('0.01116913909568914487875019280'), 'take_profit': Decimal('0.006701483457413486307238346214'), 'time_limit': 18000, 'trailing_stop': {'activation_price': Decimal('0.001563679473396480228773997163'), 'trailing_delta': Decimal('0.0006701483457413486694745702129')}, 'open_order_type': <OrderType.MARKET: 1>, 'take_profit_order_type': <OrderType.LIMIT: 2>, 'stop_loss_order_type': <OrderType.MARKET: 1>, 'time_limit_order_type': <OrderType.MARKET: 1>}, 'leverage': 10, 'activation_bounds': None, 'level_id': None}\n",
      "{'id': 'GJEtd9q6SXFKzzQ2uf4bcfqSNurEH1CoBdeoRSXc2XbF', 'type': 'position_executor', 'timestamp': 1743521280.0, 'controller_id': 'main', 'trading_pair': 'SCA-USDT', 'connector_name': 'bybit_perpetual', 'side': <TradeType.SELL: 2>, 'entry_price': Decimal('0.08114370000000000623940898947'), 'amount': Decimal('433.0571583482160310426950384'), 'triple_barrier_config': {'stop_loss': Decimal('0.01116913909568914487875019280'), 'take_profit': Decimal('0.006701483457413486307238346214'), 'time_limit': 18000, 'trailing_stop': {'activation_price': Decimal('0.001563679473396480228773997163'), 'trailing_delta': Decimal('0.0006701483457413486694745702129')}, 'open_order_type': <OrderType.MARKET: 1>, 'take_profit_order_type': <OrderType.LIMIT: 2>, 'stop_loss_order_type': <OrderType.MARKET: 1>, 'time_limit_order_type': <OrderType.MARKET: 1>}, 'leverage': 10, 'activation_bounds': None, 'level_id': None}\n",
      "{'id': 'fGEpWAXpjL4a73WWzcFrEPurfoactRx8yuye3jedDJq', 'type': 'position_executor', 'timestamp': 1743521280.0, 'controller_id': 'main', 'trading_pair': 'SCA-USDT', 'connector_name': 'bybit_perpetual', 'side': <TradeType.SELL: 2>, 'entry_price': Decimal('0.08122444000000000624561735663'), 'amount': Decimal('692.8914533571456496683120615'), 'triple_barrier_config': {'stop_loss': Decimal('0.01116913909568914487875019280'), 'take_profit': Decimal('0.006701483457413486307238346214'), 'time_limit': 18000, 'trailing_stop': {'activation_price': Decimal('0.001563679473396480228773997163'), 'trailing_delta': Decimal('0.0006701483457413486694745702129')}, 'open_order_type': <OrderType.MARKET: 1>, 'take_profit_order_type': <OrderType.LIMIT: 2>, 'stop_loss_order_type': <OrderType.MARKET: 1>, 'time_limit_order_type': <OrderType.MARKET: 1>}, 'leverage': 10, 'activation_bounds': None, 'level_id': None}\n",
      "{'id': '6QGLPXiYBUYXxE6zXtQWVyFdk27yMmGyQfXGxMY2ucdy', 'type': 'position_executor', 'timestamp': 1743521280.0, 'controller_id': 'main', 'trading_pair': 'SCA-USDT', 'connector_name': 'bybit_perpetual', 'side': <TradeType.SELL: 2>, 'entry_price': Decimal('0.08130518000000000625182572378'), 'amount': Decimal('1125.948611705361680711007100'), 'triple_barrier_config': {'stop_loss': Decimal('0.01116913909568914487875019280'), 'take_profit': Decimal('0.006701483457413486307238346214'), 'time_limit': 18000, 'trailing_stop': {'activation_price': Decimal('0.001563679473396480228773997163'), 'trailing_delta': Decimal('0.0006701483457413486694745702129')}, 'open_order_type': <OrderType.MARKET: 1>, 'take_profit_order_type': <OrderType.LIMIT: 2>, 'stop_loss_order_type': <OrderType.MARKET: 1>, 'time_limit_order_type': <OrderType.MARKET: 1>}, 'leverage': 10, 'activation_bounds': None, 'level_id': None}\n",
      "{'id': '3ZwRi7xXhY6PaLiJXkw4RLi7N2tP4uDtAKswQq9TDW9A', 'type': 'position_executor', 'timestamp': 1743521280.0, 'controller_id': 'main', 'trading_pair': 'SCA-USDT', 'connector_name': 'bybit_perpetual', 'side': <TradeType.SELL: 2>, 'entry_price': Decimal('0.08138592000000000625803409093'), 'amount': Decimal('1818.840065062507330379319161'), 'triple_barrier_config': {'stop_loss': Decimal('0.01116913909568914487875019280'), 'take_profit': Decimal('0.006701483457413486307238346214'), 'time_limit': 18000, 'trailing_stop': {'activation_price': Decimal('0.001563679473396480228773997163'), 'trailing_delta': Decimal('0.0006701483457413486694745702129')}, 'open_order_type': <OrderType.MARKET: 1>, 'take_profit_order_type': <OrderType.LIMIT: 2>, 'stop_loss_order_type': <OrderType.MARKET: 1>, 'time_limit_order_type': <OrderType.MARKET: 1>}, 'leverage': 10, 'activation_bounds': None, 'level_id': None}\n",
      "{'id': '3ycAMjaUs2mJ7M9RbRGTA3jxePiWz5q9wYYKrf5BRpYe', 'type': 'position_executor', 'timestamp': 1743521280.0, 'controller_id': 'main', 'trading_pair': 'SCA-USDT', 'connector_name': 'bybit_perpetual', 'side': <TradeType.SELL: 2>, 'entry_price': Decimal('0.08146666000000000626424245809'), 'amount': Decimal('2944.788676767869011090326261'), 'triple_barrier_config': {'stop_loss': Decimal('0.01116913909568914487875019280'), 'take_profit': Decimal('0.006701483457413486307238346214'), 'time_limit': 18000, 'trailing_stop': {'activation_price': Decimal('0.001563679473396480228773997163'), 'trailing_delta': Decimal('0.0006701483457413486694745702129')}, 'open_order_type': <OrderType.MARKET: 1>, 'take_profit_order_type': <OrderType.LIMIT: 2>, 'stop_loss_order_type': <OrderType.MARKET: 1>, 'time_limit_order_type': <OrderType.MARKET: 1>}, 'leverage': 10, 'activation_bounds': None, 'level_id': None}\n",
      "{'id': '62LvfnPSGQt7E7uVVkFs1pqPhMrsxkTDg5hhwvnTBuY7', 'type': 'position_executor', 'timestamp': 1743521280.0, 'controller_id': 'main', 'trading_pair': 'SCA-USDT', 'connector_name': 'bybit_perpetual', 'side': <TradeType.SELL: 2>, 'entry_price': Decimal('0.08154740000000000627045082524'), 'amount': Decimal('4763.628741830376341469645423'), 'triple_barrier_config': {'stop_loss': Decimal('0.01116913909568914487875019280'), 'take_profit': Decimal('0.006701483457413486307238346214'), 'time_limit': 18000, 'trailing_stop': {'activation_price': Decimal('0.001563679473396480228773997163'), 'trailing_delta': Decimal('0.0006701483457413486694745702129')}, 'open_order_type': <OrderType.MARKET: 1>, 'take_profit_order_type': <OrderType.LIMIT: 2>, 'stop_loss_order_type': <OrderType.MARKET: 1>, 'time_limit_order_type': <OrderType.MARKET: 1>}, 'leverage': 10, 'activation_bounds': None, 'level_id': None}\n",
      "{'id': '4jW7epp2KaHuo9SxpEyFHJF8F6oa9WQe7GupxiVngNPV', 'type': 'position_executor', 'timestamp': 1743543480.0, 'controller_id': 'main', 'trading_pair': 'SCA-USDT', 'connector_name': 'bybit_perpetual', 'side': <TradeType.SELL: 2>, 'entry_price': Decimal('0.08346337999999999578137899192'), 'amount': Decimal('83.86911721044607052592430112'), 'triple_barrier_config': {'stop_loss': Decimal('0.01142547973809181418722190283'), 'take_profit': Decimal('0.006855287842855087878091608065'), 'time_limit': 18000, 'trailing_stop': {'activation_price': Decimal('0.001599567163332853930714932203'), 'trailing_delta': Decimal('0.0006855287842855088274492566584')}, 'open_order_type': <OrderType.MARKET: 1>, 'take_profit_order_type': <OrderType.LIMIT: 2>, 'stop_loss_order_type': <OrderType.MARKET: 1>, 'time_limit_order_type': <OrderType.MARKET: 1>}, 'leverage': 10, 'activation_bounds': None, 'level_id': None}\n",
      "{'id': '92KjXL8q4bMNEHbzmjWcq8sY4iMUGdpif6sKKYQ8ryAT', 'type': 'position_executor', 'timestamp': 1743543480.0, 'controller_id': 'main', 'trading_pair': 'SCA-USDT', 'connector_name': 'bybit_perpetual', 'side': <TradeType.SELL: 2>, 'entry_price': Decimal('0.08354675999999999577716458532'), 'amount': Decimal('83.86911721044607052592430112'), 'triple_barrier_config': {'stop_loss': Decimal('0.01142547973809181418722190283'), 'take_profit': Decimal('0.006855287842855087878091608065'), 'time_limit': 18000, 'trailing_stop': {'activation_price': Decimal('0.001599567163332853930714932203'), 'trailing_delta': Decimal('0.0006855287842855088274492566584')}, 'open_order_type': <OrderType.MARKET: 1>, 'take_profit_order_type': <OrderType.LIMIT: 2>, 'stop_loss_order_type': <OrderType.MARKET: 1>, 'time_limit_order_type': <OrderType.MARKET: 1>}, 'leverage': 10, 'activation_bounds': None, 'level_id': None}\n",
      "{'id': '7pc2heuq9iUrjdwg1TRMhhzgrhooR9fkddARUy1A1RMP', 'type': 'position_executor', 'timestamp': 1743543480.0, 'controller_id': 'main', 'trading_pair': 'SCA-USDT', 'connector_name': 'bybit_perpetual', 'side': <TradeType.SELL: 2>, 'entry_price': Decimal('0.08363013999999999577295017872'), 'amount': Decimal('167.7382344208921410518486022'), 'triple_barrier_config': {'stop_loss': Decimal('0.01142547973809181418722190283'), 'take_profit': Decimal('0.006855287842855087878091608065'), 'time_limit': 18000, 'trailing_stop': {'activation_price': Decimal('0.001599567163332853930714932203'), 'trailing_delta': Decimal('0.0006855287842855088274492566584')}, 'open_order_type': <OrderType.MARKET: 1>, 'take_profit_order_type': <OrderType.LIMIT: 2>, 'stop_loss_order_type': <OrderType.MARKET: 1>, 'time_limit_order_type': <OrderType.MARKET: 1>}, 'leverage': 10, 'activation_bounds': None, 'level_id': None}\n",
      "{'id': '5WtoF1Kmjgkr1guAzKcrDY7E5Kw9oH3fowVYNPMK6uvG', 'type': 'position_executor', 'timestamp': 1743543480.0, 'controller_id': 'main', 'trading_pair': 'SCA-USDT', 'connector_name': 'bybit_perpetual', 'side': <TradeType.SELL: 2>, 'entry_price': Decimal('0.08371351999999999576873577212'), 'amount': Decimal('251.6073516313382115777729034'), 'triple_barrier_config': {'stop_loss': Decimal('0.01142547973809181418722190283'), 'take_profit': Decimal('0.006855287842855087878091608065'), 'time_limit': 18000, 'trailing_stop': {'activation_price': Decimal('0.001599567163332853930714932203'), 'trailing_delta': Decimal('0.0006855287842855088274492566584')}, 'open_order_type': <OrderType.MARKET: 1>, 'take_profit_order_type': <OrderType.LIMIT: 2>, 'stop_loss_order_type': <OrderType.MARKET: 1>, 'time_limit_order_type': <OrderType.MARKET: 1>}, 'leverage': 10, 'activation_bounds': None, 'level_id': None}\n",
      "{'id': '4CwjZzFDA3W7xULYxZ1my1zuq1XB5vsiwSaATg6qscq3', 'type': 'position_executor', 'timestamp': 1743543480.0, 'controller_id': 'main', 'trading_pair': 'SCA-USDT', 'connector_name': 'bybit_perpetual', 'side': <TradeType.SELL: 2>, 'entry_price': Decimal('0.08379689999999999576452136552'), 'amount': Decimal('419.3455860522303526296215056'), 'triple_barrier_config': {'stop_loss': Decimal('0.01142547973809181418722190283'), 'take_profit': Decimal('0.006855287842855087878091608065'), 'time_limit': 18000, 'trailing_stop': {'activation_price': Decimal('0.001599567163332853930714932203'), 'trailing_delta': Decimal('0.0006855287842855088274492566584')}, 'open_order_type': <OrderType.MARKET: 1>, 'take_profit_order_type': <OrderType.LIMIT: 2>, 'stop_loss_order_type': <OrderType.MARKET: 1>, 'time_limit_order_type': <OrderType.MARKET: 1>}, 'leverage': 10, 'activation_bounds': None, 'level_id': None}\n",
      "{'id': 'EC3Gjovgy3Gb4ENy18Zq4qov7G2KwnU5NVPYCSPtPBeA', 'type': 'position_executor', 'timestamp': 1743543480.0, 'controller_id': 'main', 'trading_pair': 'SCA-USDT', 'connector_name': 'bybit_perpetual', 'side': <TradeType.SELL: 2>, 'entry_price': Decimal('0.08388027999999999576030695891'), 'amount': Decimal('670.9529376835685642073944090'), 'triple_barrier_config': {'stop_loss': Decimal('0.01142547973809181418722190283'), 'take_profit': Decimal('0.006855287842855087878091608065'), 'time_limit': 18000, 'trailing_stop': {'activation_price': Decimal('0.001599567163332853930714932203'), 'trailing_delta': Decimal('0.0006855287842855088274492566584')}, 'open_order_type': <OrderType.MARKET: 1>, 'take_profit_order_type': <OrderType.LIMIT: 2>, 'stop_loss_order_type': <OrderType.MARKET: 1>, 'time_limit_order_type': <OrderType.MARKET: 1>}, 'leverage': 10, 'activation_bounds': None, 'level_id': None}\n",
      "{'id': 'FsnSXpwq1AzBc5E7LoWtmxKDEryWyNtRTgWV9NZ2L6p8', 'type': 'position_executor', 'timestamp': 1743543480.0, 'controller_id': 'main', 'trading_pair': 'SCA-USDT', 'connector_name': 'bybit_perpetual', 'side': <TradeType.SELL: 2>, 'entry_price': Decimal('0.08396365999999999575609255231'), 'amount': Decimal('1090.298523735798916837015915'), 'triple_barrier_config': {'stop_loss': Decimal('0.01142547973809181418722190283'), 'take_profit': Decimal('0.006855287842855087878091608065'), 'time_limit': 18000, 'trailing_stop': {'activation_price': Decimal('0.001599567163332853930714932203'), 'trailing_delta': Decimal('0.0006855287842855088274492566584')}, 'open_order_type': <OrderType.MARKET: 1>, 'take_profit_order_type': <OrderType.LIMIT: 2>, 'stop_loss_order_type': <OrderType.MARKET: 1>, 'time_limit_order_type': <OrderType.MARKET: 1>}, 'leverage': 10, 'activation_bounds': None, 'level_id': None}\n",
      "{'id': 'EKNyfS8wBtiNp3BzMtQhy8AxEthB4yKxjkyUWVJNohs3', 'type': 'position_executor', 'timestamp': 1743543480.0, 'controller_id': 'main', 'trading_pair': 'SCA-USDT', 'connector_name': 'bybit_perpetual', 'side': <TradeType.SELL: 2>, 'entry_price': Decimal('0.08404703999999999575187814571'), 'amount': Decimal('1761.251461419367481044410324'), 'triple_barrier_config': {'stop_loss': Decimal('0.01142547973809181418722190283'), 'take_profit': Decimal('0.006855287842855087878091608065'), 'time_limit': 18000, 'trailing_stop': {'activation_price': Decimal('0.001599567163332853930714932203'), 'trailing_delta': Decimal('0.0006855287842855088274492566584')}, 'open_order_type': <OrderType.MARKET: 1>, 'take_profit_order_type': <OrderType.LIMIT: 2>, 'stop_loss_order_type': <OrderType.MARKET: 1>, 'time_limit_order_type': <OrderType.MARKET: 1>}, 'leverage': 10, 'activation_bounds': None, 'level_id': None}\n",
      "{'id': 'HtBT8E31cx4QqjaKz4QMRFDsDnsZUT9mRQjXGGRNWrgh', 'type': 'position_executor', 'timestamp': 1743543480.0, 'controller_id': 'main', 'trading_pair': 'SCA-USDT', 'connector_name': 'bybit_perpetual', 'side': <TradeType.SELL: 2>, 'entry_price': Decimal('0.08413041999999999574766373911'), 'amount': Decimal('2851.549985155166397881426238'), 'triple_barrier_config': {'stop_loss': Decimal('0.01142547973809181418722190283'), 'take_profit': Decimal('0.006855287842855087878091608065'), 'time_limit': 18000, 'trailing_stop': {'activation_price': Decimal('0.001599567163332853930714932203'), 'trailing_delta': Decimal('0.0006855287842855088274492566584')}, 'open_order_type': <OrderType.MARKET: 1>, 'take_profit_order_type': <OrderType.LIMIT: 2>, 'stop_loss_order_type': <OrderType.MARKET: 1>, 'time_limit_order_type': <OrderType.MARKET: 1>}, 'leverage': 10, 'activation_bounds': None, 'level_id': None}\n",
      "{'id': 'BdjPmSZn2uaTWqi6wxHkKMqGc7Y9ybwm3mQZqt91mMMw', 'type': 'position_executor', 'timestamp': 1743543480.0, 'controller_id': 'main', 'trading_pair': 'SCA-USDT', 'connector_name': 'bybit_perpetual', 'side': <TradeType.SELL: 2>, 'entry_price': Decimal('0.08421379999999999574344933251'), 'amount': Decimal('4612.801446574533878925836562'), 'triple_barrier_config': {'stop_loss': Decimal('0.01142547973809181418722190283'), 'take_profit': Decimal('0.006855287842855087878091608065'), 'time_limit': 18000, 'trailing_stop': {'activation_price': Decimal('0.001599567163332853930714932203'), 'trailing_delta': Decimal('0.0006855287842855088274492566584')}, 'open_order_type': <OrderType.MARKET: 1>, 'take_profit_order_type': <OrderType.LIMIT: 2>, 'stop_loss_order_type': <OrderType.MARKET: 1>, 'time_limit_order_type': <OrderType.MARKET: 1>}, 'leverage': 10, 'activation_bounds': None, 'level_id': None}\n",
      "{'id': '3sb69tDSsqhFaojtD21zKgueAKyQwWLiCtW6JnJhPN1F', 'type': 'position_executor', 'timestamp': 1743554640.0, 'controller_id': 'main', 'trading_pair': 'SCA-USDT', 'connector_name': 'bybit_perpetual', 'side': <TradeType.BUY: 1>, 'entry_price': Decimal('0.08110880999999999828309338312'), 'amount': Decimal('86.13138308913650886834063441'), 'triple_barrier_config': {'stop_loss': Decimal('0.01411088747069149740903034999'), 'take_profit': Decimal('0.008466532482414897662106601601'), 'time_limit': 18000, 'trailing_stop': {'activation_price': Decimal('0.001975524245896809568724483264'), 'trailing_delta': Decimal('0.0008466532482414898151676356847')}, 'open_order_type': <OrderType.MARKET: 1>, 'take_profit_order_type': <OrderType.LIMIT: 2>, 'stop_loss_order_type': <OrderType.MARKET: 1>, 'time_limit_order_type': <OrderType.MARKET: 1>}, 'leverage': 10, 'activation_bounds': None, 'level_id': None}\n",
      "{'id': 'Fusfg3M5VET13WLmWuceRshQB4BLkkHgqk5SK72kFFJp', 'type': 'position_executor', 'timestamp': 1743554640.0, 'controller_id': 'main', 'trading_pair': 'SCA-USDT', 'connector_name': 'bybit_perpetual', 'side': <TradeType.BUY: 1>, 'entry_price': Decimal('0.08102761999999999828481200836'), 'amount': Decimal('86.13138308913650886834063441'), 'triple_barrier_config': {'stop_loss': Decimal('0.01411088747069149740903034999'), 'take_profit': Decimal('0.008466532482414897662106601601'), 'time_limit': 18000, 'trailing_stop': {'activation_price': Decimal('0.001975524245896809568724483264'), 'trailing_delta': Decimal('0.0008466532482414898151676356847')}, 'open_order_type': <OrderType.MARKET: 1>, 'take_profit_order_type': <OrderType.LIMIT: 2>, 'stop_loss_order_type': <OrderType.MARKET: 1>, 'time_limit_order_type': <OrderType.MARKET: 1>}, 'leverage': 10, 'activation_bounds': None, 'level_id': None}\n",
      "{'id': 'C3wEhtoxviWKEyzrDYdyXKAKnGP4x4eqEhTyrtG18ySF', 'type': 'position_executor', 'timestamp': 1743554640.0, 'controller_id': 'main', 'trading_pair': 'SCA-USDT', 'connector_name': 'bybit_perpetual', 'side': <TradeType.BUY: 1>, 'entry_price': Decimal('0.08094642999999999828653063361'), 'amount': Decimal('172.2627661782730177366812688'), 'triple_barrier_config': {'stop_loss': Decimal('0.01411088747069149740903034999'), 'take_profit': Decimal('0.008466532482414897662106601601'), 'time_limit': 18000, 'trailing_stop': {'activation_price': Decimal('0.001975524245896809568724483264'), 'trailing_delta': Decimal('0.0008466532482414898151676356847')}, 'open_order_type': <OrderType.MARKET: 1>, 'take_profit_order_type': <OrderType.LIMIT: 2>, 'stop_loss_order_type': <OrderType.MARKET: 1>, 'time_limit_order_type': <OrderType.MARKET: 1>}, 'leverage': 10, 'activation_bounds': None, 'level_id': None}\n",
      "{'id': 'SS4Ru7o3nHf9ch9aSKDGXoxaBDLfhwKsJjE3RpvkNVW', 'type': 'position_executor', 'timestamp': 1743554640.0, 'controller_id': 'main', 'trading_pair': 'SCA-USDT', 'connector_name': 'bybit_perpetual', 'side': <TradeType.BUY: 1>, 'entry_price': Decimal('0.08086523999999999828824925885'), 'amount': Decimal('258.3941492674095266050219032'), 'triple_barrier_config': {'stop_loss': Decimal('0.01411088747069149740903034999'), 'take_profit': Decimal('0.008466532482414897662106601601'), 'time_limit': 18000, 'trailing_stop': {'activation_price': Decimal('0.001975524245896809568724483264'), 'trailing_delta': Decimal('0.0008466532482414898151676356847')}, 'open_order_type': <OrderType.MARKET: 1>, 'take_profit_order_type': <OrderType.LIMIT: 2>, 'stop_loss_order_type': <OrderType.MARKET: 1>, 'time_limit_order_type': <OrderType.MARKET: 1>}, 'leverage': 10, 'activation_bounds': None, 'level_id': None}\n",
      "{'id': '3bdzaGPzAEEQcqkPiZWKixpzaPZTrwqZqACdU4k7MTcE', 'type': 'position_executor', 'timestamp': 1743554640.0, 'controller_id': 'main', 'trading_pair': 'SCA-USDT', 'connector_name': 'bybit_perpetual', 'side': <TradeType.BUY: 1>, 'entry_price': Decimal('0.08078404999999999828996788409'), 'amount': Decimal('430.6569154456825443417031720'), 'triple_barrier_config': {'stop_loss': Decimal('0.01411088747069149740903034999'), 'take_profit': Decimal('0.008466532482414897662106601601'), 'time_limit': 18000, 'trailing_stop': {'activation_price': Decimal('0.001975524245896809568724483264'), 'trailing_delta': Decimal('0.0008466532482414898151676356847')}, 'open_order_type': <OrderType.MARKET: 1>, 'take_profit_order_type': <OrderType.LIMIT: 2>, 'stop_loss_order_type': <OrderType.MARKET: 1>, 'time_limit_order_type': <OrderType.MARKET: 1>}, 'leverage': 10, 'activation_bounds': None, 'level_id': None}\n",
      "{'id': 'AbuJczU9zuW4gkKTyJwjTf3NTqM25qW6F1h3dbCod6wQ', 'type': 'position_executor', 'timestamp': 1743554640.0, 'controller_id': 'main', 'trading_pair': 'SCA-USDT', 'connector_name': 'bybit_perpetual', 'side': <TradeType.BUY: 1>, 'entry_price': Decimal('0.08070285999999999829168650933'), 'amount': Decimal('689.0510647130920709467250753'), 'triple_barrier_config': {'stop_loss': Decimal('0.01411088747069149740903034999'), 'take_profit': Decimal('0.008466532482414897662106601601'), 'time_limit': 18000, 'trailing_stop': {'activation_price': Decimal('0.001975524245896809568724483264'), 'trailing_delta': Decimal('0.0008466532482414898151676356847')}, 'open_order_type': <OrderType.MARKET: 1>, 'take_profit_order_type': <OrderType.LIMIT: 2>, 'stop_loss_order_type': <OrderType.MARKET: 1>, 'time_limit_order_type': <OrderType.MARKET: 1>}, 'leverage': 10, 'activation_bounds': None, 'level_id': None}\n",
      "{'id': '2rhdtYLckJRwmz2CbcqsyE4N2M8RNe5AkmbAfEQC9bYh', 'type': 'position_executor', 'timestamp': 1743554640.0, 'controller_id': 'main', 'trading_pair': 'SCA-USDT', 'connector_name': 'bybit_perpetual', 'side': <TradeType.BUY: 1>, 'entry_price': Decimal('0.08062166999999999829340513458'), 'amount': Decimal('1119.707980158774615288428247'), 'triple_barrier_config': {'stop_loss': Decimal('0.01411088747069149740903034999'), 'take_profit': Decimal('0.008466532482414897662106601601'), 'time_limit': 18000, 'trailing_stop': {'activation_price': Decimal('0.001975524245896809568724483264'), 'trailing_delta': Decimal('0.0008466532482414898151676356847')}, 'open_order_type': <OrderType.MARKET: 1>, 'take_profit_order_type': <OrderType.LIMIT: 2>, 'stop_loss_order_type': <OrderType.MARKET: 1>, 'time_limit_order_type': <OrderType.MARKET: 1>}, 'leverage': 10, 'activation_bounds': None, 'level_id': None}\n",
      "{'id': '9pDo4TcQnom39QLS7kjhAr1y5s3JaQpMc5YNSkMT7UFy', 'type': 'position_executor', 'timestamp': 1743554640.0, 'controller_id': 'main', 'trading_pair': 'SCA-USDT', 'connector_name': 'bybit_perpetual', 'side': <TradeType.BUY: 1>, 'entry_price': Decimal('0.08054047999999999829512375982'), 'amount': Decimal('1808.759044871866686235153323'), 'triple_barrier_config': {'stop_loss': Decimal('0.01411088747069149740903034999'), 'take_profit': Decimal('0.008466532482414897662106601601'), 'time_limit': 18000, 'trailing_stop': {'activation_price': Decimal('0.001975524245896809568724483264'), 'trailing_delta': Decimal('0.0008466532482414898151676356847')}, 'open_order_type': <OrderType.MARKET: 1>, 'take_profit_order_type': <OrderType.LIMIT: 2>, 'stop_loss_order_type': <OrderType.MARKET: 1>, 'time_limit_order_type': <OrderType.MARKET: 1>}, 'leverage': 10, 'activation_bounds': None, 'level_id': None}\n",
      "{'id': '7QDdoiC2a9xgrBRYRsM49vWxp65fYbv6uUF32mFDXCca', 'type': 'position_executor', 'timestamp': 1743554640.0, 'controller_id': 'main', 'trading_pair': 'SCA-USDT', 'connector_name': 'bybit_perpetual', 'side': <TradeType.BUY: 1>, 'entry_price': Decimal('0.08045928999999999829684238506'), 'amount': Decimal('2928.467025030641301523581570'), 'triple_barrier_config': {'stop_loss': Decimal('0.01411088747069149740903034999'), 'take_profit': Decimal('0.008466532482414897662106601601'), 'time_limit': 18000, 'trailing_stop': {'activation_price': Decimal('0.001975524245896809568724483264'), 'trailing_delta': Decimal('0.0008466532482414898151676356847')}, 'open_order_type': <OrderType.MARKET: 1>, 'take_profit_order_type': <OrderType.LIMIT: 2>, 'stop_loss_order_type': <OrderType.MARKET: 1>, 'time_limit_order_type': <OrderType.MARKET: 1>}, 'leverage': 10, 'activation_bounds': None, 'level_id': None}\n",
      "{'id': '3geX6gzsNf2Qffa4Mc7CSNjzL1HTPNQZiCHKs84coMYP', 'type': 'position_executor', 'timestamp': 1743554640.0, 'controller_id': 'main', 'trading_pair': 'SCA-USDT', 'connector_name': 'bybit_perpetual', 'side': <TradeType.BUY: 1>, 'entry_price': Decimal('0.08037809999999999829856101030'), 'amount': Decimal('4737.226069902507987758734893'), 'triple_barrier_config': {'stop_loss': Decimal('0.01411088747069149740903034999'), 'take_profit': Decimal('0.008466532482414897662106601601'), 'time_limit': 18000, 'trailing_stop': {'activation_price': Decimal('0.001975524245896809568724483264'), 'trailing_delta': Decimal('0.0008466532482414898151676356847')}, 'open_order_type': <OrderType.MARKET: 1>, 'take_profit_order_type': <OrderType.LIMIT: 2>, 'stop_loss_order_type': <OrderType.MARKET: 1>, 'time_limit_order_type': <OrderType.MARKET: 1>}, 'leverage': 10, 'activation_bounds': None, 'level_id': None}\n",
      "{'id': 'FHPrAdL5VarerCj9hRqY7UvfHcQYyQwaozRYNwtRtXGp', 'type': 'position_executor', 'timestamp': 1743607320.0, 'controller_id': 'main', 'trading_pair': 'SCA-USDT', 'connector_name': 'bybit_perpetual', 'side': <TradeType.SELL: 2>, 'entry_price': Decimal('0.08362354000000000314729575734'), 'amount': Decimal('83.70848686864966176443420629'), 'triple_barrier_config': {'stop_loss': Decimal('0.01355458638147328606940935533'), 'take_profit': Decimal('0.008132751828883970889214918699'), 'time_limit': 18000, 'trailing_stop': {'activation_price': Decimal('0.001897642093406259983879623977'), 'trailing_delta': Decimal('0.0008132751828883971359484102761')}, 'open_order_type': <OrderType.MARKET: 1>, 'take_profit_order_type': <OrderType.LIMIT: 2>, 'stop_loss_order_type': <OrderType.MARKET: 1>, 'time_limit_order_type': <OrderType.MARKET: 1>}, 'leverage': 10, 'activation_bounds': None, 'level_id': None}\n",
      "{'id': '9X2bxYwTKYMTCqnqNLwT7mBRV4TYnsXpnK3niYfjhXeY', 'type': 'position_executor', 'timestamp': 1743607320.0, 'controller_id': 'main', 'trading_pair': 'SCA-USDT', 'connector_name': 'bybit_perpetual', 'side': <TradeType.SELL: 2>, 'entry_price': Decimal('0.08370708000000000315043990895'), 'amount': Decimal('83.70848686864966176443420629'), 'triple_barrier_config': {'stop_loss': Decimal('0.01355458638147328606940935533'), 'take_profit': Decimal('0.008132751828883970889214918699'), 'time_limit': 18000, 'trailing_stop': {'activation_price': Decimal('0.001897642093406259983879623977'), 'trailing_delta': Decimal('0.0008132751828883971359484102761')}, 'open_order_type': <OrderType.MARKET: 1>, 'take_profit_order_type': <OrderType.LIMIT: 2>, 'stop_loss_order_type': <OrderType.MARKET: 1>, 'time_limit_order_type': <OrderType.MARKET: 1>}, 'leverage': 10, 'activation_bounds': None, 'level_id': None}\n",
      "{'id': '3iczjjB71uxVWjba2BZm29gUVCbyeBMoeqHXFP1HP2av', 'type': 'position_executor', 'timestamp': 1743607320.0, 'controller_id': 'main', 'trading_pair': 'SCA-USDT', 'connector_name': 'bybit_perpetual', 'side': <TradeType.SELL: 2>, 'entry_price': Decimal('0.08379062000000000315358406056'), 'amount': Decimal('167.4169737372993235288684126'), 'triple_barrier_config': {'stop_loss': Decimal('0.01355458638147328606940935533'), 'take_profit': Decimal('0.008132751828883970889214918699'), 'time_limit': 18000, 'trailing_stop': {'activation_price': Decimal('0.001897642093406259983879623977'), 'trailing_delta': Decimal('0.0008132751828883971359484102761')}, 'open_order_type': <OrderType.MARKET: 1>, 'take_profit_order_type': <OrderType.LIMIT: 2>, 'stop_loss_order_type': <OrderType.MARKET: 1>, 'time_limit_order_type': <OrderType.MARKET: 1>}, 'leverage': 10, 'activation_bounds': None, 'level_id': None}\n",
      "{'id': '6Civcm8iEFNR2fTYDtUWujTAwo65scHq84d2xFGTn3gM', 'type': 'position_executor', 'timestamp': 1743607320.0, 'controller_id': 'main', 'trading_pair': 'SCA-USDT', 'connector_name': 'bybit_perpetual', 'side': <TradeType.SELL: 2>, 'entry_price': Decimal('0.08387416000000000315672821216'), 'amount': Decimal('251.1254606059489852933026189'), 'triple_barrier_config': {'stop_loss': Decimal('0.01355458638147328606940935533'), 'take_profit': Decimal('0.008132751828883970889214918699'), 'time_limit': 18000, 'trailing_stop': {'activation_price': Decimal('0.001897642093406259983879623977'), 'trailing_delta': Decimal('0.0008132751828883971359484102761')}, 'open_order_type': <OrderType.MARKET: 1>, 'take_profit_order_type': <OrderType.LIMIT: 2>, 'stop_loss_order_type': <OrderType.MARKET: 1>, 'time_limit_order_type': <OrderType.MARKET: 1>}, 'leverage': 10, 'activation_bounds': None, 'level_id': None}\n",
      "{'id': '4q32ES1eJQSqQdt73Zfc5h2sNgLUXJL7CMUMdf8sFrPM', 'type': 'position_executor', 'timestamp': 1743607320.0, 'controller_id': 'main', 'trading_pair': 'SCA-USDT', 'connector_name': 'bybit_perpetual', 'side': <TradeType.SELL: 2>, 'entry_price': Decimal('0.08395770000000000315987236377'), 'amount': Decimal('418.5424343432483088221710314'), 'triple_barrier_config': {'stop_loss': Decimal('0.01355458638147328606940935533'), 'take_profit': Decimal('0.008132751828883970889214918699'), 'time_limit': 18000, 'trailing_stop': {'activation_price': Decimal('0.001897642093406259983879623977'), 'trailing_delta': Decimal('0.0008132751828883971359484102761')}, 'open_order_type': <OrderType.MARKET: 1>, 'take_profit_order_type': <OrderType.LIMIT: 2>, 'stop_loss_order_type': <OrderType.MARKET: 1>, 'time_limit_order_type': <OrderType.MARKET: 1>}, 'leverage': 10, 'activation_bounds': None, 'level_id': None}\n",
      "{'id': 'Ceb8p2bnfATMZc9TqDST9tKpaZaNpuDgQwTEGnhU7vN1', 'type': 'position_executor', 'timestamp': 1743607320.0, 'controller_id': 'main', 'trading_pair': 'SCA-USDT', 'connector_name': 'bybit_perpetual', 'side': <TradeType.SELL: 2>, 'entry_price': Decimal('0.08404124000000000316301651537'), 'amount': Decimal('669.6678949491972941154736503'), 'triple_barrier_config': {'stop_loss': Decimal('0.01355458638147328606940935533'), 'take_profit': Decimal('0.008132751828883970889214918699'), 'time_limit': 18000, 'trailing_stop': {'activation_price': Decimal('0.001897642093406259983879623977'), 'trailing_delta': Decimal('0.0008132751828883971359484102761')}, 'open_order_type': <OrderType.MARKET: 1>, 'take_profit_order_type': <OrderType.LIMIT: 2>, 'stop_loss_order_type': <OrderType.MARKET: 1>, 'time_limit_order_type': <OrderType.MARKET: 1>}, 'leverage': 10, 'activation_bounds': None, 'level_id': None}\n",
      "{'id': 'CXdXxnD5zfWcEwnbHANznoNuiDFz7cLTF2PBcRzNHPwu', 'type': 'position_executor', 'timestamp': 1743607320.0, 'controller_id': 'main', 'trading_pair': 'SCA-USDT', 'connector_name': 'bybit_perpetual', 'side': <TradeType.SELL: 2>, 'entry_price': Decimal('0.08412478000000000316616066698'), 'amount': Decimal('1088.210329292445602937644682'), 'triple_barrier_config': {'stop_loss': Decimal('0.01355458638147328606940935533'), 'take_profit': Decimal('0.008132751828883970889214918699'), 'time_limit': 18000, 'trailing_stop': {'activation_price': Decimal('0.001897642093406259983879623977'), 'trailing_delta': Decimal('0.0008132751828883971359484102761')}, 'open_order_type': <OrderType.MARKET: 1>, 'take_profit_order_type': <OrderType.LIMIT: 2>, 'stop_loss_order_type': <OrderType.MARKET: 1>, 'time_limit_order_type': <OrderType.MARKET: 1>}, 'leverage': 10, 'activation_bounds': None, 'level_id': None}\n",
      "{'id': 'BGhVeZD8Y27GGRnXXR7w4jLQnApsvWoZNdf9w3xZXsKR', 'type': 'position_executor', 'timestamp': 1743607320.0, 'controller_id': 'main', 'trading_pair': 'SCA-USDT', 'connector_name': 'bybit_perpetual', 'side': <TradeType.SELL: 2>, 'entry_price': Decimal('0.08420832000000000316930481858'), 'amount': Decimal('1757.878224241642897053118332'), 'triple_barrier_config': {'stop_loss': Decimal('0.01355458638147328606940935533'), 'take_profit': Decimal('0.008132751828883970889214918699'), 'time_limit': 18000, 'trailing_stop': {'activation_price': Decimal('0.001897642093406259983879623977'), 'trailing_delta': Decimal('0.0008132751828883971359484102761')}, 'open_order_type': <OrderType.MARKET: 1>, 'take_profit_order_type': <OrderType.LIMIT: 2>, 'stop_loss_order_type': <OrderType.MARKET: 1>, 'time_limit_order_type': <OrderType.MARKET: 1>}, 'leverage': 10, 'activation_bounds': None, 'level_id': None}\n",
      "{'id': 'AQ5ufRqcwi8U8vrLBCnkCgpuGnid5Zh5UnjgTzb6Es3', 'type': 'position_executor', 'timestamp': 1743607320.0, 'controller_id': 'main', 'trading_pair': 'SCA-USDT', 'connector_name': 'bybit_perpetual', 'side': <TradeType.SELL: 2>, 'entry_price': Decimal('0.08429186000000000317244897019'), 'amount': Decimal('2846.088553534088499990763014'), 'triple_barrier_config': {'stop_loss': Decimal('0.01355458638147328606940935533'), 'take_profit': Decimal('0.008132751828883970889214918699'), 'time_limit': 18000, 'trailing_stop': {'activation_price': Decimal('0.001897642093406259983879623977'), 'trailing_delta': Decimal('0.0008132751828883971359484102761')}, 'open_order_type': <OrderType.MARKET: 1>, 'take_profit_order_type': <OrderType.LIMIT: 2>, 'stop_loss_order_type': <OrderType.MARKET: 1>, 'time_limit_order_type': <OrderType.MARKET: 1>}, 'leverage': 10, 'activation_bounds': None, 'level_id': None}\n",
      "{'id': '4XKJGHWbCTE7swUpenK7we7JaCnxPBf2EH5zAxiuhn3p', 'type': 'position_executor', 'timestamp': 1743607320.0, 'controller_id': 'main', 'trading_pair': 'SCA-USDT', 'connector_name': 'bybit_perpetual', 'side': <TradeType.SELL: 2>, 'entry_price': Decimal('0.08437540000000000317559312180'), 'amount': Decimal('4603.966777775731397043881346'), 'triple_barrier_config': {'stop_loss': Decimal('0.01355458638147328606940935533'), 'take_profit': Decimal('0.008132751828883970889214918699'), 'time_limit': 18000, 'trailing_stop': {'activation_price': Decimal('0.001897642093406259983879623977'), 'trailing_delta': Decimal('0.0008132751828883971359484102761')}, 'open_order_type': <OrderType.MARKET: 1>, 'take_profit_order_type': <OrderType.LIMIT: 2>, 'stop_loss_order_type': <OrderType.MARKET: 1>, 'time_limit_order_type': <OrderType.MARKET: 1>}, 'leverage': 10, 'activation_bounds': None, 'level_id': None}\n",
      "{'id': 'HxE6yQYTLY39nrPtVWPvougGgN6sBYuK44j6efLddiDE', 'type': 'position_executor', 'timestamp': 1743608580.0, 'controller_id': 'main', 'trading_pair': 'SCA-USDT', 'connector_name': 'bybit_perpetual', 'side': <TradeType.SELL: 2>, 'entry_price': Decimal('0.08466458000000000240492514791'), 'amount': Decimal('82.67920303862606772705546287'), 'triple_barrier_config': {'stop_loss': Decimal('0.01356666053600283991890432445'), 'take_profit': Decimal('0.008139996321601703198241649950'), 'time_limit': 18000, 'trailing_stop': {'activation_price': Decimal('0.001899332475040397522750272760'), 'trailing_delta': Decimal('0.0008139996321601703668929740398')}, 'open_order_type': <OrderType.MARKET: 1>, 'take_profit_order_type': <OrderType.LIMIT: 2>, 'stop_loss_order_type': <OrderType.MARKET: 1>, 'time_limit_order_type': <OrderType.MARKET: 1>}, 'leverage': 10, 'activation_bounds': None, 'level_id': None}\n",
      "{'id': '2TrhqZDwEtE8VoMQUm9EvL7jXnvcR8tYjXAj82cYCzaR', 'type': 'position_executor', 'timestamp': 1743608580.0, 'controller_id': 'main', 'trading_pair': 'SCA-USDT', 'connector_name': 'bybit_perpetual', 'side': <TradeType.SELL: 2>, 'entry_price': Decimal('0.08474916000000000240732767054'), 'amount': Decimal('82.67920303862606772705546287'), 'triple_barrier_config': {'stop_loss': Decimal('0.01356666053600283991890432445'), 'take_profit': Decimal('0.008139996321601703198241649950'), 'time_limit': 18000, 'trailing_stop': {'activation_price': Decimal('0.001899332475040397522750272760'), 'trailing_delta': Decimal('0.0008139996321601703668929740398')}, 'open_order_type': <OrderType.MARKET: 1>, 'take_profit_order_type': <OrderType.LIMIT: 2>, 'stop_loss_order_type': <OrderType.MARKET: 1>, 'time_limit_order_type': <OrderType.MARKET: 1>}, 'leverage': 10, 'activation_bounds': None, 'level_id': None}\n",
      "{'id': '5Zec3PHw5XozmUvUU4cpEZ5ZHhU6JDTZn45pg9HPpbKp', 'type': 'position_executor', 'timestamp': 1743608580.0, 'controller_id': 'main', 'trading_pair': 'SCA-USDT', 'connector_name': 'bybit_perpetual', 'side': <TradeType.SELL: 2>, 'entry_price': Decimal('0.08483374000000000240973019316'), 'amount': Decimal('165.3584060772521354541109257'), 'triple_barrier_config': {'stop_loss': Decimal('0.01356666053600283991890432445'), 'take_profit': Decimal('0.008139996321601703198241649950'), 'time_limit': 18000, 'trailing_stop': {'activation_price': Decimal('0.001899332475040397522750272760'), 'trailing_delta': Decimal('0.0008139996321601703668929740398')}, 'open_order_type': <OrderType.MARKET: 1>, 'take_profit_order_type': <OrderType.LIMIT: 2>, 'stop_loss_order_type': <OrderType.MARKET: 1>, 'time_limit_order_type': <OrderType.MARKET: 1>}, 'leverage': 10, 'activation_bounds': None, 'level_id': None}\n",
      "{'id': '5jhurTXzuDoqZMPHaxRAgUB8zvZipJ1UZTWVg29mjfpT', 'type': 'position_executor', 'timestamp': 1743608580.0, 'controller_id': 'main', 'trading_pair': 'SCA-USDT', 'connector_name': 'bybit_perpetual', 'side': <TradeType.SELL: 2>, 'entry_price': Decimal('0.08491832000000000241213271579'), 'amount': Decimal('248.0376091158782031811663886'), 'triple_barrier_config': {'stop_loss': Decimal('0.01356666053600283991890432445'), 'take_profit': Decimal('0.008139996321601703198241649950'), 'time_limit': 18000, 'trailing_stop': {'activation_price': Decimal('0.001899332475040397522750272760'), 'trailing_delta': Decimal('0.0008139996321601703668929740398')}, 'open_order_type': <OrderType.MARKET: 1>, 'take_profit_order_type': <OrderType.LIMIT: 2>, 'stop_loss_order_type': <OrderType.MARKET: 1>, 'time_limit_order_type': <OrderType.MARKET: 1>}, 'leverage': 10, 'activation_bounds': None, 'level_id': None}\n",
      "{'id': 'AmnhR3kwjrxVxdP2gX5WLtpsEoKVtrwHjhaQSx5zS2Z7', 'type': 'position_executor', 'timestamp': 1743608580.0, 'controller_id': 'main', 'trading_pair': 'SCA-USDT', 'connector_name': 'bybit_perpetual', 'side': <TradeType.SELL: 2>, 'entry_price': Decimal('0.08500290000000000241453523842'), 'amount': Decimal('413.3960151931303386352773144'), 'triple_barrier_config': {'stop_loss': Decimal('0.01356666053600283991890432445'), 'take_profit': Decimal('0.008139996321601703198241649950'), 'time_limit': 18000, 'trailing_stop': {'activation_price': Decimal('0.001899332475040397522750272760'), 'trailing_delta': Decimal('0.0008139996321601703668929740398')}, 'open_order_type': <OrderType.MARKET: 1>, 'take_profit_order_type': <OrderType.LIMIT: 2>, 'stop_loss_order_type': <OrderType.MARKET: 1>, 'time_limit_order_type': <OrderType.MARKET: 1>}, 'leverage': 10, 'activation_bounds': None, 'level_id': None}\n",
      "{'id': 'GhCVmyqMDQSGnggdqYrLzmgSqgtiScAsAZLjTHgVm26t', 'type': 'position_executor', 'timestamp': 1743608580.0, 'controller_id': 'main', 'trading_pair': 'SCA-USDT', 'connector_name': 'bybit_perpetual', 'side': <TradeType.SELL: 2>, 'entry_price': Decimal('0.08508748000000000241693776104'), 'amount': Decimal('661.4336243090085418164437030'), 'triple_barrier_config': {'stop_loss': Decimal('0.01356666053600283991890432445'), 'take_profit': Decimal('0.008139996321601703198241649950'), 'time_limit': 18000, 'trailing_stop': {'activation_price': Decimal('0.001899332475040397522750272760'), 'trailing_delta': Decimal('0.0008139996321601703668929740398')}, 'open_order_type': <OrderType.MARKET: 1>, 'take_profit_order_type': <OrderType.LIMIT: 2>, 'stop_loss_order_type': <OrderType.MARKET: 1>, 'time_limit_order_type': <OrderType.MARKET: 1>}, 'leverage': 10, 'activation_bounds': None, 'level_id': None}\n",
      "{'id': '3NQihAD5J8m9r7t4MqzdiTc9guZ3fRbHvGiHqKJQPE3w', 'type': 'position_executor', 'timestamp': 1743608580.0, 'controller_id': 'main', 'trading_pair': 'SCA-USDT', 'connector_name': 'bybit_perpetual', 'side': <TradeType.SELL: 2>, 'entry_price': Decimal('0.08517206000000000241934028367'), 'amount': Decimal('1074.829639502138880451721017'), 'triple_barrier_config': {'stop_loss': Decimal('0.01356666053600283991890432445'), 'take_profit': Decimal('0.008139996321601703198241649950'), 'time_limit': 18000, 'trailing_stop': {'activation_price': Decimal('0.001899332475040397522750272760'), 'trailing_delta': Decimal('0.0008139996321601703668929740398')}, 'open_order_type': <OrderType.MARKET: 1>, 'take_profit_order_type': <OrderType.LIMIT: 2>, 'stop_loss_order_type': <OrderType.MARKET: 1>, 'time_limit_order_type': <OrderType.MARKET: 1>}, 'leverage': 10, 'activation_bounds': None, 'level_id': None}\n",
      "{'id': '3aY7aLYvQjCL9oGk66Qhrbcgt2eNrau6Y9mtRGp6MpgC', 'type': 'position_executor', 'timestamp': 1743608580.0, 'controller_id': 'main', 'trading_pair': 'SCA-USDT', 'connector_name': 'bybit_perpetual', 'side': <TradeType.SELL: 2>, 'entry_price': Decimal('0.08525664000000000242174280629'), 'amount': Decimal('1736.263263811147422268164720'), 'triple_barrier_config': {'stop_loss': Decimal('0.01356666053600283991890432445'), 'take_profit': Decimal('0.008139996321601703198241649950'), 'time_limit': 18000, 'trailing_stop': {'activation_price': Decimal('0.001899332475040397522750272760'), 'trailing_delta': Decimal('0.0008139996321601703668929740398')}, 'open_order_type': <OrderType.MARKET: 1>, 'take_profit_order_type': <OrderType.LIMIT: 2>, 'stop_loss_order_type': <OrderType.MARKET: 1>, 'time_limit_order_type': <OrderType.MARKET: 1>}, 'leverage': 10, 'activation_bounds': None, 'level_id': None}\n",
      "{'id': '7msEPwm9K8MaKN373qdgfCJh7k1B64Sv8UKFziHRXDTG', 'type': 'position_executor', 'timestamp': 1743608580.0, 'controller_id': 'main', 'trading_pair': 'SCA-USDT', 'connector_name': 'bybit_perpetual', 'side': <TradeType.SELL: 2>, 'entry_price': Decimal('0.08534122000000000242414532892'), 'amount': Decimal('2811.092903313286302719885738'), 'triple_barrier_config': {'stop_loss': Decimal('0.01356666053600283991890432445'), 'take_profit': Decimal('0.008139996321601703198241649950'), 'time_limit': 18000, 'trailing_stop': {'activation_price': Decimal('0.001899332475040397522750272760'), 'trailing_delta': Decimal('0.0008139996321601703668929740398')}, 'open_order_type': <OrderType.MARKET: 1>, 'take_profit_order_type': <OrderType.LIMIT: 2>, 'stop_loss_order_type': <OrderType.MARKET: 1>, 'time_limit_order_type': <OrderType.MARKET: 1>}, 'leverage': 10, 'activation_bounds': None, 'level_id': None}\n",
      "{'id': 'FMSBbUJNCkGWkcu2SScnMHpNn48XRdg57bYkk1XRZfzE', 'type': 'position_executor', 'timestamp': 1743608580.0, 'controller_id': 'main', 'trading_pair': 'SCA-USDT', 'connector_name': 'bybit_perpetual', 'side': <TradeType.SELL: 2>, 'entry_price': Decimal('0.08542580000000000242654785154'), 'amount': Decimal('4547.356167124433724988050458'), 'triple_barrier_config': {'stop_loss': Decimal('0.01356666053600283991890432445'), 'take_profit': Decimal('0.008139996321601703198241649950'), 'time_limit': 18000, 'trailing_stop': {'activation_price': Decimal('0.001899332475040397522750272760'), 'trailing_delta': Decimal('0.0008139996321601703668929740398')}, 'open_order_type': <OrderType.MARKET: 1>, 'take_profit_order_type': <OrderType.LIMIT: 2>, 'stop_loss_order_type': <OrderType.MARKET: 1>, 'time_limit_order_type': <OrderType.MARKET: 1>}, 'leverage': 10, 'activation_bounds': None, 'level_id': None}\n"
     ]
    }
   ],
   "source": [
    "backtesting_result = await backtesting.run_backtesting(config, start, end, interval)"
   ]
  },
  {
   "cell_type": "code",
   "execution_count": 13,
   "metadata": {},
   "outputs": [
    {
     "name": "stdout",
     "output_type": "stream",
     "text": [
      "\n",
      "Net PNL: $-43.27 (-4.33%) | Max Drawdown: $-52.47 (-5.25%)\n",
      "Total Volume ($): 30000.00 | Sharpe Ratio: -2.32 | Profit Factor: 0.37\n",
      "Total Executors: 150 | Accuracy Long: 0.50 | Accuracy Short: 0.45\n",
      "Close Types: Take Profit: 20 | Stop Loss: 50 | Time Limit: 0 |\n",
      "             Trailing Stop: 80 | Early Stop: 0\n",
      "\n",
      "{'close_price': 0.07588, 'level_id': None, 'side': <TradeType.BUY: 1>, 'current_position_average_price': 0.07588404}\n",
      "{'close_price': 0.07588, 'level_id': None, 'side': <TradeType.BUY: 1>, 'current_position_average_price': 0.07580808}\n",
      "{'close_price': 0.07588, 'level_id': None, 'side': <TradeType.BUY: 1>, 'current_position_average_price': 0.07573212}\n",
      "{'close_price': 0.07588, 'level_id': None, 'side': <TradeType.BUY: 1>, 'current_position_average_price': 0.07565616}\n",
      "{'close_price': 0.07588, 'level_id': None, 'side': <TradeType.BUY: 1>, 'current_position_average_price': 0.0755802}\n",
      "{'close_price': 0.07588, 'level_id': None, 'side': <TradeType.BUY: 1>, 'current_position_average_price': 0.07550424}\n",
      "{'close_price': 0.07588, 'level_id': None, 'side': <TradeType.BUY: 1>, 'current_position_average_price': 0.07542828}\n",
      "{'close_price': 0.07588, 'level_id': None, 'side': <TradeType.BUY: 1>, 'current_position_average_price': 0.07535232}\n",
      "{'close_price': 0.07588, 'level_id': None, 'side': <TradeType.BUY: 1>, 'current_position_average_price': 0.07527636}\n",
      "{'close_price': 0.07588, 'level_id': None, 'side': <TradeType.BUY: 1>, 'current_position_average_price': 0.0752004}\n",
      "{'close_price': 0.07488, 'level_id': None, 'side': <TradeType.BUY: 1>, 'current_position_average_price': 0.07491501}\n",
      "{'close_price': 0.07488, 'level_id': None, 'side': <TradeType.BUY: 1>, 'current_position_average_price': 0.07484002000000001}\n",
      "{'close_price': 0.07488, 'level_id': None, 'side': <TradeType.BUY: 1>, 'current_position_average_price': 0.07476503}\n",
      "{'close_price': 0.07488, 'level_id': None, 'side': <TradeType.BUY: 1>, 'current_position_average_price': 0.07469004}\n",
      "{'close_price': 0.07488, 'level_id': None, 'side': <TradeType.BUY: 1>, 'current_position_average_price': 0.07461505}\n",
      "{'close_price': 0.07488, 'level_id': None, 'side': <TradeType.BUY: 1>, 'current_position_average_price': 0.07454006}\n",
      "{'close_price': 0.07488, 'level_id': None, 'side': <TradeType.BUY: 1>, 'current_position_average_price': 0.07446507}\n",
      "{'close_price': 0.07488, 'level_id': None, 'side': <TradeType.BUY: 1>, 'current_position_average_price': 0.07439008}\n",
      "{'close_price': 0.07488, 'level_id': None, 'side': <TradeType.BUY: 1>, 'current_position_average_price': 0.07431509}\n",
      "{'close_price': 0.07488, 'level_id': None, 'side': <TradeType.BUY: 1>, 'current_position_average_price': 0.0742401}\n",
      "{'close_price': 0.07494, 'level_id': None, 'side': <TradeType.BUY: 1>, 'current_position_average_price': 0.07480512}\n",
      "{'close_price': 0.07494, 'level_id': None, 'side': <TradeType.BUY: 1>, 'current_position_average_price': 0.07473024}\n",
      "{'close_price': 0.07494, 'level_id': None, 'side': <TradeType.BUY: 1>, 'current_position_average_price': 0.07465536}\n",
      "{'close_price': 0.07494, 'level_id': None, 'side': <TradeType.BUY: 1>, 'current_position_average_price': 0.07458048}\n",
      "{'close_price': 0.07494, 'level_id': None, 'side': <TradeType.BUY: 1>, 'current_position_average_price': 0.0745056}\n",
      "{'close_price': 0.07494, 'level_id': None, 'side': <TradeType.BUY: 1>, 'current_position_average_price': 0.07443072}\n",
      "{'close_price': 0.07494, 'level_id': None, 'side': <TradeType.BUY: 1>, 'current_position_average_price': 0.07435584}\n",
      "{'close_price': 0.07494, 'level_id': None, 'side': <TradeType.BUY: 1>, 'current_position_average_price': 0.07428096000000001}\n",
      "{'close_price': 0.07494, 'level_id': None, 'side': <TradeType.BUY: 1>, 'current_position_average_price': 0.07420608000000001}\n",
      "{'close_price': 0.07494, 'level_id': None, 'side': <TradeType.BUY: 1>, 'current_position_average_price': 0.07413120000000001}\n",
      "{'close_price': 0.07489, 'level_id': None, 'side': <TradeType.SELL: 2>, 'current_position_average_price': 0.07504496999999999}\n",
      "{'close_price': 0.07489, 'level_id': None, 'side': <TradeType.SELL: 2>, 'current_position_average_price': 0.07511994}\n",
      "{'close_price': 0.07489, 'level_id': None, 'side': <TradeType.SELL: 2>, 'current_position_average_price': 0.07519490999999999}\n",
      "{'close_price': 0.07489, 'level_id': None, 'side': <TradeType.SELL: 2>, 'current_position_average_price': 0.07526988}\n",
      "{'close_price': 0.07489, 'level_id': None, 'side': <TradeType.SELL: 2>, 'current_position_average_price': 0.07534484999999999}\n",
      "{'close_price': 0.07489, 'level_id': None, 'side': <TradeType.SELL: 2>, 'current_position_average_price': 0.07541982}\n",
      "{'close_price': 0.07489, 'level_id': None, 'side': <TradeType.SELL: 2>, 'current_position_average_price': 0.07549478999999999}\n",
      "{'close_price': 0.07489, 'level_id': None, 'side': <TradeType.SELL: 2>, 'current_position_average_price': 0.07556976}\n",
      "{'close_price': 0.07489, 'level_id': None, 'side': <TradeType.SELL: 2>, 'current_position_average_price': 0.07564473}\n",
      "{'close_price': 0.07489, 'level_id': None, 'side': <TradeType.SELL: 2>, 'current_position_average_price': 0.0757197}\n",
      "{'close_price': 0.07566, 'level_id': None, 'side': <TradeType.SELL: 2>, 'current_position_average_price': 0.07509502}\n",
      "{'close_price': 0.07566, 'level_id': None, 'side': <TradeType.SELL: 2>, 'current_position_average_price': 0.07517004000000001}\n",
      "{'close_price': 0.07566, 'level_id': None, 'side': <TradeType.SELL: 2>, 'current_position_average_price': 0.07524506}\n",
      "{'close_price': 0.07566, 'level_id': None, 'side': <TradeType.SELL: 2>, 'current_position_average_price': 0.07532008}\n",
      "{'close_price': 0.07566, 'level_id': None, 'side': <TradeType.SELL: 2>, 'current_position_average_price': 0.0753951}\n",
      "{'close_price': 0.07566, 'level_id': None, 'side': <TradeType.SELL: 2>, 'current_position_average_price': 0.07547012}\n",
      "{'close_price': 0.07566, 'level_id': None, 'side': <TradeType.SELL: 2>, 'current_position_average_price': 0.07554514}\n",
      "{'close_price': 0.07566, 'level_id': None, 'side': <TradeType.SELL: 2>, 'current_position_average_price': 0.07562016}\n",
      "{'close_price': 0.07566, 'level_id': None, 'side': <TradeType.SELL: 2>, 'current_position_average_price': 0.07569518}\n",
      "{'close_price': 0.07566, 'level_id': None, 'side': <TradeType.SELL: 2>, 'current_position_average_price': 0.07577020000000001}\n",
      "{'close_price': 0.07546, 'level_id': None, 'side': <TradeType.SELL: 2>, 'current_position_average_price': 0.07555548000000001}\n",
      "{'close_price': 0.07546, 'level_id': None, 'side': <TradeType.SELL: 2>, 'current_position_average_price': 0.07563096000000001}\n",
      "{'close_price': 0.07546, 'level_id': None, 'side': <TradeType.SELL: 2>, 'current_position_average_price': 0.07570644}\n",
      "{'close_price': 0.07546, 'level_id': None, 'side': <TradeType.SELL: 2>, 'current_position_average_price': 0.07578192}\n",
      "{'close_price': 0.07546, 'level_id': None, 'side': <TradeType.SELL: 2>, 'current_position_average_price': 0.0758574}\n",
      "{'close_price': 0.07546, 'level_id': None, 'side': <TradeType.SELL: 2>, 'current_position_average_price': 0.07593288000000001}\n",
      "{'close_price': 0.07546, 'level_id': None, 'side': <TradeType.SELL: 2>, 'current_position_average_price': 0.07600836000000001}\n",
      "{'close_price': 0.07546, 'level_id': None, 'side': <TradeType.SELL: 2>, 'current_position_average_price': 0.07608384}\n",
      "{'close_price': 0.07546, 'level_id': None, 'side': <TradeType.SELL: 2>, 'current_position_average_price': 0.07615932}\n",
      "{'close_price': 0.07546, 'level_id': None, 'side': <TradeType.SELL: 2>, 'current_position_average_price': 0.0762348}\n",
      "{'close_price': 0.07595, 'level_id': None, 'side': <TradeType.SELL: 2>, 'current_position_average_price': 0.07633625999999999}\n",
      "{'close_price': 0.07595, 'level_id': None, 'side': <TradeType.SELL: 2>, 'current_position_average_price': 0.07641252}\n",
      "{'close_price': 0.07595, 'level_id': None, 'side': <TradeType.SELL: 2>, 'current_position_average_price': 0.07648877999999999}\n",
      "{'close_price': 0.07595, 'level_id': None, 'side': <TradeType.SELL: 2>, 'current_position_average_price': 0.07656504}\n",
      "{'close_price': 0.07595, 'level_id': None, 'side': <TradeType.SELL: 2>, 'current_position_average_price': 0.0766413}\n",
      "{'close_price': 0.07595, 'level_id': None, 'side': <TradeType.SELL: 2>, 'current_position_average_price': 0.07671755999999999}\n",
      "{'close_price': 0.07595, 'level_id': None, 'side': <TradeType.SELL: 2>, 'current_position_average_price': 0.07679382}\n",
      "{'close_price': 0.07595, 'level_id': None, 'side': <TradeType.SELL: 2>, 'current_position_average_price': 0.07687008}\n",
      "{'close_price': 0.07595, 'level_id': None, 'side': <TradeType.SELL: 2>, 'current_position_average_price': 0.07694633999999999}\n",
      "{'close_price': 0.07595, 'level_id': None, 'side': <TradeType.SELL: 2>, 'current_position_average_price': 0.0770226}\n",
      "{'close_price': 0.07778, 'level_id': None, 'side': <TradeType.SELL: 2>, 'current_position_average_price': 0.07814807}\n",
      "{'close_price': 0.07778, 'level_id': None, 'side': <TradeType.SELL: 2>, 'current_position_average_price': 0.07822614}\n",
      "{'close_price': 0.07778, 'level_id': None, 'side': <TradeType.SELL: 2>, 'current_position_average_price': 0.07830421}\n",
      "{'close_price': 0.07778, 'level_id': None, 'side': <TradeType.SELL: 2>, 'current_position_average_price': 0.07838228}\n",
      "{'close_price': 0.07778, 'level_id': None, 'side': <TradeType.SELL: 2>, 'current_position_average_price': 0.07846035}\n",
      "{'close_price': 0.07778, 'level_id': None, 'side': <TradeType.SELL: 2>, 'current_position_average_price': 0.07853842}\n",
      "{'close_price': 0.07778, 'level_id': None, 'side': <TradeType.SELL: 2>, 'current_position_average_price': 0.07861649}\n",
      "{'close_price': 0.07778, 'level_id': None, 'side': <TradeType.SELL: 2>, 'current_position_average_price': 0.07869456}\n",
      "{'close_price': 0.07778, 'level_id': None, 'side': <TradeType.SELL: 2>, 'current_position_average_price': 0.07877263}\n",
      "{'close_price': 0.07778, 'level_id': None, 'side': <TradeType.SELL: 2>, 'current_position_average_price': 0.0788507}\n",
      "{'close_price': 0.07982, 'level_id': None, 'side': <TradeType.SELL: 2>, 'current_position_average_price': 0.0789789}\n",
      "{'close_price': 0.07982, 'level_id': None, 'side': <TradeType.SELL: 2>, 'current_position_average_price': 0.0790578}\n",
      "{'close_price': 0.07982, 'level_id': None, 'side': <TradeType.SELL: 2>, 'current_position_average_price': 0.0791367}\n",
      "{'close_price': 0.07982, 'level_id': None, 'side': <TradeType.SELL: 2>, 'current_position_average_price': 0.0792156}\n",
      "{'close_price': 0.07982, 'level_id': None, 'side': <TradeType.SELL: 2>, 'current_position_average_price': 0.0792945}\n",
      "{'close_price': 0.07982, 'level_id': None, 'side': <TradeType.SELL: 2>, 'current_position_average_price': 0.0793734}\n",
      "{'close_price': 0.07982, 'level_id': None, 'side': <TradeType.SELL: 2>, 'current_position_average_price': 0.0794523}\n",
      "{'close_price': 0.07982, 'level_id': None, 'side': <TradeType.SELL: 2>, 'current_position_average_price': 0.0795312}\n",
      "{'close_price': 0.07982, 'level_id': None, 'side': <TradeType.SELL: 2>, 'current_position_average_price': 0.0796101}\n",
      "{'close_price': 0.07982, 'level_id': None, 'side': <TradeType.SELL: 2>, 'current_position_average_price': 0.079689}\n",
      "{'close_price': 0.08081, 'level_id': None, 'side': <TradeType.SELL: 2>, 'current_position_average_price': 0.07989982}\n",
      "{'close_price': 0.08081, 'level_id': None, 'side': <TradeType.SELL: 2>, 'current_position_average_price': 0.07997964}\n",
      "{'close_price': 0.08081, 'level_id': None, 'side': <TradeType.SELL: 2>, 'current_position_average_price': 0.08005946}\n",
      "{'close_price': 0.08081, 'level_id': None, 'side': <TradeType.SELL: 2>, 'current_position_average_price': 0.08013928000000001}\n",
      "{'close_price': 0.08081, 'level_id': None, 'side': <TradeType.SELL: 2>, 'current_position_average_price': 0.0802191}\n",
      "{'close_price': 0.08081, 'level_id': None, 'side': <TradeType.SELL: 2>, 'current_position_average_price': 0.08029892}\n",
      "{'close_price': 0.08081, 'level_id': None, 'side': <TradeType.SELL: 2>, 'current_position_average_price': 0.08037874}\n",
      "{'close_price': 0.08081, 'level_id': None, 'side': <TradeType.SELL: 2>, 'current_position_average_price': 0.08045856}\n",
      "{'close_price': 0.08081, 'level_id': None, 'side': <TradeType.SELL: 2>, 'current_position_average_price': 0.08053838}\n",
      "{'close_price': 0.08081, 'level_id': None, 'side': <TradeType.SELL: 2>, 'current_position_average_price': 0.0806182}\n",
      "{'close_price': 0.08169, 'level_id': None, 'side': <TradeType.SELL: 2>, 'current_position_average_price': 0.08082074}\n",
      "{'close_price': 0.08169, 'level_id': None, 'side': <TradeType.SELL: 2>, 'current_position_average_price': 0.08090148000000001}\n",
      "{'close_price': 0.08169, 'level_id': None, 'side': <TradeType.SELL: 2>, 'current_position_average_price': 0.08098222000000001}\n",
      "{'close_price': 0.08169, 'level_id': None, 'side': <TradeType.SELL: 2>, 'current_position_average_price': 0.08106296}\n",
      "{'close_price': 0.08169, 'level_id': None, 'side': <TradeType.SELL: 2>, 'current_position_average_price': 0.08114370000000001}\n",
      "{'close_price': 0.08169, 'level_id': None, 'side': <TradeType.SELL: 2>, 'current_position_average_price': 0.08122444000000001}\n",
      "{'close_price': 0.08169, 'level_id': None, 'side': <TradeType.SELL: 2>, 'current_position_average_price': 0.08130518}\n",
      "{'close_price': 0.08169, 'level_id': None, 'side': <TradeType.SELL: 2>, 'current_position_average_price': 0.08138592}\n",
      "{'close_price': 0.08169, 'level_id': None, 'side': <TradeType.SELL: 2>, 'current_position_average_price': 0.08146666000000001}\n",
      "{'close_price': 0.08169, 'level_id': None, 'side': <TradeType.SELL: 2>, 'current_position_average_price': 0.0815474}\n",
      "{'close_price': 0.08269, 'level_id': None, 'side': <TradeType.SELL: 2>, 'current_position_average_price': 0.08346337999999999}\n",
      "{'close_price': 0.08269, 'level_id': None, 'side': <TradeType.SELL: 2>, 'current_position_average_price': 0.08354676}\n",
      "{'close_price': 0.08269, 'level_id': None, 'side': <TradeType.SELL: 2>, 'current_position_average_price': 0.08363013999999999}\n",
      "{'close_price': 0.08269, 'level_id': None, 'side': <TradeType.SELL: 2>, 'current_position_average_price': 0.08371352}\n",
      "{'close_price': 0.08269, 'level_id': None, 'side': <TradeType.SELL: 2>, 'current_position_average_price': 0.0837969}\n",
      "{'close_price': 0.08269, 'level_id': None, 'side': <TradeType.SELL: 2>, 'current_position_average_price': 0.08388028}\n",
      "{'close_price': 0.08269, 'level_id': None, 'side': <TradeType.SELL: 2>, 'current_position_average_price': 0.08396366}\n",
      "{'close_price': 0.08269, 'level_id': None, 'side': <TradeType.SELL: 2>, 'current_position_average_price': 0.08404703999999999}\n",
      "{'close_price': 0.08269, 'level_id': None, 'side': <TradeType.SELL: 2>, 'current_position_average_price': 0.08413042}\n",
      "{'close_price': 0.08269, 'level_id': None, 'side': <TradeType.SELL: 2>, 'current_position_average_price': 0.08421379999999999}\n",
      "{'close_price': 0.08133, 'level_id': None, 'side': <TradeType.BUY: 1>, 'current_position_average_price': 0.08110881}\n",
      "{'close_price': 0.08133, 'level_id': None, 'side': <TradeType.BUY: 1>, 'current_position_average_price': 0.08102762}\n",
      "{'close_price': 0.08133, 'level_id': None, 'side': <TradeType.BUY: 1>, 'current_position_average_price': 0.08094643}\n",
      "{'close_price': 0.08133, 'level_id': None, 'side': <TradeType.BUY: 1>, 'current_position_average_price': 0.08086524}\n",
      "{'close_price': 0.08133, 'level_id': None, 'side': <TradeType.BUY: 1>, 'current_position_average_price': 0.08078405}\n",
      "{'close_price': 0.08133, 'level_id': None, 'side': <TradeType.BUY: 1>, 'current_position_average_price': 0.08070286}\n",
      "{'close_price': 0.08133, 'level_id': None, 'side': <TradeType.BUY: 1>, 'current_position_average_price': 0.08062166999999999}\n",
      "{'close_price': 0.08133, 'level_id': None, 'side': <TradeType.BUY: 1>, 'current_position_average_price': 0.08054048}\n",
      "{'close_price': 0.08133, 'level_id': None, 'side': <TradeType.BUY: 1>, 'current_position_average_price': 0.08045929}\n",
      "{'close_price': 0.08133, 'level_id': None, 'side': <TradeType.BUY: 1>, 'current_position_average_price': 0.0803781}\n",
      "{'close_price': 0.08497, 'level_id': None, 'side': <TradeType.SELL: 2>, 'current_position_average_price': 0.08362354}\n",
      "{'close_price': 0.08497, 'level_id': None, 'side': <TradeType.SELL: 2>, 'current_position_average_price': 0.08370708}\n",
      "{'close_price': 0.08497, 'level_id': None, 'side': <TradeType.SELL: 2>, 'current_position_average_price': 0.08379062000000001}\n",
      "{'close_price': 0.08497, 'level_id': None, 'side': <TradeType.SELL: 2>, 'current_position_average_price': 0.08387416}\n",
      "{'close_price': 0.08497, 'level_id': None, 'side': <TradeType.SELL: 2>, 'current_position_average_price': 0.08395770000000001}\n",
      "{'close_price': 0.08497, 'level_id': None, 'side': <TradeType.SELL: 2>, 'current_position_average_price': 0.08404124}\n",
      "{'close_price': 0.08497, 'level_id': None, 'side': <TradeType.SELL: 2>, 'current_position_average_price': 0.08412478000000001}\n",
      "{'close_price': 0.08497, 'level_id': None, 'side': <TradeType.SELL: 2>, 'current_position_average_price': 0.08420832}\n",
      "{'close_price': 0.08497, 'level_id': None, 'side': <TradeType.SELL: 2>, 'current_position_average_price': 0.08429186}\n",
      "{'close_price': 0.08497, 'level_id': None, 'side': <TradeType.SELL: 2>, 'current_position_average_price': 0.0843754}\n",
      "{'close_price': 0.08375, 'level_id': None, 'side': <TradeType.SELL: 2>, 'current_position_average_price': 0.08466458}\n",
      "{'close_price': 0.08375, 'level_id': None, 'side': <TradeType.SELL: 2>, 'current_position_average_price': 0.08474916}\n",
      "{'close_price': 0.08375, 'level_id': None, 'side': <TradeType.SELL: 2>, 'current_position_average_price': 0.08483374}\n",
      "{'close_price': 0.08375, 'level_id': None, 'side': <TradeType.SELL: 2>, 'current_position_average_price': 0.08491832}\n",
      "{'close_price': 0.08375, 'level_id': None, 'side': <TradeType.SELL: 2>, 'current_position_average_price': 0.0850029}\n",
      "{'close_price': 0.08375, 'level_id': None, 'side': <TradeType.SELL: 2>, 'current_position_average_price': 0.08508748000000001}\n",
      "{'close_price': 0.08375, 'level_id': None, 'side': <TradeType.SELL: 2>, 'current_position_average_price': 0.08517206000000001}\n",
      "{'close_price': 0.08375, 'level_id': None, 'side': <TradeType.SELL: 2>, 'current_position_average_price': 0.08525664000000001}\n",
      "{'close_price': 0.08375, 'level_id': None, 'side': <TradeType.SELL: 2>, 'current_position_average_price': 0.08534122000000001}\n",
      "{'close_price': 0.08375, 'level_id': None, 'side': <TradeType.SELL: 2>, 'current_position_average_price': 0.0854258}\n"
     ]
    },
    {
     "data": {
      "application/vnd.plotly.v1+json": {
       "config": {
        "plotlyServerURL": "https://plot.ly"
       },
       "data": [
        {
         "line": {
          "color": "blue"
         },
         "mode": "lines",
         "type": "scatter",
         "x": [
          "2025-03-31T20:19:00.000000000",
          "2025-03-31T20:20:00.000000000",
          "2025-03-31T20:21:00.000000000",
          "2025-03-31T20:22:00.000000000",
          "2025-03-31T20:23:00.000000000",
          "2025-03-31T20:24:00.000000000",
          "2025-03-31T20:25:00.000000000",
          "2025-03-31T20:26:00.000000000",
          "2025-03-31T20:27:00.000000000",
          "2025-03-31T20:28:00.000000000",
          "2025-03-31T20:29:00.000000000",
          "2025-03-31T20:30:00.000000000",
          "2025-03-31T20:31:00.000000000",
          "2025-03-31T20:32:00.000000000",
          "2025-03-31T20:33:00.000000000",
          "2025-03-31T20:34:00.000000000",
          "2025-03-31T20:35:00.000000000",
          "2025-03-31T20:36:00.000000000",
          "2025-03-31T20:37:00.000000000",
          "2025-03-31T20:38:00.000000000",
          "2025-03-31T20:39:00.000000000",
          "2025-03-31T20:40:00.000000000",
          "2025-03-31T20:41:00.000000000",
          "2025-03-31T20:42:00.000000000",
          "2025-03-31T20:43:00.000000000",
          "2025-03-31T20:44:00.000000000",
          "2025-03-31T20:45:00.000000000",
          "2025-03-31T20:46:00.000000000",
          "2025-03-31T20:47:00.000000000",
          "2025-03-31T20:48:00.000000000",
          "2025-03-31T20:49:00.000000000",
          "2025-03-31T20:50:00.000000000",
          "2025-03-31T20:51:00.000000000",
          "2025-03-31T20:52:00.000000000",
          "2025-03-31T20:53:00.000000000",
          "2025-03-31T20:54:00.000000000",
          "2025-03-31T20:55:00.000000000",
          "2025-03-31T20:56:00.000000000",
          "2025-03-31T20:57:00.000000000",
          "2025-03-31T20:58:00.000000000",
          "2025-03-31T20:59:00.000000000",
          "2025-03-31T21:00:00.000000000",
          "2025-03-31T21:01:00.000000000",
          "2025-03-31T21:02:00.000000000",
          "2025-03-31T21:03:00.000000000",
          "2025-03-31T21:04:00.000000000",
          "2025-03-31T21:05:00.000000000",
          "2025-03-31T21:06:00.000000000",
          "2025-03-31T21:07:00.000000000",
          "2025-03-31T21:08:00.000000000",
          "2025-03-31T21:09:00.000000000",
          "2025-03-31T21:10:00.000000000",
          "2025-03-31T21:11:00.000000000",
          "2025-03-31T21:12:00.000000000",
          "2025-03-31T21:13:00.000000000",
          "2025-03-31T21:14:00.000000000",
          "2025-03-31T21:15:00.000000000",
          "2025-03-31T21:16:00.000000000",
          "2025-03-31T21:17:00.000000000",
          "2025-03-31T21:18:00.000000000",
          "2025-03-31T21:19:00.000000000",
          "2025-03-31T21:20:00.000000000",
          "2025-03-31T21:21:00.000000000",
          "2025-03-31T21:22:00.000000000",
          "2025-03-31T21:23:00.000000000",
          "2025-03-31T21:24:00.000000000",
          "2025-03-31T21:25:00.000000000",
          "2025-03-31T21:26:00.000000000",
          "2025-03-31T21:27:00.000000000",
          "2025-03-31T21:28:00.000000000",
          "2025-03-31T21:29:00.000000000",
          "2025-03-31T21:30:00.000000000",
          "2025-03-31T21:31:00.000000000",
          "2025-03-31T21:32:00.000000000",
          "2025-03-31T21:33:00.000000000",
          "2025-03-31T21:34:00.000000000",
          "2025-03-31T21:35:00.000000000",
          "2025-03-31T21:36:00.000000000",
          "2025-03-31T21:37:00.000000000",
          "2025-03-31T21:38:00.000000000",
          "2025-03-31T21:39:00.000000000",
          "2025-03-31T21:40:00.000000000",
          "2025-03-31T21:41:00.000000000",
          "2025-03-31T21:42:00.000000000",
          "2025-03-31T21:43:00.000000000",
          "2025-03-31T21:44:00.000000000",
          "2025-03-31T21:45:00.000000000",
          "2025-03-31T21:46:00.000000000",
          "2025-03-31T21:47:00.000000000",
          "2025-03-31T21:48:00.000000000",
          "2025-03-31T21:49:00.000000000",
          "2025-03-31T21:50:00.000000000",
          "2025-03-31T21:51:00.000000000",
          "2025-03-31T21:52:00.000000000",
          "2025-03-31T21:53:00.000000000",
          "2025-03-31T21:54:00.000000000",
          "2025-03-31T21:55:00.000000000",
          "2025-03-31T21:56:00.000000000",
          "2025-03-31T21:57:00.000000000",
          "2025-03-31T21:58:00.000000000",
          "2025-03-31T21:59:00.000000000",
          "2025-03-31T22:00:00.000000000",
          "2025-03-31T22:01:00.000000000",
          "2025-03-31T22:02:00.000000000",
          "2025-03-31T22:03:00.000000000",
          "2025-03-31T22:04:00.000000000",
          "2025-03-31T22:05:00.000000000",
          "2025-03-31T22:06:00.000000000",
          "2025-03-31T22:07:00.000000000",
          "2025-03-31T22:08:00.000000000",
          "2025-03-31T22:09:00.000000000",
          "2025-03-31T22:10:00.000000000",
          "2025-03-31T22:11:00.000000000",
          "2025-03-31T22:12:00.000000000",
          "2025-03-31T22:13:00.000000000",
          "2025-03-31T22:14:00.000000000",
          "2025-03-31T22:15:00.000000000",
          "2025-03-31T22:16:00.000000000",
          "2025-03-31T22:17:00.000000000",
          "2025-03-31T22:18:00.000000000",
          "2025-03-31T22:19:00.000000000",
          "2025-03-31T22:20:00.000000000",
          "2025-03-31T22:21:00.000000000",
          "2025-03-31T22:22:00.000000000",
          "2025-03-31T22:23:00.000000000",
          "2025-03-31T22:24:00.000000000",
          "2025-03-31T22:25:00.000000000",
          "2025-03-31T22:26:00.000000000",
          "2025-03-31T22:27:00.000000000",
          "2025-03-31T22:28:00.000000000",
          "2025-03-31T22:29:00.000000000",
          "2025-03-31T22:30:00.000000000",
          "2025-03-31T22:31:00.000000000",
          "2025-03-31T22:32:00.000000000",
          "2025-03-31T22:33:00.000000000",
          "2025-03-31T22:34:00.000000000",
          "2025-03-31T22:35:00.000000000",
          "2025-03-31T22:36:00.000000000",
          "2025-03-31T22:37:00.000000000",
          "2025-03-31T22:38:00.000000000",
          "2025-03-31T22:39:00.000000000",
          "2025-03-31T22:40:00.000000000",
          "2025-03-31T22:41:00.000000000",
          "2025-03-31T22:42:00.000000000",
          "2025-03-31T22:43:00.000000000",
          "2025-03-31T22:44:00.000000000",
          "2025-03-31T22:45:00.000000000",
          "2025-03-31T22:46:00.000000000",
          "2025-03-31T22:47:00.000000000",
          "2025-03-31T22:48:00.000000000",
          "2025-03-31T22:49:00.000000000",
          "2025-03-31T22:50:00.000000000",
          "2025-03-31T22:51:00.000000000",
          "2025-03-31T22:52:00.000000000",
          "2025-03-31T22:53:00.000000000",
          "2025-03-31T22:54:00.000000000",
          "2025-03-31T22:55:00.000000000",
          "2025-03-31T22:56:00.000000000",
          "2025-03-31T22:57:00.000000000",
          "2025-03-31T22:58:00.000000000",
          "2025-03-31T22:59:00.000000000",
          "2025-03-31T23:00:00.000000000",
          "2025-03-31T23:01:00.000000000",
          "2025-03-31T23:02:00.000000000",
          "2025-03-31T23:03:00.000000000",
          "2025-03-31T23:04:00.000000000",
          "2025-03-31T23:05:00.000000000",
          "2025-03-31T23:06:00.000000000",
          "2025-03-31T23:07:00.000000000",
          "2025-03-31T23:08:00.000000000",
          "2025-03-31T23:09:00.000000000",
          "2025-03-31T23:10:00.000000000",
          "2025-03-31T23:11:00.000000000",
          "2025-03-31T23:12:00.000000000",
          "2025-03-31T23:13:00.000000000",
          "2025-03-31T23:14:00.000000000",
          "2025-03-31T23:15:00.000000000",
          "2025-03-31T23:16:00.000000000",
          "2025-03-31T23:17:00.000000000",
          "2025-03-31T23:18:00.000000000",
          "2025-03-31T23:19:00.000000000",
          "2025-03-31T23:20:00.000000000",
          "2025-03-31T23:21:00.000000000",
          "2025-03-31T23:22:00.000000000",
          "2025-03-31T23:23:00.000000000",
          "2025-03-31T23:24:00.000000000",
          "2025-03-31T23:25:00.000000000",
          "2025-03-31T23:26:00.000000000",
          "2025-03-31T23:27:00.000000000",
          "2025-03-31T23:28:00.000000000",
          "2025-03-31T23:29:00.000000000",
          "2025-03-31T23:30:00.000000000",
          "2025-03-31T23:31:00.000000000",
          "2025-03-31T23:32:00.000000000",
          "2025-03-31T23:33:00.000000000",
          "2025-03-31T23:34:00.000000000",
          "2025-03-31T23:35:00.000000000",
          "2025-03-31T23:36:00.000000000",
          "2025-03-31T23:37:00.000000000",
          "2025-03-31T23:38:00.000000000",
          "2025-03-31T23:39:00.000000000",
          "2025-03-31T23:40:00.000000000",
          "2025-03-31T23:41:00.000000000",
          "2025-03-31T23:42:00.000000000",
          "2025-03-31T23:43:00.000000000",
          "2025-03-31T23:44:00.000000000",
          "2025-03-31T23:45:00.000000000",
          "2025-03-31T23:46:00.000000000",
          "2025-03-31T23:47:00.000000000",
          "2025-03-31T23:48:00.000000000",
          "2025-03-31T23:49:00.000000000",
          "2025-03-31T23:50:00.000000000",
          "2025-03-31T23:51:00.000000000",
          "2025-03-31T23:52:00.000000000",
          "2025-03-31T23:53:00.000000000",
          "2025-03-31T23:54:00.000000000",
          "2025-03-31T23:55:00.000000000",
          "2025-03-31T23:56:00.000000000",
          "2025-03-31T23:57:00.000000000",
          "2025-03-31T23:58:00.000000000",
          "2025-03-31T23:59:00.000000000",
          "2025-04-01T00:00:00.000000000",
          "2025-04-01T00:01:00.000000000",
          "2025-04-01T00:02:00.000000000",
          "2025-04-01T00:03:00.000000000",
          "2025-04-01T00:04:00.000000000",
          "2025-04-01T00:05:00.000000000",
          "2025-04-01T00:06:00.000000000",
          "2025-04-01T00:07:00.000000000",
          "2025-04-01T00:08:00.000000000",
          "2025-04-01T00:09:00.000000000",
          "2025-04-01T00:10:00.000000000",
          "2025-04-01T00:11:00.000000000",
          "2025-04-01T00:12:00.000000000",
          "2025-04-01T00:13:00.000000000",
          "2025-04-01T00:14:00.000000000",
          "2025-04-01T00:15:00.000000000",
          "2025-04-01T00:16:00.000000000",
          "2025-04-01T00:17:00.000000000",
          "2025-04-01T00:18:00.000000000",
          "2025-04-01T00:19:00.000000000",
          "2025-04-01T00:20:00.000000000",
          "2025-04-01T00:21:00.000000000",
          "2025-04-01T00:22:00.000000000",
          "2025-04-01T00:23:00.000000000",
          "2025-04-01T00:24:00.000000000",
          "2025-04-01T00:25:00.000000000",
          "2025-04-01T00:26:00.000000000",
          "2025-04-01T00:27:00.000000000",
          "2025-04-01T00:28:00.000000000",
          "2025-04-01T00:29:00.000000000",
          "2025-04-01T00:30:00.000000000",
          "2025-04-01T00:31:00.000000000",
          "2025-04-01T00:32:00.000000000",
          "2025-04-01T00:33:00.000000000",
          "2025-04-01T00:34:00.000000000",
          "2025-04-01T00:35:00.000000000",
          "2025-04-01T00:36:00.000000000",
          "2025-04-01T00:37:00.000000000",
          "2025-04-01T00:38:00.000000000",
          "2025-04-01T00:39:00.000000000",
          "2025-04-01T00:40:00.000000000",
          "2025-04-01T00:41:00.000000000",
          "2025-04-01T00:42:00.000000000",
          "2025-04-01T00:43:00.000000000",
          "2025-04-01T00:44:00.000000000",
          "2025-04-01T00:45:00.000000000",
          "2025-04-01T00:46:00.000000000",
          "2025-04-01T00:47:00.000000000",
          "2025-04-01T00:48:00.000000000",
          "2025-04-01T00:49:00.000000000",
          "2025-04-01T00:50:00.000000000",
          "2025-04-01T00:51:00.000000000",
          "2025-04-01T00:52:00.000000000",
          "2025-04-01T00:53:00.000000000",
          "2025-04-01T00:54:00.000000000",
          "2025-04-01T00:55:00.000000000",
          "2025-04-01T00:56:00.000000000",
          "2025-04-01T00:57:00.000000000",
          "2025-04-01T00:58:00.000000000",
          "2025-04-01T00:59:00.000000000",
          "2025-04-01T01:00:00.000000000",
          "2025-04-01T01:01:00.000000000",
          "2025-04-01T01:02:00.000000000",
          "2025-04-01T01:03:00.000000000",
          "2025-04-01T01:04:00.000000000",
          "2025-04-01T01:05:00.000000000",
          "2025-04-01T01:06:00.000000000",
          "2025-04-01T01:07:00.000000000",
          "2025-04-01T01:08:00.000000000",
          "2025-04-01T01:09:00.000000000",
          "2025-04-01T01:10:00.000000000",
          "2025-04-01T01:11:00.000000000",
          "2025-04-01T01:12:00.000000000",
          "2025-04-01T01:13:00.000000000",
          "2025-04-01T01:14:00.000000000",
          "2025-04-01T01:15:00.000000000",
          "2025-04-01T01:16:00.000000000",
          "2025-04-01T01:17:00.000000000",
          "2025-04-01T01:18:00.000000000",
          "2025-04-01T01:19:00.000000000",
          "2025-04-01T01:20:00.000000000",
          "2025-04-01T01:21:00.000000000",
          "2025-04-01T01:22:00.000000000",
          "2025-04-01T01:23:00.000000000",
          "2025-04-01T01:24:00.000000000",
          "2025-04-01T01:25:00.000000000",
          "2025-04-01T01:26:00.000000000",
          "2025-04-01T01:27:00.000000000",
          "2025-04-01T01:28:00.000000000",
          "2025-04-01T01:29:00.000000000",
          "2025-04-01T01:30:00.000000000",
          "2025-04-01T01:31:00.000000000",
          "2025-04-01T01:32:00.000000000",
          "2025-04-01T01:33:00.000000000",
          "2025-04-01T01:34:00.000000000",
          "2025-04-01T01:35:00.000000000",
          "2025-04-01T01:36:00.000000000",
          "2025-04-01T01:37:00.000000000",
          "2025-04-01T01:38:00.000000000",
          "2025-04-01T01:39:00.000000000",
          "2025-04-01T01:40:00.000000000",
          "2025-04-01T01:41:00.000000000",
          "2025-04-01T01:42:00.000000000",
          "2025-04-01T01:43:00.000000000",
          "2025-04-01T01:44:00.000000000",
          "2025-04-01T01:45:00.000000000",
          "2025-04-01T01:46:00.000000000",
          "2025-04-01T01:47:00.000000000",
          "2025-04-01T01:48:00.000000000",
          "2025-04-01T01:49:00.000000000",
          "2025-04-01T01:50:00.000000000",
          "2025-04-01T01:51:00.000000000",
          "2025-04-01T01:52:00.000000000",
          "2025-04-01T01:53:00.000000000",
          "2025-04-01T01:54:00.000000000",
          "2025-04-01T01:55:00.000000000",
          "2025-04-01T01:56:00.000000000",
          "2025-04-01T01:57:00.000000000",
          "2025-04-01T01:58:00.000000000",
          "2025-04-01T01:59:00.000000000",
          "2025-04-01T02:00:00.000000000",
          "2025-04-01T02:01:00.000000000",
          "2025-04-01T02:02:00.000000000",
          "2025-04-01T02:03:00.000000000",
          "2025-04-01T02:04:00.000000000",
          "2025-04-01T02:05:00.000000000",
          "2025-04-01T02:06:00.000000000",
          "2025-04-01T02:07:00.000000000",
          "2025-04-01T02:08:00.000000000",
          "2025-04-01T02:09:00.000000000",
          "2025-04-01T02:10:00.000000000",
          "2025-04-01T02:11:00.000000000",
          "2025-04-01T02:12:00.000000000",
          "2025-04-01T02:13:00.000000000",
          "2025-04-01T02:14:00.000000000",
          "2025-04-01T02:15:00.000000000",
          "2025-04-01T02:16:00.000000000",
          "2025-04-01T02:17:00.000000000",
          "2025-04-01T02:18:00.000000000",
          "2025-04-01T02:19:00.000000000",
          "2025-04-01T02:20:00.000000000",
          "2025-04-01T02:21:00.000000000",
          "2025-04-01T02:22:00.000000000",
          "2025-04-01T02:23:00.000000000",
          "2025-04-01T02:24:00.000000000",
          "2025-04-01T02:25:00.000000000",
          "2025-04-01T02:26:00.000000000",
          "2025-04-01T02:27:00.000000000",
          "2025-04-01T02:28:00.000000000",
          "2025-04-01T02:29:00.000000000",
          "2025-04-01T02:30:00.000000000",
          "2025-04-01T02:31:00.000000000",
          "2025-04-01T02:32:00.000000000",
          "2025-04-01T02:33:00.000000000",
          "2025-04-01T02:34:00.000000000",
          "2025-04-01T02:35:00.000000000",
          "2025-04-01T02:36:00.000000000",
          "2025-04-01T02:37:00.000000000",
          "2025-04-01T02:38:00.000000000",
          "2025-04-01T02:39:00.000000000",
          "2025-04-01T02:40:00.000000000",
          "2025-04-01T02:41:00.000000000",
          "2025-04-01T02:42:00.000000000",
          "2025-04-01T02:43:00.000000000",
          "2025-04-01T02:44:00.000000000",
          "2025-04-01T02:45:00.000000000",
          "2025-04-01T02:46:00.000000000",
          "2025-04-01T02:47:00.000000000",
          "2025-04-01T02:48:00.000000000",
          "2025-04-01T02:49:00.000000000",
          "2025-04-01T02:50:00.000000000",
          "2025-04-01T02:51:00.000000000",
          "2025-04-01T02:52:00.000000000",
          "2025-04-01T02:53:00.000000000",
          "2025-04-01T02:54:00.000000000",
          "2025-04-01T02:55:00.000000000",
          "2025-04-01T02:56:00.000000000",
          "2025-04-01T02:57:00.000000000",
          "2025-04-01T02:58:00.000000000",
          "2025-04-01T02:59:00.000000000",
          "2025-04-01T03:00:00.000000000",
          "2025-04-01T03:01:00.000000000",
          "2025-04-01T03:02:00.000000000",
          "2025-04-01T03:03:00.000000000",
          "2025-04-01T03:04:00.000000000",
          "2025-04-01T03:05:00.000000000",
          "2025-04-01T03:06:00.000000000",
          "2025-04-01T03:07:00.000000000",
          "2025-04-01T03:08:00.000000000",
          "2025-04-01T03:09:00.000000000",
          "2025-04-01T03:10:00.000000000",
          "2025-04-01T03:11:00.000000000",
          "2025-04-01T03:12:00.000000000",
          "2025-04-01T03:13:00.000000000",
          "2025-04-01T03:14:00.000000000",
          "2025-04-01T03:15:00.000000000",
          "2025-04-01T03:16:00.000000000",
          "2025-04-01T03:17:00.000000000",
          "2025-04-01T03:18:00.000000000",
          "2025-04-01T03:19:00.000000000",
          "2025-04-01T03:20:00.000000000",
          "2025-04-01T03:21:00.000000000",
          "2025-04-01T03:22:00.000000000",
          "2025-04-01T03:23:00.000000000",
          "2025-04-01T03:24:00.000000000",
          "2025-04-01T03:25:00.000000000",
          "2025-04-01T03:26:00.000000000",
          "2025-04-01T03:27:00.000000000",
          "2025-04-01T03:28:00.000000000",
          "2025-04-01T03:29:00.000000000",
          "2025-04-01T03:30:00.000000000",
          "2025-04-01T03:31:00.000000000",
          "2025-04-01T03:32:00.000000000",
          "2025-04-01T03:33:00.000000000",
          "2025-04-01T03:34:00.000000000",
          "2025-04-01T03:35:00.000000000",
          "2025-04-01T03:36:00.000000000",
          "2025-04-01T03:37:00.000000000",
          "2025-04-01T03:38:00.000000000",
          "2025-04-01T03:39:00.000000000",
          "2025-04-01T03:40:00.000000000",
          "2025-04-01T03:41:00.000000000",
          "2025-04-01T03:42:00.000000000",
          "2025-04-01T03:43:00.000000000",
          "2025-04-01T03:44:00.000000000",
          "2025-04-01T03:45:00.000000000",
          "2025-04-01T03:46:00.000000000",
          "2025-04-01T03:47:00.000000000",
          "2025-04-01T03:48:00.000000000",
          "2025-04-01T03:49:00.000000000",
          "2025-04-01T03:50:00.000000000",
          "2025-04-01T03:51:00.000000000",
          "2025-04-01T03:52:00.000000000",
          "2025-04-01T03:53:00.000000000",
          "2025-04-01T03:54:00.000000000",
          "2025-04-01T03:55:00.000000000",
          "2025-04-01T03:56:00.000000000",
          "2025-04-01T03:57:00.000000000",
          "2025-04-01T03:58:00.000000000",
          "2025-04-01T03:59:00.000000000",
          "2025-04-01T04:00:00.000000000",
          "2025-04-01T04:01:00.000000000",
          "2025-04-01T04:02:00.000000000",
          "2025-04-01T04:03:00.000000000",
          "2025-04-01T04:04:00.000000000",
          "2025-04-01T04:05:00.000000000",
          "2025-04-01T04:06:00.000000000",
          "2025-04-01T04:07:00.000000000",
          "2025-04-01T04:08:00.000000000",
          "2025-04-01T04:09:00.000000000",
          "2025-04-01T04:10:00.000000000",
          "2025-04-01T04:11:00.000000000",
          "2025-04-01T04:12:00.000000000",
          "2025-04-01T04:13:00.000000000",
          "2025-04-01T04:14:00.000000000",
          "2025-04-01T04:15:00.000000000",
          "2025-04-01T04:16:00.000000000",
          "2025-04-01T04:17:00.000000000",
          "2025-04-01T04:18:00.000000000",
          "2025-04-01T04:19:00.000000000",
          "2025-04-01T04:20:00.000000000",
          "2025-04-01T04:21:00.000000000",
          "2025-04-01T04:22:00.000000000",
          "2025-04-01T04:23:00.000000000",
          "2025-04-01T04:24:00.000000000",
          "2025-04-01T04:25:00.000000000",
          "2025-04-01T04:26:00.000000000",
          "2025-04-01T04:27:00.000000000",
          "2025-04-01T04:28:00.000000000",
          "2025-04-01T04:29:00.000000000",
          "2025-04-01T04:30:00.000000000",
          "2025-04-01T04:31:00.000000000",
          "2025-04-01T04:32:00.000000000",
          "2025-04-01T04:33:00.000000000",
          "2025-04-01T04:34:00.000000000",
          "2025-04-01T04:35:00.000000000",
          "2025-04-01T04:36:00.000000000",
          "2025-04-01T04:37:00.000000000",
          "2025-04-01T04:38:00.000000000",
          "2025-04-01T04:39:00.000000000",
          "2025-04-01T04:40:00.000000000",
          "2025-04-01T04:41:00.000000000",
          "2025-04-01T04:42:00.000000000",
          "2025-04-01T04:43:00.000000000",
          "2025-04-01T04:44:00.000000000",
          "2025-04-01T04:45:00.000000000",
          "2025-04-01T04:46:00.000000000",
          "2025-04-01T04:47:00.000000000",
          "2025-04-01T04:48:00.000000000",
          "2025-04-01T04:49:00.000000000",
          "2025-04-01T04:50:00.000000000",
          "2025-04-01T04:51:00.000000000",
          "2025-04-01T04:52:00.000000000",
          "2025-04-01T04:53:00.000000000",
          "2025-04-01T04:54:00.000000000",
          "2025-04-01T04:55:00.000000000",
          "2025-04-01T04:56:00.000000000",
          "2025-04-01T04:57:00.000000000",
          "2025-04-01T04:58:00.000000000",
          "2025-04-01T04:59:00.000000000",
          "2025-04-01T05:00:00.000000000",
          "2025-04-01T05:01:00.000000000",
          "2025-04-01T05:02:00.000000000",
          "2025-04-01T05:03:00.000000000",
          "2025-04-01T05:04:00.000000000",
          "2025-04-01T05:05:00.000000000",
          "2025-04-01T05:06:00.000000000",
          "2025-04-01T05:07:00.000000000",
          "2025-04-01T05:08:00.000000000",
          "2025-04-01T05:09:00.000000000",
          "2025-04-01T05:10:00.000000000",
          "2025-04-01T05:11:00.000000000",
          "2025-04-01T05:12:00.000000000",
          "2025-04-01T05:13:00.000000000",
          "2025-04-01T05:14:00.000000000",
          "2025-04-01T05:15:00.000000000",
          "2025-04-01T05:16:00.000000000",
          "2025-04-01T05:17:00.000000000",
          "2025-04-01T05:18:00.000000000",
          "2025-04-01T05:19:00.000000000",
          "2025-04-01T05:20:00.000000000",
          "2025-04-01T05:21:00.000000000",
          "2025-04-01T05:22:00.000000000",
          "2025-04-01T05:23:00.000000000",
          "2025-04-01T05:24:00.000000000",
          "2025-04-01T05:25:00.000000000",
          "2025-04-01T05:26:00.000000000",
          "2025-04-01T05:27:00.000000000",
          "2025-04-01T05:28:00.000000000",
          "2025-04-01T05:29:00.000000000",
          "2025-04-01T05:30:00.000000000",
          "2025-04-01T05:31:00.000000000",
          "2025-04-01T05:32:00.000000000",
          "2025-04-01T05:33:00.000000000",
          "2025-04-01T05:34:00.000000000",
          "2025-04-01T05:35:00.000000000",
          "2025-04-01T05:36:00.000000000",
          "2025-04-01T05:37:00.000000000",
          "2025-04-01T05:38:00.000000000",
          "2025-04-01T05:39:00.000000000",
          "2025-04-01T05:40:00.000000000",
          "2025-04-01T05:41:00.000000000",
          "2025-04-01T05:42:00.000000000",
          "2025-04-01T05:43:00.000000000",
          "2025-04-01T05:44:00.000000000",
          "2025-04-01T05:45:00.000000000",
          "2025-04-01T05:46:00.000000000",
          "2025-04-01T05:47:00.000000000",
          "2025-04-01T05:48:00.000000000",
          "2025-04-01T05:49:00.000000000",
          "2025-04-01T05:50:00.000000000",
          "2025-04-01T05:51:00.000000000",
          "2025-04-01T05:52:00.000000000",
          "2025-04-01T05:53:00.000000000",
          "2025-04-01T05:54:00.000000000",
          "2025-04-01T05:55:00.000000000",
          "2025-04-01T05:56:00.000000000",
          "2025-04-01T05:57:00.000000000",
          "2025-04-01T05:58:00.000000000",
          "2025-04-01T05:59:00.000000000",
          "2025-04-01T06:00:00.000000000",
          "2025-04-01T06:01:00.000000000",
          "2025-04-01T06:02:00.000000000",
          "2025-04-01T06:03:00.000000000",
          "2025-04-01T06:04:00.000000000",
          "2025-04-01T06:05:00.000000000",
          "2025-04-01T06:06:00.000000000",
          "2025-04-01T06:07:00.000000000",
          "2025-04-01T06:08:00.000000000",
          "2025-04-01T06:09:00.000000000",
          "2025-04-01T06:10:00.000000000",
          "2025-04-01T06:11:00.000000000",
          "2025-04-01T06:12:00.000000000",
          "2025-04-01T06:13:00.000000000",
          "2025-04-01T06:14:00.000000000",
          "2025-04-01T06:15:00.000000000",
          "2025-04-01T06:16:00.000000000",
          "2025-04-01T06:17:00.000000000",
          "2025-04-01T06:18:00.000000000",
          "2025-04-01T06:19:00.000000000",
          "2025-04-01T06:20:00.000000000",
          "2025-04-01T06:21:00.000000000",
          "2025-04-01T06:22:00.000000000",
          "2025-04-01T06:23:00.000000000",
          "2025-04-01T06:24:00.000000000",
          "2025-04-01T06:25:00.000000000",
          "2025-04-01T06:26:00.000000000",
          "2025-04-01T06:27:00.000000000",
          "2025-04-01T06:28:00.000000000",
          "2025-04-01T06:29:00.000000000",
          "2025-04-01T06:30:00.000000000",
          "2025-04-01T06:31:00.000000000",
          "2025-04-01T06:32:00.000000000",
          "2025-04-01T06:33:00.000000000",
          "2025-04-01T06:34:00.000000000",
          "2025-04-01T06:35:00.000000000",
          "2025-04-01T06:36:00.000000000",
          "2025-04-01T06:37:00.000000000",
          "2025-04-01T06:38:00.000000000",
          "2025-04-01T06:39:00.000000000",
          "2025-04-01T06:40:00.000000000",
          "2025-04-01T06:41:00.000000000",
          "2025-04-01T06:42:00.000000000",
          "2025-04-01T06:43:00.000000000",
          "2025-04-01T06:44:00.000000000",
          "2025-04-01T06:45:00.000000000",
          "2025-04-01T06:46:00.000000000",
          "2025-04-01T06:47:00.000000000",
          "2025-04-01T06:48:00.000000000",
          "2025-04-01T06:49:00.000000000",
          "2025-04-01T06:50:00.000000000",
          "2025-04-01T06:51:00.000000000",
          "2025-04-01T06:52:00.000000000",
          "2025-04-01T06:53:00.000000000",
          "2025-04-01T06:54:00.000000000",
          "2025-04-01T06:55:00.000000000",
          "2025-04-01T06:56:00.000000000",
          "2025-04-01T06:57:00.000000000",
          "2025-04-01T06:58:00.000000000",
          "2025-04-01T06:59:00.000000000",
          "2025-04-01T07:00:00.000000000",
          "2025-04-01T07:01:00.000000000",
          "2025-04-01T07:02:00.000000000",
          "2025-04-01T07:03:00.000000000",
          "2025-04-01T07:04:00.000000000",
          "2025-04-01T07:05:00.000000000",
          "2025-04-01T07:06:00.000000000",
          "2025-04-01T07:07:00.000000000",
          "2025-04-01T07:08:00.000000000",
          "2025-04-01T07:09:00.000000000",
          "2025-04-01T07:10:00.000000000",
          "2025-04-01T07:11:00.000000000",
          "2025-04-01T07:12:00.000000000",
          "2025-04-01T07:13:00.000000000",
          "2025-04-01T07:14:00.000000000",
          "2025-04-01T07:15:00.000000000",
          "2025-04-01T07:16:00.000000000",
          "2025-04-01T07:17:00.000000000",
          "2025-04-01T07:18:00.000000000",
          "2025-04-01T07:19:00.000000000",
          "2025-04-01T07:20:00.000000000",
          "2025-04-01T07:21:00.000000000",
          "2025-04-01T07:22:00.000000000",
          "2025-04-01T07:23:00.000000000",
          "2025-04-01T07:24:00.000000000",
          "2025-04-01T07:25:00.000000000",
          "2025-04-01T07:26:00.000000000",
          "2025-04-01T07:27:00.000000000",
          "2025-04-01T07:28:00.000000000",
          "2025-04-01T07:29:00.000000000",
          "2025-04-01T07:30:00.000000000",
          "2025-04-01T07:31:00.000000000",
          "2025-04-01T07:32:00.000000000",
          "2025-04-01T07:33:00.000000000",
          "2025-04-01T07:34:00.000000000",
          "2025-04-01T07:35:00.000000000",
          "2025-04-01T07:36:00.000000000",
          "2025-04-01T07:37:00.000000000",
          "2025-04-01T07:38:00.000000000",
          "2025-04-01T07:39:00.000000000",
          "2025-04-01T07:40:00.000000000",
          "2025-04-01T07:41:00.000000000",
          "2025-04-01T07:42:00.000000000",
          "2025-04-01T07:43:00.000000000",
          "2025-04-01T07:44:00.000000000",
          "2025-04-01T07:45:00.000000000",
          "2025-04-01T07:46:00.000000000",
          "2025-04-01T07:47:00.000000000",
          "2025-04-01T07:48:00.000000000",
          "2025-04-01T07:49:00.000000000",
          "2025-04-01T07:50:00.000000000",
          "2025-04-01T07:51:00.000000000",
          "2025-04-01T07:52:00.000000000",
          "2025-04-01T07:53:00.000000000",
          "2025-04-01T07:54:00.000000000",
          "2025-04-01T07:55:00.000000000",
          "2025-04-01T07:56:00.000000000",
          "2025-04-01T07:57:00.000000000",
          "2025-04-01T07:58:00.000000000",
          "2025-04-01T07:59:00.000000000",
          "2025-04-01T08:00:00.000000000",
          "2025-04-01T08:01:00.000000000",
          "2025-04-01T08:02:00.000000000",
          "2025-04-01T08:03:00.000000000",
          "2025-04-01T08:04:00.000000000",
          "2025-04-01T08:05:00.000000000",
          "2025-04-01T08:06:00.000000000",
          "2025-04-01T08:07:00.000000000",
          "2025-04-01T08:08:00.000000000",
          "2025-04-01T08:09:00.000000000",
          "2025-04-01T08:10:00.000000000",
          "2025-04-01T08:11:00.000000000",
          "2025-04-01T08:12:00.000000000",
          "2025-04-01T08:13:00.000000000",
          "2025-04-01T08:14:00.000000000",
          "2025-04-01T08:15:00.000000000",
          "2025-04-01T08:16:00.000000000",
          "2025-04-01T08:17:00.000000000",
          "2025-04-01T08:18:00.000000000",
          "2025-04-01T08:19:00.000000000",
          "2025-04-01T08:20:00.000000000",
          "2025-04-01T08:21:00.000000000",
          "2025-04-01T08:22:00.000000000",
          "2025-04-01T08:23:00.000000000",
          "2025-04-01T08:24:00.000000000",
          "2025-04-01T08:25:00.000000000",
          "2025-04-01T08:26:00.000000000",
          "2025-04-01T08:27:00.000000000",
          "2025-04-01T08:28:00.000000000",
          "2025-04-01T08:29:00.000000000",
          "2025-04-01T08:30:00.000000000",
          "2025-04-01T08:31:00.000000000",
          "2025-04-01T08:32:00.000000000",
          "2025-04-01T08:33:00.000000000",
          "2025-04-01T08:34:00.000000000",
          "2025-04-01T08:35:00.000000000",
          "2025-04-01T08:36:00.000000000",
          "2025-04-01T08:37:00.000000000",
          "2025-04-01T08:38:00.000000000",
          "2025-04-01T08:39:00.000000000",
          "2025-04-01T08:40:00.000000000",
          "2025-04-01T08:41:00.000000000",
          "2025-04-01T08:42:00.000000000",
          "2025-04-01T08:43:00.000000000",
          "2025-04-01T08:44:00.000000000",
          "2025-04-01T08:45:00.000000000",
          "2025-04-01T08:46:00.000000000",
          "2025-04-01T08:47:00.000000000",
          "2025-04-01T08:48:00.000000000",
          "2025-04-01T08:49:00.000000000",
          "2025-04-01T08:50:00.000000000",
          "2025-04-01T08:51:00.000000000",
          "2025-04-01T08:52:00.000000000",
          "2025-04-01T08:53:00.000000000",
          "2025-04-01T08:54:00.000000000",
          "2025-04-01T08:55:00.000000000",
          "2025-04-01T08:56:00.000000000",
          "2025-04-01T08:57:00.000000000",
          "2025-04-01T08:58:00.000000000",
          "2025-04-01T08:59:00.000000000",
          "2025-04-01T09:00:00.000000000",
          "2025-04-01T09:01:00.000000000",
          "2025-04-01T09:02:00.000000000",
          "2025-04-01T09:03:00.000000000",
          "2025-04-01T09:04:00.000000000",
          "2025-04-01T09:05:00.000000000",
          "2025-04-01T09:06:00.000000000",
          "2025-04-01T09:07:00.000000000",
          "2025-04-01T09:08:00.000000000",
          "2025-04-01T09:09:00.000000000",
          "2025-04-01T09:10:00.000000000",
          "2025-04-01T09:11:00.000000000",
          "2025-04-01T09:12:00.000000000",
          "2025-04-01T09:13:00.000000000",
          "2025-04-01T09:14:00.000000000",
          "2025-04-01T09:15:00.000000000",
          "2025-04-01T09:16:00.000000000",
          "2025-04-01T09:17:00.000000000",
          "2025-04-01T09:18:00.000000000",
          "2025-04-01T09:19:00.000000000",
          "2025-04-01T09:20:00.000000000",
          "2025-04-01T09:21:00.000000000",
          "2025-04-01T09:22:00.000000000",
          "2025-04-01T09:23:00.000000000",
          "2025-04-01T09:24:00.000000000",
          "2025-04-01T09:25:00.000000000",
          "2025-04-01T09:26:00.000000000",
          "2025-04-01T09:27:00.000000000",
          "2025-04-01T09:28:00.000000000",
          "2025-04-01T09:29:00.000000000",
          "2025-04-01T09:30:00.000000000",
          "2025-04-01T09:31:00.000000000",
          "2025-04-01T09:32:00.000000000",
          "2025-04-01T09:33:00.000000000",
          "2025-04-01T09:34:00.000000000",
          "2025-04-01T09:35:00.000000000",
          "2025-04-01T09:36:00.000000000",
          "2025-04-01T09:37:00.000000000",
          "2025-04-01T09:38:00.000000000",
          "2025-04-01T09:39:00.000000000",
          "2025-04-01T09:40:00.000000000",
          "2025-04-01T09:41:00.000000000",
          "2025-04-01T09:42:00.000000000",
          "2025-04-01T09:43:00.000000000",
          "2025-04-01T09:44:00.000000000",
          "2025-04-01T09:45:00.000000000",
          "2025-04-01T09:46:00.000000000",
          "2025-04-01T09:47:00.000000000",
          "2025-04-01T09:48:00.000000000",
          "2025-04-01T09:49:00.000000000",
          "2025-04-01T09:50:00.000000000",
          "2025-04-01T09:51:00.000000000",
          "2025-04-01T09:52:00.000000000",
          "2025-04-01T09:53:00.000000000",
          "2025-04-01T09:54:00.000000000",
          "2025-04-01T09:55:00.000000000",
          "2025-04-01T09:56:00.000000000",
          "2025-04-01T09:57:00.000000000",
          "2025-04-01T09:58:00.000000000",
          "2025-04-01T09:59:00.000000000",
          "2025-04-01T10:00:00.000000000",
          "2025-04-01T10:01:00.000000000",
          "2025-04-01T10:02:00.000000000",
          "2025-04-01T10:03:00.000000000",
          "2025-04-01T10:04:00.000000000",
          "2025-04-01T10:05:00.000000000",
          "2025-04-01T10:06:00.000000000",
          "2025-04-01T10:07:00.000000000",
          "2025-04-01T10:08:00.000000000",
          "2025-04-01T10:09:00.000000000",
          "2025-04-01T10:10:00.000000000",
          "2025-04-01T10:11:00.000000000",
          "2025-04-01T10:12:00.000000000",
          "2025-04-01T10:13:00.000000000",
          "2025-04-01T10:14:00.000000000",
          "2025-04-01T10:15:00.000000000",
          "2025-04-01T10:16:00.000000000",
          "2025-04-01T10:17:00.000000000",
          "2025-04-01T10:18:00.000000000",
          "2025-04-01T10:19:00.000000000",
          "2025-04-01T10:20:00.000000000",
          "2025-04-01T10:21:00.000000000",
          "2025-04-01T10:22:00.000000000",
          "2025-04-01T10:23:00.000000000",
          "2025-04-01T10:24:00.000000000",
          "2025-04-01T10:25:00.000000000",
          "2025-04-01T10:26:00.000000000",
          "2025-04-01T10:27:00.000000000",
          "2025-04-01T10:28:00.000000000",
          "2025-04-01T10:29:00.000000000",
          "2025-04-01T10:30:00.000000000",
          "2025-04-01T10:31:00.000000000",
          "2025-04-01T10:32:00.000000000",
          "2025-04-01T10:33:00.000000000",
          "2025-04-01T10:34:00.000000000",
          "2025-04-01T10:35:00.000000000",
          "2025-04-01T10:36:00.000000000",
          "2025-04-01T10:37:00.000000000",
          "2025-04-01T10:38:00.000000000",
          "2025-04-01T10:39:00.000000000",
          "2025-04-01T10:40:00.000000000",
          "2025-04-01T10:41:00.000000000",
          "2025-04-01T10:42:00.000000000",
          "2025-04-01T10:43:00.000000000",
          "2025-04-01T10:44:00.000000000",
          "2025-04-01T10:45:00.000000000",
          "2025-04-01T10:46:00.000000000",
          "2025-04-01T10:47:00.000000000",
          "2025-04-01T10:48:00.000000000",
          "2025-04-01T10:49:00.000000000",
          "2025-04-01T10:50:00.000000000",
          "2025-04-01T10:51:00.000000000",
          "2025-04-01T10:52:00.000000000",
          "2025-04-01T10:53:00.000000000",
          "2025-04-01T10:54:00.000000000",
          "2025-04-01T10:55:00.000000000",
          "2025-04-01T10:56:00.000000000",
          "2025-04-01T10:57:00.000000000",
          "2025-04-01T10:58:00.000000000",
          "2025-04-01T10:59:00.000000000",
          "2025-04-01T11:00:00.000000000",
          "2025-04-01T11:01:00.000000000",
          "2025-04-01T11:02:00.000000000",
          "2025-04-01T11:03:00.000000000",
          "2025-04-01T11:04:00.000000000",
          "2025-04-01T11:05:00.000000000",
          "2025-04-01T11:06:00.000000000",
          "2025-04-01T11:07:00.000000000",
          "2025-04-01T11:08:00.000000000",
          "2025-04-01T11:09:00.000000000",
          "2025-04-01T11:10:00.000000000",
          "2025-04-01T11:11:00.000000000",
          "2025-04-01T11:12:00.000000000",
          "2025-04-01T11:13:00.000000000",
          "2025-04-01T11:14:00.000000000",
          "2025-04-01T11:15:00.000000000",
          "2025-04-01T11:16:00.000000000",
          "2025-04-01T11:17:00.000000000",
          "2025-04-01T11:18:00.000000000",
          "2025-04-01T11:19:00.000000000",
          "2025-04-01T11:20:00.000000000",
          "2025-04-01T11:21:00.000000000",
          "2025-04-01T11:22:00.000000000",
          "2025-04-01T11:23:00.000000000",
          "2025-04-01T11:24:00.000000000",
          "2025-04-01T11:25:00.000000000",
          "2025-04-01T11:26:00.000000000",
          "2025-04-01T11:27:00.000000000",
          "2025-04-01T11:28:00.000000000",
          "2025-04-01T11:29:00.000000000",
          "2025-04-01T11:30:00.000000000",
          "2025-04-01T11:31:00.000000000",
          "2025-04-01T11:32:00.000000000",
          "2025-04-01T11:33:00.000000000",
          "2025-04-01T11:34:00.000000000",
          "2025-04-01T11:35:00.000000000",
          "2025-04-01T11:36:00.000000000",
          "2025-04-01T11:37:00.000000000",
          "2025-04-01T11:38:00.000000000",
          "2025-04-01T11:39:00.000000000",
          "2025-04-01T11:40:00.000000000",
          "2025-04-01T11:41:00.000000000",
          "2025-04-01T11:42:00.000000000",
          "2025-04-01T11:43:00.000000000",
          "2025-04-01T11:44:00.000000000",
          "2025-04-01T11:45:00.000000000",
          "2025-04-01T11:46:00.000000000",
          "2025-04-01T11:47:00.000000000",
          "2025-04-01T11:48:00.000000000",
          "2025-04-01T11:49:00.000000000",
          "2025-04-01T11:50:00.000000000",
          "2025-04-01T11:51:00.000000000",
          "2025-04-01T11:52:00.000000000",
          "2025-04-01T11:53:00.000000000",
          "2025-04-01T11:54:00.000000000",
          "2025-04-01T11:55:00.000000000",
          "2025-04-01T11:56:00.000000000",
          "2025-04-01T11:57:00.000000000",
          "2025-04-01T11:58:00.000000000",
          "2025-04-01T11:59:00.000000000",
          "2025-04-01T12:00:00.000000000",
          "2025-04-01T12:01:00.000000000",
          "2025-04-01T12:02:00.000000000",
          "2025-04-01T12:03:00.000000000",
          "2025-04-01T12:04:00.000000000",
          "2025-04-01T12:05:00.000000000",
          "2025-04-01T12:06:00.000000000",
          "2025-04-01T12:07:00.000000000",
          "2025-04-01T12:08:00.000000000",
          "2025-04-01T12:09:00.000000000",
          "2025-04-01T12:10:00.000000000",
          "2025-04-01T12:11:00.000000000",
          "2025-04-01T12:12:00.000000000",
          "2025-04-01T12:13:00.000000000",
          "2025-04-01T12:14:00.000000000",
          "2025-04-01T12:15:00.000000000",
          "2025-04-01T12:16:00.000000000",
          "2025-04-01T12:17:00.000000000",
          "2025-04-01T12:18:00.000000000",
          "2025-04-01T12:19:00.000000000",
          "2025-04-01T12:20:00.000000000",
          "2025-04-01T12:21:00.000000000",
          "2025-04-01T12:22:00.000000000",
          "2025-04-01T12:23:00.000000000",
          "2025-04-01T12:24:00.000000000",
          "2025-04-01T12:25:00.000000000",
          "2025-04-01T12:26:00.000000000",
          "2025-04-01T12:27:00.000000000",
          "2025-04-01T12:28:00.000000000",
          "2025-04-01T12:29:00.000000000",
          "2025-04-01T12:30:00.000000000",
          "2025-04-01T12:31:00.000000000",
          "2025-04-01T12:32:00.000000000",
          "2025-04-01T12:33:00.000000000",
          "2025-04-01T12:34:00.000000000",
          "2025-04-01T12:35:00.000000000",
          "2025-04-01T12:36:00.000000000",
          "2025-04-01T12:37:00.000000000",
          "2025-04-01T12:38:00.000000000",
          "2025-04-01T12:39:00.000000000",
          "2025-04-01T12:40:00.000000000",
          "2025-04-01T12:41:00.000000000",
          "2025-04-01T12:42:00.000000000",
          "2025-04-01T12:43:00.000000000",
          "2025-04-01T12:44:00.000000000",
          "2025-04-01T12:45:00.000000000",
          "2025-04-01T12:46:00.000000000",
          "2025-04-01T12:47:00.000000000",
          "2025-04-01T12:48:00.000000000",
          "2025-04-01T12:49:00.000000000",
          "2025-04-01T12:50:00.000000000",
          "2025-04-01T12:51:00.000000000",
          "2025-04-01T12:52:00.000000000",
          "2025-04-01T12:53:00.000000000",
          "2025-04-01T12:54:00.000000000",
          "2025-04-01T12:55:00.000000000",
          "2025-04-01T12:56:00.000000000",
          "2025-04-01T12:57:00.000000000",
          "2025-04-01T12:58:00.000000000",
          "2025-04-01T12:59:00.000000000",
          "2025-04-01T13:00:00.000000000",
          "2025-04-01T13:01:00.000000000",
          "2025-04-01T13:02:00.000000000",
          "2025-04-01T13:03:00.000000000",
          "2025-04-01T13:04:00.000000000",
          "2025-04-01T13:05:00.000000000",
          "2025-04-01T13:06:00.000000000",
          "2025-04-01T13:07:00.000000000",
          "2025-04-01T13:08:00.000000000",
          "2025-04-01T13:09:00.000000000",
          "2025-04-01T13:10:00.000000000",
          "2025-04-01T13:11:00.000000000",
          "2025-04-01T13:12:00.000000000",
          "2025-04-01T13:13:00.000000000",
          "2025-04-01T13:14:00.000000000",
          "2025-04-01T13:15:00.000000000",
          "2025-04-01T13:16:00.000000000",
          "2025-04-01T13:17:00.000000000",
          "2025-04-01T13:18:00.000000000",
          "2025-04-01T13:19:00.000000000",
          "2025-04-01T13:20:00.000000000",
          "2025-04-01T13:21:00.000000000",
          "2025-04-01T13:22:00.000000000",
          "2025-04-01T13:23:00.000000000",
          "2025-04-01T13:24:00.000000000",
          "2025-04-01T13:25:00.000000000",
          "2025-04-01T13:26:00.000000000",
          "2025-04-01T13:27:00.000000000",
          "2025-04-01T13:28:00.000000000",
          "2025-04-01T13:29:00.000000000",
          "2025-04-01T13:30:00.000000000",
          "2025-04-01T13:31:00.000000000",
          "2025-04-01T13:32:00.000000000",
          "2025-04-01T13:33:00.000000000",
          "2025-04-01T13:34:00.000000000",
          "2025-04-01T13:35:00.000000000",
          "2025-04-01T13:36:00.000000000",
          "2025-04-01T13:37:00.000000000",
          "2025-04-01T13:38:00.000000000",
          "2025-04-01T13:39:00.000000000",
          "2025-04-01T13:40:00.000000000",
          "2025-04-01T13:41:00.000000000",
          "2025-04-01T13:42:00.000000000",
          "2025-04-01T13:43:00.000000000",
          "2025-04-01T13:44:00.000000000",
          "2025-04-01T13:45:00.000000000",
          "2025-04-01T13:46:00.000000000",
          "2025-04-01T13:47:00.000000000",
          "2025-04-01T13:48:00.000000000",
          "2025-04-01T13:49:00.000000000",
          "2025-04-01T13:50:00.000000000",
          "2025-04-01T13:51:00.000000000",
          "2025-04-01T13:52:00.000000000",
          "2025-04-01T13:53:00.000000000",
          "2025-04-01T13:54:00.000000000",
          "2025-04-01T13:55:00.000000000",
          "2025-04-01T13:56:00.000000000",
          "2025-04-01T13:57:00.000000000",
          "2025-04-01T13:58:00.000000000",
          "2025-04-01T13:59:00.000000000",
          "2025-04-01T14:00:00.000000000",
          "2025-04-01T14:01:00.000000000",
          "2025-04-01T14:02:00.000000000",
          "2025-04-01T14:03:00.000000000",
          "2025-04-01T14:04:00.000000000",
          "2025-04-01T14:05:00.000000000",
          "2025-04-01T14:06:00.000000000",
          "2025-04-01T14:07:00.000000000",
          "2025-04-01T14:08:00.000000000",
          "2025-04-01T14:09:00.000000000",
          "2025-04-01T14:10:00.000000000",
          "2025-04-01T14:11:00.000000000",
          "2025-04-01T14:12:00.000000000",
          "2025-04-01T14:13:00.000000000",
          "2025-04-01T14:14:00.000000000",
          "2025-04-01T14:15:00.000000000",
          "2025-04-01T14:16:00.000000000",
          "2025-04-01T14:17:00.000000000",
          "2025-04-01T14:18:00.000000000",
          "2025-04-01T14:19:00.000000000",
          "2025-04-01T14:20:00.000000000",
          "2025-04-01T14:21:00.000000000",
          "2025-04-01T14:22:00.000000000",
          "2025-04-01T14:23:00.000000000",
          "2025-04-01T14:24:00.000000000",
          "2025-04-01T14:25:00.000000000",
          "2025-04-01T14:26:00.000000000",
          "2025-04-01T14:27:00.000000000",
          "2025-04-01T14:28:00.000000000",
          "2025-04-01T14:29:00.000000000",
          "2025-04-01T14:30:00.000000000",
          "2025-04-01T14:31:00.000000000",
          "2025-04-01T14:32:00.000000000",
          "2025-04-01T14:33:00.000000000",
          "2025-04-01T14:34:00.000000000",
          "2025-04-01T14:35:00.000000000",
          "2025-04-01T14:36:00.000000000",
          "2025-04-01T14:37:00.000000000",
          "2025-04-01T14:38:00.000000000",
          "2025-04-01T14:39:00.000000000",
          "2025-04-01T14:40:00.000000000",
          "2025-04-01T14:41:00.000000000",
          "2025-04-01T14:42:00.000000000",
          "2025-04-01T14:43:00.000000000",
          "2025-04-01T14:44:00.000000000",
          "2025-04-01T14:45:00.000000000",
          "2025-04-01T14:46:00.000000000",
          "2025-04-01T14:47:00.000000000",
          "2025-04-01T14:48:00.000000000",
          "2025-04-01T14:49:00.000000000",
          "2025-04-01T14:50:00.000000000",
          "2025-04-01T14:51:00.000000000",
          "2025-04-01T14:52:00.000000000",
          "2025-04-01T14:53:00.000000000",
          "2025-04-01T14:54:00.000000000",
          "2025-04-01T14:55:00.000000000",
          "2025-04-01T14:56:00.000000000",
          "2025-04-01T14:57:00.000000000",
          "2025-04-01T14:58:00.000000000",
          "2025-04-01T14:59:00.000000000",
          "2025-04-01T15:00:00.000000000",
          "2025-04-01T15:01:00.000000000",
          "2025-04-01T15:02:00.000000000",
          "2025-04-01T15:03:00.000000000",
          "2025-04-01T15:04:00.000000000",
          "2025-04-01T15:05:00.000000000",
          "2025-04-01T15:06:00.000000000",
          "2025-04-01T15:07:00.000000000",
          "2025-04-01T15:08:00.000000000",
          "2025-04-01T15:09:00.000000000",
          "2025-04-01T15:10:00.000000000",
          "2025-04-01T15:11:00.000000000",
          "2025-04-01T15:12:00.000000000",
          "2025-04-01T15:13:00.000000000",
          "2025-04-01T15:14:00.000000000",
          "2025-04-01T15:15:00.000000000",
          "2025-04-01T15:16:00.000000000",
          "2025-04-01T15:17:00.000000000",
          "2025-04-01T15:18:00.000000000",
          "2025-04-01T15:19:00.000000000",
          "2025-04-01T15:20:00.000000000",
          "2025-04-01T15:21:00.000000000",
          "2025-04-01T15:22:00.000000000",
          "2025-04-01T15:23:00.000000000",
          "2025-04-01T15:24:00.000000000",
          "2025-04-01T15:25:00.000000000",
          "2025-04-01T15:26:00.000000000",
          "2025-04-01T15:27:00.000000000",
          "2025-04-01T15:28:00.000000000",
          "2025-04-01T15:29:00.000000000",
          "2025-04-01T15:30:00.000000000",
          "2025-04-01T15:31:00.000000000",
          "2025-04-01T15:32:00.000000000",
          "2025-04-01T15:33:00.000000000",
          "2025-04-01T15:34:00.000000000",
          "2025-04-01T15:35:00.000000000",
          "2025-04-01T15:36:00.000000000",
          "2025-04-01T15:37:00.000000000",
          "2025-04-01T15:38:00.000000000",
          "2025-04-01T15:39:00.000000000",
          "2025-04-01T15:40:00.000000000",
          "2025-04-01T15:41:00.000000000",
          "2025-04-01T15:42:00.000000000",
          "2025-04-01T15:43:00.000000000",
          "2025-04-01T15:44:00.000000000",
          "2025-04-01T15:45:00.000000000",
          "2025-04-01T15:46:00.000000000",
          "2025-04-01T15:47:00.000000000",
          "2025-04-01T15:48:00.000000000",
          "2025-04-01T15:49:00.000000000",
          "2025-04-01T15:50:00.000000000",
          "2025-04-01T15:51:00.000000000",
          "2025-04-01T15:52:00.000000000",
          "2025-04-01T15:53:00.000000000",
          "2025-04-01T15:54:00.000000000",
          "2025-04-01T15:55:00.000000000",
          "2025-04-01T15:56:00.000000000",
          "2025-04-01T15:57:00.000000000",
          "2025-04-01T15:58:00.000000000",
          "2025-04-01T15:59:00.000000000",
          "2025-04-01T16:00:00.000000000",
          "2025-04-01T16:01:00.000000000",
          "2025-04-01T16:02:00.000000000",
          "2025-04-01T16:03:00.000000000",
          "2025-04-01T16:04:00.000000000",
          "2025-04-01T16:05:00.000000000",
          "2025-04-01T16:06:00.000000000",
          "2025-04-01T16:07:00.000000000",
          "2025-04-01T16:08:00.000000000",
          "2025-04-01T16:09:00.000000000",
          "2025-04-01T16:10:00.000000000",
          "2025-04-01T16:11:00.000000000",
          "2025-04-01T16:12:00.000000000",
          "2025-04-01T16:13:00.000000000",
          "2025-04-01T16:14:00.000000000",
          "2025-04-01T16:15:00.000000000",
          "2025-04-01T16:16:00.000000000",
          "2025-04-01T16:17:00.000000000",
          "2025-04-01T16:18:00.000000000",
          "2025-04-01T16:19:00.000000000",
          "2025-04-01T16:20:00.000000000",
          "2025-04-01T16:21:00.000000000",
          "2025-04-01T16:22:00.000000000",
          "2025-04-01T16:23:00.000000000",
          "2025-04-01T16:24:00.000000000",
          "2025-04-01T16:25:00.000000000",
          "2025-04-01T16:26:00.000000000",
          "2025-04-01T16:27:00.000000000",
          "2025-04-01T16:28:00.000000000",
          "2025-04-01T16:29:00.000000000",
          "2025-04-01T16:30:00.000000000",
          "2025-04-01T16:31:00.000000000",
          "2025-04-01T16:32:00.000000000",
          "2025-04-01T16:33:00.000000000",
          "2025-04-01T16:34:00.000000000",
          "2025-04-01T16:35:00.000000000",
          "2025-04-01T16:36:00.000000000",
          "2025-04-01T16:37:00.000000000",
          "2025-04-01T16:38:00.000000000",
          "2025-04-01T16:39:00.000000000",
          "2025-04-01T16:40:00.000000000",
          "2025-04-01T16:41:00.000000000",
          "2025-04-01T16:42:00.000000000",
          "2025-04-01T16:43:00.000000000",
          "2025-04-01T16:44:00.000000000",
          "2025-04-01T16:45:00.000000000",
          "2025-04-01T16:46:00.000000000",
          "2025-04-01T16:47:00.000000000",
          "2025-04-01T16:48:00.000000000",
          "2025-04-01T16:49:00.000000000",
          "2025-04-01T16:50:00.000000000",
          "2025-04-01T16:51:00.000000000",
          "2025-04-01T16:52:00.000000000",
          "2025-04-01T16:53:00.000000000",
          "2025-04-01T16:54:00.000000000",
          "2025-04-01T16:55:00.000000000",
          "2025-04-01T16:56:00.000000000",
          "2025-04-01T16:57:00.000000000",
          "2025-04-01T16:58:00.000000000",
          "2025-04-01T16:59:00.000000000",
          "2025-04-01T17:00:00.000000000",
          "2025-04-01T17:01:00.000000000",
          "2025-04-01T17:02:00.000000000",
          "2025-04-01T17:03:00.000000000",
          "2025-04-01T17:04:00.000000000",
          "2025-04-01T17:05:00.000000000",
          "2025-04-01T17:06:00.000000000",
          "2025-04-01T17:07:00.000000000",
          "2025-04-01T17:08:00.000000000",
          "2025-04-01T17:09:00.000000000",
          "2025-04-01T17:10:00.000000000",
          "2025-04-01T17:11:00.000000000",
          "2025-04-01T17:12:00.000000000",
          "2025-04-01T17:13:00.000000000",
          "2025-04-01T17:14:00.000000000",
          "2025-04-01T17:15:00.000000000",
          "2025-04-01T17:16:00.000000000",
          "2025-04-01T17:17:00.000000000",
          "2025-04-01T17:18:00.000000000",
          "2025-04-01T17:19:00.000000000",
          "2025-04-01T17:20:00.000000000",
          "2025-04-01T17:21:00.000000000",
          "2025-04-01T17:22:00.000000000",
          "2025-04-01T17:23:00.000000000",
          "2025-04-01T17:24:00.000000000",
          "2025-04-01T17:25:00.000000000",
          "2025-04-01T17:26:00.000000000",
          "2025-04-01T17:27:00.000000000",
          "2025-04-01T17:28:00.000000000",
          "2025-04-01T17:29:00.000000000",
          "2025-04-01T17:30:00.000000000",
          "2025-04-01T17:31:00.000000000",
          "2025-04-01T17:32:00.000000000",
          "2025-04-01T17:33:00.000000000",
          "2025-04-01T17:34:00.000000000",
          "2025-04-01T17:35:00.000000000",
          "2025-04-01T17:36:00.000000000",
          "2025-04-01T17:37:00.000000000",
          "2025-04-01T17:38:00.000000000",
          "2025-04-01T17:39:00.000000000",
          "2025-04-01T17:40:00.000000000",
          "2025-04-01T17:41:00.000000000",
          "2025-04-01T17:42:00.000000000",
          "2025-04-01T17:43:00.000000000",
          "2025-04-01T17:44:00.000000000",
          "2025-04-01T17:45:00.000000000",
          "2025-04-01T17:46:00.000000000",
          "2025-04-01T17:47:00.000000000",
          "2025-04-01T17:48:00.000000000",
          "2025-04-01T17:49:00.000000000",
          "2025-04-01T17:50:00.000000000",
          "2025-04-01T17:51:00.000000000",
          "2025-04-01T17:52:00.000000000",
          "2025-04-01T17:53:00.000000000",
          "2025-04-01T17:54:00.000000000",
          "2025-04-01T17:55:00.000000000",
          "2025-04-01T17:56:00.000000000",
          "2025-04-01T17:57:00.000000000",
          "2025-04-01T17:58:00.000000000",
          "2025-04-01T17:59:00.000000000",
          "2025-04-01T18:00:00.000000000",
          "2025-04-01T18:01:00.000000000",
          "2025-04-01T18:02:00.000000000",
          "2025-04-01T18:03:00.000000000",
          "2025-04-01T18:04:00.000000000",
          "2025-04-01T18:05:00.000000000",
          "2025-04-01T18:06:00.000000000",
          "2025-04-01T18:07:00.000000000",
          "2025-04-01T18:08:00.000000000",
          "2025-04-01T18:09:00.000000000",
          "2025-04-01T18:10:00.000000000",
          "2025-04-01T18:11:00.000000000",
          "2025-04-01T18:12:00.000000000",
          "2025-04-01T18:13:00.000000000",
          "2025-04-01T18:14:00.000000000",
          "2025-04-01T18:15:00.000000000",
          "2025-04-01T18:16:00.000000000",
          "2025-04-01T18:17:00.000000000",
          "2025-04-01T18:18:00.000000000",
          "2025-04-01T18:19:00.000000000",
          "2025-04-01T18:20:00.000000000",
          "2025-04-01T18:21:00.000000000",
          "2025-04-01T18:22:00.000000000",
          "2025-04-01T18:23:00.000000000",
          "2025-04-01T18:24:00.000000000",
          "2025-04-01T18:25:00.000000000",
          "2025-04-01T18:26:00.000000000",
          "2025-04-01T18:27:00.000000000",
          "2025-04-01T18:28:00.000000000",
          "2025-04-01T18:29:00.000000000",
          "2025-04-01T18:30:00.000000000",
          "2025-04-01T18:31:00.000000000",
          "2025-04-01T18:32:00.000000000",
          "2025-04-01T18:33:00.000000000",
          "2025-04-01T18:34:00.000000000",
          "2025-04-01T18:35:00.000000000",
          "2025-04-01T18:36:00.000000000",
          "2025-04-01T18:37:00.000000000",
          "2025-04-01T18:38:00.000000000",
          "2025-04-01T18:39:00.000000000",
          "2025-04-01T18:40:00.000000000",
          "2025-04-01T18:41:00.000000000",
          "2025-04-01T18:42:00.000000000",
          "2025-04-01T18:43:00.000000000",
          "2025-04-01T18:44:00.000000000",
          "2025-04-01T18:45:00.000000000",
          "2025-04-01T18:46:00.000000000",
          "2025-04-01T18:47:00.000000000",
          "2025-04-01T18:48:00.000000000",
          "2025-04-01T18:49:00.000000000",
          "2025-04-01T18:50:00.000000000",
          "2025-04-01T18:51:00.000000000",
          "2025-04-01T18:52:00.000000000",
          "2025-04-01T18:53:00.000000000",
          "2025-04-01T18:54:00.000000000",
          "2025-04-01T18:55:00.000000000",
          "2025-04-01T18:56:00.000000000",
          "2025-04-01T18:57:00.000000000",
          "2025-04-01T18:58:00.000000000",
          "2025-04-01T18:59:00.000000000",
          "2025-04-01T19:00:00.000000000",
          "2025-04-01T19:01:00.000000000",
          "2025-04-01T19:02:00.000000000",
          "2025-04-01T19:03:00.000000000",
          "2025-04-01T19:04:00.000000000",
          "2025-04-01T19:05:00.000000000",
          "2025-04-01T19:06:00.000000000",
          "2025-04-01T19:07:00.000000000",
          "2025-04-01T19:08:00.000000000",
          "2025-04-01T19:09:00.000000000",
          "2025-04-01T19:10:00.000000000",
          "2025-04-01T19:11:00.000000000",
          "2025-04-01T19:12:00.000000000",
          "2025-04-01T19:13:00.000000000",
          "2025-04-01T19:14:00.000000000",
          "2025-04-01T19:15:00.000000000",
          "2025-04-01T19:16:00.000000000",
          "2025-04-01T19:17:00.000000000",
          "2025-04-01T19:18:00.000000000",
          "2025-04-01T19:19:00.000000000",
          "2025-04-01T19:20:00.000000000",
          "2025-04-01T19:21:00.000000000",
          "2025-04-01T19:22:00.000000000",
          "2025-04-01T19:23:00.000000000",
          "2025-04-01T19:24:00.000000000",
          "2025-04-01T19:25:00.000000000",
          "2025-04-01T19:26:00.000000000",
          "2025-04-01T19:27:00.000000000",
          "2025-04-01T19:28:00.000000000",
          "2025-04-01T19:29:00.000000000",
          "2025-04-01T19:30:00.000000000",
          "2025-04-01T19:31:00.000000000",
          "2025-04-01T19:32:00.000000000",
          "2025-04-01T19:33:00.000000000",
          "2025-04-01T19:34:00.000000000",
          "2025-04-01T19:35:00.000000000",
          "2025-04-01T19:36:00.000000000",
          "2025-04-01T19:37:00.000000000",
          "2025-04-01T19:38:00.000000000",
          "2025-04-01T19:39:00.000000000",
          "2025-04-01T19:40:00.000000000",
          "2025-04-01T19:41:00.000000000",
          "2025-04-01T19:42:00.000000000",
          "2025-04-01T19:43:00.000000000",
          "2025-04-01T19:44:00.000000000",
          "2025-04-01T19:45:00.000000000",
          "2025-04-01T19:46:00.000000000",
          "2025-04-01T19:47:00.000000000",
          "2025-04-01T19:48:00.000000000",
          "2025-04-01T19:49:00.000000000",
          "2025-04-01T19:50:00.000000000",
          "2025-04-01T19:51:00.000000000",
          "2025-04-01T19:52:00.000000000",
          "2025-04-01T19:53:00.000000000",
          "2025-04-01T19:54:00.000000000",
          "2025-04-01T19:55:00.000000000",
          "2025-04-01T19:56:00.000000000",
          "2025-04-01T19:57:00.000000000",
          "2025-04-01T19:58:00.000000000",
          "2025-04-01T19:59:00.000000000",
          "2025-04-01T20:00:00.000000000",
          "2025-04-01T20:01:00.000000000",
          "2025-04-01T20:02:00.000000000",
          "2025-04-01T20:03:00.000000000",
          "2025-04-01T20:04:00.000000000",
          "2025-04-01T20:05:00.000000000",
          "2025-04-01T20:06:00.000000000",
          "2025-04-01T20:07:00.000000000",
          "2025-04-01T20:08:00.000000000",
          "2025-04-01T20:09:00.000000000",
          "2025-04-01T20:10:00.000000000",
          "2025-04-01T20:11:00.000000000",
          "2025-04-01T20:12:00.000000000",
          "2025-04-01T20:13:00.000000000",
          "2025-04-01T20:14:00.000000000",
          "2025-04-01T20:15:00.000000000",
          "2025-04-01T20:16:00.000000000",
          "2025-04-01T20:17:00.000000000",
          "2025-04-01T20:18:00.000000000",
          "2025-04-01T20:19:00.000000000",
          "2025-04-01T20:20:00.000000000",
          "2025-04-01T20:21:00.000000000",
          "2025-04-01T20:22:00.000000000",
          "2025-04-01T20:23:00.000000000",
          "2025-04-01T20:24:00.000000000",
          "2025-04-01T20:25:00.000000000",
          "2025-04-01T20:26:00.000000000",
          "2025-04-01T20:27:00.000000000",
          "2025-04-01T20:28:00.000000000",
          "2025-04-01T20:29:00.000000000",
          "2025-04-01T20:30:00.000000000",
          "2025-04-01T20:31:00.000000000",
          "2025-04-01T20:32:00.000000000",
          "2025-04-01T20:33:00.000000000",
          "2025-04-01T20:34:00.000000000",
          "2025-04-01T20:35:00.000000000",
          "2025-04-01T20:36:00.000000000",
          "2025-04-01T20:37:00.000000000",
          "2025-04-01T20:38:00.000000000",
          "2025-04-01T20:39:00.000000000",
          "2025-04-01T20:40:00.000000000",
          "2025-04-01T20:41:00.000000000",
          "2025-04-01T20:42:00.000000000",
          "2025-04-01T20:43:00.000000000",
          "2025-04-01T20:44:00.000000000",
          "2025-04-01T20:45:00.000000000",
          "2025-04-01T20:46:00.000000000",
          "2025-04-01T20:47:00.000000000",
          "2025-04-01T20:48:00.000000000",
          "2025-04-01T20:49:00.000000000",
          "2025-04-01T20:50:00.000000000",
          "2025-04-01T20:51:00.000000000",
          "2025-04-01T20:52:00.000000000",
          "2025-04-01T20:53:00.000000000",
          "2025-04-01T20:54:00.000000000",
          "2025-04-01T20:55:00.000000000",
          "2025-04-01T20:56:00.000000000",
          "2025-04-01T20:57:00.000000000",
          "2025-04-01T20:58:00.000000000",
          "2025-04-01T20:59:00.000000000",
          "2025-04-01T21:00:00.000000000",
          "2025-04-01T21:01:00.000000000",
          "2025-04-01T21:02:00.000000000",
          "2025-04-01T21:03:00.000000000",
          "2025-04-01T21:04:00.000000000",
          "2025-04-01T21:05:00.000000000",
          "2025-04-01T21:06:00.000000000",
          "2025-04-01T21:07:00.000000000",
          "2025-04-01T21:08:00.000000000",
          "2025-04-01T21:09:00.000000000",
          "2025-04-01T21:10:00.000000000",
          "2025-04-01T21:11:00.000000000",
          "2025-04-01T21:12:00.000000000",
          "2025-04-01T21:13:00.000000000",
          "2025-04-01T21:14:00.000000000",
          "2025-04-01T21:15:00.000000000",
          "2025-04-01T21:16:00.000000000",
          "2025-04-01T21:17:00.000000000",
          "2025-04-01T21:18:00.000000000",
          "2025-04-01T21:19:00.000000000",
          "2025-04-01T21:20:00.000000000",
          "2025-04-01T21:21:00.000000000",
          "2025-04-01T21:22:00.000000000",
          "2025-04-01T21:23:00.000000000",
          "2025-04-01T21:24:00.000000000",
          "2025-04-01T21:25:00.000000000",
          "2025-04-01T21:26:00.000000000",
          "2025-04-01T21:27:00.000000000",
          "2025-04-01T21:28:00.000000000",
          "2025-04-01T21:29:00.000000000",
          "2025-04-01T21:30:00.000000000",
          "2025-04-01T21:31:00.000000000",
          "2025-04-01T21:32:00.000000000",
          "2025-04-01T21:33:00.000000000",
          "2025-04-01T21:34:00.000000000",
          "2025-04-01T21:35:00.000000000",
          "2025-04-01T21:36:00.000000000",
          "2025-04-01T21:37:00.000000000",
          "2025-04-01T21:38:00.000000000",
          "2025-04-01T21:39:00.000000000",
          "2025-04-01T21:40:00.000000000",
          "2025-04-01T21:41:00.000000000",
          "2025-04-01T21:42:00.000000000",
          "2025-04-01T21:43:00.000000000",
          "2025-04-01T21:44:00.000000000",
          "2025-04-01T21:45:00.000000000",
          "2025-04-01T21:46:00.000000000",
          "2025-04-01T21:47:00.000000000",
          "2025-04-01T21:48:00.000000000",
          "2025-04-01T21:49:00.000000000",
          "2025-04-01T21:50:00.000000000",
          "2025-04-01T21:51:00.000000000",
          "2025-04-01T21:52:00.000000000",
          "2025-04-01T21:53:00.000000000",
          "2025-04-01T21:54:00.000000000",
          "2025-04-01T21:55:00.000000000",
          "2025-04-01T21:56:00.000000000",
          "2025-04-01T21:57:00.000000000",
          "2025-04-01T21:58:00.000000000",
          "2025-04-01T21:59:00.000000000",
          "2025-04-01T22:00:00.000000000",
          "2025-04-01T22:01:00.000000000",
          "2025-04-01T22:02:00.000000000",
          "2025-04-01T22:03:00.000000000",
          "2025-04-01T22:04:00.000000000",
          "2025-04-01T22:05:00.000000000",
          "2025-04-01T22:06:00.000000000",
          "2025-04-01T22:07:00.000000000",
          "2025-04-01T22:08:00.000000000",
          "2025-04-01T22:09:00.000000000",
          "2025-04-01T22:10:00.000000000",
          "2025-04-01T22:11:00.000000000",
          "2025-04-01T22:12:00.000000000",
          "2025-04-01T22:13:00.000000000",
          "2025-04-01T22:14:00.000000000",
          "2025-04-01T22:15:00.000000000",
          "2025-04-01T22:16:00.000000000",
          "2025-04-01T22:17:00.000000000",
          "2025-04-01T22:18:00.000000000",
          "2025-04-01T22:19:00.000000000",
          "2025-04-01T22:20:00.000000000",
          "2025-04-01T22:21:00.000000000",
          "2025-04-01T22:22:00.000000000",
          "2025-04-01T22:23:00.000000000",
          "2025-04-01T22:24:00.000000000",
          "2025-04-01T22:25:00.000000000",
          "2025-04-01T22:26:00.000000000",
          "2025-04-01T22:27:00.000000000",
          "2025-04-01T22:28:00.000000000",
          "2025-04-01T22:29:00.000000000",
          "2025-04-01T22:30:00.000000000",
          "2025-04-01T22:31:00.000000000",
          "2025-04-01T22:32:00.000000000",
          "2025-04-01T22:33:00.000000000",
          "2025-04-01T22:34:00.000000000",
          "2025-04-01T22:35:00.000000000",
          "2025-04-01T22:36:00.000000000",
          "2025-04-01T22:37:00.000000000",
          "2025-04-01T22:38:00.000000000",
          "2025-04-01T22:39:00.000000000",
          "2025-04-01T22:40:00.000000000",
          "2025-04-01T22:41:00.000000000",
          "2025-04-01T22:42:00.000000000",
          "2025-04-01T22:43:00.000000000",
          "2025-04-01T22:44:00.000000000",
          "2025-04-01T22:45:00.000000000",
          "2025-04-01T22:46:00.000000000",
          "2025-04-01T22:47:00.000000000",
          "2025-04-01T22:48:00.000000000",
          "2025-04-01T22:49:00.000000000",
          "2025-04-01T22:50:00.000000000",
          "2025-04-01T22:51:00.000000000",
          "2025-04-01T22:52:00.000000000",
          "2025-04-01T22:53:00.000000000",
          "2025-04-01T22:54:00.000000000",
          "2025-04-01T22:55:00.000000000",
          "2025-04-01T22:56:00.000000000",
          "2025-04-01T22:57:00.000000000",
          "2025-04-01T22:58:00.000000000",
          "2025-04-01T22:59:00.000000000",
          "2025-04-01T23:00:00.000000000",
          "2025-04-01T23:01:00.000000000",
          "2025-04-01T23:02:00.000000000",
          "2025-04-01T23:03:00.000000000",
          "2025-04-01T23:04:00.000000000",
          "2025-04-01T23:05:00.000000000",
          "2025-04-01T23:06:00.000000000",
          "2025-04-01T23:07:00.000000000",
          "2025-04-01T23:08:00.000000000",
          "2025-04-01T23:09:00.000000000",
          "2025-04-01T23:10:00.000000000",
          "2025-04-01T23:11:00.000000000",
          "2025-04-01T23:12:00.000000000",
          "2025-04-01T23:13:00.000000000",
          "2025-04-01T23:14:00.000000000",
          "2025-04-01T23:15:00.000000000",
          "2025-04-01T23:16:00.000000000",
          "2025-04-01T23:17:00.000000000",
          "2025-04-01T23:18:00.000000000",
          "2025-04-01T23:19:00.000000000",
          "2025-04-01T23:20:00.000000000",
          "2025-04-01T23:21:00.000000000",
          "2025-04-01T23:22:00.000000000",
          "2025-04-01T23:23:00.000000000",
          "2025-04-01T23:24:00.000000000",
          "2025-04-01T23:25:00.000000000",
          "2025-04-01T23:26:00.000000000",
          "2025-04-01T23:27:00.000000000",
          "2025-04-01T23:28:00.000000000",
          "2025-04-01T23:29:00.000000000",
          "2025-04-01T23:30:00.000000000",
          "2025-04-01T23:31:00.000000000",
          "2025-04-01T23:32:00.000000000",
          "2025-04-01T23:33:00.000000000",
          "2025-04-01T23:34:00.000000000",
          "2025-04-01T23:35:00.000000000",
          "2025-04-01T23:36:00.000000000",
          "2025-04-01T23:37:00.000000000",
          "2025-04-01T23:38:00.000000000",
          "2025-04-01T23:39:00.000000000",
          "2025-04-01T23:40:00.000000000",
          "2025-04-01T23:41:00.000000000",
          "2025-04-01T23:42:00.000000000",
          "2025-04-01T23:43:00.000000000",
          "2025-04-01T23:44:00.000000000",
          "2025-04-01T23:45:00.000000000",
          "2025-04-01T23:46:00.000000000",
          "2025-04-01T23:47:00.000000000",
          "2025-04-01T23:48:00.000000000",
          "2025-04-01T23:49:00.000000000",
          "2025-04-01T23:50:00.000000000",
          "2025-04-01T23:51:00.000000000",
          "2025-04-01T23:52:00.000000000",
          "2025-04-01T23:53:00.000000000",
          "2025-04-01T23:54:00.000000000",
          "2025-04-01T23:55:00.000000000",
          "2025-04-01T23:56:00.000000000",
          "2025-04-01T23:57:00.000000000",
          "2025-04-01T23:58:00.000000000",
          "2025-04-01T23:59:00.000000000",
          "2025-04-02T00:00:00.000000000",
          "2025-04-02T00:01:00.000000000",
          "2025-04-02T00:02:00.000000000",
          "2025-04-02T00:03:00.000000000",
          "2025-04-02T00:04:00.000000000",
          "2025-04-02T00:05:00.000000000",
          "2025-04-02T00:06:00.000000000",
          "2025-04-02T00:07:00.000000000",
          "2025-04-02T00:08:00.000000000",
          "2025-04-02T00:09:00.000000000",
          "2025-04-02T00:10:00.000000000",
          "2025-04-02T00:11:00.000000000",
          "2025-04-02T00:12:00.000000000",
          "2025-04-02T00:13:00.000000000",
          "2025-04-02T00:14:00.000000000",
          "2025-04-02T00:15:00.000000000",
          "2025-04-02T00:16:00.000000000",
          "2025-04-02T00:17:00.000000000",
          "2025-04-02T00:18:00.000000000",
          "2025-04-02T00:19:00.000000000",
          "2025-04-02T00:20:00.000000000",
          "2025-04-02T00:21:00.000000000",
          "2025-04-02T00:22:00.000000000",
          "2025-04-02T00:23:00.000000000",
          "2025-04-02T00:24:00.000000000",
          "2025-04-02T00:25:00.000000000",
          "2025-04-02T00:26:00.000000000",
          "2025-04-02T00:27:00.000000000",
          "2025-04-02T00:28:00.000000000",
          "2025-04-02T00:29:00.000000000",
          "2025-04-02T00:30:00.000000000",
          "2025-04-02T00:31:00.000000000",
          "2025-04-02T00:32:00.000000000",
          "2025-04-02T00:33:00.000000000",
          "2025-04-02T00:34:00.000000000",
          "2025-04-02T00:35:00.000000000",
          "2025-04-02T00:36:00.000000000",
          "2025-04-02T00:37:00.000000000",
          "2025-04-02T00:38:00.000000000",
          "2025-04-02T00:39:00.000000000",
          "2025-04-02T00:40:00.000000000",
          "2025-04-02T00:41:00.000000000",
          "2025-04-02T00:42:00.000000000",
          "2025-04-02T00:43:00.000000000",
          "2025-04-02T00:44:00.000000000",
          "2025-04-02T00:45:00.000000000",
          "2025-04-02T00:46:00.000000000",
          "2025-04-02T00:47:00.000000000",
          "2025-04-02T00:48:00.000000000",
          "2025-04-02T00:49:00.000000000",
          "2025-04-02T00:50:00.000000000",
          "2025-04-02T00:51:00.000000000",
          "2025-04-02T00:52:00.000000000",
          "2025-04-02T00:53:00.000000000",
          "2025-04-02T00:54:00.000000000",
          "2025-04-02T00:55:00.000000000",
          "2025-04-02T00:56:00.000000000",
          "2025-04-02T00:57:00.000000000",
          "2025-04-02T00:58:00.000000000",
          "2025-04-02T00:59:00.000000000",
          "2025-04-02T01:00:00.000000000",
          "2025-04-02T01:01:00.000000000",
          "2025-04-02T01:02:00.000000000",
          "2025-04-02T01:03:00.000000000",
          "2025-04-02T01:04:00.000000000",
          "2025-04-02T01:05:00.000000000",
          "2025-04-02T01:06:00.000000000",
          "2025-04-02T01:07:00.000000000",
          "2025-04-02T01:08:00.000000000",
          "2025-04-02T01:09:00.000000000",
          "2025-04-02T01:10:00.000000000",
          "2025-04-02T01:11:00.000000000",
          "2025-04-02T01:12:00.000000000",
          "2025-04-02T01:13:00.000000000",
          "2025-04-02T01:14:00.000000000",
          "2025-04-02T01:15:00.000000000",
          "2025-04-02T01:16:00.000000000",
          "2025-04-02T01:17:00.000000000",
          "2025-04-02T01:18:00.000000000",
          "2025-04-02T01:19:00.000000000",
          "2025-04-02T01:20:00.000000000",
          "2025-04-02T01:21:00.000000000",
          "2025-04-02T01:22:00.000000000",
          "2025-04-02T01:23:00.000000000",
          "2025-04-02T01:24:00.000000000",
          "2025-04-02T01:25:00.000000000",
          "2025-04-02T01:26:00.000000000",
          "2025-04-02T01:27:00.000000000",
          "2025-04-02T01:28:00.000000000",
          "2025-04-02T01:29:00.000000000",
          "2025-04-02T01:30:00.000000000",
          "2025-04-02T01:31:00.000000000",
          "2025-04-02T01:32:00.000000000",
          "2025-04-02T01:33:00.000000000",
          "2025-04-02T01:34:00.000000000",
          "2025-04-02T01:35:00.000000000",
          "2025-04-02T01:36:00.000000000",
          "2025-04-02T01:37:00.000000000",
          "2025-04-02T01:38:00.000000000",
          "2025-04-02T01:39:00.000000000",
          "2025-04-02T01:40:00.000000000",
          "2025-04-02T01:41:00.000000000",
          "2025-04-02T01:42:00.000000000",
          "2025-04-02T01:43:00.000000000",
          "2025-04-02T01:44:00.000000000",
          "2025-04-02T01:45:00.000000000",
          "2025-04-02T01:46:00.000000000",
          "2025-04-02T01:47:00.000000000",
          "2025-04-02T01:48:00.000000000",
          "2025-04-02T01:49:00.000000000",
          "2025-04-02T01:50:00.000000000",
          "2025-04-02T01:51:00.000000000",
          "2025-04-02T01:52:00.000000000",
          "2025-04-02T01:53:00.000000000",
          "2025-04-02T01:54:00.000000000",
          "2025-04-02T01:55:00.000000000",
          "2025-04-02T01:56:00.000000000",
          "2025-04-02T01:57:00.000000000",
          "2025-04-02T01:58:00.000000000",
          "2025-04-02T01:59:00.000000000",
          "2025-04-02T02:00:00.000000000",
          "2025-04-02T02:01:00.000000000",
          "2025-04-02T02:02:00.000000000",
          "2025-04-02T02:03:00.000000000",
          "2025-04-02T02:04:00.000000000",
          "2025-04-02T02:05:00.000000000",
          "2025-04-02T02:06:00.000000000",
          "2025-04-02T02:07:00.000000000",
          "2025-04-02T02:08:00.000000000",
          "2025-04-02T02:09:00.000000000",
          "2025-04-02T02:10:00.000000000",
          "2025-04-02T02:11:00.000000000",
          "2025-04-02T02:12:00.000000000",
          "2025-04-02T02:13:00.000000000",
          "2025-04-02T02:14:00.000000000",
          "2025-04-02T02:15:00.000000000",
          "2025-04-02T02:16:00.000000000",
          "2025-04-02T02:17:00.000000000",
          "2025-04-02T02:18:00.000000000",
          "2025-04-02T02:19:00.000000000",
          "2025-04-02T02:20:00.000000000",
          "2025-04-02T02:21:00.000000000",
          "2025-04-02T02:22:00.000000000",
          "2025-04-02T02:23:00.000000000",
          "2025-04-02T02:24:00.000000000",
          "2025-04-02T02:25:00.000000000",
          "2025-04-02T02:26:00.000000000",
          "2025-04-02T02:27:00.000000000",
          "2025-04-02T02:28:00.000000000",
          "2025-04-02T02:29:00.000000000",
          "2025-04-02T02:30:00.000000000",
          "2025-04-02T02:31:00.000000000",
          "2025-04-02T02:32:00.000000000",
          "2025-04-02T02:33:00.000000000",
          "2025-04-02T02:34:00.000000000",
          "2025-04-02T02:35:00.000000000",
          "2025-04-02T02:36:00.000000000",
          "2025-04-02T02:37:00.000000000",
          "2025-04-02T02:38:00.000000000",
          "2025-04-02T02:39:00.000000000",
          "2025-04-02T02:40:00.000000000",
          "2025-04-02T02:41:00.000000000",
          "2025-04-02T02:42:00.000000000",
          "2025-04-02T02:43:00.000000000",
          "2025-04-02T02:44:00.000000000",
          "2025-04-02T02:45:00.000000000",
          "2025-04-02T02:46:00.000000000",
          "2025-04-02T02:47:00.000000000",
          "2025-04-02T02:48:00.000000000",
          "2025-04-02T02:49:00.000000000",
          "2025-04-02T02:50:00.000000000",
          "2025-04-02T02:51:00.000000000",
          "2025-04-02T02:52:00.000000000",
          "2025-04-02T02:53:00.000000000",
          "2025-04-02T02:54:00.000000000",
          "2025-04-02T02:55:00.000000000",
          "2025-04-02T02:56:00.000000000",
          "2025-04-02T02:57:00.000000000",
          "2025-04-02T02:58:00.000000000",
          "2025-04-02T02:59:00.000000000",
          "2025-04-02T03:00:00.000000000",
          "2025-04-02T03:01:00.000000000",
          "2025-04-02T03:02:00.000000000",
          "2025-04-02T03:03:00.000000000",
          "2025-04-02T03:04:00.000000000",
          "2025-04-02T03:05:00.000000000",
          "2025-04-02T03:06:00.000000000",
          "2025-04-02T03:07:00.000000000",
          "2025-04-02T03:08:00.000000000",
          "2025-04-02T03:09:00.000000000",
          "2025-04-02T03:10:00.000000000",
          "2025-04-02T03:11:00.000000000",
          "2025-04-02T03:12:00.000000000",
          "2025-04-02T03:13:00.000000000",
          "2025-04-02T03:14:00.000000000",
          "2025-04-02T03:15:00.000000000",
          "2025-04-02T03:16:00.000000000",
          "2025-04-02T03:17:00.000000000",
          "2025-04-02T03:18:00.000000000",
          "2025-04-02T03:19:00.000000000",
          "2025-04-02T03:20:00.000000000",
          "2025-04-02T03:21:00.000000000",
          "2025-04-02T03:22:00.000000000",
          "2025-04-02T03:23:00.000000000",
          "2025-04-02T03:24:00.000000000",
          "2025-04-02T03:25:00.000000000",
          "2025-04-02T03:26:00.000000000",
          "2025-04-02T03:27:00.000000000",
          "2025-04-02T03:28:00.000000000",
          "2025-04-02T03:29:00.000000000",
          "2025-04-02T03:30:00.000000000",
          "2025-04-02T03:31:00.000000000",
          "2025-04-02T03:32:00.000000000",
          "2025-04-02T03:33:00.000000000",
          "2025-04-02T03:34:00.000000000",
          "2025-04-02T03:35:00.000000000",
          "2025-04-02T03:36:00.000000000",
          "2025-04-02T03:37:00.000000000",
          "2025-04-02T03:38:00.000000000",
          "2025-04-02T03:39:00.000000000",
          "2025-04-02T03:40:00.000000000",
          "2025-04-02T03:41:00.000000000",
          "2025-04-02T03:42:00.000000000",
          "2025-04-02T03:43:00.000000000",
          "2025-04-02T03:44:00.000000000",
          "2025-04-02T03:45:00.000000000",
          "2025-04-02T03:46:00.000000000",
          "2025-04-02T03:47:00.000000000",
          "2025-04-02T03:48:00.000000000",
          "2025-04-02T03:49:00.000000000",
          "2025-04-02T03:50:00.000000000",
          "2025-04-02T03:51:00.000000000",
          "2025-04-02T03:52:00.000000000",
          "2025-04-02T03:53:00.000000000",
          "2025-04-02T03:54:00.000000000",
          "2025-04-02T03:55:00.000000000",
          "2025-04-02T03:56:00.000000000",
          "2025-04-02T03:57:00.000000000",
          "2025-04-02T03:58:00.000000000",
          "2025-04-02T03:59:00.000000000",
          "2025-04-02T04:00:00.000000000",
          "2025-04-02T04:01:00.000000000",
          "2025-04-02T04:02:00.000000000",
          "2025-04-02T04:03:00.000000000",
          "2025-04-02T04:04:00.000000000",
          "2025-04-02T04:05:00.000000000",
          "2025-04-02T04:06:00.000000000",
          "2025-04-02T04:07:00.000000000",
          "2025-04-02T04:08:00.000000000",
          "2025-04-02T04:09:00.000000000",
          "2025-04-02T04:10:00.000000000",
          "2025-04-02T04:11:00.000000000",
          "2025-04-02T04:12:00.000000000",
          "2025-04-02T04:13:00.000000000",
          "2025-04-02T04:14:00.000000000",
          "2025-04-02T04:15:00.000000000",
          "2025-04-02T04:16:00.000000000",
          "2025-04-02T04:17:00.000000000",
          "2025-04-02T04:18:00.000000000",
          "2025-04-02T04:19:00.000000000",
          "2025-04-02T04:20:00.000000000",
          "2025-04-02T04:21:00.000000000",
          "2025-04-02T04:22:00.000000000",
          "2025-04-02T04:23:00.000000000",
          "2025-04-02T04:24:00.000000000",
          "2025-04-02T04:25:00.000000000",
          "2025-04-02T04:26:00.000000000",
          "2025-04-02T04:27:00.000000000",
          "2025-04-02T04:28:00.000000000",
          "2025-04-02T04:29:00.000000000",
          "2025-04-02T04:30:00.000000000",
          "2025-04-02T04:31:00.000000000",
          "2025-04-02T04:32:00.000000000",
          "2025-04-02T04:33:00.000000000",
          "2025-04-02T04:34:00.000000000",
          "2025-04-02T04:35:00.000000000",
          "2025-04-02T04:36:00.000000000",
          "2025-04-02T04:37:00.000000000",
          "2025-04-02T04:38:00.000000000",
          "2025-04-02T04:39:00.000000000",
          "2025-04-02T04:40:00.000000000",
          "2025-04-02T04:41:00.000000000",
          "2025-04-02T04:42:00.000000000",
          "2025-04-02T04:43:00.000000000",
          "2025-04-02T04:44:00.000000000",
          "2025-04-02T04:45:00.000000000",
          "2025-04-02T04:46:00.000000000",
          "2025-04-02T04:47:00.000000000",
          "2025-04-02T04:48:00.000000000",
          "2025-04-02T04:49:00.000000000",
          "2025-04-02T04:50:00.000000000",
          "2025-04-02T04:51:00.000000000",
          "2025-04-02T04:52:00.000000000",
          "2025-04-02T04:53:00.000000000",
          "2025-04-02T04:54:00.000000000",
          "2025-04-02T04:55:00.000000000",
          "2025-04-02T04:56:00.000000000",
          "2025-04-02T04:57:00.000000000",
          "2025-04-02T04:58:00.000000000",
          "2025-04-02T04:59:00.000000000",
          "2025-04-02T05:00:00.000000000",
          "2025-04-02T05:01:00.000000000",
          "2025-04-02T05:02:00.000000000",
          "2025-04-02T05:03:00.000000000",
          "2025-04-02T05:04:00.000000000",
          "2025-04-02T05:05:00.000000000",
          "2025-04-02T05:06:00.000000000",
          "2025-04-02T05:07:00.000000000",
          "2025-04-02T05:08:00.000000000",
          "2025-04-02T05:09:00.000000000",
          "2025-04-02T05:10:00.000000000",
          "2025-04-02T05:11:00.000000000",
          "2025-04-02T05:12:00.000000000",
          "2025-04-02T05:13:00.000000000",
          "2025-04-02T05:14:00.000000000",
          "2025-04-02T05:15:00.000000000",
          "2025-04-02T05:16:00.000000000",
          "2025-04-02T05:17:00.000000000",
          "2025-04-02T05:18:00.000000000",
          "2025-04-02T05:19:00.000000000",
          "2025-04-02T05:20:00.000000000",
          "2025-04-02T05:21:00.000000000",
          "2025-04-02T05:22:00.000000000",
          "2025-04-02T05:23:00.000000000",
          "2025-04-02T05:24:00.000000000",
          "2025-04-02T05:25:00.000000000",
          "2025-04-02T05:26:00.000000000",
          "2025-04-02T05:27:00.000000000",
          "2025-04-02T05:28:00.000000000",
          "2025-04-02T05:29:00.000000000",
          "2025-04-02T05:30:00.000000000",
          "2025-04-02T05:31:00.000000000",
          "2025-04-02T05:32:00.000000000",
          "2025-04-02T05:33:00.000000000",
          "2025-04-02T05:34:00.000000000",
          "2025-04-02T05:35:00.000000000",
          "2025-04-02T05:36:00.000000000",
          "2025-04-02T05:37:00.000000000",
          "2025-04-02T05:38:00.000000000",
          "2025-04-02T05:39:00.000000000",
          "2025-04-02T05:40:00.000000000",
          "2025-04-02T05:41:00.000000000",
          "2025-04-02T05:42:00.000000000",
          "2025-04-02T05:43:00.000000000",
          "2025-04-02T05:44:00.000000000",
          "2025-04-02T05:45:00.000000000",
          "2025-04-02T05:46:00.000000000",
          "2025-04-02T05:47:00.000000000",
          "2025-04-02T05:48:00.000000000",
          "2025-04-02T05:49:00.000000000",
          "2025-04-02T05:50:00.000000000",
          "2025-04-02T05:51:00.000000000",
          "2025-04-02T05:52:00.000000000",
          "2025-04-02T05:53:00.000000000",
          "2025-04-02T05:54:00.000000000",
          "2025-04-02T05:55:00.000000000",
          "2025-04-02T05:56:00.000000000",
          "2025-04-02T05:57:00.000000000",
          "2025-04-02T05:58:00.000000000",
          "2025-04-02T05:59:00.000000000",
          "2025-04-02T06:00:00.000000000",
          "2025-04-02T06:01:00.000000000",
          "2025-04-02T06:02:00.000000000",
          "2025-04-02T06:03:00.000000000",
          "2025-04-02T06:04:00.000000000",
          "2025-04-02T06:05:00.000000000",
          "2025-04-02T06:06:00.000000000",
          "2025-04-02T06:07:00.000000000",
          "2025-04-02T06:08:00.000000000",
          "2025-04-02T06:09:00.000000000",
          "2025-04-02T06:10:00.000000000",
          "2025-04-02T06:11:00.000000000",
          "2025-04-02T06:12:00.000000000",
          "2025-04-02T06:13:00.000000000",
          "2025-04-02T06:14:00.000000000",
          "2025-04-02T06:15:00.000000000",
          "2025-04-02T06:16:00.000000000",
          "2025-04-02T06:17:00.000000000",
          "2025-04-02T06:18:00.000000000",
          "2025-04-02T06:19:00.000000000",
          "2025-04-02T06:20:00.000000000",
          "2025-04-02T06:21:00.000000000",
          "2025-04-02T06:22:00.000000000",
          "2025-04-02T06:23:00.000000000",
          "2025-04-02T06:24:00.000000000",
          "2025-04-02T06:25:00.000000000",
          "2025-04-02T06:26:00.000000000",
          "2025-04-02T06:27:00.000000000",
          "2025-04-02T06:28:00.000000000",
          "2025-04-02T06:29:00.000000000",
          "2025-04-02T06:30:00.000000000",
          "2025-04-02T06:31:00.000000000",
          "2025-04-02T06:32:00.000000000",
          "2025-04-02T06:33:00.000000000",
          "2025-04-02T06:34:00.000000000",
          "2025-04-02T06:35:00.000000000",
          "2025-04-02T06:36:00.000000000",
          "2025-04-02T06:37:00.000000000",
          "2025-04-02T06:38:00.000000000",
          "2025-04-02T06:39:00.000000000",
          "2025-04-02T06:40:00.000000000",
          "2025-04-02T06:41:00.000000000",
          "2025-04-02T06:42:00.000000000",
          "2025-04-02T06:43:00.000000000",
          "2025-04-02T06:44:00.000000000",
          "2025-04-02T06:45:00.000000000",
          "2025-04-02T06:46:00.000000000",
          "2025-04-02T06:47:00.000000000",
          "2025-04-02T06:48:00.000000000",
          "2025-04-02T06:49:00.000000000",
          "2025-04-02T06:50:00.000000000",
          "2025-04-02T06:51:00.000000000",
          "2025-04-02T06:52:00.000000000",
          "2025-04-02T06:53:00.000000000",
          "2025-04-02T06:54:00.000000000",
          "2025-04-02T06:55:00.000000000",
          "2025-04-02T06:56:00.000000000",
          "2025-04-02T06:57:00.000000000",
          "2025-04-02T06:58:00.000000000",
          "2025-04-02T06:59:00.000000000",
          "2025-04-02T07:00:00.000000000",
          "2025-04-02T07:01:00.000000000",
          "2025-04-02T07:02:00.000000000",
          "2025-04-02T07:03:00.000000000",
          "2025-04-02T07:04:00.000000000",
          "2025-04-02T07:05:00.000000000",
          "2025-04-02T07:06:00.000000000",
          "2025-04-02T07:07:00.000000000",
          "2025-04-02T07:08:00.000000000",
          "2025-04-02T07:09:00.000000000",
          "2025-04-02T07:10:00.000000000",
          "2025-04-02T07:11:00.000000000",
          "2025-04-02T07:12:00.000000000",
          "2025-04-02T07:13:00.000000000",
          "2025-04-02T07:14:00.000000000",
          "2025-04-02T07:15:00.000000000",
          "2025-04-02T07:16:00.000000000",
          "2025-04-02T07:17:00.000000000",
          "2025-04-02T07:18:00.000000000",
          "2025-04-02T07:19:00.000000000",
          "2025-04-02T07:20:00.000000000",
          "2025-04-02T07:21:00.000000000",
          "2025-04-02T07:22:00.000000000",
          "2025-04-02T07:23:00.000000000",
          "2025-04-02T07:24:00.000000000",
          "2025-04-02T07:25:00.000000000",
          "2025-04-02T07:26:00.000000000",
          "2025-04-02T07:27:00.000000000",
          "2025-04-02T07:28:00.000000000",
          "2025-04-02T07:29:00.000000000",
          "2025-04-02T07:30:00.000000000",
          "2025-04-02T07:31:00.000000000",
          "2025-04-02T07:32:00.000000000",
          "2025-04-02T07:33:00.000000000",
          "2025-04-02T07:34:00.000000000",
          "2025-04-02T07:35:00.000000000",
          "2025-04-02T07:36:00.000000000",
          "2025-04-02T07:37:00.000000000",
          "2025-04-02T07:38:00.000000000",
          "2025-04-02T07:39:00.000000000",
          "2025-04-02T07:40:00.000000000",
          "2025-04-02T07:41:00.000000000",
          "2025-04-02T07:42:00.000000000",
          "2025-04-02T07:43:00.000000000",
          "2025-04-02T07:44:00.000000000",
          "2025-04-02T07:45:00.000000000",
          "2025-04-02T07:46:00.000000000",
          "2025-04-02T07:47:00.000000000",
          "2025-04-02T07:48:00.000000000",
          "2025-04-02T07:49:00.000000000",
          "2025-04-02T07:50:00.000000000",
          "2025-04-02T07:51:00.000000000",
          "2025-04-02T07:52:00.000000000",
          "2025-04-02T07:53:00.000000000",
          "2025-04-02T07:54:00.000000000",
          "2025-04-02T07:55:00.000000000",
          "2025-04-02T07:56:00.000000000",
          "2025-04-02T07:57:00.000000000",
          "2025-04-02T07:58:00.000000000",
          "2025-04-02T07:59:00.000000000",
          "2025-04-02T08:00:00.000000000",
          "2025-04-02T08:01:00.000000000",
          "2025-04-02T08:02:00.000000000",
          "2025-04-02T08:03:00.000000000",
          "2025-04-02T08:04:00.000000000",
          "2025-04-02T08:05:00.000000000",
          "2025-04-02T08:06:00.000000000",
          "2025-04-02T08:07:00.000000000",
          "2025-04-02T08:08:00.000000000",
          "2025-04-02T08:09:00.000000000",
          "2025-04-02T08:10:00.000000000",
          "2025-04-02T08:11:00.000000000",
          "2025-04-02T08:12:00.000000000",
          "2025-04-02T08:13:00.000000000",
          "2025-04-02T08:14:00.000000000",
          "2025-04-02T08:15:00.000000000",
          "2025-04-02T08:16:00.000000000",
          "2025-04-02T08:17:00.000000000",
          "2025-04-02T08:18:00.000000000",
          "2025-04-02T08:19:00.000000000",
          "2025-04-02T08:20:00.000000000",
          "2025-04-02T08:21:00.000000000",
          "2025-04-02T08:22:00.000000000",
          "2025-04-02T08:23:00.000000000",
          "2025-04-02T08:24:00.000000000",
          "2025-04-02T08:25:00.000000000",
          "2025-04-02T08:26:00.000000000",
          "2025-04-02T08:27:00.000000000",
          "2025-04-02T08:28:00.000000000",
          "2025-04-02T08:29:00.000000000",
          "2025-04-02T08:30:00.000000000",
          "2025-04-02T08:31:00.000000000",
          "2025-04-02T08:32:00.000000000",
          "2025-04-02T08:33:00.000000000",
          "2025-04-02T08:34:00.000000000",
          "2025-04-02T08:35:00.000000000",
          "2025-04-02T08:36:00.000000000",
          "2025-04-02T08:37:00.000000000",
          "2025-04-02T08:38:00.000000000",
          "2025-04-02T08:39:00.000000000",
          "2025-04-02T08:40:00.000000000",
          "2025-04-02T08:41:00.000000000",
          "2025-04-02T08:42:00.000000000",
          "2025-04-02T08:43:00.000000000",
          "2025-04-02T08:44:00.000000000",
          "2025-04-02T08:45:00.000000000",
          "2025-04-02T08:46:00.000000000",
          "2025-04-02T08:47:00.000000000",
          "2025-04-02T08:48:00.000000000",
          "2025-04-02T08:49:00.000000000",
          "2025-04-02T08:50:00.000000000",
          "2025-04-02T08:51:00.000000000",
          "2025-04-02T08:52:00.000000000",
          "2025-04-02T08:53:00.000000000",
          "2025-04-02T08:54:00.000000000",
          "2025-04-02T08:55:00.000000000",
          "2025-04-02T08:56:00.000000000",
          "2025-04-02T08:57:00.000000000",
          "2025-04-02T08:58:00.000000000",
          "2025-04-02T08:59:00.000000000",
          "2025-04-02T09:00:00.000000000",
          "2025-04-02T09:01:00.000000000",
          "2025-04-02T09:02:00.000000000",
          "2025-04-02T09:03:00.000000000",
          "2025-04-02T09:04:00.000000000",
          "2025-04-02T09:05:00.000000000",
          "2025-04-02T09:06:00.000000000",
          "2025-04-02T09:07:00.000000000",
          "2025-04-02T09:08:00.000000000",
          "2025-04-02T09:09:00.000000000",
          "2025-04-02T09:10:00.000000000",
          "2025-04-02T09:11:00.000000000",
          "2025-04-02T09:12:00.000000000",
          "2025-04-02T09:13:00.000000000",
          "2025-04-02T09:14:00.000000000",
          "2025-04-02T09:15:00.000000000",
          "2025-04-02T09:16:00.000000000",
          "2025-04-02T09:17:00.000000000",
          "2025-04-02T09:18:00.000000000",
          "2025-04-02T09:19:00.000000000",
          "2025-04-02T09:20:00.000000000",
          "2025-04-02T09:21:00.000000000",
          "2025-04-02T09:22:00.000000000",
          "2025-04-02T09:23:00.000000000",
          "2025-04-02T09:24:00.000000000",
          "2025-04-02T09:25:00.000000000",
          "2025-04-02T09:26:00.000000000",
          "2025-04-02T09:27:00.000000000",
          "2025-04-02T09:28:00.000000000",
          "2025-04-02T09:29:00.000000000",
          "2025-04-02T09:30:00.000000000",
          "2025-04-02T09:31:00.000000000",
          "2025-04-02T09:32:00.000000000",
          "2025-04-02T09:33:00.000000000",
          "2025-04-02T09:34:00.000000000",
          "2025-04-02T09:35:00.000000000",
          "2025-04-02T09:36:00.000000000",
          "2025-04-02T09:37:00.000000000",
          "2025-04-02T09:38:00.000000000",
          "2025-04-02T09:39:00.000000000",
          "2025-04-02T09:40:00.000000000",
          "2025-04-02T09:41:00.000000000",
          "2025-04-02T09:42:00.000000000",
          "2025-04-02T09:43:00.000000000",
          "2025-04-02T09:44:00.000000000",
          "2025-04-02T09:45:00.000000000",
          "2025-04-02T09:46:00.000000000",
          "2025-04-02T09:47:00.000000000",
          "2025-04-02T09:48:00.000000000",
          "2025-04-02T09:49:00.000000000",
          "2025-04-02T09:50:00.000000000",
          "2025-04-02T09:51:00.000000000",
          "2025-04-02T09:52:00.000000000",
          "2025-04-02T09:53:00.000000000",
          "2025-04-02T09:54:00.000000000",
          "2025-04-02T09:55:00.000000000",
          "2025-04-02T09:56:00.000000000",
          "2025-04-02T09:57:00.000000000",
          "2025-04-02T09:58:00.000000000",
          "2025-04-02T09:59:00.000000000",
          "2025-04-02T10:00:00.000000000",
          "2025-04-02T10:01:00.000000000",
          "2025-04-02T10:02:00.000000000",
          "2025-04-02T10:03:00.000000000",
          "2025-04-02T10:04:00.000000000",
          "2025-04-02T10:05:00.000000000",
          "2025-04-02T10:06:00.000000000",
          "2025-04-02T10:07:00.000000000",
          "2025-04-02T10:08:00.000000000",
          "2025-04-02T10:09:00.000000000",
          "2025-04-02T10:10:00.000000000",
          "2025-04-02T10:11:00.000000000",
          "2025-04-02T10:12:00.000000000",
          "2025-04-02T10:13:00.000000000",
          "2025-04-02T10:14:00.000000000",
          "2025-04-02T10:15:00.000000000",
          "2025-04-02T10:16:00.000000000",
          "2025-04-02T10:17:00.000000000",
          "2025-04-02T10:18:00.000000000",
          "2025-04-02T10:19:00.000000000",
          "2025-04-02T10:20:00.000000000",
          "2025-04-02T10:21:00.000000000",
          "2025-04-02T10:22:00.000000000",
          "2025-04-02T10:23:00.000000000",
          "2025-04-02T10:24:00.000000000",
          "2025-04-02T10:25:00.000000000",
          "2025-04-02T10:26:00.000000000",
          "2025-04-02T10:27:00.000000000",
          "2025-04-02T10:28:00.000000000",
          "2025-04-02T10:29:00.000000000",
          "2025-04-02T10:30:00.000000000",
          "2025-04-02T10:31:00.000000000",
          "2025-04-02T10:32:00.000000000",
          "2025-04-02T10:33:00.000000000",
          "2025-04-02T10:34:00.000000000",
          "2025-04-02T10:35:00.000000000",
          "2025-04-02T10:36:00.000000000",
          "2025-04-02T10:37:00.000000000",
          "2025-04-02T10:38:00.000000000",
          "2025-04-02T10:39:00.000000000",
          "2025-04-02T10:40:00.000000000",
          "2025-04-02T10:41:00.000000000",
          "2025-04-02T10:42:00.000000000",
          "2025-04-02T10:43:00.000000000",
          "2025-04-02T10:44:00.000000000",
          "2025-04-02T10:45:00.000000000",
          "2025-04-02T10:46:00.000000000",
          "2025-04-02T10:47:00.000000000",
          "2025-04-02T10:48:00.000000000",
          "2025-04-02T10:49:00.000000000",
          "2025-04-02T10:50:00.000000000",
          "2025-04-02T10:51:00.000000000",
          "2025-04-02T10:52:00.000000000",
          "2025-04-02T10:53:00.000000000",
          "2025-04-02T10:54:00.000000000",
          "2025-04-02T10:55:00.000000000",
          "2025-04-02T10:56:00.000000000",
          "2025-04-02T10:57:00.000000000",
          "2025-04-02T10:58:00.000000000",
          "2025-04-02T10:59:00.000000000",
          "2025-04-02T11:00:00.000000000",
          "2025-04-02T11:01:00.000000000",
          "2025-04-02T11:02:00.000000000",
          "2025-04-02T11:03:00.000000000",
          "2025-04-02T11:04:00.000000000",
          "2025-04-02T11:05:00.000000000",
          "2025-04-02T11:06:00.000000000",
          "2025-04-02T11:07:00.000000000",
          "2025-04-02T11:08:00.000000000",
          "2025-04-02T11:09:00.000000000",
          "2025-04-02T11:10:00.000000000",
          "2025-04-02T11:11:00.000000000",
          "2025-04-02T11:12:00.000000000",
          "2025-04-02T11:13:00.000000000",
          "2025-04-02T11:14:00.000000000",
          "2025-04-02T11:15:00.000000000",
          "2025-04-02T11:16:00.000000000",
          "2025-04-02T11:17:00.000000000",
          "2025-04-02T11:18:00.000000000",
          "2025-04-02T11:19:00.000000000",
          "2025-04-02T11:20:00.000000000",
          "2025-04-02T11:21:00.000000000",
          "2025-04-02T11:22:00.000000000",
          "2025-04-02T11:23:00.000000000",
          "2025-04-02T11:24:00.000000000",
          "2025-04-02T11:25:00.000000000",
          "2025-04-02T11:26:00.000000000",
          "2025-04-02T11:27:00.000000000",
          "2025-04-02T11:28:00.000000000",
          "2025-04-02T11:29:00.000000000",
          "2025-04-02T11:30:00.000000000",
          "2025-04-02T11:31:00.000000000",
          "2025-04-02T11:32:00.000000000",
          "2025-04-02T11:33:00.000000000",
          "2025-04-02T11:34:00.000000000",
          "2025-04-02T11:35:00.000000000",
          "2025-04-02T11:36:00.000000000",
          "2025-04-02T11:37:00.000000000",
          "2025-04-02T11:38:00.000000000",
          "2025-04-02T11:39:00.000000000",
          "2025-04-02T11:40:00.000000000",
          "2025-04-02T11:41:00.000000000",
          "2025-04-02T11:42:00.000000000",
          "2025-04-02T11:43:00.000000000",
          "2025-04-02T11:44:00.000000000",
          "2025-04-02T11:45:00.000000000",
          "2025-04-02T11:46:00.000000000",
          "2025-04-02T11:47:00.000000000",
          "2025-04-02T11:48:00.000000000",
          "2025-04-02T11:49:00.000000000",
          "2025-04-02T11:50:00.000000000",
          "2025-04-02T11:51:00.000000000",
          "2025-04-02T11:52:00.000000000",
          "2025-04-02T11:53:00.000000000",
          "2025-04-02T11:54:00.000000000",
          "2025-04-02T11:55:00.000000000",
          "2025-04-02T11:56:00.000000000",
          "2025-04-02T11:57:00.000000000",
          "2025-04-02T11:58:00.000000000",
          "2025-04-02T11:59:00.000000000",
          "2025-04-02T12:00:00.000000000",
          "2025-04-02T12:01:00.000000000",
          "2025-04-02T12:02:00.000000000",
          "2025-04-02T12:03:00.000000000",
          "2025-04-02T12:04:00.000000000",
          "2025-04-02T12:05:00.000000000",
          "2025-04-02T12:06:00.000000000",
          "2025-04-02T12:07:00.000000000",
          "2025-04-02T12:08:00.000000000",
          "2025-04-02T12:09:00.000000000",
          "2025-04-02T12:10:00.000000000",
          "2025-04-02T12:11:00.000000000",
          "2025-04-02T12:12:00.000000000",
          "2025-04-02T12:13:00.000000000",
          "2025-04-02T12:14:00.000000000",
          "2025-04-02T12:15:00.000000000",
          "2025-04-02T12:16:00.000000000",
          "2025-04-02T12:17:00.000000000",
          "2025-04-02T12:18:00.000000000",
          "2025-04-02T12:19:00.000000000",
          "2025-04-02T12:20:00.000000000",
          "2025-04-02T12:21:00.000000000",
          "2025-04-02T12:22:00.000000000",
          "2025-04-02T12:23:00.000000000",
          "2025-04-02T12:24:00.000000000",
          "2025-04-02T12:25:00.000000000",
          "2025-04-02T12:26:00.000000000",
          "2025-04-02T12:27:00.000000000",
          "2025-04-02T12:28:00.000000000",
          "2025-04-02T12:29:00.000000000",
          "2025-04-02T12:30:00.000000000",
          "2025-04-02T12:31:00.000000000",
          "2025-04-02T12:32:00.000000000",
          "2025-04-02T12:33:00.000000000",
          "2025-04-02T12:34:00.000000000",
          "2025-04-02T12:35:00.000000000",
          "2025-04-02T12:36:00.000000000",
          "2025-04-02T12:37:00.000000000",
          "2025-04-02T12:38:00.000000000",
          "2025-04-02T12:39:00.000000000",
          "2025-04-02T12:40:00.000000000",
          "2025-04-02T12:41:00.000000000",
          "2025-04-02T12:42:00.000000000",
          "2025-04-02T12:43:00.000000000",
          "2025-04-02T12:44:00.000000000",
          "2025-04-02T12:45:00.000000000",
          "2025-04-02T12:46:00.000000000",
          "2025-04-02T12:47:00.000000000",
          "2025-04-02T12:48:00.000000000",
          "2025-04-02T12:49:00.000000000",
          "2025-04-02T12:50:00.000000000",
          "2025-04-02T12:51:00.000000000",
          "2025-04-02T12:52:00.000000000",
          "2025-04-02T12:53:00.000000000",
          "2025-04-02T12:54:00.000000000",
          "2025-04-02T12:55:00.000000000",
          "2025-04-02T12:56:00.000000000",
          "2025-04-02T12:57:00.000000000",
          "2025-04-02T12:58:00.000000000",
          "2025-04-02T12:59:00.000000000",
          "2025-04-02T13:00:00.000000000",
          "2025-04-02T13:01:00.000000000",
          "2025-04-02T13:02:00.000000000",
          "2025-04-02T13:03:00.000000000",
          "2025-04-02T13:04:00.000000000",
          "2025-04-02T13:05:00.000000000",
          "2025-04-02T13:06:00.000000000",
          "2025-04-02T13:07:00.000000000",
          "2025-04-02T13:08:00.000000000",
          "2025-04-02T13:09:00.000000000",
          "2025-04-02T13:10:00.000000000",
          "2025-04-02T13:11:00.000000000",
          "2025-04-02T13:12:00.000000000",
          "2025-04-02T13:13:00.000000000",
          "2025-04-02T13:14:00.000000000",
          "2025-04-02T13:15:00.000000000",
          "2025-04-02T13:16:00.000000000",
          "2025-04-02T13:17:00.000000000",
          "2025-04-02T13:18:00.000000000",
          "2025-04-02T13:19:00.000000000",
          "2025-04-02T13:20:00.000000000",
          "2025-04-02T13:21:00.000000000",
          "2025-04-02T13:22:00.000000000",
          "2025-04-02T13:23:00.000000000",
          "2025-04-02T13:24:00.000000000",
          "2025-04-02T13:25:00.000000000",
          "2025-04-02T13:26:00.000000000",
          "2025-04-02T13:27:00.000000000",
          "2025-04-02T13:28:00.000000000",
          "2025-04-02T13:29:00.000000000",
          "2025-04-02T13:30:00.000000000",
          "2025-04-02T13:31:00.000000000",
          "2025-04-02T13:32:00.000000000",
          "2025-04-02T13:33:00.000000000",
          "2025-04-02T13:34:00.000000000",
          "2025-04-02T13:35:00.000000000",
          "2025-04-02T13:36:00.000000000",
          "2025-04-02T13:37:00.000000000",
          "2025-04-02T13:38:00.000000000",
          "2025-04-02T13:39:00.000000000",
          "2025-04-02T13:40:00.000000000",
          "2025-04-02T13:41:00.000000000",
          "2025-04-02T13:42:00.000000000",
          "2025-04-02T13:43:00.000000000",
          "2025-04-02T13:44:00.000000000",
          "2025-04-02T13:45:00.000000000",
          "2025-04-02T13:46:00.000000000",
          "2025-04-02T13:47:00.000000000",
          "2025-04-02T13:48:00.000000000",
          "2025-04-02T13:49:00.000000000",
          "2025-04-02T13:50:00.000000000",
          "2025-04-02T13:51:00.000000000",
          "2025-04-02T13:52:00.000000000",
          "2025-04-02T13:53:00.000000000",
          "2025-04-02T13:54:00.000000000",
          "2025-04-02T13:55:00.000000000",
          "2025-04-02T13:56:00.000000000",
          "2025-04-02T13:57:00.000000000",
          "2025-04-02T13:58:00.000000000",
          "2025-04-02T13:59:00.000000000",
          "2025-04-02T14:00:00.000000000",
          "2025-04-02T14:01:00.000000000",
          "2025-04-02T14:02:00.000000000",
          "2025-04-02T14:03:00.000000000",
          "2025-04-02T14:04:00.000000000",
          "2025-04-02T14:05:00.000000000",
          "2025-04-02T14:06:00.000000000",
          "2025-04-02T14:07:00.000000000",
          "2025-04-02T14:08:00.000000000",
          "2025-04-02T14:09:00.000000000",
          "2025-04-02T14:10:00.000000000",
          "2025-04-02T14:11:00.000000000",
          "2025-04-02T14:12:00.000000000",
          "2025-04-02T14:13:00.000000000",
          "2025-04-02T14:14:00.000000000",
          "2025-04-02T14:15:00.000000000",
          "2025-04-02T14:16:00.000000000",
          "2025-04-02T14:17:00.000000000",
          "2025-04-02T14:18:00.000000000",
          "2025-04-02T14:19:00.000000000",
          "2025-04-02T14:20:00.000000000",
          "2025-04-02T14:21:00.000000000",
          "2025-04-02T14:22:00.000000000",
          "2025-04-02T14:23:00.000000000",
          "2025-04-02T14:24:00.000000000",
          "2025-04-02T14:25:00.000000000",
          "2025-04-02T14:26:00.000000000",
          "2025-04-02T14:27:00.000000000",
          "2025-04-02T14:28:00.000000000",
          "2025-04-02T14:29:00.000000000",
          "2025-04-02T14:30:00.000000000",
          "2025-04-02T14:31:00.000000000",
          "2025-04-02T14:32:00.000000000",
          "2025-04-02T14:33:00.000000000",
          "2025-04-02T14:34:00.000000000",
          "2025-04-02T14:35:00.000000000",
          "2025-04-02T14:36:00.000000000",
          "2025-04-02T14:37:00.000000000",
          "2025-04-02T14:38:00.000000000",
          "2025-04-02T14:39:00.000000000",
          "2025-04-02T14:40:00.000000000",
          "2025-04-02T14:41:00.000000000",
          "2025-04-02T14:42:00.000000000",
          "2025-04-02T14:43:00.000000000",
          "2025-04-02T14:44:00.000000000",
          "2025-04-02T14:45:00.000000000",
          "2025-04-02T14:46:00.000000000",
          "2025-04-02T14:47:00.000000000",
          "2025-04-02T14:48:00.000000000",
          "2025-04-02T14:49:00.000000000",
          "2025-04-02T14:50:00.000000000",
          "2025-04-02T14:51:00.000000000",
          "2025-04-02T14:52:00.000000000",
          "2025-04-02T14:53:00.000000000",
          "2025-04-02T14:54:00.000000000",
          "2025-04-02T14:55:00.000000000",
          "2025-04-02T14:56:00.000000000",
          "2025-04-02T14:57:00.000000000",
          "2025-04-02T14:58:00.000000000",
          "2025-04-02T14:59:00.000000000",
          "2025-04-02T15:00:00.000000000",
          "2025-04-02T15:01:00.000000000",
          "2025-04-02T15:02:00.000000000",
          "2025-04-02T15:03:00.000000000",
          "2025-04-02T15:04:00.000000000",
          "2025-04-02T15:05:00.000000000",
          "2025-04-02T15:06:00.000000000",
          "2025-04-02T15:07:00.000000000",
          "2025-04-02T15:08:00.000000000",
          "2025-04-02T15:09:00.000000000",
          "2025-04-02T15:10:00.000000000",
          "2025-04-02T15:11:00.000000000",
          "2025-04-02T15:12:00.000000000",
          "2025-04-02T15:13:00.000000000",
          "2025-04-02T15:14:00.000000000",
          "2025-04-02T15:15:00.000000000",
          "2025-04-02T15:16:00.000000000",
          "2025-04-02T15:17:00.000000000",
          "2025-04-02T15:18:00.000000000",
          "2025-04-02T15:19:00.000000000",
          "2025-04-02T15:20:00.000000000",
          "2025-04-02T15:21:00.000000000",
          "2025-04-02T15:22:00.000000000",
          "2025-04-02T15:23:00.000000000",
          "2025-04-02T15:24:00.000000000",
          "2025-04-02T15:25:00.000000000",
          "2025-04-02T15:26:00.000000000",
          "2025-04-02T15:27:00.000000000",
          "2025-04-02T15:28:00.000000000",
          "2025-04-02T15:29:00.000000000",
          "2025-04-02T15:30:00.000000000",
          "2025-04-02T15:31:00.000000000",
          "2025-04-02T15:32:00.000000000",
          "2025-04-02T15:33:00.000000000",
          "2025-04-02T15:34:00.000000000",
          "2025-04-02T15:35:00.000000000",
          "2025-04-02T15:36:00.000000000",
          "2025-04-02T15:37:00.000000000",
          "2025-04-02T15:38:00.000000000",
          "2025-04-02T15:39:00.000000000",
          "2025-04-02T15:40:00.000000000",
          "2025-04-02T15:41:00.000000000",
          "2025-04-02T15:42:00.000000000",
          "2025-04-02T15:43:00.000000000",
          "2025-04-02T15:44:00.000000000",
          "2025-04-02T15:45:00.000000000",
          "2025-04-02T15:46:00.000000000",
          "2025-04-02T15:47:00.000000000",
          "2025-04-02T15:48:00.000000000",
          "2025-04-02T15:49:00.000000000",
          "2025-04-02T15:50:00.000000000",
          "2025-04-02T15:51:00.000000000",
          "2025-04-02T15:52:00.000000000",
          "2025-04-02T15:53:00.000000000",
          "2025-04-02T15:54:00.000000000",
          "2025-04-02T15:55:00.000000000",
          "2025-04-02T15:56:00.000000000",
          "2025-04-02T15:57:00.000000000",
          "2025-04-02T15:58:00.000000000",
          "2025-04-02T15:59:00.000000000",
          "2025-04-02T16:00:00.000000000",
          "2025-04-02T16:01:00.000000000",
          "2025-04-02T16:02:00.000000000",
          "2025-04-02T16:03:00.000000000",
          "2025-04-02T16:04:00.000000000",
          "2025-04-02T16:05:00.000000000",
          "2025-04-02T16:06:00.000000000",
          "2025-04-02T16:07:00.000000000",
          "2025-04-02T16:08:00.000000000",
          "2025-04-02T16:09:00.000000000",
          "2025-04-02T16:10:00.000000000",
          "2025-04-02T16:11:00.000000000",
          "2025-04-02T16:12:00.000000000",
          "2025-04-02T16:13:00.000000000",
          "2025-04-02T16:14:00.000000000",
          "2025-04-02T16:15:00.000000000",
          "2025-04-02T16:16:00.000000000",
          "2025-04-02T16:17:00.000000000",
          "2025-04-02T16:18:00.000000000",
          "2025-04-02T16:19:00.000000000",
          "2025-04-02T16:20:00.000000000",
          "2025-04-02T16:21:00.000000000",
          "2025-04-02T16:22:00.000000000",
          "2025-04-02T16:23:00.000000000",
          "2025-04-02T16:24:00.000000000",
          "2025-04-02T16:25:00.000000000",
          "2025-04-02T16:26:00.000000000",
          "2025-04-02T16:27:00.000000000",
          "2025-04-02T16:28:00.000000000",
          "2025-04-02T16:29:00.000000000",
          "2025-04-02T16:30:00.000000000",
          "2025-04-02T16:31:00.000000000",
          "2025-04-02T16:32:00.000000000",
          "2025-04-02T16:33:00.000000000",
          "2025-04-02T16:34:00.000000000",
          "2025-04-02T16:35:00.000000000",
          "2025-04-02T16:36:00.000000000",
          "2025-04-02T16:37:00.000000000",
          "2025-04-02T16:38:00.000000000",
          "2025-04-02T16:39:00.000000000",
          "2025-04-02T16:40:00.000000000",
          "2025-04-02T16:41:00.000000000",
          "2025-04-02T16:42:00.000000000",
          "2025-04-02T16:43:00.000000000",
          "2025-04-02T16:44:00.000000000",
          "2025-04-02T16:45:00.000000000",
          "2025-04-02T16:46:00.000000000",
          "2025-04-02T16:47:00.000000000",
          "2025-04-02T16:48:00.000000000",
          "2025-04-02T16:49:00.000000000",
          "2025-04-02T16:50:00.000000000",
          "2025-04-02T16:51:00.000000000",
          "2025-04-02T16:52:00.000000000",
          "2025-04-02T16:53:00.000000000",
          "2025-04-02T16:54:00.000000000",
          "2025-04-02T16:55:00.000000000",
          "2025-04-02T16:56:00.000000000",
          "2025-04-02T16:57:00.000000000",
          "2025-04-02T16:58:00.000000000",
          "2025-04-02T16:59:00.000000000",
          "2025-04-02T17:00:00.000000000"
         ],
         "xaxis": "x",
         "y": {
          "bdata": "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",
          "dtype": "f8"
         },
         "yaxis": "y"
        },
        {
         "line": {
          "color": "red",
          "dash": "dash",
          "width": 2
         },
         "mode": "lines",
         "name": "Buy Executor",
         "showlegend": false,
         "type": "scatter",
         "x": [
          "2025-03-31T21:19:00",
          "2025-03-31T21:30:00"
         ],
         "xaxis": "x",
         "y": [
          0.07588404,
          0.07588
         ],
         "yaxis": "y"
        },
        {
         "line": {
          "color": "red",
          "dash": "dash",
          "width": 2
         },
         "mode": "lines",
         "name": "Buy Executor",
         "showlegend": false,
         "type": "scatter",
         "x": [
          "2025-03-31T21:19:00",
          "2025-03-31T21:30:00"
         ],
         "xaxis": "x",
         "y": [
          0.07580808,
          0.07588
         ],
         "yaxis": "y"
        },
        {
         "line": {
          "color": "red",
          "dash": "dash",
          "width": 2
         },
         "mode": "lines",
         "name": "Buy Executor",
         "showlegend": false,
         "type": "scatter",
         "x": [
          "2025-03-31T21:19:00",
          "2025-03-31T21:30:00"
         ],
         "xaxis": "x",
         "y": [
          0.07573212,
          0.07588
         ],
         "yaxis": "y"
        },
        {
         "line": {
          "color": "red",
          "dash": "dash",
          "width": 2
         },
         "mode": "lines",
         "name": "Buy Executor",
         "showlegend": false,
         "type": "scatter",
         "x": [
          "2025-03-31T21:19:00",
          "2025-03-31T21:30:00"
         ],
         "xaxis": "x",
         "y": [
          0.07565616,
          0.07588
         ],
         "yaxis": "y"
        },
        {
         "line": {
          "color": "red",
          "dash": "dash",
          "width": 2
         },
         "mode": "lines",
         "name": "Buy Executor",
         "showlegend": false,
         "type": "scatter",
         "x": [
          "2025-03-31T21:19:00",
          "2025-03-31T21:30:00"
         ],
         "xaxis": "x",
         "y": [
          0.0755802,
          0.07588
         ],
         "yaxis": "y"
        },
        {
         "line": {
          "color": "red",
          "dash": "dash",
          "width": 2
         },
         "mode": "lines",
         "name": "Buy Executor",
         "showlegend": false,
         "type": "scatter",
         "x": [
          "2025-03-31T21:19:00",
          "2025-03-31T21:30:00"
         ],
         "xaxis": "x",
         "y": [
          0.07550424,
          0.07588
         ],
         "yaxis": "y"
        },
        {
         "line": {
          "color": "red",
          "dash": "dash",
          "width": 2
         },
         "mode": "lines",
         "name": "Buy Executor",
         "showlegend": false,
         "type": "scatter",
         "x": [
          "2025-03-31T21:19:00",
          "2025-03-31T21:30:00"
         ],
         "xaxis": "x",
         "y": [
          0.07542828,
          0.07588
         ],
         "yaxis": "y"
        },
        {
         "line": {
          "color": "red",
          "dash": "dash",
          "width": 2
         },
         "mode": "lines",
         "name": "Buy Executor",
         "showlegend": false,
         "type": "scatter",
         "x": [
          "2025-03-31T21:19:00",
          "2025-03-31T21:30:00"
         ],
         "xaxis": "x",
         "y": [
          0.07535232,
          0.07588
         ],
         "yaxis": "y"
        },
        {
         "line": {
          "color": "red",
          "dash": "dash",
          "width": 2
         },
         "mode": "lines",
         "name": "Buy Executor",
         "showlegend": false,
         "type": "scatter",
         "x": [
          "2025-03-31T21:19:00",
          "2025-03-31T21:30:00"
         ],
         "xaxis": "x",
         "y": [
          0.07527636,
          0.07588
         ],
         "yaxis": "y"
        },
        {
         "line": {
          "color": "red",
          "dash": "dash",
          "width": 2
         },
         "mode": "lines",
         "name": "Buy Executor",
         "showlegend": false,
         "type": "scatter",
         "x": [
          "2025-03-31T21:19:00",
          "2025-03-31T21:30:00"
         ],
         "xaxis": "x",
         "y": [
          0.0752004,
          0.07588
         ],
         "yaxis": "y"
        },
        {
         "line": {
          "color": "red",
          "dash": "dash",
          "width": 2
         },
         "mode": "lines",
         "name": "Buy Executor",
         "showlegend": false,
         "type": "scatter",
         "x": [
          "2025-03-31T22:41:00",
          "2025-03-31T22:48:00"
         ],
         "xaxis": "x",
         "y": [
          0.07491501,
          0.07488
         ],
         "yaxis": "y"
        },
        {
         "line": {
          "color": "red",
          "dash": "dash",
          "width": 2
         },
         "mode": "lines",
         "name": "Buy Executor",
         "showlegend": false,
         "type": "scatter",
         "x": [
          "2025-03-31T22:41:00",
          "2025-03-31T22:48:00"
         ],
         "xaxis": "x",
         "y": [
          0.07484002000000001,
          0.07488
         ],
         "yaxis": "y"
        },
        {
         "line": {
          "color": "red",
          "dash": "dash",
          "width": 2
         },
         "mode": "lines",
         "name": "Buy Executor",
         "showlegend": false,
         "type": "scatter",
         "x": [
          "2025-03-31T22:41:00",
          "2025-03-31T22:48:00"
         ],
         "xaxis": "x",
         "y": [
          0.07476503,
          0.07488
         ],
         "yaxis": "y"
        },
        {
         "line": {
          "color": "red",
          "dash": "dash",
          "width": 2
         },
         "mode": "lines",
         "name": "Buy Executor",
         "showlegend": false,
         "type": "scatter",
         "x": [
          "2025-03-31T22:41:00",
          "2025-03-31T22:48:00"
         ],
         "xaxis": "x",
         "y": [
          0.07469004,
          0.07488
         ],
         "yaxis": "y"
        },
        {
         "line": {
          "color": "red",
          "dash": "dash",
          "width": 2
         },
         "mode": "lines",
         "name": "Buy Executor",
         "showlegend": false,
         "type": "scatter",
         "x": [
          "2025-03-31T22:41:00",
          "2025-03-31T22:48:00"
         ],
         "xaxis": "x",
         "y": [
          0.07461505,
          0.07488
         ],
         "yaxis": "y"
        },
        {
         "line": {
          "color": "red",
          "dash": "dash",
          "width": 2
         },
         "mode": "lines",
         "name": "Buy Executor",
         "showlegend": false,
         "type": "scatter",
         "x": [
          "2025-03-31T22:41:00",
          "2025-03-31T22:48:00"
         ],
         "xaxis": "x",
         "y": [
          0.07454006,
          0.07488
         ],
         "yaxis": "y"
        },
        {
         "line": {
          "color": "red",
          "dash": "dash",
          "width": 2
         },
         "mode": "lines",
         "name": "Buy Executor",
         "showlegend": false,
         "type": "scatter",
         "x": [
          "2025-03-31T22:41:00",
          "2025-03-31T22:48:00"
         ],
         "xaxis": "x",
         "y": [
          0.07446507,
          0.07488
         ],
         "yaxis": "y"
        },
        {
         "line": {
          "color": "red",
          "dash": "dash",
          "width": 2
         },
         "mode": "lines",
         "name": "Buy Executor",
         "showlegend": false,
         "type": "scatter",
         "x": [
          "2025-03-31T22:41:00",
          "2025-03-31T22:48:00"
         ],
         "xaxis": "x",
         "y": [
          0.07439008,
          0.07488
         ],
         "yaxis": "y"
        },
        {
         "line": {
          "color": "red",
          "dash": "dash",
          "width": 2
         },
         "mode": "lines",
         "name": "Buy Executor",
         "showlegend": false,
         "type": "scatter",
         "x": [
          "2025-03-31T22:41:00",
          "2025-03-31T22:48:00"
         ],
         "xaxis": "x",
         "y": [
          0.07431509,
          0.07488
         ],
         "yaxis": "y"
        },
        {
         "line": {
          "color": "red",
          "dash": "dash",
          "width": 2
         },
         "mode": "lines",
         "name": "Buy Executor",
         "showlegend": false,
         "type": "scatter",
         "x": [
          "2025-03-31T22:41:00",
          "2025-03-31T22:48:00"
         ],
         "xaxis": "x",
         "y": [
          0.0742401,
          0.07488
         ],
         "yaxis": "y"
        },
        {
         "line": {
          "color": "green",
          "dash": "dash",
          "width": 2
         },
         "mode": "lines",
         "name": "Buy Executor",
         "showlegend": false,
         "type": "scatter",
         "x": [
          "2025-03-31T22:48:00",
          "2025-03-31T23:00:00"
         ],
         "xaxis": "x",
         "y": [
          0.07480512,
          0.07494
         ],
         "yaxis": "y"
        },
        {
         "line": {
          "color": "green",
          "dash": "dash",
          "width": 2
         },
         "mode": "lines",
         "name": "Buy Executor",
         "showlegend": false,
         "type": "scatter",
         "x": [
          "2025-03-31T22:48:00",
          "2025-03-31T23:00:00"
         ],
         "xaxis": "x",
         "y": [
          0.07473024,
          0.07494
         ],
         "yaxis": "y"
        },
        {
         "line": {
          "color": "green",
          "dash": "dash",
          "width": 2
         },
         "mode": "lines",
         "name": "Buy Executor",
         "showlegend": false,
         "type": "scatter",
         "x": [
          "2025-03-31T22:48:00",
          "2025-03-31T23:00:00"
         ],
         "xaxis": "x",
         "y": [
          0.07465536,
          0.07494
         ],
         "yaxis": "y"
        },
        {
         "line": {
          "color": "green",
          "dash": "dash",
          "width": 2
         },
         "mode": "lines",
         "name": "Buy Executor",
         "showlegend": false,
         "type": "scatter",
         "x": [
          "2025-03-31T22:48:00",
          "2025-03-31T23:00:00"
         ],
         "xaxis": "x",
         "y": [
          0.07458048,
          0.07494
         ],
         "yaxis": "y"
        },
        {
         "line": {
          "color": "green",
          "dash": "dash",
          "width": 2
         },
         "mode": "lines",
         "name": "Buy Executor",
         "showlegend": false,
         "type": "scatter",
         "x": [
          "2025-03-31T22:48:00",
          "2025-03-31T23:00:00"
         ],
         "xaxis": "x",
         "y": [
          0.0745056,
          0.07494
         ],
         "yaxis": "y"
        },
        {
         "line": {
          "color": "green",
          "dash": "dash",
          "width": 2
         },
         "mode": "lines",
         "name": "Buy Executor",
         "showlegend": false,
         "type": "scatter",
         "x": [
          "2025-03-31T22:48:00",
          "2025-03-31T23:00:00"
         ],
         "xaxis": "x",
         "y": [
          0.07443072,
          0.07494
         ],
         "yaxis": "y"
        },
        {
         "line": {
          "color": "green",
          "dash": "dash",
          "width": 2
         },
         "mode": "lines",
         "name": "Buy Executor",
         "showlegend": false,
         "type": "scatter",
         "x": [
          "2025-03-31T22:48:00",
          "2025-03-31T23:00:00"
         ],
         "xaxis": "x",
         "y": [
          0.07435584,
          0.07494
         ],
         "yaxis": "y"
        },
        {
         "line": {
          "color": "green",
          "dash": "dash",
          "width": 2
         },
         "mode": "lines",
         "name": "Buy Executor",
         "showlegend": false,
         "type": "scatter",
         "x": [
          "2025-03-31T22:48:00",
          "2025-03-31T23:00:00"
         ],
         "xaxis": "x",
         "y": [
          0.07428096000000001,
          0.07494
         ],
         "yaxis": "y"
        },
        {
         "line": {
          "color": "green",
          "dash": "dash",
          "width": 2
         },
         "mode": "lines",
         "name": "Buy Executor",
         "showlegend": false,
         "type": "scatter",
         "x": [
          "2025-03-31T22:48:00",
          "2025-03-31T23:00:00"
         ],
         "xaxis": "x",
         "y": [
          0.07420608000000001,
          0.07494
         ],
         "yaxis": "y"
        },
        {
         "line": {
          "color": "green",
          "dash": "dash",
          "width": 2
         },
         "mode": "lines",
         "name": "Buy Executor",
         "showlegend": false,
         "type": "scatter",
         "x": [
          "2025-03-31T22:48:00",
          "2025-03-31T23:00:00"
         ],
         "xaxis": "x",
         "y": [
          0.07413120000000001,
          0.07494
         ],
         "yaxis": "y"
        },
        {
         "line": {
          "color": "green",
          "dash": "dash",
          "width": 2
         },
         "mode": "lines",
         "name": "Sell Executor",
         "showlegend": false,
         "type": "scatter",
         "x": [
          "2025-04-01T02:42:00",
          "2025-04-01T02:44:00"
         ],
         "xaxis": "x",
         "y": [
          0.07504496999999999,
          0.07489
         ],
         "yaxis": "y"
        },
        {
         "line": {
          "color": "green",
          "dash": "dash",
          "width": 2
         },
         "mode": "lines",
         "name": "Sell Executor",
         "showlegend": false,
         "type": "scatter",
         "x": [
          "2025-04-01T02:42:00",
          "2025-04-01T02:44:00"
         ],
         "xaxis": "x",
         "y": [
          0.07511994,
          0.07489
         ],
         "yaxis": "y"
        },
        {
         "line": {
          "color": "green",
          "dash": "dash",
          "width": 2
         },
         "mode": "lines",
         "name": "Sell Executor",
         "showlegend": false,
         "type": "scatter",
         "x": [
          "2025-04-01T02:42:00",
          "2025-04-01T02:44:00"
         ],
         "xaxis": "x",
         "y": [
          0.07519490999999999,
          0.07489
         ],
         "yaxis": "y"
        },
        {
         "line": {
          "color": "green",
          "dash": "dash",
          "width": 2
         },
         "mode": "lines",
         "name": "Sell Executor",
         "showlegend": false,
         "type": "scatter",
         "x": [
          "2025-04-01T02:42:00",
          "2025-04-01T02:44:00"
         ],
         "xaxis": "x",
         "y": [
          0.07526988,
          0.07489
         ],
         "yaxis": "y"
        },
        {
         "line": {
          "color": "green",
          "dash": "dash",
          "width": 2
         },
         "mode": "lines",
         "name": "Sell Executor",
         "showlegend": false,
         "type": "scatter",
         "x": [
          "2025-04-01T02:42:00",
          "2025-04-01T02:44:00"
         ],
         "xaxis": "x",
         "y": [
          0.07534484999999999,
          0.07489
         ],
         "yaxis": "y"
        },
        {
         "line": {
          "color": "green",
          "dash": "dash",
          "width": 2
         },
         "mode": "lines",
         "name": "Sell Executor",
         "showlegend": false,
         "type": "scatter",
         "x": [
          "2025-04-01T02:42:00",
          "2025-04-01T02:44:00"
         ],
         "xaxis": "x",
         "y": [
          0.07541982,
          0.07489
         ],
         "yaxis": "y"
        },
        {
         "line": {
          "color": "green",
          "dash": "dash",
          "width": 2
         },
         "mode": "lines",
         "name": "Sell Executor",
         "showlegend": false,
         "type": "scatter",
         "x": [
          "2025-04-01T02:42:00",
          "2025-04-01T02:44:00"
         ],
         "xaxis": "x",
         "y": [
          0.07549478999999999,
          0.07489
         ],
         "yaxis": "y"
        },
        {
         "line": {
          "color": "green",
          "dash": "dash",
          "width": 2
         },
         "mode": "lines",
         "name": "Sell Executor",
         "showlegend": false,
         "type": "scatter",
         "x": [
          "2025-04-01T02:42:00",
          "2025-04-01T02:44:00"
         ],
         "xaxis": "x",
         "y": [
          0.07556976,
          0.07489
         ],
         "yaxis": "y"
        },
        {
         "line": {
          "color": "green",
          "dash": "dash",
          "width": 2
         },
         "mode": "lines",
         "name": "Sell Executor",
         "showlegend": false,
         "type": "scatter",
         "x": [
          "2025-04-01T02:42:00",
          "2025-04-01T02:44:00"
         ],
         "xaxis": "x",
         "y": [
          0.07564473,
          0.07489
         ],
         "yaxis": "y"
        },
        {
         "line": {
          "color": "green",
          "dash": "dash",
          "width": 2
         },
         "mode": "lines",
         "name": "Sell Executor",
         "showlegend": false,
         "type": "scatter",
         "x": [
          "2025-04-01T02:42:00",
          "2025-04-01T02:44:00"
         ],
         "xaxis": "x",
         "y": [
          0.0757197,
          0.07489
         ],
         "yaxis": "y"
        },
        {
         "line": {
          "color": "red",
          "dash": "dash",
          "width": 2
         },
         "mode": "lines",
         "name": "Sell Executor",
         "showlegend": false,
         "type": "scatter",
         "x": [
          "2025-04-01T02:46:00",
          "2025-04-01T02:52:00"
         ],
         "xaxis": "x",
         "y": [
          0.07509502,
          0.07566
         ],
         "yaxis": "y"
        },
        {
         "line": {
          "color": "red",
          "dash": "dash",
          "width": 2
         },
         "mode": "lines",
         "name": "Sell Executor",
         "showlegend": false,
         "type": "scatter",
         "x": [
          "2025-04-01T02:46:00",
          "2025-04-01T02:52:00"
         ],
         "xaxis": "x",
         "y": [
          0.07517004000000001,
          0.07566
         ],
         "yaxis": "y"
        },
        {
         "line": {
          "color": "red",
          "dash": "dash",
          "width": 2
         },
         "mode": "lines",
         "name": "Sell Executor",
         "showlegend": false,
         "type": "scatter",
         "x": [
          "2025-04-01T02:46:00",
          "2025-04-01T02:52:00"
         ],
         "xaxis": "x",
         "y": [
          0.07524506,
          0.07566
         ],
         "yaxis": "y"
        },
        {
         "line": {
          "color": "red",
          "dash": "dash",
          "width": 2
         },
         "mode": "lines",
         "name": "Sell Executor",
         "showlegend": false,
         "type": "scatter",
         "x": [
          "2025-04-01T02:46:00",
          "2025-04-01T02:52:00"
         ],
         "xaxis": "x",
         "y": [
          0.07532008,
          0.07566
         ],
         "yaxis": "y"
        },
        {
         "line": {
          "color": "red",
          "dash": "dash",
          "width": 2
         },
         "mode": "lines",
         "name": "Sell Executor",
         "showlegend": false,
         "type": "scatter",
         "x": [
          "2025-04-01T02:46:00",
          "2025-04-01T02:52:00"
         ],
         "xaxis": "x",
         "y": [
          0.0753951,
          0.07566
         ],
         "yaxis": "y"
        },
        {
         "line": {
          "color": "red",
          "dash": "dash",
          "width": 2
         },
         "mode": "lines",
         "name": "Sell Executor",
         "showlegend": false,
         "type": "scatter",
         "x": [
          "2025-04-01T02:46:00",
          "2025-04-01T02:52:00"
         ],
         "xaxis": "x",
         "y": [
          0.07547012,
          0.07566
         ],
         "yaxis": "y"
        },
        {
         "line": {
          "color": "red",
          "dash": "dash",
          "width": 2
         },
         "mode": "lines",
         "name": "Sell Executor",
         "showlegend": false,
         "type": "scatter",
         "x": [
          "2025-04-01T02:46:00",
          "2025-04-01T02:52:00"
         ],
         "xaxis": "x",
         "y": [
          0.07554514,
          0.07566
         ],
         "yaxis": "y"
        },
        {
         "line": {
          "color": "red",
          "dash": "dash",
          "width": 2
         },
         "mode": "lines",
         "name": "Sell Executor",
         "showlegend": false,
         "type": "scatter",
         "x": [
          "2025-04-01T02:46:00",
          "2025-04-01T02:52:00"
         ],
         "xaxis": "x",
         "y": [
          0.07562016,
          0.07566
         ],
         "yaxis": "y"
        },
        {
         "line": {
          "color": "red",
          "dash": "dash",
          "width": 2
         },
         "mode": "lines",
         "name": "Sell Executor",
         "showlegend": false,
         "type": "scatter",
         "x": [
          "2025-04-01T02:46:00",
          "2025-04-01T02:52:00"
         ],
         "xaxis": "x",
         "y": [
          0.07569518,
          0.07566
         ],
         "yaxis": "y"
        },
        {
         "line": {
          "color": "red",
          "dash": "dash",
          "width": 2
         },
         "mode": "lines",
         "name": "Sell Executor",
         "showlegend": false,
         "type": "scatter",
         "x": [
          "2025-04-01T02:46:00",
          "2025-04-01T02:52:00"
         ],
         "xaxis": "x",
         "y": [
          0.07577020000000001,
          0.07566
         ],
         "yaxis": "y"
        },
        {
         "line": {
          "color": "red",
          "dash": "dash",
          "width": 2
         },
         "mode": "lines",
         "name": "Sell Executor",
         "showlegend": false,
         "type": "scatter",
         "x": [
          "2025-04-01T03:01:00",
          "2025-04-01T03:35:00"
         ],
         "xaxis": "x",
         "y": [
          0.07555548000000001,
          0.07546
         ],
         "yaxis": "y"
        },
        {
         "line": {
          "color": "red",
          "dash": "dash",
          "width": 2
         },
         "mode": "lines",
         "name": "Sell Executor",
         "showlegend": false,
         "type": "scatter",
         "x": [
          "2025-04-01T03:01:00",
          "2025-04-01T03:35:00"
         ],
         "xaxis": "x",
         "y": [
          0.07563096000000001,
          0.07546
         ],
         "yaxis": "y"
        },
        {
         "line": {
          "color": "red",
          "dash": "dash",
          "width": 2
         },
         "mode": "lines",
         "name": "Sell Executor",
         "showlegend": false,
         "type": "scatter",
         "x": [
          "2025-04-01T03:01:00",
          "2025-04-01T03:35:00"
         ],
         "xaxis": "x",
         "y": [
          0.07570644,
          0.07546
         ],
         "yaxis": "y"
        },
        {
         "line": {
          "color": "red",
          "dash": "dash",
          "width": 2
         },
         "mode": "lines",
         "name": "Sell Executor",
         "showlegend": false,
         "type": "scatter",
         "x": [
          "2025-04-01T03:01:00",
          "2025-04-01T03:35:00"
         ],
         "xaxis": "x",
         "y": [
          0.07578192,
          0.07546
         ],
         "yaxis": "y"
        },
        {
         "line": {
          "color": "red",
          "dash": "dash",
          "width": 2
         },
         "mode": "lines",
         "name": "Sell Executor",
         "showlegend": false,
         "type": "scatter",
         "x": [
          "2025-04-01T03:01:00",
          "2025-04-01T03:35:00"
         ],
         "xaxis": "x",
         "y": [
          0.0758574,
          0.07546
         ],
         "yaxis": "y"
        },
        {
         "line": {
          "color": "red",
          "dash": "dash",
          "width": 2
         },
         "mode": "lines",
         "name": "Sell Executor",
         "showlegend": false,
         "type": "scatter",
         "x": [
          "2025-04-01T03:01:00",
          "2025-04-01T03:35:00"
         ],
         "xaxis": "x",
         "y": [
          0.07593288000000001,
          0.07546
         ],
         "yaxis": "y"
        },
        {
         "line": {
          "color": "red",
          "dash": "dash",
          "width": 2
         },
         "mode": "lines",
         "name": "Sell Executor",
         "showlegend": false,
         "type": "scatter",
         "x": [
          "2025-04-01T03:01:00",
          "2025-04-01T03:35:00"
         ],
         "xaxis": "x",
         "y": [
          0.07600836000000001,
          0.07546
         ],
         "yaxis": "y"
        },
        {
         "line": {
          "color": "red",
          "dash": "dash",
          "width": 2
         },
         "mode": "lines",
         "name": "Sell Executor",
         "showlegend": false,
         "type": "scatter",
         "x": [
          "2025-04-01T03:01:00",
          "2025-04-01T03:35:00"
         ],
         "xaxis": "x",
         "y": [
          0.07608384,
          0.07546
         ],
         "yaxis": "y"
        },
        {
         "line": {
          "color": "red",
          "dash": "dash",
          "width": 2
         },
         "mode": "lines",
         "name": "Sell Executor",
         "showlegend": false,
         "type": "scatter",
         "x": [
          "2025-04-01T03:01:00",
          "2025-04-01T03:35:00"
         ],
         "xaxis": "x",
         "y": [
          0.07615932,
          0.07546
         ],
         "yaxis": "y"
        },
        {
         "line": {
          "color": "red",
          "dash": "dash",
          "width": 2
         },
         "mode": "lines",
         "name": "Sell Executor",
         "showlegend": false,
         "type": "scatter",
         "x": [
          "2025-04-01T03:01:00",
          "2025-04-01T03:35:00"
         ],
         "xaxis": "x",
         "y": [
          0.0762348,
          0.07546
         ],
         "yaxis": "y"
        },
        {
         "line": {
          "color": "green",
          "dash": "dash",
          "width": 2
         },
         "mode": "lines",
         "name": "Sell Executor",
         "showlegend": false,
         "type": "scatter",
         "x": [
          "2025-04-01T07:25:00",
          "2025-04-01T07:35:00"
         ],
         "xaxis": "x",
         "y": [
          0.07633625999999999,
          0.07595
         ],
         "yaxis": "y"
        },
        {
         "line": {
          "color": "green",
          "dash": "dash",
          "width": 2
         },
         "mode": "lines",
         "name": "Sell Executor",
         "showlegend": false,
         "type": "scatter",
         "x": [
          "2025-04-01T07:25:00",
          "2025-04-01T07:35:00"
         ],
         "xaxis": "x",
         "y": [
          0.07641252,
          0.07595
         ],
         "yaxis": "y"
        },
        {
         "line": {
          "color": "green",
          "dash": "dash",
          "width": 2
         },
         "mode": "lines",
         "name": "Sell Executor",
         "showlegend": false,
         "type": "scatter",
         "x": [
          "2025-04-01T07:25:00",
          "2025-04-01T07:35:00"
         ],
         "xaxis": "x",
         "y": [
          0.07648877999999999,
          0.07595
         ],
         "yaxis": "y"
        },
        {
         "line": {
          "color": "green",
          "dash": "dash",
          "width": 2
         },
         "mode": "lines",
         "name": "Sell Executor",
         "showlegend": false,
         "type": "scatter",
         "x": [
          "2025-04-01T07:25:00",
          "2025-04-01T07:35:00"
         ],
         "xaxis": "x",
         "y": [
          0.07656504,
          0.07595
         ],
         "yaxis": "y"
        },
        {
         "line": {
          "color": "green",
          "dash": "dash",
          "width": 2
         },
         "mode": "lines",
         "name": "Sell Executor",
         "showlegend": false,
         "type": "scatter",
         "x": [
          "2025-04-01T07:25:00",
          "2025-04-01T07:35:00"
         ],
         "xaxis": "x",
         "y": [
          0.0766413,
          0.07595
         ],
         "yaxis": "y"
        },
        {
         "line": {
          "color": "green",
          "dash": "dash",
          "width": 2
         },
         "mode": "lines",
         "name": "Sell Executor",
         "showlegend": false,
         "type": "scatter",
         "x": [
          "2025-04-01T07:25:00",
          "2025-04-01T07:35:00"
         ],
         "xaxis": "x",
         "y": [
          0.07671755999999999,
          0.07595
         ],
         "yaxis": "y"
        },
        {
         "line": {
          "color": "green",
          "dash": "dash",
          "width": 2
         },
         "mode": "lines",
         "name": "Sell Executor",
         "showlegend": false,
         "type": "scatter",
         "x": [
          "2025-04-01T07:25:00",
          "2025-04-01T07:35:00"
         ],
         "xaxis": "x",
         "y": [
          0.07679382,
          0.07595
         ],
         "yaxis": "y"
        },
        {
         "line": {
          "color": "green",
          "dash": "dash",
          "width": 2
         },
         "mode": "lines",
         "name": "Sell Executor",
         "showlegend": false,
         "type": "scatter",
         "x": [
          "2025-04-01T07:25:00",
          "2025-04-01T07:35:00"
         ],
         "xaxis": "x",
         "y": [
          0.07687008,
          0.07595
         ],
         "yaxis": "y"
        },
        {
         "line": {
          "color": "green",
          "dash": "dash",
          "width": 2
         },
         "mode": "lines",
         "name": "Sell Executor",
         "showlegend": false,
         "type": "scatter",
         "x": [
          "2025-04-01T07:25:00",
          "2025-04-01T07:35:00"
         ],
         "xaxis": "x",
         "y": [
          0.07694633999999999,
          0.07595
         ],
         "yaxis": "y"
        },
        {
         "line": {
          "color": "green",
          "dash": "dash",
          "width": 2
         },
         "mode": "lines",
         "name": "Sell Executor",
         "showlegend": false,
         "type": "scatter",
         "x": [
          "2025-04-01T07:25:00",
          "2025-04-01T07:35:00"
         ],
         "xaxis": "x",
         "y": [
          0.0770226,
          0.07595
         ],
         "yaxis": "y"
        },
        {
         "line": {
          "color": "green",
          "dash": "dash",
          "width": 2
         },
         "mode": "lines",
         "name": "Sell Executor",
         "showlegend": false,
         "type": "scatter",
         "x": [
          "2025-04-01T09:02:00",
          "2025-04-01T09:16:00"
         ],
         "xaxis": "x",
         "y": [
          0.07814807,
          0.07778
         ],
         "yaxis": "y"
        },
        {
         "line": {
          "color": "green",
          "dash": "dash",
          "width": 2
         },
         "mode": "lines",
         "name": "Sell Executor",
         "showlegend": false,
         "type": "scatter",
         "x": [
          "2025-04-01T09:02:00",
          "2025-04-01T09:16:00"
         ],
         "xaxis": "x",
         "y": [
          0.07822614,
          0.07778
         ],
         "yaxis": "y"
        },
        {
         "line": {
          "color": "green",
          "dash": "dash",
          "width": 2
         },
         "mode": "lines",
         "name": "Sell Executor",
         "showlegend": false,
         "type": "scatter",
         "x": [
          "2025-04-01T09:02:00",
          "2025-04-01T09:16:00"
         ],
         "xaxis": "x",
         "y": [
          0.07830421,
          0.07778
         ],
         "yaxis": "y"
        },
        {
         "line": {
          "color": "green",
          "dash": "dash",
          "width": 2
         },
         "mode": "lines",
         "name": "Sell Executor",
         "showlegend": false,
         "type": "scatter",
         "x": [
          "2025-04-01T09:02:00",
          "2025-04-01T09:16:00"
         ],
         "xaxis": "x",
         "y": [
          0.07838228,
          0.07778
         ],
         "yaxis": "y"
        },
        {
         "line": {
          "color": "green",
          "dash": "dash",
          "width": 2
         },
         "mode": "lines",
         "name": "Sell Executor",
         "showlegend": false,
         "type": "scatter",
         "x": [
          "2025-04-01T09:02:00",
          "2025-04-01T09:16:00"
         ],
         "xaxis": "x",
         "y": [
          0.07846035,
          0.07778
         ],
         "yaxis": "y"
        },
        {
         "line": {
          "color": "green",
          "dash": "dash",
          "width": 2
         },
         "mode": "lines",
         "name": "Sell Executor",
         "showlegend": false,
         "type": "scatter",
         "x": [
          "2025-04-01T09:02:00",
          "2025-04-01T09:16:00"
         ],
         "xaxis": "x",
         "y": [
          0.07853842,
          0.07778
         ],
         "yaxis": "y"
        },
        {
         "line": {
          "color": "green",
          "dash": "dash",
          "width": 2
         },
         "mode": "lines",
         "name": "Sell Executor",
         "showlegend": false,
         "type": "scatter",
         "x": [
          "2025-04-01T09:02:00",
          "2025-04-01T09:16:00"
         ],
         "xaxis": "x",
         "y": [
          0.07861649,
          0.07778
         ],
         "yaxis": "y"
        },
        {
         "line": {
          "color": "green",
          "dash": "dash",
          "width": 2
         },
         "mode": "lines",
         "name": "Sell Executor",
         "showlegend": false,
         "type": "scatter",
         "x": [
          "2025-04-01T09:02:00",
          "2025-04-01T09:16:00"
         ],
         "xaxis": "x",
         "y": [
          0.07869456,
          0.07778
         ],
         "yaxis": "y"
        },
        {
         "line": {
          "color": "green",
          "dash": "dash",
          "width": 2
         },
         "mode": "lines",
         "name": "Sell Executor",
         "showlegend": false,
         "type": "scatter",
         "x": [
          "2025-04-01T09:02:00",
          "2025-04-01T09:16:00"
         ],
         "xaxis": "x",
         "y": [
          0.07877263,
          0.07778
         ],
         "yaxis": "y"
        },
        {
         "line": {
          "color": "green",
          "dash": "dash",
          "width": 2
         },
         "mode": "lines",
         "name": "Sell Executor",
         "showlegend": false,
         "type": "scatter",
         "x": [
          "2025-04-01T09:02:00",
          "2025-04-01T09:16:00"
         ],
         "xaxis": "x",
         "y": [
          0.0788507,
          0.07778
         ],
         "yaxis": "y"
        },
        {
         "line": {
          "color": "red",
          "dash": "dash",
          "width": 2
         },
         "mode": "lines",
         "name": "Sell Executor",
         "showlegend": false,
         "type": "scatter",
         "x": [
          "2025-04-01T14:59:00",
          "2025-04-01T15:14:00"
         ],
         "xaxis": "x",
         "y": [
          0.0789789,
          0.07982
         ],
         "yaxis": "y"
        },
        {
         "line": {
          "color": "red",
          "dash": "dash",
          "width": 2
         },
         "mode": "lines",
         "name": "Sell Executor",
         "showlegend": false,
         "type": "scatter",
         "x": [
          "2025-04-01T14:59:00",
          "2025-04-01T15:14:00"
         ],
         "xaxis": "x",
         "y": [
          0.0790578,
          0.07982
         ],
         "yaxis": "y"
        },
        {
         "line": {
          "color": "red",
          "dash": "dash",
          "width": 2
         },
         "mode": "lines",
         "name": "Sell Executor",
         "showlegend": false,
         "type": "scatter",
         "x": [
          "2025-04-01T14:59:00",
          "2025-04-01T15:14:00"
         ],
         "xaxis": "x",
         "y": [
          0.0791367,
          0.07982
         ],
         "yaxis": "y"
        },
        {
         "line": {
          "color": "red",
          "dash": "dash",
          "width": 2
         },
         "mode": "lines",
         "name": "Sell Executor",
         "showlegend": false,
         "type": "scatter",
         "x": [
          "2025-04-01T14:59:00",
          "2025-04-01T15:14:00"
         ],
         "xaxis": "x",
         "y": [
          0.0792156,
          0.07982
         ],
         "yaxis": "y"
        },
        {
         "line": {
          "color": "red",
          "dash": "dash",
          "width": 2
         },
         "mode": "lines",
         "name": "Sell Executor",
         "showlegend": false,
         "type": "scatter",
         "x": [
          "2025-04-01T14:59:00",
          "2025-04-01T15:14:00"
         ],
         "xaxis": "x",
         "y": [
          0.0792945,
          0.07982
         ],
         "yaxis": "y"
        },
        {
         "line": {
          "color": "red",
          "dash": "dash",
          "width": 2
         },
         "mode": "lines",
         "name": "Sell Executor",
         "showlegend": false,
         "type": "scatter",
         "x": [
          "2025-04-01T14:59:00",
          "2025-04-01T15:14:00"
         ],
         "xaxis": "x",
         "y": [
          0.0793734,
          0.07982
         ],
         "yaxis": "y"
        },
        {
         "line": {
          "color": "red",
          "dash": "dash",
          "width": 2
         },
         "mode": "lines",
         "name": "Sell Executor",
         "showlegend": false,
         "type": "scatter",
         "x": [
          "2025-04-01T14:59:00",
          "2025-04-01T15:14:00"
         ],
         "xaxis": "x",
         "y": [
          0.0794523,
          0.07982
         ],
         "yaxis": "y"
        },
        {
         "line": {
          "color": "red",
          "dash": "dash",
          "width": 2
         },
         "mode": "lines",
         "name": "Sell Executor",
         "showlegend": false,
         "type": "scatter",
         "x": [
          "2025-04-01T14:59:00",
          "2025-04-01T15:14:00"
         ],
         "xaxis": "x",
         "y": [
          0.0795312,
          0.07982
         ],
         "yaxis": "y"
        },
        {
         "line": {
          "color": "red",
          "dash": "dash",
          "width": 2
         },
         "mode": "lines",
         "name": "Sell Executor",
         "showlegend": false,
         "type": "scatter",
         "x": [
          "2025-04-01T14:59:00",
          "2025-04-01T15:14:00"
         ],
         "xaxis": "x",
         "y": [
          0.0796101,
          0.07982
         ],
         "yaxis": "y"
        },
        {
         "line": {
          "color": "red",
          "dash": "dash",
          "width": 2
         },
         "mode": "lines",
         "name": "Sell Executor",
         "showlegend": false,
         "type": "scatter",
         "x": [
          "2025-04-01T14:59:00",
          "2025-04-01T15:14:00"
         ],
         "xaxis": "x",
         "y": [
          0.079689,
          0.07982
         ],
         "yaxis": "y"
        },
        {
         "line": {
          "color": "red",
          "dash": "dash",
          "width": 2
         },
         "mode": "lines",
         "name": "Sell Executor",
         "showlegend": false,
         "type": "scatter",
         "x": [
          "2025-04-01T15:14:00",
          "2025-04-01T15:18:00"
         ],
         "xaxis": "x",
         "y": [
          0.07989982,
          0.08081
         ],
         "yaxis": "y"
        },
        {
         "line": {
          "color": "red",
          "dash": "dash",
          "width": 2
         },
         "mode": "lines",
         "name": "Sell Executor",
         "showlegend": false,
         "type": "scatter",
         "x": [
          "2025-04-01T15:14:00",
          "2025-04-01T15:18:00"
         ],
         "xaxis": "x",
         "y": [
          0.07997964,
          0.08081
         ],
         "yaxis": "y"
        },
        {
         "line": {
          "color": "red",
          "dash": "dash",
          "width": 2
         },
         "mode": "lines",
         "name": "Sell Executor",
         "showlegend": false,
         "type": "scatter",
         "x": [
          "2025-04-01T15:14:00",
          "2025-04-01T15:18:00"
         ],
         "xaxis": "x",
         "y": [
          0.08005946,
          0.08081
         ],
         "yaxis": "y"
        },
        {
         "line": {
          "color": "red",
          "dash": "dash",
          "width": 2
         },
         "mode": "lines",
         "name": "Sell Executor",
         "showlegend": false,
         "type": "scatter",
         "x": [
          "2025-04-01T15:14:00",
          "2025-04-01T15:18:00"
         ],
         "xaxis": "x",
         "y": [
          0.08013928000000001,
          0.08081
         ],
         "yaxis": "y"
        },
        {
         "line": {
          "color": "red",
          "dash": "dash",
          "width": 2
         },
         "mode": "lines",
         "name": "Sell Executor",
         "showlegend": false,
         "type": "scatter",
         "x": [
          "2025-04-01T15:14:00",
          "2025-04-01T15:18:00"
         ],
         "xaxis": "x",
         "y": [
          0.0802191,
          0.08081
         ],
         "yaxis": "y"
        },
        {
         "line": {
          "color": "red",
          "dash": "dash",
          "width": 2
         },
         "mode": "lines",
         "name": "Sell Executor",
         "showlegend": false,
         "type": "scatter",
         "x": [
          "2025-04-01T15:14:00",
          "2025-04-01T15:18:00"
         ],
         "xaxis": "x",
         "y": [
          0.08029892,
          0.08081
         ],
         "yaxis": "y"
        },
        {
         "line": {
          "color": "red",
          "dash": "dash",
          "width": 2
         },
         "mode": "lines",
         "name": "Sell Executor",
         "showlegend": false,
         "type": "scatter",
         "x": [
          "2025-04-01T15:14:00",
          "2025-04-01T15:18:00"
         ],
         "xaxis": "x",
         "y": [
          0.08037874,
          0.08081
         ],
         "yaxis": "y"
        },
        {
         "line": {
          "color": "red",
          "dash": "dash",
          "width": 2
         },
         "mode": "lines",
         "name": "Sell Executor",
         "showlegend": false,
         "type": "scatter",
         "x": [
          "2025-04-01T15:14:00",
          "2025-04-01T15:18:00"
         ],
         "xaxis": "x",
         "y": [
          0.08045856,
          0.08081
         ],
         "yaxis": "y"
        },
        {
         "line": {
          "color": "red",
          "dash": "dash",
          "width": 2
         },
         "mode": "lines",
         "name": "Sell Executor",
         "showlegend": false,
         "type": "scatter",
         "x": [
          "2025-04-01T15:14:00",
          "2025-04-01T15:18:00"
         ],
         "xaxis": "x",
         "y": [
          0.08053838,
          0.08081
         ],
         "yaxis": "y"
        },
        {
         "line": {
          "color": "red",
          "dash": "dash",
          "width": 2
         },
         "mode": "lines",
         "name": "Sell Executor",
         "showlegend": false,
         "type": "scatter",
         "x": [
          "2025-04-01T15:14:00",
          "2025-04-01T15:18:00"
         ],
         "xaxis": "x",
         "y": [
          0.0806182,
          0.08081
         ],
         "yaxis": "y"
        },
        {
         "line": {
          "color": "red",
          "dash": "dash",
          "width": 2
         },
         "mode": "lines",
         "name": "Sell Executor",
         "showlegend": false,
         "type": "scatter",
         "x": [
          "2025-04-01T15:28:00",
          "2025-04-01T16:00:00"
         ],
         "xaxis": "x",
         "y": [
          0.08082074,
          0.08169
         ],
         "yaxis": "y"
        },
        {
         "line": {
          "color": "red",
          "dash": "dash",
          "width": 2
         },
         "mode": "lines",
         "name": "Sell Executor",
         "showlegend": false,
         "type": "scatter",
         "x": [
          "2025-04-01T15:28:00",
          "2025-04-01T16:00:00"
         ],
         "xaxis": "x",
         "y": [
          0.08090148000000001,
          0.08169
         ],
         "yaxis": "y"
        },
        {
         "line": {
          "color": "red",
          "dash": "dash",
          "width": 2
         },
         "mode": "lines",
         "name": "Sell Executor",
         "showlegend": false,
         "type": "scatter",
         "x": [
          "2025-04-01T15:28:00",
          "2025-04-01T16:00:00"
         ],
         "xaxis": "x",
         "y": [
          0.08098222000000001,
          0.08169
         ],
         "yaxis": "y"
        },
        {
         "line": {
          "color": "red",
          "dash": "dash",
          "width": 2
         },
         "mode": "lines",
         "name": "Sell Executor",
         "showlegend": false,
         "type": "scatter",
         "x": [
          "2025-04-01T15:28:00",
          "2025-04-01T16:00:00"
         ],
         "xaxis": "x",
         "y": [
          0.08106296,
          0.08169
         ],
         "yaxis": "y"
        },
        {
         "line": {
          "color": "red",
          "dash": "dash",
          "width": 2
         },
         "mode": "lines",
         "name": "Sell Executor",
         "showlegend": false,
         "type": "scatter",
         "x": [
          "2025-04-01T15:28:00",
          "2025-04-01T16:00:00"
         ],
         "xaxis": "x",
         "y": [
          0.08114370000000001,
          0.08169
         ],
         "yaxis": "y"
        },
        {
         "line": {
          "color": "red",
          "dash": "dash",
          "width": 2
         },
         "mode": "lines",
         "name": "Sell Executor",
         "showlegend": false,
         "type": "scatter",
         "x": [
          "2025-04-01T15:28:00",
          "2025-04-01T16:00:00"
         ],
         "xaxis": "x",
         "y": [
          0.08122444000000001,
          0.08169
         ],
         "yaxis": "y"
        },
        {
         "line": {
          "color": "red",
          "dash": "dash",
          "width": 2
         },
         "mode": "lines",
         "name": "Sell Executor",
         "showlegend": false,
         "type": "scatter",
         "x": [
          "2025-04-01T15:28:00",
          "2025-04-01T16:00:00"
         ],
         "xaxis": "x",
         "y": [
          0.08130518,
          0.08169
         ],
         "yaxis": "y"
        },
        {
         "line": {
          "color": "red",
          "dash": "dash",
          "width": 2
         },
         "mode": "lines",
         "name": "Sell Executor",
         "showlegend": false,
         "type": "scatter",
         "x": [
          "2025-04-01T15:28:00",
          "2025-04-01T16:00:00"
         ],
         "xaxis": "x",
         "y": [
          0.08138592,
          0.08169
         ],
         "yaxis": "y"
        },
        {
         "line": {
          "color": "red",
          "dash": "dash",
          "width": 2
         },
         "mode": "lines",
         "name": "Sell Executor",
         "showlegend": false,
         "type": "scatter",
         "x": [
          "2025-04-01T15:28:00",
          "2025-04-01T16:00:00"
         ],
         "xaxis": "x",
         "y": [
          0.08146666000000001,
          0.08169
         ],
         "yaxis": "y"
        },
        {
         "line": {
          "color": "red",
          "dash": "dash",
          "width": 2
         },
         "mode": "lines",
         "name": "Sell Executor",
         "showlegend": false,
         "type": "scatter",
         "x": [
          "2025-04-01T15:28:00",
          "2025-04-01T16:00:00"
         ],
         "xaxis": "x",
         "y": [
          0.0815474,
          0.08169
         ],
         "yaxis": "y"
        },
        {
         "line": {
          "color": "green",
          "dash": "dash",
          "width": 2
         },
         "mode": "lines",
         "name": "Sell Executor",
         "showlegend": false,
         "type": "scatter",
         "x": [
          "2025-04-01T21:38:00",
          "2025-04-01T21:45:00"
         ],
         "xaxis": "x",
         "y": [
          0.08346337999999999,
          0.08269
         ],
         "yaxis": "y"
        },
        {
         "line": {
          "color": "green",
          "dash": "dash",
          "width": 2
         },
         "mode": "lines",
         "name": "Sell Executor",
         "showlegend": false,
         "type": "scatter",
         "x": [
          "2025-04-01T21:38:00",
          "2025-04-01T21:45:00"
         ],
         "xaxis": "x",
         "y": [
          0.08354676,
          0.08269
         ],
         "yaxis": "y"
        },
        {
         "line": {
          "color": "green",
          "dash": "dash",
          "width": 2
         },
         "mode": "lines",
         "name": "Sell Executor",
         "showlegend": false,
         "type": "scatter",
         "x": [
          "2025-04-01T21:38:00",
          "2025-04-01T21:45:00"
         ],
         "xaxis": "x",
         "y": [
          0.08363013999999999,
          0.08269
         ],
         "yaxis": "y"
        },
        {
         "line": {
          "color": "green",
          "dash": "dash",
          "width": 2
         },
         "mode": "lines",
         "name": "Sell Executor",
         "showlegend": false,
         "type": "scatter",
         "x": [
          "2025-04-01T21:38:00",
          "2025-04-01T21:45:00"
         ],
         "xaxis": "x",
         "y": [
          0.08371352,
          0.08269
         ],
         "yaxis": "y"
        },
        {
         "line": {
          "color": "green",
          "dash": "dash",
          "width": 2
         },
         "mode": "lines",
         "name": "Sell Executor",
         "showlegend": false,
         "type": "scatter",
         "x": [
          "2025-04-01T21:38:00",
          "2025-04-01T21:45:00"
         ],
         "xaxis": "x",
         "y": [
          0.0837969,
          0.08269
         ],
         "yaxis": "y"
        },
        {
         "line": {
          "color": "green",
          "dash": "dash",
          "width": 2
         },
         "mode": "lines",
         "name": "Sell Executor",
         "showlegend": false,
         "type": "scatter",
         "x": [
          "2025-04-01T21:38:00",
          "2025-04-01T21:45:00"
         ],
         "xaxis": "x",
         "y": [
          0.08388028,
          0.08269
         ],
         "yaxis": "y"
        },
        {
         "line": {
          "color": "green",
          "dash": "dash",
          "width": 2
         },
         "mode": "lines",
         "name": "Sell Executor",
         "showlegend": false,
         "type": "scatter",
         "x": [
          "2025-04-01T21:38:00",
          "2025-04-01T21:45:00"
         ],
         "xaxis": "x",
         "y": [
          0.08396366,
          0.08269
         ],
         "yaxis": "y"
        },
        {
         "line": {
          "color": "green",
          "dash": "dash",
          "width": 2
         },
         "mode": "lines",
         "name": "Sell Executor",
         "showlegend": false,
         "type": "scatter",
         "x": [
          "2025-04-01T21:38:00",
          "2025-04-01T21:45:00"
         ],
         "xaxis": "x",
         "y": [
          0.08404703999999999,
          0.08269
         ],
         "yaxis": "y"
        },
        {
         "line": {
          "color": "green",
          "dash": "dash",
          "width": 2
         },
         "mode": "lines",
         "name": "Sell Executor",
         "showlegend": false,
         "type": "scatter",
         "x": [
          "2025-04-01T21:38:00",
          "2025-04-01T21:45:00"
         ],
         "xaxis": "x",
         "y": [
          0.08413042,
          0.08269
         ],
         "yaxis": "y"
        },
        {
         "line": {
          "color": "green",
          "dash": "dash",
          "width": 2
         },
         "mode": "lines",
         "name": "Sell Executor",
         "showlegend": false,
         "type": "scatter",
         "x": [
          "2025-04-01T21:38:00",
          "2025-04-01T21:45:00"
         ],
         "xaxis": "x",
         "y": [
          0.08421379999999999,
          0.08269
         ],
         "yaxis": "y"
        },
        {
         "line": {
          "color": "green",
          "dash": "dash",
          "width": 2
         },
         "mode": "lines",
         "name": "Buy Executor",
         "showlegend": false,
         "type": "scatter",
         "x": [
          "2025-04-02T00:44:00",
          "2025-04-02T01:40:00"
         ],
         "xaxis": "x",
         "y": [
          0.08110881,
          0.08133
         ],
         "yaxis": "y"
        },
        {
         "line": {
          "color": "green",
          "dash": "dash",
          "width": 2
         },
         "mode": "lines",
         "name": "Buy Executor",
         "showlegend": false,
         "type": "scatter",
         "x": [
          "2025-04-02T00:44:00",
          "2025-04-02T01:40:00"
         ],
         "xaxis": "x",
         "y": [
          0.08102762,
          0.08133
         ],
         "yaxis": "y"
        },
        {
         "line": {
          "color": "green",
          "dash": "dash",
          "width": 2
         },
         "mode": "lines",
         "name": "Buy Executor",
         "showlegend": false,
         "type": "scatter",
         "x": [
          "2025-04-02T00:44:00",
          "2025-04-02T01:40:00"
         ],
         "xaxis": "x",
         "y": [
          0.08094643,
          0.08133
         ],
         "yaxis": "y"
        },
        {
         "line": {
          "color": "green",
          "dash": "dash",
          "width": 2
         },
         "mode": "lines",
         "name": "Buy Executor",
         "showlegend": false,
         "type": "scatter",
         "x": [
          "2025-04-02T00:44:00",
          "2025-04-02T01:40:00"
         ],
         "xaxis": "x",
         "y": [
          0.08086524,
          0.08133
         ],
         "yaxis": "y"
        },
        {
         "line": {
          "color": "green",
          "dash": "dash",
          "width": 2
         },
         "mode": "lines",
         "name": "Buy Executor",
         "showlegend": false,
         "type": "scatter",
         "x": [
          "2025-04-02T00:44:00",
          "2025-04-02T01:40:00"
         ],
         "xaxis": "x",
         "y": [
          0.08078405,
          0.08133
         ],
         "yaxis": "y"
        },
        {
         "line": {
          "color": "green",
          "dash": "dash",
          "width": 2
         },
         "mode": "lines",
         "name": "Buy Executor",
         "showlegend": false,
         "type": "scatter",
         "x": [
          "2025-04-02T00:44:00",
          "2025-04-02T01:40:00"
         ],
         "xaxis": "x",
         "y": [
          0.08070286,
          0.08133
         ],
         "yaxis": "y"
        },
        {
         "line": {
          "color": "green",
          "dash": "dash",
          "width": 2
         },
         "mode": "lines",
         "name": "Buy Executor",
         "showlegend": false,
         "type": "scatter",
         "x": [
          "2025-04-02T00:44:00",
          "2025-04-02T01:40:00"
         ],
         "xaxis": "x",
         "y": [
          0.08062166999999999,
          0.08133
         ],
         "yaxis": "y"
        },
        {
         "line": {
          "color": "green",
          "dash": "dash",
          "width": 2
         },
         "mode": "lines",
         "name": "Buy Executor",
         "showlegend": false,
         "type": "scatter",
         "x": [
          "2025-04-02T00:44:00",
          "2025-04-02T01:40:00"
         ],
         "xaxis": "x",
         "y": [
          0.08054048,
          0.08133
         ],
         "yaxis": "y"
        },
        {
         "line": {
          "color": "green",
          "dash": "dash",
          "width": 2
         },
         "mode": "lines",
         "name": "Buy Executor",
         "showlegend": false,
         "type": "scatter",
         "x": [
          "2025-04-02T00:44:00",
          "2025-04-02T01:40:00"
         ],
         "xaxis": "x",
         "y": [
          0.08045929,
          0.08133
         ],
         "yaxis": "y"
        },
        {
         "line": {
          "color": "green",
          "dash": "dash",
          "width": 2
         },
         "mode": "lines",
         "name": "Buy Executor",
         "showlegend": false,
         "type": "scatter",
         "x": [
          "2025-04-02T00:44:00",
          "2025-04-02T01:40:00"
         ],
         "xaxis": "x",
         "y": [
          0.0803781,
          0.08133
         ],
         "yaxis": "y"
        },
        {
         "line": {
          "color": "red",
          "dash": "dash",
          "width": 2
         },
         "mode": "lines",
         "name": "Sell Executor",
         "showlegend": false,
         "type": "scatter",
         "x": [
          "2025-04-02T15:22:00",
          "2025-04-02T15:33:00"
         ],
         "xaxis": "x",
         "y": [
          0.08362354,
          0.08497
         ],
         "yaxis": "y"
        },
        {
         "line": {
          "color": "red",
          "dash": "dash",
          "width": 2
         },
         "mode": "lines",
         "name": "Sell Executor",
         "showlegend": false,
         "type": "scatter",
         "x": [
          "2025-04-02T15:22:00",
          "2025-04-02T15:33:00"
         ],
         "xaxis": "x",
         "y": [
          0.08370708,
          0.08497
         ],
         "yaxis": "y"
        },
        {
         "line": {
          "color": "red",
          "dash": "dash",
          "width": 2
         },
         "mode": "lines",
         "name": "Sell Executor",
         "showlegend": false,
         "type": "scatter",
         "x": [
          "2025-04-02T15:22:00",
          "2025-04-02T15:33:00"
         ],
         "xaxis": "x",
         "y": [
          0.08379062000000001,
          0.08497
         ],
         "yaxis": "y"
        },
        {
         "line": {
          "color": "red",
          "dash": "dash",
          "width": 2
         },
         "mode": "lines",
         "name": "Sell Executor",
         "showlegend": false,
         "type": "scatter",
         "x": [
          "2025-04-02T15:22:00",
          "2025-04-02T15:33:00"
         ],
         "xaxis": "x",
         "y": [
          0.08387416,
          0.08497
         ],
         "yaxis": "y"
        },
        {
         "line": {
          "color": "red",
          "dash": "dash",
          "width": 2
         },
         "mode": "lines",
         "name": "Sell Executor",
         "showlegend": false,
         "type": "scatter",
         "x": [
          "2025-04-02T15:22:00",
          "2025-04-02T15:33:00"
         ],
         "xaxis": "x",
         "y": [
          0.08395770000000001,
          0.08497
         ],
         "yaxis": "y"
        },
        {
         "line": {
          "color": "red",
          "dash": "dash",
          "width": 2
         },
         "mode": "lines",
         "name": "Sell Executor",
         "showlegend": false,
         "type": "scatter",
         "x": [
          "2025-04-02T15:22:00",
          "2025-04-02T15:33:00"
         ],
         "xaxis": "x",
         "y": [
          0.08404124,
          0.08497
         ],
         "yaxis": "y"
        },
        {
         "line": {
          "color": "red",
          "dash": "dash",
          "width": 2
         },
         "mode": "lines",
         "name": "Sell Executor",
         "showlegend": false,
         "type": "scatter",
         "x": [
          "2025-04-02T15:22:00",
          "2025-04-02T15:33:00"
         ],
         "xaxis": "x",
         "y": [
          0.08412478000000001,
          0.08497
         ],
         "yaxis": "y"
        },
        {
         "line": {
          "color": "red",
          "dash": "dash",
          "width": 2
         },
         "mode": "lines",
         "name": "Sell Executor",
         "showlegend": false,
         "type": "scatter",
         "x": [
          "2025-04-02T15:22:00",
          "2025-04-02T15:33:00"
         ],
         "xaxis": "x",
         "y": [
          0.08420832,
          0.08497
         ],
         "yaxis": "y"
        },
        {
         "line": {
          "color": "red",
          "dash": "dash",
          "width": 2
         },
         "mode": "lines",
         "name": "Sell Executor",
         "showlegend": false,
         "type": "scatter",
         "x": [
          "2025-04-02T15:22:00",
          "2025-04-02T15:33:00"
         ],
         "xaxis": "x",
         "y": [
          0.08429186,
          0.08497
         ],
         "yaxis": "y"
        },
        {
         "line": {
          "color": "red",
          "dash": "dash",
          "width": 2
         },
         "mode": "lines",
         "name": "Sell Executor",
         "showlegend": false,
         "type": "scatter",
         "x": [
          "2025-04-02T15:22:00",
          "2025-04-02T15:33:00"
         ],
         "xaxis": "x",
         "y": [
          0.0843754,
          0.08497
         ],
         "yaxis": "y"
        },
        {
         "line": {
          "color": "green",
          "dash": "dash",
          "width": 2
         },
         "mode": "lines",
         "name": "Sell Executor",
         "showlegend": false,
         "type": "scatter",
         "x": [
          "2025-04-02T15:43:00",
          "2025-04-02T15:54:00"
         ],
         "xaxis": "x",
         "y": [
          0.08466458,
          0.08375
         ],
         "yaxis": "y"
        },
        {
         "line": {
          "color": "green",
          "dash": "dash",
          "width": 2
         },
         "mode": "lines",
         "name": "Sell Executor",
         "showlegend": false,
         "type": "scatter",
         "x": [
          "2025-04-02T15:43:00",
          "2025-04-02T15:54:00"
         ],
         "xaxis": "x",
         "y": [
          0.08474916,
          0.08375
         ],
         "yaxis": "y"
        },
        {
         "line": {
          "color": "green",
          "dash": "dash",
          "width": 2
         },
         "mode": "lines",
         "name": "Sell Executor",
         "showlegend": false,
         "type": "scatter",
         "x": [
          "2025-04-02T15:43:00",
          "2025-04-02T15:54:00"
         ],
         "xaxis": "x",
         "y": [
          0.08483374,
          0.08375
         ],
         "yaxis": "y"
        },
        {
         "line": {
          "color": "green",
          "dash": "dash",
          "width": 2
         },
         "mode": "lines",
         "name": "Sell Executor",
         "showlegend": false,
         "type": "scatter",
         "x": [
          "2025-04-02T15:43:00",
          "2025-04-02T15:54:00"
         ],
         "xaxis": "x",
         "y": [
          0.08491832,
          0.08375
         ],
         "yaxis": "y"
        },
        {
         "line": {
          "color": "green",
          "dash": "dash",
          "width": 2
         },
         "mode": "lines",
         "name": "Sell Executor",
         "showlegend": false,
         "type": "scatter",
         "x": [
          "2025-04-02T15:43:00",
          "2025-04-02T15:54:00"
         ],
         "xaxis": "x",
         "y": [
          0.0850029,
          0.08375
         ],
         "yaxis": "y"
        },
        {
         "line": {
          "color": "green",
          "dash": "dash",
          "width": 2
         },
         "mode": "lines",
         "name": "Sell Executor",
         "showlegend": false,
         "type": "scatter",
         "x": [
          "2025-04-02T15:43:00",
          "2025-04-02T15:54:00"
         ],
         "xaxis": "x",
         "y": [
          0.08508748000000001,
          0.08375
         ],
         "yaxis": "y"
        },
        {
         "line": {
          "color": "green",
          "dash": "dash",
          "width": 2
         },
         "mode": "lines",
         "name": "Sell Executor",
         "showlegend": false,
         "type": "scatter",
         "x": [
          "2025-04-02T15:43:00",
          "2025-04-02T15:54:00"
         ],
         "xaxis": "x",
         "y": [
          0.08517206000000001,
          0.08375
         ],
         "yaxis": "y"
        },
        {
         "line": {
          "color": "green",
          "dash": "dash",
          "width": 2
         },
         "mode": "lines",
         "name": "Sell Executor",
         "showlegend": false,
         "type": "scatter",
         "x": [
          "2025-04-02T15:43:00",
          "2025-04-02T15:54:00"
         ],
         "xaxis": "x",
         "y": [
          0.08525664000000001,
          0.08375
         ],
         "yaxis": "y"
        },
        {
         "line": {
          "color": "green",
          "dash": "dash",
          "width": 2
         },
         "mode": "lines",
         "name": "Sell Executor",
         "showlegend": false,
         "type": "scatter",
         "x": [
          "2025-04-02T15:43:00",
          "2025-04-02T15:54:00"
         ],
         "xaxis": "x",
         "y": [
          0.08534122000000001,
          0.08375
         ],
         "yaxis": "y"
        },
        {
         "line": {
          "color": "green",
          "dash": "dash",
          "width": 2
         },
         "mode": "lines",
         "name": "Sell Executor",
         "showlegend": false,
         "type": "scatter",
         "x": [
          "2025-04-02T15:43:00",
          "2025-04-02T15:54:00"
         ],
         "xaxis": "x",
         "y": [
          0.0854258,
          0.08375
         ],
         "yaxis": "y"
        },
        {
         "line": {
          "color": "gold",
          "dash": "dash",
          "width": 2
         },
         "mode": "lines",
         "name": "Cumulative PNL",
         "type": "scatter",
         "x": [
          "2025-03-31T21:30:00.000000000",
          "2025-03-31T21:30:00.000000000",
          "2025-03-31T21:30:00.000000000",
          "2025-03-31T21:30:00.000000000",
          "2025-03-31T21:30:00.000000000",
          "2025-03-31T21:30:00.000000000",
          "2025-03-31T21:30:00.000000000",
          "2025-03-31T21:30:00.000000000",
          "2025-03-31T21:30:00.000000000",
          "2025-03-31T21:30:00.000000000",
          "2025-03-31T22:48:00.000000000",
          "2025-03-31T22:48:00.000000000",
          "2025-03-31T22:48:00.000000000",
          "2025-03-31T22:48:00.000000000",
          "2025-03-31T22:48:00.000000000",
          "2025-03-31T22:48:00.000000000",
          "2025-03-31T22:48:00.000000000",
          "2025-03-31T22:48:00.000000000",
          "2025-03-31T22:48:00.000000000",
          "2025-03-31T22:48:00.000000000",
          "2025-03-31T23:00:00.000000000",
          "2025-03-31T23:00:00.000000000",
          "2025-03-31T23:00:00.000000000",
          "2025-03-31T23:00:00.000000000",
          "2025-03-31T23:00:00.000000000",
          "2025-03-31T23:00:00.000000000",
          "2025-03-31T23:00:00.000000000",
          "2025-03-31T23:00:00.000000000",
          "2025-03-31T23:00:00.000000000",
          "2025-03-31T23:00:00.000000000",
          "2025-04-01T02:44:00.000000000",
          "2025-04-01T02:44:00.000000000",
          "2025-04-01T02:44:00.000000000",
          "2025-04-01T02:44:00.000000000",
          "2025-04-01T02:44:00.000000000",
          "2025-04-01T02:44:00.000000000",
          "2025-04-01T02:44:00.000000000",
          "2025-04-01T02:44:00.000000000",
          "2025-04-01T02:44:00.000000000",
          "2025-04-01T02:44:00.000000000",
          "2025-04-01T02:52:00.000000000",
          "2025-04-01T02:52:00.000000000",
          "2025-04-01T02:52:00.000000000",
          "2025-04-01T02:52:00.000000000",
          "2025-04-01T02:52:00.000000000",
          "2025-04-01T02:52:00.000000000",
          "2025-04-01T02:52:00.000000000",
          "2025-04-01T02:52:00.000000000",
          "2025-04-01T02:52:00.000000000",
          "2025-04-01T02:52:00.000000000",
          "2025-04-01T03:35:00.000000000",
          "2025-04-01T03:35:00.000000000",
          "2025-04-01T03:35:00.000000000",
          "2025-04-01T03:35:00.000000000",
          "2025-04-01T03:35:00.000000000",
          "2025-04-01T03:35:00.000000000",
          "2025-04-01T03:35:00.000000000",
          "2025-04-01T03:35:00.000000000",
          "2025-04-01T03:35:00.000000000",
          "2025-04-01T03:35:00.000000000",
          "2025-04-01T07:35:00.000000000",
          "2025-04-01T07:35:00.000000000",
          "2025-04-01T07:35:00.000000000",
          "2025-04-01T07:35:00.000000000",
          "2025-04-01T07:35:00.000000000",
          "2025-04-01T07:35:00.000000000",
          "2025-04-01T07:35:00.000000000",
          "2025-04-01T07:35:00.000000000",
          "2025-04-01T07:35:00.000000000",
          "2025-04-01T07:35:00.000000000",
          "2025-04-01T09:16:00.000000000",
          "2025-04-01T09:16:00.000000000",
          "2025-04-01T09:16:00.000000000",
          "2025-04-01T09:16:00.000000000",
          "2025-04-01T09:16:00.000000000",
          "2025-04-01T09:16:00.000000000",
          "2025-04-01T09:16:00.000000000",
          "2025-04-01T09:16:00.000000000",
          "2025-04-01T09:16:00.000000000",
          "2025-04-01T09:16:00.000000000",
          "2025-04-01T15:14:00.000000000",
          "2025-04-01T15:14:00.000000000",
          "2025-04-01T15:14:00.000000000",
          "2025-04-01T15:14:00.000000000",
          "2025-04-01T15:14:00.000000000",
          "2025-04-01T15:14:00.000000000",
          "2025-04-01T15:14:00.000000000",
          "2025-04-01T15:14:00.000000000",
          "2025-04-01T15:14:00.000000000",
          "2025-04-01T15:14:00.000000000",
          "2025-04-01T15:18:00.000000000",
          "2025-04-01T15:18:00.000000000",
          "2025-04-01T15:18:00.000000000",
          "2025-04-01T15:18:00.000000000",
          "2025-04-01T15:18:00.000000000",
          "2025-04-01T15:18:00.000000000",
          "2025-04-01T15:18:00.000000000",
          "2025-04-01T15:18:00.000000000",
          "2025-04-01T15:18:00.000000000",
          "2025-04-01T15:18:00.000000000",
          "2025-04-01T16:00:00.000000000",
          "2025-04-01T16:00:00.000000000",
          "2025-04-01T16:00:00.000000000",
          "2025-04-01T16:00:00.000000000",
          "2025-04-01T16:00:00.000000000",
          "2025-04-01T16:00:00.000000000",
          "2025-04-01T16:00:00.000000000",
          "2025-04-01T16:00:00.000000000",
          "2025-04-01T16:00:00.000000000",
          "2025-04-01T16:00:00.000000000",
          "2025-04-01T21:45:00.000000000",
          "2025-04-01T21:45:00.000000000",
          "2025-04-01T21:45:00.000000000",
          "2025-04-01T21:45:00.000000000",
          "2025-04-01T21:45:00.000000000",
          "2025-04-01T21:45:00.000000000",
          "2025-04-01T21:45:00.000000000",
          "2025-04-01T21:45:00.000000000",
          "2025-04-01T21:45:00.000000000",
          "2025-04-01T21:45:00.000000000",
          "2025-04-02T01:40:00.000000000",
          "2025-04-02T01:40:00.000000000",
          "2025-04-02T01:40:00.000000000",
          "2025-04-02T01:40:00.000000000",
          "2025-04-02T01:40:00.000000000",
          "2025-04-02T01:40:00.000000000",
          "2025-04-02T01:40:00.000000000",
          "2025-04-02T01:40:00.000000000",
          "2025-04-02T01:40:00.000000000",
          "2025-04-02T01:40:00.000000000",
          "2025-04-02T15:33:00.000000000",
          "2025-04-02T15:33:00.000000000",
          "2025-04-02T15:33:00.000000000",
          "2025-04-02T15:33:00.000000000",
          "2025-04-02T15:33:00.000000000",
          "2025-04-02T15:33:00.000000000",
          "2025-04-02T15:33:00.000000000",
          "2025-04-02T15:33:00.000000000",
          "2025-04-02T15:33:00.000000000",
          "2025-04-02T15:33:00.000000000",
          "2025-04-02T15:54:00.000000000",
          "2025-04-02T15:54:00.000000000",
          "2025-04-02T15:54:00.000000000",
          "2025-04-02T15:54:00.000000000",
          "2025-04-02T15:54:00.000000000",
          "2025-04-02T15:54:00.000000000",
          "2025-04-02T15:54:00.000000000",
          "2025-04-02T15:54:00.000000000",
          "2025-04-02T15:54:00.000000000",
          "2025-04-02T15:54:00.000000000"
         ],
         "xaxis": "x2",
         "y": [
          -0.011560740470691253,
          -0.023121480941382506,
          -0.04624296188276501,
          -0.08092518329483876,
          -0.13872888564829505,
          -0.23121480941382508,
          -0.3815044355328114,
          -0.6242799854173278,
          -1.0173451614208304,
          -1.6531858873088494,
          -1.6676394694647931,
          -1.6820930516207369,
          -1.7110002159326243,
          -1.7543609624004552,
          -1.8266288731801739,
          -1.9422575304277234,
          -2.1301540984549914,
          -2.4336793237298093,
          -2.925101117031895,
          -3.7200481356087987,
          -3.7186405688166175,
          -3.717233002024436,
          -3.7144178684400733,
          -3.710195168063529,
          -3.703157334102622,
          -3.6918967997651713,
          -3.673598431466813,
          -3.644039528831004,
          -3.5961822578968374,
          -3.5187660843268613,
          -3.5154996961865237,
          -3.5122333080461856,
          -3.5057005317655103,
          -3.4959013673444965,
          -3.479569426642808,
          -3.4534383215201054,
          -3.410975275695714,
          -3.34238112474862,
          -3.2313239279771344,
          -3.0516725802585554,
          -3.1155261353944375,
          -3.1793796905303195,
          -3.3070868008020833,
          -3.4986474662097296,
          -3.81791524188914,
          -4.328743682976196,
          -5.158839899742663,
          -6.499764557596186,
          -8.670785432216176,
          -12.18273096468969,
          -12.185073825856083,
          -12.187416687022479,
          -12.192102409355268,
          -12.199130992854453,
          -12.210845298686428,
          -12.229588188017585,
          -12.260045383180719,
          -12.30924546767501,
          -12.388902747332436,
          -12.517760111484153,
          -12.493529057984807,
          -12.469298004485463,
          -12.420835897486775,
          -12.348142736988741,
          -12.22698746949202,
          -12.033139041497265,
          -11.718135346005786,
          -11.209283222519554,
          -10.385427403541845,
          -9.052719461077903,
          -9.030938935979844,
          -9.009158410881787,
          -8.965597360685669,
          -8.900255785391494,
          -8.7913531599012,
          -8.617108959116731,
          -8.33396213284197,
          -7.876571105782739,
          -7.1360332524487475,
          -5.938104372055526,
          -6.02384094220274,
          -6.109577512349953,
          -6.281050652644381,
          -6.538260363086022,
          -6.96694321382209,
          -7.6528357749998,
          -8.767411186913579,
          -10.567879160005067,
          -13.482922545010332,
          -18.198433903107087,
          -18.289363319468727,
          -18.380292735830363,
          -18.56215156855364,
          -18.83493981763856,
          -19.289586899446757,
          -20.017022230339872,
          -21.199104643041185,
          -23.108622386635613,
          -26.20022254293135,
          -31.201340442821515,
          -31.28781710710348,
          -31.37429377138544,
          -31.547247099949363,
          -31.806677092795248,
          -32.23906041420505,
          -32.930873728460746,
          -34.055070364126244,
          -35.87108031404743,
          -38.81128689963411,
          -43.56750343514199,
          -43.51382954846259,
          -43.46015566178318,
          -43.35280788842437,
          -43.191786228386164,
          -42.923416794989144,
          -42.49402570155391,
          -41.79626517472166,
          -40.66911355445418,
          -38.84420140735445,
          -35.89213763998723,
          -35.884275050550556,
          -35.87641246111388,
          -35.86068728224052,
          -35.83709951393048,
          -35.79778656674709,
          -35.73488585125366,
          -35.632672188576834,
          -35.46755781040658,
          -35.200229769559506,
          -34.76778735054217,
          -34.891686290960145,
          -35.01558523137811,
          -35.26338311221406,
          -35.63507993346797,
          -36.25457463555782,
          -37.245766158901596,
          -38.85645238433522,
          -41.45833013311261,
          -45.67089410732363,
          -52.485335830312046,
          -52.420907895985785,
          -52.35647996165953,
          -52.227624093007016,
          -52.034340290028254,
          -51.71220061839697,
          -51.196777143786925,
          -50.359213997545595,
          -49.00622737669422,
          -46.81567760960152,
          -43.27214122165745
         ],
         "yaxis": "y2"
        }
       ],
       "layout": {
        "annotations": [
         {
          "font": {
           "size": 16
          },
          "showarrow": false,
          "text": "Candlestick",
          "x": 0.5,
          "xanchor": "center",
          "xref": "paper",
          "y": 1,
          "yanchor": "bottom",
          "yref": "paper"
         },
         {
          "font": {
           "size": 16
          },
          "showarrow": false,
          "text": "PNL Quote",
          "x": 0.5,
          "xanchor": "center",
          "xref": "paper",
          "y": 0.294,
          "yanchor": "bottom",
          "yref": "paper"
         }
        ],
        "font": {
         "color": "white",
         "size": 12
        },
        "height": 800,
        "hovermode": "x unified",
        "margin": {
         "b": 20,
         "l": 20,
         "r": 20,
         "t": 50
        },
        "paper_bgcolor": "rgba(0, 0, 0, 0.1)",
        "plot_bgcolor": "rgba(0, 0, 0, 0)",
        "showlegend": false,
        "template": {
         "data": {
          "bar": [
           {
            "error_x": {
             "color": "#f2f5fa"
            },
            "error_y": {
             "color": "#f2f5fa"
            },
            "marker": {
             "line": {
              "color": "rgb(17,17,17)",
              "width": 0.5
             },
             "pattern": {
              "fillmode": "overlay",
              "size": 10,
              "solidity": 0.2
             }
            },
            "type": "bar"
           }
          ],
          "barpolar": [
           {
            "marker": {
             "line": {
              "color": "rgb(17,17,17)",
              "width": 0.5
             },
             "pattern": {
              "fillmode": "overlay",
              "size": 10,
              "solidity": 0.2
             }
            },
            "type": "barpolar"
           }
          ],
          "carpet": [
           {
            "aaxis": {
             "endlinecolor": "#A2B1C6",
             "gridcolor": "#506784",
             "linecolor": "#506784",
             "minorgridcolor": "#506784",
             "startlinecolor": "#A2B1C6"
            },
            "baxis": {
             "endlinecolor": "#A2B1C6",
             "gridcolor": "#506784",
             "linecolor": "#506784",
             "minorgridcolor": "#506784",
             "startlinecolor": "#A2B1C6"
            },
            "type": "carpet"
           }
          ],
          "choropleth": [
           {
            "colorbar": {
             "outlinewidth": 0,
             "ticks": ""
            },
            "type": "choropleth"
           }
          ],
          "contour": [
           {
            "colorbar": {
             "outlinewidth": 0,
             "ticks": ""
            },
            "colorscale": [
             [
              0,
              "#0d0887"
             ],
             [
              0.1111111111111111,
              "#46039f"
             ],
             [
              0.2222222222222222,
              "#7201a8"
             ],
             [
              0.3333333333333333,
              "#9c179e"
             ],
             [
              0.4444444444444444,
              "#bd3786"
             ],
             [
              0.5555555555555556,
              "#d8576b"
             ],
             [
              0.6666666666666666,
              "#ed7953"
             ],
             [
              0.7777777777777778,
              "#fb9f3a"
             ],
             [
              0.8888888888888888,
              "#fdca26"
             ],
             [
              1,
              "#f0f921"
             ]
            ],
            "type": "contour"
           }
          ],
          "contourcarpet": [
           {
            "colorbar": {
             "outlinewidth": 0,
             "ticks": ""
            },
            "type": "contourcarpet"
           }
          ],
          "heatmap": [
           {
            "colorbar": {
             "outlinewidth": 0,
             "ticks": ""
            },
            "colorscale": [
             [
              0,
              "#0d0887"
             ],
             [
              0.1111111111111111,
              "#46039f"
             ],
             [
              0.2222222222222222,
              "#7201a8"
             ],
             [
              0.3333333333333333,
              "#9c179e"
             ],
             [
              0.4444444444444444,
              "#bd3786"
             ],
             [
              0.5555555555555556,
              "#d8576b"
             ],
             [
              0.6666666666666666,
              "#ed7953"
             ],
             [
              0.7777777777777778,
              "#fb9f3a"
             ],
             [
              0.8888888888888888,
              "#fdca26"
             ],
             [
              1,
              "#f0f921"
             ]
            ],
            "type": "heatmap"
           }
          ],
          "histogram": [
           {
            "marker": {
             "pattern": {
              "fillmode": "overlay",
              "size": 10,
              "solidity": 0.2
             }
            },
            "type": "histogram"
           }
          ],
          "histogram2d": [
           {
            "colorbar": {
             "outlinewidth": 0,
             "ticks": ""
            },
            "colorscale": [
             [
              0,
              "#0d0887"
             ],
             [
              0.1111111111111111,
              "#46039f"
             ],
             [
              0.2222222222222222,
              "#7201a8"
             ],
             [
              0.3333333333333333,
              "#9c179e"
             ],
             [
              0.4444444444444444,
              "#bd3786"
             ],
             [
              0.5555555555555556,
              "#d8576b"
             ],
             [
              0.6666666666666666,
              "#ed7953"
             ],
             [
              0.7777777777777778,
              "#fb9f3a"
             ],
             [
              0.8888888888888888,
              "#fdca26"
             ],
             [
              1,
              "#f0f921"
             ]
            ],
            "type": "histogram2d"
           }
          ],
          "histogram2dcontour": [
           {
            "colorbar": {
             "outlinewidth": 0,
             "ticks": ""
            },
            "colorscale": [
             [
              0,
              "#0d0887"
             ],
             [
              0.1111111111111111,
              "#46039f"
             ],
             [
              0.2222222222222222,
              "#7201a8"
             ],
             [
              0.3333333333333333,
              "#9c179e"
             ],
             [
              0.4444444444444444,
              "#bd3786"
             ],
             [
              0.5555555555555556,
              "#d8576b"
             ],
             [
              0.6666666666666666,
              "#ed7953"
             ],
             [
              0.7777777777777778,
              "#fb9f3a"
             ],
             [
              0.8888888888888888,
              "#fdca26"
             ],
             [
              1,
              "#f0f921"
             ]
            ],
            "type": "histogram2dcontour"
           }
          ],
          "mesh3d": [
           {
            "colorbar": {
             "outlinewidth": 0,
             "ticks": ""
            },
            "type": "mesh3d"
           }
          ],
          "parcoords": [
           {
            "line": {
             "colorbar": {
              "outlinewidth": 0,
              "ticks": ""
             }
            },
            "type": "parcoords"
           }
          ],
          "pie": [
           {
            "automargin": true,
            "type": "pie"
           }
          ],
          "scatter": [
           {
            "marker": {
             "line": {
              "color": "#283442"
             }
            },
            "type": "scatter"
           }
          ],
          "scatter3d": [
           {
            "line": {
             "colorbar": {
              "outlinewidth": 0,
              "ticks": ""
             }
            },
            "marker": {
             "colorbar": {
              "outlinewidth": 0,
              "ticks": ""
             }
            },
            "type": "scatter3d"
           }
          ],
          "scattercarpet": [
           {
            "marker": {
             "colorbar": {
              "outlinewidth": 0,
              "ticks": ""
             }
            },
            "type": "scattercarpet"
           }
          ],
          "scattergeo": [
           {
            "marker": {
             "colorbar": {
              "outlinewidth": 0,
              "ticks": ""
             }
            },
            "type": "scattergeo"
           }
          ],
          "scattergl": [
           {
            "marker": {
             "line": {
              "color": "#283442"
             }
            },
            "type": "scattergl"
           }
          ],
          "scattermap": [
           {
            "marker": {
             "colorbar": {
              "outlinewidth": 0,
              "ticks": ""
             }
            },
            "type": "scattermap"
           }
          ],
          "scattermapbox": [
           {
            "marker": {
             "colorbar": {
              "outlinewidth": 0,
              "ticks": ""
             }
            },
            "type": "scattermapbox"
           }
          ],
          "scatterpolar": [
           {
            "marker": {
             "colorbar": {
              "outlinewidth": 0,
              "ticks": ""
             }
            },
            "type": "scatterpolar"
           }
          ],
          "scatterpolargl": [
           {
            "marker": {
             "colorbar": {
              "outlinewidth": 0,
              "ticks": ""
             }
            },
            "type": "scatterpolargl"
           }
          ],
          "scatterternary": [
           {
            "marker": {
             "colorbar": {
              "outlinewidth": 0,
              "ticks": ""
             }
            },
            "type": "scatterternary"
           }
          ],
          "surface": [
           {
            "colorbar": {
             "outlinewidth": 0,
             "ticks": ""
            },
            "colorscale": [
             [
              0,
              "#0d0887"
             ],
             [
              0.1111111111111111,
              "#46039f"
             ],
             [
              0.2222222222222222,
              "#7201a8"
             ],
             [
              0.3333333333333333,
              "#9c179e"
             ],
             [
              0.4444444444444444,
              "#bd3786"
             ],
             [
              0.5555555555555556,
              "#d8576b"
             ],
             [
              0.6666666666666666,
              "#ed7953"
             ],
             [
              0.7777777777777778,
              "#fb9f3a"
             ],
             [
              0.8888888888888888,
              "#fdca26"
             ],
             [
              1,
              "#f0f921"
             ]
            ],
            "type": "surface"
           }
          ],
          "table": [
           {
            "cells": {
             "fill": {
              "color": "#506784"
             },
             "line": {
              "color": "rgb(17,17,17)"
             }
            },
            "header": {
             "fill": {
              "color": "#2a3f5f"
             },
             "line": {
              "color": "rgb(17,17,17)"
             }
            },
            "type": "table"
           }
          ]
         },
         "layout": {
          "annotationdefaults": {
           "arrowcolor": "#f2f5fa",
           "arrowhead": 0,
           "arrowwidth": 1
          },
          "autotypenumbers": "strict",
          "coloraxis": {
           "colorbar": {
            "outlinewidth": 0,
            "ticks": ""
           }
          },
          "colorscale": {
           "diverging": [
            [
             0,
             "#8e0152"
            ],
            [
             0.1,
             "#c51b7d"
            ],
            [
             0.2,
             "#de77ae"
            ],
            [
             0.3,
             "#f1b6da"
            ],
            [
             0.4,
             "#fde0ef"
            ],
            [
             0.5,
             "#f7f7f7"
            ],
            [
             0.6,
             "#e6f5d0"
            ],
            [
             0.7,
             "#b8e186"
            ],
            [
             0.8,
             "#7fbc41"
            ],
            [
             0.9,
             "#4d9221"
            ],
            [
             1,
             "#276419"
            ]
           ],
           "sequential": [
            [
             0,
             "#0d0887"
            ],
            [
             0.1111111111111111,
             "#46039f"
            ],
            [
             0.2222222222222222,
             "#7201a8"
            ],
            [
             0.3333333333333333,
             "#9c179e"
            ],
            [
             0.4444444444444444,
             "#bd3786"
            ],
            [
             0.5555555555555556,
             "#d8576b"
            ],
            [
             0.6666666666666666,
             "#ed7953"
            ],
            [
             0.7777777777777778,
             "#fb9f3a"
            ],
            [
             0.8888888888888888,
             "#fdca26"
            ],
            [
             1,
             "#f0f921"
            ]
           ],
           "sequentialminus": [
            [
             0,
             "#0d0887"
            ],
            [
             0.1111111111111111,
             "#46039f"
            ],
            [
             0.2222222222222222,
             "#7201a8"
            ],
            [
             0.3333333333333333,
             "#9c179e"
            ],
            [
             0.4444444444444444,
             "#bd3786"
            ],
            [
             0.5555555555555556,
             "#d8576b"
            ],
            [
             0.6666666666666666,
             "#ed7953"
            ],
            [
             0.7777777777777778,
             "#fb9f3a"
            ],
            [
             0.8888888888888888,
             "#fdca26"
            ],
            [
             1,
             "#f0f921"
            ]
           ]
          },
          "colorway": [
           "#636efa",
           "#EF553B",
           "#00cc96",
           "#ab63fa",
           "#FFA15A",
           "#19d3f3",
           "#FF6692",
           "#B6E880",
           "#FF97FF",
           "#FECB52"
          ],
          "font": {
           "color": "#f2f5fa"
          },
          "geo": {
           "bgcolor": "rgb(17,17,17)",
           "lakecolor": "rgb(17,17,17)",
           "landcolor": "rgb(17,17,17)",
           "showlakes": true,
           "showland": true,
           "subunitcolor": "#506784"
          },
          "hoverlabel": {
           "align": "left"
          },
          "hovermode": "closest",
          "mapbox": {
           "style": "dark"
          },
          "paper_bgcolor": "rgb(17,17,17)",
          "plot_bgcolor": "rgb(17,17,17)",
          "polar": {
           "angularaxis": {
            "gridcolor": "#506784",
            "linecolor": "#506784",
            "ticks": ""
           },
           "bgcolor": "rgb(17,17,17)",
           "radialaxis": {
            "gridcolor": "#506784",
            "linecolor": "#506784",
            "ticks": ""
           }
          },
          "scene": {
           "xaxis": {
            "backgroundcolor": "rgb(17,17,17)",
            "gridcolor": "#506784",
            "gridwidth": 2,
            "linecolor": "#506784",
            "showbackground": true,
            "ticks": "",
            "zerolinecolor": "#C8D4E3"
           },
           "yaxis": {
            "backgroundcolor": "rgb(17,17,17)",
            "gridcolor": "#506784",
            "gridwidth": 2,
            "linecolor": "#506784",
            "showbackground": true,
            "ticks": "",
            "zerolinecolor": "#C8D4E3"
           },
           "zaxis": {
            "backgroundcolor": "rgb(17,17,17)",
            "gridcolor": "#506784",
            "gridwidth": 2,
            "linecolor": "#506784",
            "showbackground": true,
            "ticks": "",
            "zerolinecolor": "#C8D4E3"
           }
          },
          "shapedefaults": {
           "line": {
            "color": "#f2f5fa"
           }
          },
          "sliderdefaults": {
           "bgcolor": "#C8D4E3",
           "bordercolor": "rgb(17,17,17)",
           "borderwidth": 1,
           "tickwidth": 0
          },
          "ternary": {
           "aaxis": {
            "gridcolor": "#506784",
            "linecolor": "#506784",
            "ticks": ""
           },
           "baxis": {
            "gridcolor": "#506784",
            "linecolor": "#506784",
            "ticks": ""
           },
           "bgcolor": "rgb(17,17,17)",
           "caxis": {
            "gridcolor": "#506784",
            "linecolor": "#506784",
            "ticks": ""
           }
          },
          "title": {
           "x": 0.05
          },
          "updatemenudefaults": {
           "bgcolor": "#506784",
           "borderwidth": 0
          },
          "xaxis": {
           "automargin": true,
           "gridcolor": "#283442",
           "linecolor": "#506784",
           "ticks": "",
           "title": {
            "standoff": 15
           },
           "zerolinecolor": "#283442",
           "zerolinewidth": 2
          },
          "yaxis": {
           "automargin": true,
           "gridcolor": "#283442",
           "linecolor": "#506784",
           "ticks": "",
           "title": {
            "standoff": 15
           },
           "zerolinecolor": "#283442",
           "zerolinewidth": 2
          }
         }
        },
        "title": {
         "text": "Trading Pair: SCA-USDT"
        },
        "width": 1200,
        "xaxis": {
         "anchor": "y",
         "domain": [
          0,
          1
         ],
         "matches": "x2",
         "rangeslider": {
          "visible": false
         },
         "showticklabels": false
        },
        "xaxis2": {
         "anchor": "y2",
         "domain": [
          0,
          1
         ]
        },
        "yaxis": {
         "anchor": "x",
         "domain": [
          0.314,
          1
         ],
         "title": {
          "text": "Price"
         }
        },
        "yaxis2": {
         "anchor": "x2",
         "domain": [
          0,
          0.294
         ],
         "title": {
          "text": "PNL"
         }
        }
       }
      }
     },
     "metadata": {},
     "output_type": "display_data"
    }
   ],
   "source": [
    "# Let's see what is inside the backtesting results\n",
    "print(backtesting_result.get_results_summary())\n",
    "backtesting_result.get_backtesting_figure()"
   ]
  },
  {
   "cell_type": "code",
   "execution_count": 14,
   "metadata": {
    "collapsed": false,
    "jupyter": {
     "outputs_hidden": false
    }
   },
   "outputs": [
    {
     "data": {
      "text/html": [
       "<div>\n",
       "<style scoped>\n",
       "    .dataframe tbody tr th:only-of-type {\n",
       "        vertical-align: middle;\n",
       "    }\n",
       "\n",
       "    .dataframe tbody tr th {\n",
       "        vertical-align: top;\n",
       "    }\n",
       "\n",
       "    .dataframe thead th {\n",
       "        text-align: right;\n",
       "    }\n",
       "</style>\n",
       "<table border=\"1\" class=\"dataframe\">\n",
       "  <thead>\n",
       "    <tr style=\"text-align: right;\">\n",
       "      <th></th>\n",
       "      <th>id</th>\n",
       "      <th>timestamp</th>\n",
       "      <th>type</th>\n",
       "      <th>status</th>\n",
       "      <th>config</th>\n",
       "      <th>net_pnl_pct</th>\n",
       "      <th>net_pnl_quote</th>\n",
       "      <th>cum_fees_quote</th>\n",
       "      <th>filled_amount_quote</th>\n",
       "      <th>is_active</th>\n",
       "      <th>is_trading</th>\n",
       "      <th>custom_info</th>\n",
       "      <th>close_timestamp</th>\n",
       "      <th>close_type</th>\n",
       "      <th>controller_id</th>\n",
       "      <th>side</th>\n",
       "    </tr>\n",
       "  </thead>\n",
       "  <tbody>\n",
       "    <tr>\n",
       "      <th>0</th>\n",
       "      <td>9L22sYTbpT3jqrKDE8MB95dMwYxDTvXp7Gds4pE9hGEx</td>\n",
       "      <td>1743455940</td>\n",
       "      <td>position_executor</td>\n",
       "      <td>RunnableStatus.TERMINATED</td>\n",
       "      <td>{'id': '9L22sYTbpT3jqrKDE8MB95dMwYxDTvXp7Gds4p...</td>\n",
       "      <td>-0.0016531858873088493833147794020987930707633...</td>\n",
       "      <td>-0.0115607404706912532399432080865153693594038...</td>\n",
       "      <td>0.00419580419580419493319478618786888546310365...</td>\n",
       "      <td>13.9860139860139849332654193858616054058074951...</td>\n",
       "      <td>False</td>\n",
       "      <td>False</td>\n",
       "      <td>{'close_price': 0.07588, 'level_id': None, 'si...</td>\n",
       "      <td>1743456600</td>\n",
       "      <td>CloseType.TRAILING_STOP</td>\n",
       "      <td>None</td>\n",
       "      <td>BUY</td>\n",
       "    </tr>\n",
       "    <tr>\n",
       "      <th>1</th>\n",
       "      <td>EDCqjTdy5auzFRTj1uBbp3wPNPgicjFxsqbvApL5QzQK</td>\n",
       "      <td>1743455940</td>\n",
       "      <td>position_executor</td>\n",
       "      <td>RunnableStatus.TERMINATED</td>\n",
       "      <td>{'id': 'EDCqjTdy5auzFRTj1uBbp3wPNPgicjFxsqbvAp...</td>\n",
       "      <td>-0.0016531858873088493833147794020987930707633...</td>\n",
       "      <td>-0.0115607404706912532399432080865153693594038...</td>\n",
       "      <td>0.00419580419580419493319478618786888546310365...</td>\n",
       "      <td>13.9860139860139849332654193858616054058074951...</td>\n",
       "      <td>False</td>\n",
       "      <td>False</td>\n",
       "      <td>{'close_price': 0.07588, 'level_id': None, 'si...</td>\n",
       "      <td>1743456600</td>\n",
       "      <td>CloseType.TRAILING_STOP</td>\n",
       "      <td>None</td>\n",
       "      <td>BUY</td>\n",
       "    </tr>\n",
       "    <tr>\n",
       "      <th>2</th>\n",
       "      <td>4gfGSiJ9qjEGjcg3FQ9pg8DESAh4K5LYLXM13M3Dv3Hx</td>\n",
       "      <td>1743455940</td>\n",
       "      <td>position_executor</td>\n",
       "      <td>RunnableStatus.TERMINATED</td>\n",
       "      <td>{'id': '4gfGSiJ9qjEGjcg3FQ9pg8DESAh4K5LYLXM13M...</td>\n",
       "      <td>-0.0016531858873088493833147794020987930707633...</td>\n",
       "      <td>-0.0231214809413825064798864161730307387188076...</td>\n",
       "      <td>0.00839160839160838986638957237573777092620730...</td>\n",
       "      <td>27.9720279720279698665308387717232108116149902...</td>\n",
       "      <td>False</td>\n",
       "      <td>False</td>\n",
       "      <td>{'close_price': 0.07588, 'level_id': None, 'si...</td>\n",
       "      <td>1743456600</td>\n",
       "      <td>CloseType.TRAILING_STOP</td>\n",
       "      <td>None</td>\n",
       "      <td>BUY</td>\n",
       "    </tr>\n",
       "    <tr>\n",
       "      <th>3</th>\n",
       "      <td>EQBFmwNf2mVa5JSXWZGBsvjErCuBHXztVRNojrbAaqGP</td>\n",
       "      <td>1743455940</td>\n",
       "      <td>position_executor</td>\n",
       "      <td>RunnableStatus.TERMINATED</td>\n",
       "      <td>{'id': 'EQBFmwNf2mVa5JSXWZGBsvjErCuBHXztVRNojr...</td>\n",
       "      <td>-0.0016531858873088493833147794020987930707633...</td>\n",
       "      <td>-0.0346822214120737562503826723059319192543625...</td>\n",
       "      <td>0.01258741258741258479958435856360665638931095...</td>\n",
       "      <td>41.9580419580419530234394187573343515396118164...</td>\n",
       "      <td>False</td>\n",
       "      <td>False</td>\n",
       "      <td>{'close_price': 0.07588, 'level_id': None, 'si...</td>\n",
       "      <td>1743456600</td>\n",
       "      <td>CloseType.TRAILING_STOP</td>\n",
       "      <td>None</td>\n",
       "      <td>BUY</td>\n",
       "    </tr>\n",
       "    <tr>\n",
       "      <th>4</th>\n",
       "      <td>F5BLxg6LwW3JsvDCPzNtD6FVwyKmtgi2gAkcgBSAXKc5</td>\n",
       "      <td>1743455940</td>\n",
       "      <td>position_executor</td>\n",
       "      <td>RunnableStatus.TERMINATED</td>\n",
       "      <td>{'id': 'F5BLxg6LwW3JsvDCPzNtD6FVwyKmtgi2gAkcgB...</td>\n",
       "      <td>-0.0016531858873088493833147794020987930707633...</td>\n",
       "      <td>-0.0578037023534562766080568962934194132685661...</td>\n",
       "      <td>0.02097902097902097987014435886976571055129170...</td>\n",
       "      <td>69.9300699300699335481112939305603504180908203125</td>\n",
       "      <td>False</td>\n",
       "      <td>False</td>\n",
       "      <td>{'close_price': 0.07588, 'level_id': None, 'si...</td>\n",
       "      <td>1743456600</td>\n",
       "      <td>CloseType.TRAILING_STOP</td>\n",
       "      <td>None</td>\n",
       "      <td>BUY</td>\n",
       "    </tr>\n",
       "  </tbody>\n",
       "</table>\n",
       "</div>"
      ],
      "text/plain": [
       "                                             id  timestamp               type  \\\n",
       "0  9L22sYTbpT3jqrKDE8MB95dMwYxDTvXp7Gds4pE9hGEx 1743455940  position_executor   \n",
       "1  EDCqjTdy5auzFRTj1uBbp3wPNPgicjFxsqbvApL5QzQK 1743455940  position_executor   \n",
       "2  4gfGSiJ9qjEGjcg3FQ9pg8DESAh4K5LYLXM13M3Dv3Hx 1743455940  position_executor   \n",
       "3  EQBFmwNf2mVa5JSXWZGBsvjErCuBHXztVRNojrbAaqGP 1743455940  position_executor   \n",
       "4  F5BLxg6LwW3JsvDCPzNtD6FVwyKmtgi2gAkcgBSAXKc5 1743455940  position_executor   \n",
       "\n",
       "                      status  \\\n",
       "0  RunnableStatus.TERMINATED   \n",
       "1  RunnableStatus.TERMINATED   \n",
       "2  RunnableStatus.TERMINATED   \n",
       "3  RunnableStatus.TERMINATED   \n",
       "4  RunnableStatus.TERMINATED   \n",
       "\n",
       "                                              config  \\\n",
       "0  {'id': '9L22sYTbpT3jqrKDE8MB95dMwYxDTvXp7Gds4p...   \n",
       "1  {'id': 'EDCqjTdy5auzFRTj1uBbp3wPNPgicjFxsqbvAp...   \n",
       "2  {'id': '4gfGSiJ9qjEGjcg3FQ9pg8DESAh4K5LYLXM13M...   \n",
       "3  {'id': 'EQBFmwNf2mVa5JSXWZGBsvjErCuBHXztVRNojr...   \n",
       "4  {'id': 'F5BLxg6LwW3JsvDCPzNtD6FVwyKmtgi2gAkcgB...   \n",
       "\n",
       "                                         net_pnl_pct  \\\n",
       "0  -0.0016531858873088493833147794020987930707633...   \n",
       "1  -0.0016531858873088493833147794020987930707633...   \n",
       "2  -0.0016531858873088493833147794020987930707633...   \n",
       "3  -0.0016531858873088493833147794020987930707633...   \n",
       "4  -0.0016531858873088493833147794020987930707633...   \n",
       "\n",
       "                                       net_pnl_quote  \\\n",
       "0  -0.0115607404706912532399432080865153693594038...   \n",
       "1  -0.0115607404706912532399432080865153693594038...   \n",
       "2  -0.0231214809413825064798864161730307387188076...   \n",
       "3  -0.0346822214120737562503826723059319192543625...   \n",
       "4  -0.0578037023534562766080568962934194132685661...   \n",
       "\n",
       "                                      cum_fees_quote  \\\n",
       "0  0.00419580419580419493319478618786888546310365...   \n",
       "1  0.00419580419580419493319478618786888546310365...   \n",
       "2  0.00839160839160838986638957237573777092620730...   \n",
       "3  0.01258741258741258479958435856360665638931095...   \n",
       "4  0.02097902097902097987014435886976571055129170...   \n",
       "\n",
       "                                 filled_amount_quote  is_active  is_trading  \\\n",
       "0  13.9860139860139849332654193858616054058074951...      False       False   \n",
       "1  13.9860139860139849332654193858616054058074951...      False       False   \n",
       "2  27.9720279720279698665308387717232108116149902...      False       False   \n",
       "3  41.9580419580419530234394187573343515396118164...      False       False   \n",
       "4  69.9300699300699335481112939305603504180908203125      False       False   \n",
       "\n",
       "                                         custom_info  close_timestamp  \\\n",
       "0  {'close_price': 0.07588, 'level_id': None, 'si...       1743456600   \n",
       "1  {'close_price': 0.07588, 'level_id': None, 'si...       1743456600   \n",
       "2  {'close_price': 0.07588, 'level_id': None, 'si...       1743456600   \n",
       "3  {'close_price': 0.07588, 'level_id': None, 'si...       1743456600   \n",
       "4  {'close_price': 0.07588, 'level_id': None, 'si...       1743456600   \n",
       "\n",
       "                close_type controller_id side  \n",
       "0  CloseType.TRAILING_STOP          None  BUY  \n",
       "1  CloseType.TRAILING_STOP          None  BUY  \n",
       "2  CloseType.TRAILING_STOP          None  BUY  \n",
       "3  CloseType.TRAILING_STOP          None  BUY  \n",
       "4  CloseType.TRAILING_STOP          None  BUY  "
      ]
     },
     "execution_count": 14,
     "metadata": {},
     "output_type": "execute_result"
    }
   ],
   "source": [
    "# 2. The executors dataframe: this is the dataframe that contains the information of the orders that were executed\n",
    "import pandas as pd\n",
    "\n",
    "executors_df = backtesting_result.executors_df\n",
    "executors_df.head()"
   ]
  },
  {
   "cell_type": "markdown",
   "metadata": {
    "collapsed": false
   },
   "source": [
    "### Backtesting Analysis"
   ]
  },
  {
   "cell_type": "markdown",
   "metadata": {
    "collapsed": false,
    "jupyter": {
     "outputs_hidden": false
    }
   },
   "source": [
    "### Scatter of PNL per Trade\n",
    "This bar chart illustrates the PNL for each individual trade. Positive PNLs are shown in green and negative PNLs in red, providing a clear view of profitable vs. unprofitable trades.\n"
   ]
  },
  {
   "cell_type": "code",
   "execution_count": 15,
   "metadata": {
    "collapsed": false,
    "jupyter": {
     "outputs_hidden": false
    }
   },
   "outputs": [
    {
     "data": {
      "application/vnd.plotly.v1+json": {
       "config": {
        "plotlyServerURL": "https://plot.ly"
       },
       "data": [
        {
         "customdata": [
          [
           13.986013986013985,
           "BUY"
          ],
          [
           13.986013986013985,
           "BUY"
          ],
          [
           27.97202797202797,
           "BUY"
          ],
          [
           41.95804195804195,
           "BUY"
          ],
          [
           69.93006993006993,
           "BUY"
          ],
          [
           111.88811188811188,
           "BUY"
          ],
          [
           181.81818181818184,
           "BUY"
          ],
          [
           293.7062937062937,
           "BUY"
          ],
          [
           475.5244755244755,
           "BUY"
          ],
          [
           769.2307692307693,
           "BUY"
          ],
          [
           13.986013986013987,
           "BUY"
          ],
          [
           13.986013986013987,
           "BUY"
          ],
          [
           27.972027972027973,
           "BUY"
          ],
          [
           41.95804195804195,
           "BUY"
          ],
          [
           69.93006993006993,
           "BUY"
          ],
          [
           111.8881118881119,
           "BUY"
          ],
          [
           181.8181818181818,
           "BUY"
          ],
          [
           293.7062937062937,
           "BUY"
          ],
          [
           475.5244755244756,
           "BUY"
          ],
          [
           769.2307692307693,
           "BUY"
          ],
          [
           13.986013986013985,
           "SELL"
          ],
          [
           13.986013986013985,
           "SELL"
          ],
          [
           27.97202797202797,
           "SELL"
          ],
          [
           41.95804195804196,
           "SELL"
          ],
          [
           69.93006993006993,
           "SELL"
          ],
          [
           111.88811188811188,
           "SELL"
          ],
          [
           181.8181818181818,
           "SELL"
          ],
          [
           293.7062937062937,
           "SELL"
          ],
          [
           475.5244755244755,
           "SELL"
          ],
          [
           769.2307692307693,
           "SELL"
          ],
          [
           13.986013986013987,
           "SELL"
          ],
          [
           13.986013986013987,
           "SELL"
          ],
          [
           27.972027972027973,
           "SELL"
          ],
          [
           41.95804195804195,
           "SELL"
          ],
          [
           69.93006993006993,
           "SELL"
          ],
          [
           111.8881118881119,
           "SELL"
          ],
          [
           181.8181818181818,
           "SELL"
          ],
          [
           293.7062937062937,
           "SELL"
          ],
          [
           475.5244755244755,
           "SELL"
          ],
          [
           769.2307692307693,
           "SELL"
          ],
          [
           13.986013986013987,
           "SELL"
          ],
          [
           13.986013986013987,
           "SELL"
          ],
          [
           27.972027972027973,
           "SELL"
          ],
          [
           41.95804195804196,
           "SELL"
          ],
          [
           69.93006993006992,
           "SELL"
          ],
          [
           111.8881118881119,
           "SELL"
          ],
          [
           181.8181818181818,
           "SELL"
          ],
          [
           293.7062937062937,
           "SELL"
          ],
          [
           475.5244755244755,
           "SELL"
          ],
          [
           769.2307692307692,
           "SELL"
          ],
          [
           13.986013986013985,
           "SELL"
          ],
          [
           13.986013986013985,
           "SELL"
          ],
          [
           27.97202797202797,
           "SELL"
          ],
          [
           41.95804195804196,
           "SELL"
          ],
          [
           69.93006993006993,
           "SELL"
          ],
          [
           111.88811188811188,
           "SELL"
          ],
          [
           181.8181818181818,
           "SELL"
          ],
          [
           293.7062937062937,
           "SELL"
          ],
          [
           475.5244755244755,
           "SELL"
          ],
          [
           769.2307692307693,
           "SELL"
          ],
          [
           13.986013986013987,
           "SELL"
          ],
          [
           13.986013986013987,
           "SELL"
          ],
          [
           27.972027972027973,
           "SELL"
          ],
          [
           41.95804195804196,
           "SELL"
          ],
          [
           69.93006993006993,
           "SELL"
          ],
          [
           111.8881118881119,
           "SELL"
          ],
          [
           181.8181818181818,
           "SELL"
          ],
          [
           293.7062937062937,
           "SELL"
          ],
          [
           475.5244755244756,
           "SELL"
          ],
          [
           769.2307692307693,
           "SELL"
          ],
          [
           13.986013986013985,
           "SELL"
          ],
          [
           13.986013986013985,
           "SELL"
          ],
          [
           27.97202797202797,
           "SELL"
          ],
          [
           41.95804195804195,
           "SELL"
          ],
          [
           69.93006993006993,
           "SELL"
          ],
          [
           111.88811188811188,
           "SELL"
          ],
          [
           181.8181818181818,
           "SELL"
          ],
          [
           293.7062937062937,
           "SELL"
          ],
          [
           475.5244755244755,
           "SELL"
          ],
          [
           769.2307692307692,
           "SELL"
          ]
         ],
         "hovertemplate": "profitable=False<br>Timestamp=%{x}<br>Net PNL (Quote)=%{y}<br>filled_amount_quote=%{customdata[0]}<br>side=%{customdata[1]}<extra></extra>",
         "legendgroup": "False",
         "marker": {
          "color": "red",
          "symbol": "circle"
         },
         "mode": "markers",
         "name": "False",
         "orientation": "h",
         "showlegend": true,
         "type": "scatter",
         "x": {
          "bdata": "AAAAscH62UEAAACxwfrZQQAAALHB+tlBAAAAscH62UEAAACxwfrZQQAAALHB+tlBAAAAscH62UEAAACxwfrZQQAAALHB+tlBAAAAscH62UEAAAB/xvrZQQAAAH/G+tlBAAAAf8b62UEAAAB/xvrZQQAAAH/G+tlBAAAAf8b62UEAAAB/xvrZQQAAAH/G+tlBAAAAf8b62UEAAAB/xvrZQQAAANrU+tlBAAAA2tT62UEAAADa1PrZQQAAANrU+tlBAAAA2tT62UEAAADa1PrZQQAAANrU+tlBAAAA2tT62UEAAADa1PrZQQAAANrU+tlBAAAAu9X62UEAAAC71frZQQAAALvV+tlBAAAAu9X62UEAAAC71frZQQAAALvV+tlBAAAAu9X62UEAAAC71frZQQAAALvV+tlBAAAAu9X62UEAAADN//rZQQAAAM3/+tlBAAAAzf/62UEAAADN//rZQQAAAM3/+tlBAAAAzf/62UEAAADN//rZQQAAAM3/+tlBAAAAzf/62UEAAADN//rZQQAAAK4A+9lBAAAArgD72UEAAACuAPvZQQAAAK4A+9lBAAAArgD72UEAAACuAPvZQQAAAK4A+9lBAAAArgD72UEAAACuAPvZQQAAAK4A+9lBAAAAgAH72UEAAACAAfvZQQAAAIAB+9lBAAAAgAH72UEAAACAAfvZQQAAAIAB+9lBAAAAgAH72UEAAACAAfvZQQAAAIAB+9lBAAAAgAH72UEAAACGVfvZQQAAAIZV+9lBAAAAhlX72UEAAACGVfvZQQAAAIZV+9lBAAAAhlX72UEAAACGVfvZQQAAAIZV+9lBAAAAhlX72UEAAACGVfvZQQ==",
          "dtype": "f8"
         },
         "xaxis": "x",
         "y": [
          -0.011560740470691253,
          -0.011560740470691253,
          -0.023121480941382506,
          -0.034682221412073756,
          -0.05780370235345628,
          -0.09248592376553003,
          -0.15028962611898633,
          -0.24277554988451636,
          -0.39306517600350266,
          -0.635840725888019,
          -0.014453582155943702,
          -0.014453582155943702,
          -0.028907164311887404,
          -0.0433607464678311,
          -0.0722679107797185,
          -0.11562865724754962,
          -0.18789656802726812,
          -0.30352522527481773,
          -0.4914217933020859,
          -0.7949470185769036,
          -0.06385355513588205,
          -0.06385355513588205,
          -0.1277071102717641,
          -0.19156066540764616,
          -0.3192677756794103,
          -0.5108284410870564,
          -0.8300962167664667,
          -1.3409246578535232,
          -2.1710208746199897,
          -3.511945532473513,
          -0.002342861166394844,
          -0.002342861166394844,
          -0.004685722332789688,
          -0.007028583499184531,
          -0.01171430583197422,
          -0.018742889331158752,
          -0.030457195163132972,
          -0.049200084494291724,
          -0.0796572796574247,
          -0.12885736415171642,
          -0.08573657014721371,
          -0.08573657014721371,
          -0.17147314029442742,
          -0.25720971044164115,
          -0.4286828507360685,
          -0.6858925611777097,
          -1.1145754119137783,
          -1.8004679730914879,
          -2.915043385005266,
          -4.715511358096753,
          -0.09092941636163937,
          -0.09092941636163937,
          -0.18185883272327874,
          -0.27278824908491817,
          -0.4546470818081969,
          -0.727435330893115,
          -1.1820824127013119,
          -1.9095177435944268,
          -3.0916001562957387,
          -5.001117899890166,
          -0.08647666428196135,
          -0.08647666428196135,
          -0.1729533285639227,
          -0.259429992845884,
          -0.43238332140980673,
          -0.6918133142556908,
          -1.1241966356654975,
          -1.8160099499211881,
          -2.940206585586686,
          -4.756216535507875,
          -0.12389894041797113,
          -0.12389894041797113,
          -0.24779788083594226,
          -0.37169682125391335,
          -0.6194947020898557,
          -0.991191523343769,
          -1.6106862254336247,
          -2.601877748777394,
          -4.212563974211019,
          -6.814441722988412
         ],
         "yaxis": "y"
        },
        {
         "customdata": [
          [
           13.986013986013987,
           "BUY"
          ],
          [
           13.986013986013987,
           "BUY"
          ],
          [
           27.972027972027973,
           "BUY"
          ],
          [
           41.95804195804196,
           "BUY"
          ],
          [
           69.93006993006993,
           "BUY"
          ],
          [
           111.8881118881119,
           "BUY"
          ],
          [
           181.8181818181818,
           "BUY"
          ],
          [
           293.7062937062937,
           "BUY"
          ],
          [
           475.5244755244755,
           "BUY"
          ],
          [
           769.2307692307692,
           "BUY"
          ],
          [
           13.986013986013987,
           "SELL"
          ],
          [
           13.986013986013987,
           "SELL"
          ],
          [
           27.972027972027973,
           "SELL"
          ],
          [
           41.95804195804195,
           "SELL"
          ],
          [
           69.93006993006993,
           "SELL"
          ],
          [
           111.8881118881119,
           "SELL"
          ],
          [
           181.8181818181818,
           "SELL"
          ],
          [
           293.7062937062937,
           "SELL"
          ],
          [
           475.5244755244755,
           "SELL"
          ],
          [
           769.2307692307692,
           "SELL"
          ],
          [
           13.986013986013987,
           "SELL"
          ],
          [
           13.986013986013987,
           "SELL"
          ],
          [
           27.972027972027973,
           "SELL"
          ],
          [
           41.95804195804196,
           "SELL"
          ],
          [
           69.93006993006993,
           "SELL"
          ],
          [
           111.8881118881119,
           "SELL"
          ],
          [
           181.8181818181818,
           "SELL"
          ],
          [
           293.7062937062937,
           "SELL"
          ],
          [
           475.5244755244755,
           "SELL"
          ],
          [
           769.2307692307692,
           "SELL"
          ],
          [
           13.986013986013987,
           "SELL"
          ],
          [
           13.986013986013987,
           "SELL"
          ],
          [
           27.972027972027973,
           "SELL"
          ],
          [
           41.95804195804196,
           "SELL"
          ],
          [
           69.93006993006993,
           "SELL"
          ],
          [
           111.8881118881119,
           "SELL"
          ],
          [
           181.8181818181818,
           "SELL"
          ],
          [
           293.7062937062937,
           "SELL"
          ],
          [
           475.5244755244755,
           "SELL"
          ],
          [
           769.2307692307692,
           "SELL"
          ],
          [
           13.986013986013987,
           "SELL"
          ],
          [
           13.986013986013987,
           "SELL"
          ],
          [
           27.972027972027973,
           "SELL"
          ],
          [
           41.95804195804196,
           "SELL"
          ],
          [
           69.93006993006993,
           "SELL"
          ],
          [
           111.8881118881119,
           "SELL"
          ],
          [
           181.8181818181818,
           "SELL"
          ],
          [
           293.7062937062937,
           "SELL"
          ],
          [
           475.5244755244755,
           "SELL"
          ],
          [
           769.2307692307692,
           "SELL"
          ],
          [
           13.986013986013985,
           "BUY"
          ],
          [
           13.986013986013985,
           "BUY"
          ],
          [
           27.97202797202797,
           "BUY"
          ],
          [
           41.95804195804196,
           "BUY"
          ],
          [
           69.93006993006993,
           "BUY"
          ],
          [
           111.88811188811188,
           "BUY"
          ],
          [
           181.81818181818184,
           "BUY"
          ],
          [
           293.7062937062937,
           "BUY"
          ],
          [
           475.5244755244755,
           "BUY"
          ],
          [
           769.2307692307693,
           "BUY"
          ],
          [
           13.986013986013987,
           "SELL"
          ],
          [
           13.986013986013987,
           "SELL"
          ],
          [
           27.972027972027973,
           "SELL"
          ],
          [
           41.95804195804196,
           "SELL"
          ],
          [
           69.93006993006993,
           "SELL"
          ],
          [
           111.8881118881119,
           "SELL"
          ],
          [
           181.8181818181818,
           "SELL"
          ],
          [
           293.7062937062937,
           "SELL"
          ],
          [
           475.5244755244755,
           "SELL"
          ],
          [
           769.2307692307692,
           "SELL"
          ]
         ],
         "hovertemplate": "profitable=True<br>Timestamp=%{x}<br>Net PNL (Quote)=%{y}<br>filled_amount_quote=%{customdata[0]}<br>side=%{customdata[1]}<extra></extra>",
         "legendgroup": "True",
         "marker": {
          "color": "green",
          "symbol": "circle"
         },
         "mode": "markers",
         "name": "True",
         "orientation": "h",
         "showlegend": true,
         "type": "scatter",
         "x": {
          "bdata": "AAAA6Mb62UEAAADoxvrZQQAAAOjG+tlBAAAA6Mb62UEAAADoxvrZQQAAAOjG+tlBAAAA6Mb62UEAAADoxvrZQQAAAOjG+tlBAAAA6Mb62UEAAACe1PrZQQAAAJ7U+tlBAAAAntT62UEAAACe1PrZQQAAAJ7U+tlBAAAAntT62UEAAACe1PrZQQAAAJ7U+tlBAAAAntT62UEAAACe1PrZQQAAADPl+tlBAAAAM+X62UEAAAAz5frZQQAAADPl+tlBAAAAM+X62UEAAAAz5frZQQAAADPl+tlBAAAAM+X62UEAAAAz5frZQQAAADPl+tlBAAAA4ur62UEAAADi6vrZQQAAAOLq+tlBAAAA4ur62UEAAADi6vrZQQAAAOLq+tlBAAAA4ur62UEAAADi6vrZQQAAAOLq+tlBAAAA4ur62UEAAAAuF/vZQQAAAC4X+9lBAAAALhf72UEAAAAuF/vZQQAAAC4X+9lBAAAALhf72UEAAAAuF/vZQQAAAC4X+9lBAAAALhf72UEAAAAuF/vZQQAAABQi+9lBAAAAFCL72UEAAAAUIvvZQQAAABQi+9lBAAAAFCL72UEAAAAUIvvZQQAAABQi+9lBAAAAFCL72UEAAAAUIvvZQQAAABQi+9lBAAAAwVb72UEAAADBVvvZQQAAAMFW+9lBAAAAwVb72UEAAADBVvvZQQAAAMFW+9lBAAAAwVb72UEAAADBVvvZQQAAAMFW+9lBAAAAwVb72UE=",
          "dtype": "f8"
         },
         "xaxis": "x",
         "y": [
          0.001407566792181381,
          0.001407566792181381,
          0.002815133584362762,
          0.0042227003765441425,
          0.007037833960906905,
          0.011260534337451047,
          0.018298368298357952,
          0.029558902635808997,
          0.04785727093416695,
          0.07741617356997595,
          0.003266388140337805,
          0.003266388140337805,
          0.00653277628067561,
          0.009799164421013414,
          0.016331940701689026,
          0.02613110512270244,
          0.04246304582439146,
          0.06859415094709391,
          0.11105719677148537,
          0.17965134771857927,
          0.024231053499344398,
          0.024231053499344398,
          0.048462106998688796,
          0.07269316049803319,
          0.121155267496722,
          0.19384842799475518,
          0.31500369549147716,
          0.5088521234862323,
          0.8238558189777095,
          1.3327079424639416,
          0.021780525098058584,
          0.021780525098058584,
          0.04356105019611717,
          0.06534157529417575,
          0.10890262549029292,
          0.17424420078446867,
          0.28314682627476156,
          0.45739102705923024,
          0.7405378533339918,
          1.197928880393222,
          0.05367388667940388,
          0.05367388667940388,
          0.10734777335880775,
          0.16102166003821164,
          0.2683694333970194,
          0.429391093435231,
          0.6977605268322504,
          1.1271516202674814,
          1.8249121470997318,
          2.952063767367213,
          0.007862589436678774,
          0.007862589436678774,
          0.01572517887335755,
          0.023587768310036325,
          0.03931294718339388,
          0.0629007154934302,
          0.10221366267682408,
          0.16511437817025426,
          0.26732804084707834,
          0.43244241901733266,
          0.06442793432625592,
          0.06442793432625592,
          0.12885586865251183,
          0.19328380297876777,
          0.3221396716312796,
          0.5154234746100473,
          0.8375631462413269,
          1.3529866208513743,
          2.190549767092701,
          3.543536387944075
         ],
         "yaxis": "y"
        }
       ],
       "layout": {
        "font": {
         "color": "white",
         "size": 12
        },
        "legend": {
         "title": {
          "text": "Profitable"
         },
         "tracegroupgap": 0
        },
        "paper_bgcolor": "rgba(0,0,0,0.8)",
        "plot_bgcolor": "rgba(0,0,0,0.8)",
        "shapes": [
         {
          "line": {
           "color": "lightgray",
           "dash": "dash"
          },
          "type": "line",
          "x0": 0,
          "x1": 1,
          "xref": "x domain",
          "y0": 0,
          "y1": 0,
          "yref": "y"
         }
        ],
        "showlegend": false,
        "template": {
         "data": {
          "bar": [
           {
            "error_x": {
             "color": "#2a3f5f"
            },
            "error_y": {
             "color": "#2a3f5f"
            },
            "marker": {
             "line": {
              "color": "#E5ECF6",
              "width": 0.5
             },
             "pattern": {
              "fillmode": "overlay",
              "size": 10,
              "solidity": 0.2
             }
            },
            "type": "bar"
           }
          ],
          "barpolar": [
           {
            "marker": {
             "line": {
              "color": "#E5ECF6",
              "width": 0.5
             },
             "pattern": {
              "fillmode": "overlay",
              "size": 10,
              "solidity": 0.2
             }
            },
            "type": "barpolar"
           }
          ],
          "carpet": [
           {
            "aaxis": {
             "endlinecolor": "#2a3f5f",
             "gridcolor": "white",
             "linecolor": "white",
             "minorgridcolor": "white",
             "startlinecolor": "#2a3f5f"
            },
            "baxis": {
             "endlinecolor": "#2a3f5f",
             "gridcolor": "white",
             "linecolor": "white",
             "minorgridcolor": "white",
             "startlinecolor": "#2a3f5f"
            },
            "type": "carpet"
           }
          ],
          "choropleth": [
           {
            "colorbar": {
             "outlinewidth": 0,
             "ticks": ""
            },
            "type": "choropleth"
           }
          ],
          "contour": [
           {
            "colorbar": {
             "outlinewidth": 0,
             "ticks": ""
            },
            "colorscale": [
             [
              0,
              "#0d0887"
             ],
             [
              0.1111111111111111,
              "#46039f"
             ],
             [
              0.2222222222222222,
              "#7201a8"
             ],
             [
              0.3333333333333333,
              "#9c179e"
             ],
             [
              0.4444444444444444,
              "#bd3786"
             ],
             [
              0.5555555555555556,
              "#d8576b"
             ],
             [
              0.6666666666666666,
              "#ed7953"
             ],
             [
              0.7777777777777778,
              "#fb9f3a"
             ],
             [
              0.8888888888888888,
              "#fdca26"
             ],
             [
              1,
              "#f0f921"
             ]
            ],
            "type": "contour"
           }
          ],
          "contourcarpet": [
           {
            "colorbar": {
             "outlinewidth": 0,
             "ticks": ""
            },
            "type": "contourcarpet"
           }
          ],
          "heatmap": [
           {
            "colorbar": {
             "outlinewidth": 0,
             "ticks": ""
            },
            "colorscale": [
             [
              0,
              "#0d0887"
             ],
             [
              0.1111111111111111,
              "#46039f"
             ],
             [
              0.2222222222222222,
              "#7201a8"
             ],
             [
              0.3333333333333333,
              "#9c179e"
             ],
             [
              0.4444444444444444,
              "#bd3786"
             ],
             [
              0.5555555555555556,
              "#d8576b"
             ],
             [
              0.6666666666666666,
              "#ed7953"
             ],
             [
              0.7777777777777778,
              "#fb9f3a"
             ],
             [
              0.8888888888888888,
              "#fdca26"
             ],
             [
              1,
              "#f0f921"
             ]
            ],
            "type": "heatmap"
           }
          ],
          "histogram": [
           {
            "marker": {
             "pattern": {
              "fillmode": "overlay",
              "size": 10,
              "solidity": 0.2
             }
            },
            "type": "histogram"
           }
          ],
          "histogram2d": [
           {
            "colorbar": {
             "outlinewidth": 0,
             "ticks": ""
            },
            "colorscale": [
             [
              0,
              "#0d0887"
             ],
             [
              0.1111111111111111,
              "#46039f"
             ],
             [
              0.2222222222222222,
              "#7201a8"
             ],
             [
              0.3333333333333333,
              "#9c179e"
             ],
             [
              0.4444444444444444,
              "#bd3786"
             ],
             [
              0.5555555555555556,
              "#d8576b"
             ],
             [
              0.6666666666666666,
              "#ed7953"
             ],
             [
              0.7777777777777778,
              "#fb9f3a"
             ],
             [
              0.8888888888888888,
              "#fdca26"
             ],
             [
              1,
              "#f0f921"
             ]
            ],
            "type": "histogram2d"
           }
          ],
          "histogram2dcontour": [
           {
            "colorbar": {
             "outlinewidth": 0,
             "ticks": ""
            },
            "colorscale": [
             [
              0,
              "#0d0887"
             ],
             [
              0.1111111111111111,
              "#46039f"
             ],
             [
              0.2222222222222222,
              "#7201a8"
             ],
             [
              0.3333333333333333,
              "#9c179e"
             ],
             [
              0.4444444444444444,
              "#bd3786"
             ],
             [
              0.5555555555555556,
              "#d8576b"
             ],
             [
              0.6666666666666666,
              "#ed7953"
             ],
             [
              0.7777777777777778,
              "#fb9f3a"
             ],
             [
              0.8888888888888888,
              "#fdca26"
             ],
             [
              1,
              "#f0f921"
             ]
            ],
            "type": "histogram2dcontour"
           }
          ],
          "mesh3d": [
           {
            "colorbar": {
             "outlinewidth": 0,
             "ticks": ""
            },
            "type": "mesh3d"
           }
          ],
          "parcoords": [
           {
            "line": {
             "colorbar": {
              "outlinewidth": 0,
              "ticks": ""
             }
            },
            "type": "parcoords"
           }
          ],
          "pie": [
           {
            "automargin": true,
            "type": "pie"
           }
          ],
          "scatter": [
           {
            "fillpattern": {
             "fillmode": "overlay",
             "size": 10,
             "solidity": 0.2
            },
            "type": "scatter"
           }
          ],
          "scatter3d": [
           {
            "line": {
             "colorbar": {
              "outlinewidth": 0,
              "ticks": ""
             }
            },
            "marker": {
             "colorbar": {
              "outlinewidth": 0,
              "ticks": ""
             }
            },
            "type": "scatter3d"
           }
          ],
          "scattercarpet": [
           {
            "marker": {
             "colorbar": {
              "outlinewidth": 0,
              "ticks": ""
             }
            },
            "type": "scattercarpet"
           }
          ],
          "scattergeo": [
           {
            "marker": {
             "colorbar": {
              "outlinewidth": 0,
              "ticks": ""
             }
            },
            "type": "scattergeo"
           }
          ],
          "scattergl": [
           {
            "marker": {
             "colorbar": {
              "outlinewidth": 0,
              "ticks": ""
             }
            },
            "type": "scattergl"
           }
          ],
          "scattermap": [
           {
            "marker": {
             "colorbar": {
              "outlinewidth": 0,
              "ticks": ""
             }
            },
            "type": "scattermap"
           }
          ],
          "scattermapbox": [
           {
            "marker": {
             "colorbar": {
              "outlinewidth": 0,
              "ticks": ""
             }
            },
            "type": "scattermapbox"
           }
          ],
          "scatterpolar": [
           {
            "marker": {
             "colorbar": {
              "outlinewidth": 0,
              "ticks": ""
             }
            },
            "type": "scatterpolar"
           }
          ],
          "scatterpolargl": [
           {
            "marker": {
             "colorbar": {
              "outlinewidth": 0,
              "ticks": ""
             }
            },
            "type": "scatterpolargl"
           }
          ],
          "scatterternary": [
           {
            "marker": {
             "colorbar": {
              "outlinewidth": 0,
              "ticks": ""
             }
            },
            "type": "scatterternary"
           }
          ],
          "surface": [
           {
            "colorbar": {
             "outlinewidth": 0,
             "ticks": ""
            },
            "colorscale": [
             [
              0,
              "#0d0887"
             ],
             [
              0.1111111111111111,
              "#46039f"
             ],
             [
              0.2222222222222222,
              "#7201a8"
             ],
             [
              0.3333333333333333,
              "#9c179e"
             ],
             [
              0.4444444444444444,
              "#bd3786"
             ],
             [
              0.5555555555555556,
              "#d8576b"
             ],
             [
              0.6666666666666666,
              "#ed7953"
             ],
             [
              0.7777777777777778,
              "#fb9f3a"
             ],
             [
              0.8888888888888888,
              "#fdca26"
             ],
             [
              1,
              "#f0f921"
             ]
            ],
            "type": "surface"
           }
          ],
          "table": [
           {
            "cells": {
             "fill": {
              "color": "#EBF0F8"
             },
             "line": {
              "color": "white"
             }
            },
            "header": {
             "fill": {
              "color": "#C8D4E3"
             },
             "line": {
              "color": "white"
             }
            },
            "type": "table"
           }
          ]
         },
         "layout": {
          "annotationdefaults": {
           "arrowcolor": "#2a3f5f",
           "arrowhead": 0,
           "arrowwidth": 1
          },
          "autotypenumbers": "strict",
          "coloraxis": {
           "colorbar": {
            "outlinewidth": 0,
            "ticks": ""
           }
          },
          "colorscale": {
           "diverging": [
            [
             0,
             "#8e0152"
            ],
            [
             0.1,
             "#c51b7d"
            ],
            [
             0.2,
             "#de77ae"
            ],
            [
             0.3,
             "#f1b6da"
            ],
            [
             0.4,
             "#fde0ef"
            ],
            [
             0.5,
             "#f7f7f7"
            ],
            [
             0.6,
             "#e6f5d0"
            ],
            [
             0.7,
             "#b8e186"
            ],
            [
             0.8,
             "#7fbc41"
            ],
            [
             0.9,
             "#4d9221"
            ],
            [
             1,
             "#276419"
            ]
           ],
           "sequential": [
            [
             0,
             "#0d0887"
            ],
            [
             0.1111111111111111,
             "#46039f"
            ],
            [
             0.2222222222222222,
             "#7201a8"
            ],
            [
             0.3333333333333333,
             "#9c179e"
            ],
            [
             0.4444444444444444,
             "#bd3786"
            ],
            [
             0.5555555555555556,
             "#d8576b"
            ],
            [
             0.6666666666666666,
             "#ed7953"
            ],
            [
             0.7777777777777778,
             "#fb9f3a"
            ],
            [
             0.8888888888888888,
             "#fdca26"
            ],
            [
             1,
             "#f0f921"
            ]
           ],
           "sequentialminus": [
            [
             0,
             "#0d0887"
            ],
            [
             0.1111111111111111,
             "#46039f"
            ],
            [
             0.2222222222222222,
             "#7201a8"
            ],
            [
             0.3333333333333333,
             "#9c179e"
            ],
            [
             0.4444444444444444,
             "#bd3786"
            ],
            [
             0.5555555555555556,
             "#d8576b"
            ],
            [
             0.6666666666666666,
             "#ed7953"
            ],
            [
             0.7777777777777778,
             "#fb9f3a"
            ],
            [
             0.8888888888888888,
             "#fdca26"
            ],
            [
             1,
             "#f0f921"
            ]
           ]
          },
          "colorway": [
           "#636efa",
           "#EF553B",
           "#00cc96",
           "#ab63fa",
           "#FFA15A",
           "#19d3f3",
           "#FF6692",
           "#B6E880",
           "#FF97FF",
           "#FECB52"
          ],
          "font": {
           "color": "#2a3f5f"
          },
          "geo": {
           "bgcolor": "white",
           "lakecolor": "white",
           "landcolor": "#E5ECF6",
           "showlakes": true,
           "showland": true,
           "subunitcolor": "white"
          },
          "hoverlabel": {
           "align": "left"
          },
          "hovermode": "closest",
          "mapbox": {
           "style": "light"
          },
          "paper_bgcolor": "white",
          "plot_bgcolor": "#E5ECF6",
          "polar": {
           "angularaxis": {
            "gridcolor": "white",
            "linecolor": "white",
            "ticks": ""
           },
           "bgcolor": "#E5ECF6",
           "radialaxis": {
            "gridcolor": "white",
            "linecolor": "white",
            "ticks": ""
           }
          },
          "scene": {
           "xaxis": {
            "backgroundcolor": "#E5ECF6",
            "gridcolor": "white",
            "gridwidth": 2,
            "linecolor": "white",
            "showbackground": true,
            "ticks": "",
            "zerolinecolor": "white"
           },
           "yaxis": {
            "backgroundcolor": "#E5ECF6",
            "gridcolor": "white",
            "gridwidth": 2,
            "linecolor": "white",
            "showbackground": true,
            "ticks": "",
            "zerolinecolor": "white"
           },
           "zaxis": {
            "backgroundcolor": "#E5ECF6",
            "gridcolor": "white",
            "gridwidth": 2,
            "linecolor": "white",
            "showbackground": true,
            "ticks": "",
            "zerolinecolor": "white"
           }
          },
          "shapedefaults": {
           "line": {
            "color": "#2a3f5f"
           }
          },
          "ternary": {
           "aaxis": {
            "gridcolor": "white",
            "linecolor": "white",
            "ticks": ""
           },
           "baxis": {
            "gridcolor": "white",
            "linecolor": "white",
            "ticks": ""
           },
           "bgcolor": "#E5ECF6",
           "caxis": {
            "gridcolor": "white",
            "linecolor": "white",
            "ticks": ""
           }
          },
          "title": {
           "x": 0.05
          },
          "xaxis": {
           "automargin": true,
           "gridcolor": "white",
           "linecolor": "white",
           "ticks": "",
           "title": {
            "standoff": 15
           },
           "zerolinecolor": "white",
           "zerolinewidth": 2
          },
          "yaxis": {
           "automargin": true,
           "gridcolor": "white",
           "linecolor": "white",
           "ticks": "",
           "title": {
            "standoff": 15
           },
           "zerolinecolor": "white",
           "zerolinewidth": 2
          }
         }
        },
        "title": {
         "text": "PNL per Trade"
        },
        "xaxis": {
         "anchor": "y",
         "domain": [
          0,
          1
         ],
         "gridcolor": "gray",
         "title": {
          "text": "Timestamp"
         }
        },
        "yaxis": {
         "anchor": "x",
         "domain": [
          0,
          1
         ],
         "gridcolor": "gray",
         "title": {
          "text": "Net PNL (Quote)"
         }
        }
       }
      }
     },
     "metadata": {},
     "output_type": "display_data"
    }
   ],
   "source": [
    "import plotly.express as px\n",
    "\n",
    "# Create a new column for profitability\n",
    "executors_df['profitable'] = executors_df['net_pnl_quote'] > 0\n",
    "\n",
    "# Create the scatter plot\n",
    "fig = px.scatter(\n",
    "    executors_df,\n",
    "    x=\"timestamp\",\n",
    "    y='net_pnl_quote',\n",
    "    title='PNL per Trade',\n",
    "    color='profitable',\n",
    "    color_discrete_map={True: 'green', False: 'red'},\n",
    "    labels={'timestamp': 'Timestamp', 'net_pnl_quote': 'Net PNL (Quote)'},\n",
    "    hover_data=['filled_amount_quote', 'side']\n",
    ")\n",
    "\n",
    "# Customize the layout\n",
    "fig.update_layout(\n",
    "    xaxis_title=\"Timestamp\",\n",
    "    yaxis_title=\"Net PNL (Quote)\",\n",
    "    legend_title=\"Profitable\",\n",
    "    font=dict(size=12, color=\"white\"),\n",
    "    showlegend=False,\n",
    "    plot_bgcolor='rgba(0,0,0,0.8)',  # Dark background\n",
    "    paper_bgcolor='rgba(0,0,0,0.8)',  # Dark background for the entire plot area\n",
    "    xaxis=dict(gridcolor=\"gray\"),\n",
    "    yaxis=dict(gridcolor=\"gray\")\n",
    ")\n",
    "\n",
    "# Add a horizontal line at y=0 to clearly separate profits and losses\n",
    "fig.add_hline(y=0, line_dash=\"dash\", line_color=\"lightgray\")\n",
    "\n",
    "# Show the plot\n",
    "fig.show()"
   ]
  },
  {
   "cell_type": "markdown",
   "metadata": {
    "collapsed": false,
    "jupyter": {
     "outputs_hidden": false
    }
   },
   "source": [
    "### Histogram of PNL Distribution\n",
    "The histogram displays the distribution of PNL values across all trades. It helps in understanding the frequency and range of profit and loss outcomes.\n"
   ]
  },
  {
   "cell_type": "code",
   "execution_count": 16,
   "metadata": {
    "collapsed": false,
    "jupyter": {
     "outputs_hidden": false
    }
   },
   "outputs": [
    {
     "data": {
      "application/vnd.plotly.v1+json": {
       "config": {
        "plotlyServerURL": "https://plot.ly"
       },
       "data": [
        {
         "bingroup": "x",
         "hovertemplate": "net_pnl_quote=%{x}<br>count=%{y}<extra></extra>",
         "legendgroup": "",
         "marker": {
          "color": "#636efa",
          "pattern": {
           "shape": ""
          }
         },
         "name": "",
         "orientation": "v",
         "showlegend": false,
         "type": "histogram",
         "x": [
          -0.011560740470691253,
          -0.011560740470691253,
          -0.023121480941382506,
          -0.034682221412073756,
          -0.05780370235345628,
          -0.09248592376553003,
          -0.15028962611898633,
          -0.24277554988451636,
          -0.39306517600350266,
          -0.635840725888019,
          -0.014453582155943702,
          -0.014453582155943702,
          -0.028907164311887404,
          -0.0433607464678311,
          -0.0722679107797185,
          -0.11562865724754962,
          -0.18789656802726812,
          -0.30352522527481773,
          -0.4914217933020859,
          -0.7949470185769036,
          0.001407566792181381,
          0.001407566792181381,
          0.002815133584362762,
          0.0042227003765441425,
          0.007037833960906905,
          0.011260534337451047,
          0.018298368298357952,
          0.029558902635808997,
          0.04785727093416695,
          0.07741617356997595,
          0.003266388140337805,
          0.003266388140337805,
          0.00653277628067561,
          0.009799164421013414,
          0.016331940701689026,
          0.02613110512270244,
          0.04246304582439146,
          0.06859415094709391,
          0.11105719677148537,
          0.17965134771857927,
          -0.06385355513588205,
          -0.06385355513588205,
          -0.1277071102717641,
          -0.19156066540764616,
          -0.3192677756794103,
          -0.5108284410870564,
          -0.8300962167664667,
          -1.3409246578535232,
          -2.1710208746199897,
          -3.511945532473513,
          -0.002342861166394844,
          -0.002342861166394844,
          -0.004685722332789688,
          -0.007028583499184531,
          -0.01171430583197422,
          -0.018742889331158752,
          -0.030457195163132972,
          -0.049200084494291724,
          -0.0796572796574247,
          -0.12885736415171642,
          0.024231053499344398,
          0.024231053499344398,
          0.048462106998688796,
          0.07269316049803319,
          0.121155267496722,
          0.19384842799475518,
          0.31500369549147716,
          0.5088521234862323,
          0.8238558189777095,
          1.3327079424639416,
          0.021780525098058584,
          0.021780525098058584,
          0.04356105019611717,
          0.06534157529417575,
          0.10890262549029292,
          0.17424420078446867,
          0.28314682627476156,
          0.45739102705923024,
          0.7405378533339918,
          1.197928880393222,
          -0.08573657014721371,
          -0.08573657014721371,
          -0.17147314029442742,
          -0.25720971044164115,
          -0.4286828507360685,
          -0.6858925611777097,
          -1.1145754119137783,
          -1.8004679730914879,
          -2.915043385005266,
          -4.715511358096753,
          -0.09092941636163937,
          -0.09092941636163937,
          -0.18185883272327874,
          -0.27278824908491817,
          -0.4546470818081969,
          -0.727435330893115,
          -1.1820824127013119,
          -1.9095177435944268,
          -3.0916001562957387,
          -5.001117899890166,
          -0.08647666428196135,
          -0.08647666428196135,
          -0.1729533285639227,
          -0.259429992845884,
          -0.43238332140980673,
          -0.6918133142556908,
          -1.1241966356654975,
          -1.8160099499211881,
          -2.940206585586686,
          -4.756216535507875,
          0.05367388667940388,
          0.05367388667940388,
          0.10734777335880775,
          0.16102166003821164,
          0.2683694333970194,
          0.429391093435231,
          0.6977605268322504,
          1.1271516202674814,
          1.8249121470997318,
          2.952063767367213,
          0.007862589436678774,
          0.007862589436678774,
          0.01572517887335755,
          0.023587768310036325,
          0.03931294718339388,
          0.0629007154934302,
          0.10221366267682408,
          0.16511437817025426,
          0.26732804084707834,
          0.43244241901733266,
          -0.12389894041797113,
          -0.12389894041797113,
          -0.24779788083594226,
          -0.37169682125391335,
          -0.6194947020898557,
          -0.991191523343769,
          -1.6106862254336247,
          -2.601877748777394,
          -4.212563974211019,
          -6.814441722988412,
          0.06442793432625592,
          0.06442793432625592,
          0.12885586865251183,
          0.19328380297876777,
          0.3221396716312796,
          0.5154234746100473,
          0.8375631462413269,
          1.3529866208513743,
          2.190549767092701,
          3.543536387944075
         ],
         "xaxis": "x",
         "yaxis": "y"
        }
       ],
       "layout": {
        "barmode": "relative",
        "legend": {
         "tracegroupgap": 0
        },
        "template": {
         "data": {
          "bar": [
           {
            "error_x": {
             "color": "#2a3f5f"
            },
            "error_y": {
             "color": "#2a3f5f"
            },
            "marker": {
             "line": {
              "color": "#E5ECF6",
              "width": 0.5
             },
             "pattern": {
              "fillmode": "overlay",
              "size": 10,
              "solidity": 0.2
             }
            },
            "type": "bar"
           }
          ],
          "barpolar": [
           {
            "marker": {
             "line": {
              "color": "#E5ECF6",
              "width": 0.5
             },
             "pattern": {
              "fillmode": "overlay",
              "size": 10,
              "solidity": 0.2
             }
            },
            "type": "barpolar"
           }
          ],
          "carpet": [
           {
            "aaxis": {
             "endlinecolor": "#2a3f5f",
             "gridcolor": "white",
             "linecolor": "white",
             "minorgridcolor": "white",
             "startlinecolor": "#2a3f5f"
            },
            "baxis": {
             "endlinecolor": "#2a3f5f",
             "gridcolor": "white",
             "linecolor": "white",
             "minorgridcolor": "white",
             "startlinecolor": "#2a3f5f"
            },
            "type": "carpet"
           }
          ],
          "choropleth": [
           {
            "colorbar": {
             "outlinewidth": 0,
             "ticks": ""
            },
            "type": "choropleth"
           }
          ],
          "contour": [
           {
            "colorbar": {
             "outlinewidth": 0,
             "ticks": ""
            },
            "colorscale": [
             [
              0,
              "#0d0887"
             ],
             [
              0.1111111111111111,
              "#46039f"
             ],
             [
              0.2222222222222222,
              "#7201a8"
             ],
             [
              0.3333333333333333,
              "#9c179e"
             ],
             [
              0.4444444444444444,
              "#bd3786"
             ],
             [
              0.5555555555555556,
              "#d8576b"
             ],
             [
              0.6666666666666666,
              "#ed7953"
             ],
             [
              0.7777777777777778,
              "#fb9f3a"
             ],
             [
              0.8888888888888888,
              "#fdca26"
             ],
             [
              1,
              "#f0f921"
             ]
            ],
            "type": "contour"
           }
          ],
          "contourcarpet": [
           {
            "colorbar": {
             "outlinewidth": 0,
             "ticks": ""
            },
            "type": "contourcarpet"
           }
          ],
          "heatmap": [
           {
            "colorbar": {
             "outlinewidth": 0,
             "ticks": ""
            },
            "colorscale": [
             [
              0,
              "#0d0887"
             ],
             [
              0.1111111111111111,
              "#46039f"
             ],
             [
              0.2222222222222222,
              "#7201a8"
             ],
             [
              0.3333333333333333,
              "#9c179e"
             ],
             [
              0.4444444444444444,
              "#bd3786"
             ],
             [
              0.5555555555555556,
              "#d8576b"
             ],
             [
              0.6666666666666666,
              "#ed7953"
             ],
             [
              0.7777777777777778,
              "#fb9f3a"
             ],
             [
              0.8888888888888888,
              "#fdca26"
             ],
             [
              1,
              "#f0f921"
             ]
            ],
            "type": "heatmap"
           }
          ],
          "histogram": [
           {
            "marker": {
             "pattern": {
              "fillmode": "overlay",
              "size": 10,
              "solidity": 0.2
             }
            },
            "type": "histogram"
           }
          ],
          "histogram2d": [
           {
            "colorbar": {
             "outlinewidth": 0,
             "ticks": ""
            },
            "colorscale": [
             [
              0,
              "#0d0887"
             ],
             [
              0.1111111111111111,
              "#46039f"
             ],
             [
              0.2222222222222222,
              "#7201a8"
             ],
             [
              0.3333333333333333,
              "#9c179e"
             ],
             [
              0.4444444444444444,
              "#bd3786"
             ],
             [
              0.5555555555555556,
              "#d8576b"
             ],
             [
              0.6666666666666666,
              "#ed7953"
             ],
             [
              0.7777777777777778,
              "#fb9f3a"
             ],
             [
              0.8888888888888888,
              "#fdca26"
             ],
             [
              1,
              "#f0f921"
             ]
            ],
            "type": "histogram2d"
           }
          ],
          "histogram2dcontour": [
           {
            "colorbar": {
             "outlinewidth": 0,
             "ticks": ""
            },
            "colorscale": [
             [
              0,
              "#0d0887"
             ],
             [
              0.1111111111111111,
              "#46039f"
             ],
             [
              0.2222222222222222,
              "#7201a8"
             ],
             [
              0.3333333333333333,
              "#9c179e"
             ],
             [
              0.4444444444444444,
              "#bd3786"
             ],
             [
              0.5555555555555556,
              "#d8576b"
             ],
             [
              0.6666666666666666,
              "#ed7953"
             ],
             [
              0.7777777777777778,
              "#fb9f3a"
             ],
             [
              0.8888888888888888,
              "#fdca26"
             ],
             [
              1,
              "#f0f921"
             ]
            ],
            "type": "histogram2dcontour"
           }
          ],
          "mesh3d": [
           {
            "colorbar": {
             "outlinewidth": 0,
             "ticks": ""
            },
            "type": "mesh3d"
           }
          ],
          "parcoords": [
           {
            "line": {
             "colorbar": {
              "outlinewidth": 0,
              "ticks": ""
             }
            },
            "type": "parcoords"
           }
          ],
          "pie": [
           {
            "automargin": true,
            "type": "pie"
           }
          ],
          "scatter": [
           {
            "fillpattern": {
             "fillmode": "overlay",
             "size": 10,
             "solidity": 0.2
            },
            "type": "scatter"
           }
          ],
          "scatter3d": [
           {
            "line": {
             "colorbar": {
              "outlinewidth": 0,
              "ticks": ""
             }
            },
            "marker": {
             "colorbar": {
              "outlinewidth": 0,
              "ticks": ""
             }
            },
            "type": "scatter3d"
           }
          ],
          "scattercarpet": [
           {
            "marker": {
             "colorbar": {
              "outlinewidth": 0,
              "ticks": ""
             }
            },
            "type": "scattercarpet"
           }
          ],
          "scattergeo": [
           {
            "marker": {
             "colorbar": {
              "outlinewidth": 0,
              "ticks": ""
             }
            },
            "type": "scattergeo"
           }
          ],
          "scattergl": [
           {
            "marker": {
             "colorbar": {
              "outlinewidth": 0,
              "ticks": ""
             }
            },
            "type": "scattergl"
           }
          ],
          "scattermap": [
           {
            "marker": {
             "colorbar": {
              "outlinewidth": 0,
              "ticks": ""
             }
            },
            "type": "scattermap"
           }
          ],
          "scattermapbox": [
           {
            "marker": {
             "colorbar": {
              "outlinewidth": 0,
              "ticks": ""
             }
            },
            "type": "scattermapbox"
           }
          ],
          "scatterpolar": [
           {
            "marker": {
             "colorbar": {
              "outlinewidth": 0,
              "ticks": ""
             }
            },
            "type": "scatterpolar"
           }
          ],
          "scatterpolargl": [
           {
            "marker": {
             "colorbar": {
              "outlinewidth": 0,
              "ticks": ""
             }
            },
            "type": "scatterpolargl"
           }
          ],
          "scatterternary": [
           {
            "marker": {
             "colorbar": {
              "outlinewidth": 0,
              "ticks": ""
             }
            },
            "type": "scatterternary"
           }
          ],
          "surface": [
           {
            "colorbar": {
             "outlinewidth": 0,
             "ticks": ""
            },
            "colorscale": [
             [
              0,
              "#0d0887"
             ],
             [
              0.1111111111111111,
              "#46039f"
             ],
             [
              0.2222222222222222,
              "#7201a8"
             ],
             [
              0.3333333333333333,
              "#9c179e"
             ],
             [
              0.4444444444444444,
              "#bd3786"
             ],
             [
              0.5555555555555556,
              "#d8576b"
             ],
             [
              0.6666666666666666,
              "#ed7953"
             ],
             [
              0.7777777777777778,
              "#fb9f3a"
             ],
             [
              0.8888888888888888,
              "#fdca26"
             ],
             [
              1,
              "#f0f921"
             ]
            ],
            "type": "surface"
           }
          ],
          "table": [
           {
            "cells": {
             "fill": {
              "color": "#EBF0F8"
             },
             "line": {
              "color": "white"
             }
            },
            "header": {
             "fill": {
              "color": "#C8D4E3"
             },
             "line": {
              "color": "white"
             }
            },
            "type": "table"
           }
          ]
         },
         "layout": {
          "annotationdefaults": {
           "arrowcolor": "#2a3f5f",
           "arrowhead": 0,
           "arrowwidth": 1
          },
          "autotypenumbers": "strict",
          "coloraxis": {
           "colorbar": {
            "outlinewidth": 0,
            "ticks": ""
           }
          },
          "colorscale": {
           "diverging": [
            [
             0,
             "#8e0152"
            ],
            [
             0.1,
             "#c51b7d"
            ],
            [
             0.2,
             "#de77ae"
            ],
            [
             0.3,
             "#f1b6da"
            ],
            [
             0.4,
             "#fde0ef"
            ],
            [
             0.5,
             "#f7f7f7"
            ],
            [
             0.6,
             "#e6f5d0"
            ],
            [
             0.7,
             "#b8e186"
            ],
            [
             0.8,
             "#7fbc41"
            ],
            [
             0.9,
             "#4d9221"
            ],
            [
             1,
             "#276419"
            ]
           ],
           "sequential": [
            [
             0,
             "#0d0887"
            ],
            [
             0.1111111111111111,
             "#46039f"
            ],
            [
             0.2222222222222222,
             "#7201a8"
            ],
            [
             0.3333333333333333,
             "#9c179e"
            ],
            [
             0.4444444444444444,
             "#bd3786"
            ],
            [
             0.5555555555555556,
             "#d8576b"
            ],
            [
             0.6666666666666666,
             "#ed7953"
            ],
            [
             0.7777777777777778,
             "#fb9f3a"
            ],
            [
             0.8888888888888888,
             "#fdca26"
            ],
            [
             1,
             "#f0f921"
            ]
           ],
           "sequentialminus": [
            [
             0,
             "#0d0887"
            ],
            [
             0.1111111111111111,
             "#46039f"
            ],
            [
             0.2222222222222222,
             "#7201a8"
            ],
            [
             0.3333333333333333,
             "#9c179e"
            ],
            [
             0.4444444444444444,
             "#bd3786"
            ],
            [
             0.5555555555555556,
             "#d8576b"
            ],
            [
             0.6666666666666666,
             "#ed7953"
            ],
            [
             0.7777777777777778,
             "#fb9f3a"
            ],
            [
             0.8888888888888888,
             "#fdca26"
            ],
            [
             1,
             "#f0f921"
            ]
           ]
          },
          "colorway": [
           "#636efa",
           "#EF553B",
           "#00cc96",
           "#ab63fa",
           "#FFA15A",
           "#19d3f3",
           "#FF6692",
           "#B6E880",
           "#FF97FF",
           "#FECB52"
          ],
          "font": {
           "color": "#2a3f5f"
          },
          "geo": {
           "bgcolor": "white",
           "lakecolor": "white",
           "landcolor": "#E5ECF6",
           "showlakes": true,
           "showland": true,
           "subunitcolor": "white"
          },
          "hoverlabel": {
           "align": "left"
          },
          "hovermode": "closest",
          "mapbox": {
           "style": "light"
          },
          "paper_bgcolor": "white",
          "plot_bgcolor": "#E5ECF6",
          "polar": {
           "angularaxis": {
            "gridcolor": "white",
            "linecolor": "white",
            "ticks": ""
           },
           "bgcolor": "#E5ECF6",
           "radialaxis": {
            "gridcolor": "white",
            "linecolor": "white",
            "ticks": ""
           }
          },
          "scene": {
           "xaxis": {
            "backgroundcolor": "#E5ECF6",
            "gridcolor": "white",
            "gridwidth": 2,
            "linecolor": "white",
            "showbackground": true,
            "ticks": "",
            "zerolinecolor": "white"
           },
           "yaxis": {
            "backgroundcolor": "#E5ECF6",
            "gridcolor": "white",
            "gridwidth": 2,
            "linecolor": "white",
            "showbackground": true,
            "ticks": "",
            "zerolinecolor": "white"
           },
           "zaxis": {
            "backgroundcolor": "#E5ECF6",
            "gridcolor": "white",
            "gridwidth": 2,
            "linecolor": "white",
            "showbackground": true,
            "ticks": "",
            "zerolinecolor": "white"
           }
          },
          "shapedefaults": {
           "line": {
            "color": "#2a3f5f"
           }
          },
          "ternary": {
           "aaxis": {
            "gridcolor": "white",
            "linecolor": "white",
            "ticks": ""
           },
           "baxis": {
            "gridcolor": "white",
            "linecolor": "white",
            "ticks": ""
           },
           "bgcolor": "#E5ECF6",
           "caxis": {
            "gridcolor": "white",
            "linecolor": "white",
            "ticks": ""
           }
          },
          "title": {
           "x": 0.05
          },
          "xaxis": {
           "automargin": true,
           "gridcolor": "white",
           "linecolor": "white",
           "ticks": "",
           "title": {
            "standoff": 15
           },
           "zerolinecolor": "white",
           "zerolinewidth": 2
          },
          "yaxis": {
           "automargin": true,
           "gridcolor": "white",
           "linecolor": "white",
           "ticks": "",
           "title": {
            "standoff": 15
           },
           "zerolinecolor": "white",
           "zerolinewidth": 2
          }
         }
        },
        "title": {
         "text": "PNL Distribution"
        },
        "xaxis": {
         "anchor": "y",
         "domain": [
          0,
          1
         ],
         "title": {
          "text": "net_pnl_quote"
         }
        },
        "yaxis": {
         "anchor": "x",
         "domain": [
          0,
          1
         ],
         "title": {
          "text": "count"
         }
        }
       }
      }
     },
     "metadata": {},
     "output_type": "display_data"
    }
   ],
   "source": [
    "fig = px.histogram(executors_df, x='net_pnl_quote', title='PNL Distribution')\n",
    "fig.show()\n"
   ]
  },
  {
   "cell_type": "markdown",
   "metadata": {
    "collapsed": false,
    "jupyter": {
     "outputs_hidden": false
    }
   },
   "source": [
    "# Conclusion\n"
   ]
  }
 ],
 "metadata": {
  "kernelspec": {
   "display_name": "quants-lab",
   "language": "python",
   "name": "python3"
  },
  "language_info": {
   "codemirror_mode": {
    "name": "ipython",
    "version": 3
   },
   "file_extension": ".py",
   "mimetype": "text/x-python",
   "name": "python",
   "nbconvert_exporter": "python",
   "pygments_lexer": "ipython3",
   "version": "3.12.10"
  }
 },
 "nbformat": 4,
 "nbformat_minor": 4
}
