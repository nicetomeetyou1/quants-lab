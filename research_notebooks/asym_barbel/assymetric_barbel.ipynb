{
 "cells": [
  {
   "cell_type": "code",
   "execution_count": 53,
   "metadata": {
    "collapsed": false
   },
   "outputs": [],
   "source": [
    "import os\n",
    "import sys\n",
    "from core.utils import load_dict_from_yaml\n",
    "from core.services.backend_api_client import BackendAPIClient\n",
    "\n",
    "import pandas as pd\n",
    "\n",
    "root_path = os.path.abspath(os.path.join(os.getcwd(), '../..'))\n",
    "sys.path.append(root_path)"
   ]
  },
  {
   "cell_type": "code",
   "execution_count": 54,
   "metadata": {},
   "outputs": [],
   "source": [
    "top_configs = [\n",
    "    load_dict_from_yaml(file_name='macd_bb_1.yml', folder=root_path+\"/config\"),\n",
    "    load_dict_from_yaml(file_name='macd_bb_2.yml', folder=root_path+\"/config\"),\n",
    "]"
   ]
  },
  {
   "cell_type": "code",
   "execution_count": 55,
   "metadata": {},
   "outputs": [],
   "source": [
    "client = BackendAPIClient()\n",
    "list_accounts = await client.get_accounts()\n",
    "account_portfolios = await client.get_accounts_state()\n",
    "total_quote_balance = 100\n",
    "\n",
    "asym_babel_each_strat_balance = {\n",
    "     \"macd_bb_1\": 0.8,\n",
    "     \"macd_bb_2\": 0.2\n",
    "}\n",
    "# Setup config amount based on the strategy\n",
    "for config in top_configs:\n",
    "     config[\"total_amount_quote\"] = total_quote_balance * asym_babel_each_strat_balance[config[\"id\"]]\n",
    "     await client.add_controller_config(config)"
   ]
  },
  {
   "cell_type": "code",
   "execution_count": 56,
   "metadata": {
    "collapsed": false
   },
   "outputs": [
    {
     "data": {
      "text/plain": [
       "{'success': True,\n",
       " 'message': 'Instance hummingbot-test_2_strategy-2025.04.25_03.42 created successfully.'}"
      ]
     },
     "execution_count": 56,
     "metadata": {},
     "output_type": "execute_result"
    }
   ],
   "source": [
    "await client.deploy_script_with_controllers(\n",
    "    bot_name=\"test_2_strategy\",\n",
    "    controller_configs=[config[\"id\"] + \".yml\" for config in top_configs],\n",
    "    image_name=\"hummingbot/hummingbot:latest\",\n",
    "    max_global_drawdown=50,\n",
    "    max_controller_drawdown=20,\n",
    ")"
   ]
  }
 ],
 "metadata": {
  "kernelspec": {
   "display_name": "quants-lab",
   "language": "python",
   "name": "python3"
  },
  "language_info": {
   "codemirror_mode": {
    "name": "ipython",
    "version": 3
   },
   "file_extension": ".py",
   "mimetype": "text/x-python",
   "name": "python",
   "nbconvert_exporter": "python",
   "pygments_lexer": "ipython3",
   "version": "3.12.10"
  }
 },
 "nbformat": 4,
 "nbformat_minor": 0
}
