{
 "cells": [
  {
   "cell_type": "code",
   "execution_count": 8,
   "metadata": {
    "collapsed": false
   },
   "outputs": [],
   "source": [
    "# This is necessary to recognize the modules\n",
    "import os\n",
    "import sys\n",
    "from decimal import Decimal\n",
    "import warnings\n",
    "\n",
    "warnings.filterwarnings(\"ignore\")\n",
    "\n",
    "root_path = os.path.abspath(os.path.join(os.getcwd(), '../..'))\n",
    "sys.path.append(root_path)"
   ]
  },
  {
   "cell_type": "code",
   "execution_count": null,
   "metadata": {
    "collapsed": false,
    "jupyter": {
     "outputs_hidden": false
    }
   },
   "outputs": [],
   "source": [
    "from core.utils import dump_dict_to_yaml\n",
    "from hummingbot.strategy_v2.executors.position_executor.data_types import TrailingStop\n",
    "from controllers.generic.stat_arb import StatArbConfig, GridLimitsConfig\n",
    "from hummingbot.core.data_type.common import TradeType\n",
    "from core.services.backend_api_client import BackendAPIClient\n",
    "from controllers.directional_trading.macd_bb_custom import MACDBBCustomControllerConfig\n",
    "\n",
    "from decimal import Decimal"
   ]
  },
  {
   "cell_type": "markdown",
   "metadata": {},
   "source": [
    "# GENERATE STAT ARB STRATEGY (BASE PART) (On Progress)"
   ]
  },
  {
   "cell_type": "code",
   "execution_count": null,
   "metadata": {
    "collapsed": false,
    "jupyter": {
     "outputs_hidden": false
    }
   },
   "outputs": [],
   "source": []
  },
  {
   "cell_type": "markdown",
   "metadata": {},
   "source": [
    "# GENERATE MACDBB STRATEGY (BEST PART)"
   ]
  },
  {
   "cell_type": "code",
   "execution_count": null,
   "metadata": {},
   "outputs": [],
   "source": [
    "# Controller configuration\n",
    "connector_name = \"bybit_perpetual\"\n",
    "trading_pair = \"WAL-USDT\"\n",
    "candles_connector=\"bybit_perpetual\"\n",
    "candles_trading_pair=\"WAL-USDT\"\n",
    "interval = \"1m\"\n",
    "fast_ma = 21\n",
    "slow_ma = 42\n",
    "signal_ma = 9\n",
    "bb_length = 200\n",
    "natr_length = 200\n",
    "bb_std = 2\n",
    "total_amount_quote = 1000\n",
    "max_executors_per_side = 5\n",
    "take_profit = 0.03\n",
    "stop_loss = 0.02\n",
    "trailing_stop_activation_price = 0.007\n",
    "trailing_stop_trailing_delta = 0.003\n",
    "time_limit = 60 * 60 * 5\n",
    "cooldown_time = 60 * 60\n",
    "leverage = 10\n",
    "step_percentage = \"0.001\"\n",
    "position_sizing_method=\"volatility\"\n",
    "distribution_method=\"fibonacci\"\n",
    "\n",
    "# Creating the instance of the configuration and the controller\n",
    "best_part_config = MACDBBCustomControllerConfig(\n",
    "    connector_name=connector_name,\n",
    "    trading_pair=trading_pair,\n",
    "    interval=interval,\n",
    "    macd_fast=fast_ma,\n",
    "    position_sizing_method=position_sizing_method,\n",
    "    distribution_method=distribution_method,\n",
    "    macd_slow=slow_ma,\n",
    "    macd_signal=signal_ma,\n",
    "    bb_length=bb_length,\n",
    "    candles_connector=candles_connector,\n",
    "    candles_trading_pair=candles_trading_pair,\n",
    "    bb_std=bb_std,\n",
    "    natr_length=natr_length,\n",
    "    leverage=leverage,\n",
    "    step_percentage=step_percentage,\n",
    "    total_amount_quote=Decimal(total_amount_quote),\n",
    "    take_profit=Decimal(take_profit),\n",
    "    stop_loss=Decimal(stop_loss),\n",
    "    trailing_stop=TrailingStop(activation_price=Decimal(trailing_stop_activation_price), trailing_delta=Decimal(trailing_stop_trailing_delta)),\n",
    "    time_limit=time_limit,\n",
    "    max_executors_per_side=max_executors_per_side,\n",
    "    cooldown_time=cooldown_time,\n",
    ")"
   ]
  },
  {
   "cell_type": "markdown",
   "metadata": {},
   "source": [
    "# EXPORT CONFIG TO YAML FILE"
   ]
  },
  {
   "cell_type": "code",
   "execution_count": null,
   "metadata": {},
   "outputs": [],
   "source": [
    "\n",
    "# Path to save the configuration\n",
    "save_to = root_path + '/config'\n",
    "\n",
    "# Dump the configuration to a dictionary\n",
    "best_config_json = best_part_config.model_dump(mode=\"json\", exclude_none=True)\n",
    "# base_config_json = base_part_config.model_dump(mode=\"json\", exclude_none=True)\n",
    "# Add the ID to the configuration that will used as file name\n",
    "# base_config_json['id'] = f\"base_part_stat_arb_{base_trading_pair}_{quote_trading_pair}\"\n",
    "best_config_json['id'] = f\"best_part_macd_bb_{trading_pair}\"\n",
    "# Save the configuration to a YAML file\n",
    "# dump_dict_to_yaml(config=base_config_json, folder=save_to)\n",
    "dump_dict_to_yaml(config=best_config_json, folder=save_to)"
   ]
  },
  {
   "cell_type": "markdown",
   "metadata": {},
   "source": [
    "# RUN STRATEGY"
   ]
  },
  {
   "cell_type": "code",
   "execution_count": null,
   "metadata": {},
   "outputs": [],
   "source": [
    "# Use the backend API client to add the strategy\n",
    "client = BackendAPIClient()\n",
    "# The total balance that will used to run the asym_babel strategy\n",
    "total_quote_balance = 100\n",
    "\n",
    "base_part_balance_usage_percentage = 0.8\n",
    "best_part_balance_usage_percentage = 0.2\n",
    "\n",
    "configs = [best_config_json]\n",
    "\n",
    "# Modified total amount quote balance for each strategy based on the asym_babel_each_strat_balance\n",
    "for config in configs:\n",
    "     quote_balance_multipliers = base_part_balance_usage_percentage if (\"base_part\" in config[\"id\"]) else best_part_balance_usage_percentage\n",
    "     config[\"total_amount_quote\"] = total_quote_balance * quote_balance_multipliers\n",
    "     await client.add_controller_config(config)"
   ]
  },
  {
   "cell_type": "code",
   "execution_count": null,
   "metadata": {},
   "outputs": [
    {
     "data": {
      "text/plain": [
       "{'success': True,\n",
       " 'message': 'Instance hummingbot-asym_babel-2025.04.26_23.56 created successfully.'}"
      ]
     },
     "execution_count": 14,
     "metadata": {},
     "output_type": "execute_result"
    }
   ],
   "source": [
    "# Deploy the strategy with multiple controllers\n",
    "#Notes: Before running this script, make sure the image already has macd_bb_custom strategy\n",
    "\n",
    "await client.deploy_script_with_controllers(\n",
    "    bot_name=\"asym_babel\",\n",
    "    controller_configs=[config[\"id\"] + \".yml\" for config in configs],\n",
    "    image_name=\"hummingbot/hummingbot:latest\",\n",
    "    max_global_drawdown=50,\n",
    "    max_controller_drawdown=20,\n",
    ")"
   ]
  }
 ],
 "metadata": {
  "kernelspec": {
   "display_name": "quants-lab",
   "language": "python",
   "name": "python3"
  },
  "language_info": {
   "codemirror_mode": {
    "name": "ipython",
    "version": 3
   },
   "file_extension": ".py",
   "mimetype": "text/x-python",
   "name": "python",
   "nbconvert_exporter": "python",
   "pygments_lexer": "ipython3",
   "version": "3.12.10"
  }
 },
 "nbformat": 4,
 "nbformat_minor": 4
}
